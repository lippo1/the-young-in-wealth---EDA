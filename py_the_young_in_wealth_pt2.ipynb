{
  "metadata": {
    "kernelspec": {
      "language": "python",
      "display_name": "Python 3",
      "name": "python3"
    },
    "language_info": {
      "name": "python",
      "version": "3.10.12",
      "mimetype": "text/x-python",
      "codemirror_mode": {
        "name": "ipython",
        "version": 3
      },
      "pygments_lexer": "ipython3",
      "nbconvert_exporter": "python",
      "file_extension": ".py"
    },
    "colab": {
      "provenance": []
    }
  },
  "nbformat_minor": 0,
  "nbformat": 4,
  "cells": [
    {
      "cell_type": "markdown",
      "source": [
        "\n",
        "\n",
        "        rank: The ranking of the billionaire in terms of wealth.\n",
        "        finalWorth: The final net worth of the billionaire in U.S. dollars.\n",
        "        category: The category or industry in which the billionaire's business operates.\n",
        "        personName: The full name of the billionaire.\n",
        "        age: The age of the billionaire.\n",
        "        country: The country in which the billionaire resides.\n",
        "        city: The city in which the billionaire resides.\n",
        "        source: The source of the billionaire's wealth.\n",
        "        industries: The industries associated with the billionaire's business interests.\n",
        "        countryOfCitizenship: The country of citizenship of the billionaire.\n",
        "        organization: The name of the organization or company associated with the billionaire.\n",
        "        selfMade: Indicates whether the billionaire is self-made (True/False).\n",
        "        status: \"D\" represents self-made billionaires (Founders/Entrepreneurs) and \"U\" indicates inherited or unearned wealth.\n",
        "        gender: The gender of the billionaire.\n",
        "        birthDate: The birthdate of the billionaire.\n",
        "        lastName: The last name of the billionaire.\n",
        "        firstName: The first name of the billionaire.\n",
        "        title: The title or honorific of the billionaire.\n",
        "        date: The date of data collection.\n",
        "        state: The state in which the billionaire resides.\n",
        "        residenceStateRegion: The region or state of residence of the billionaire.\n",
        "        birthYear: The birth year of the billionaire.\n",
        "        birthMonth: The birth month of the billionaire.\n",
        "        birthDay: The birth day of the billionaire.\n",
        "        cpi_country: Consumer Price Index (CPI) for the billionaire's country.\n",
        "        cpi_change_country: CPI change for the billionaire's country.\n",
        "        gdp_country: Gross Domestic Product (GDP) for the billionaire's country.\n",
        "        gross_tertiary_education_enrollment: Enrollment in tertiary education in the billionaire's country.\n",
        "        gross_primary_education_enrollment_country: Enrollment in primary education in the billionaire's country.\n",
        "        life_expectancy_country: Life expectancy in the billionaire's country.\n",
        "        tax_revenue_country_country: Tax revenue in the billionaire's country.\n",
        "        total_tax_rate_country: Total tax rate in the billionaire's country.\n",
        "        population_country: Population of the billionaire's country.\n",
        "        latitude_country: Latitude coordinate of the billionaire's country.\n",
        "        longitude_country: Longitude coordinate of the billionaire's country.\n",
        "\n",
        "\n"
      ],
      "metadata": {
        "id": "bfbdxMsVRhCq"
      }
    },
    {
      "cell_type": "markdown",
      "source": [
        "## 0. Objectives:"
      ],
      "metadata": {
        "id": "6CX8LX2Y5bhH"
      }
    },
    {
      "cell_type": "markdown",
      "source": [
        "> I always got amazed about some people achieving a billion dollar in wealth, because for the majority of people, achieving such amount is a combination of various factors that can be both luck, intelligence and creating. When I first saw this dataset, I had a glympse about finding the best predictions and conditions that might be favorable for some places, industries, coountries, etc. This is why I made this notebook."
      ],
      "metadata": {
        "id": "MYaBnM0UKDrH"
      }
    },
    {
      "cell_type": "markdown",
      "source": [
        "## 1. The start:"
      ],
      "metadata": {
        "id": "qTT3BCpgdvNb"
      }
    },
    {
      "cell_type": "markdown",
      "source": [
        "### 1.1 Importing the main libs:"
      ],
      "metadata": {
        "id": "It09YSGyd0dp"
      }
    },
    {
      "cell_type": "code",
      "source": [
        "import seaborn as sns\n",
        "import matplotlib.pyplot as plt\n",
        "import plotly.express as px\n",
        "import pandas as pd\n",
        "import numpy as np\n",
        "from plotly.subplots import make_subplots\n",
        "import plotly.graph_objects as go"
      ],
      "metadata": {
        "execution": {
          "iopub.status.busy": "2023-11-10T20:54:28.474181Z",
          "iopub.execute_input": "2023-11-10T20:54:28.474442Z",
          "iopub.status.idle": "2023-11-10T20:54:28.482103Z",
          "shell.execute_reply.started": "2023-11-10T20:54:28.474412Z",
          "shell.execute_reply": "2023-11-10T20:54:28.481331Z"
        },
        "trusted": true,
        "id": "EYcth8LT5Gd3"
      },
      "execution_count": 1,
      "outputs": []
    },
    {
      "cell_type": "markdown",
      "source": [
        "### 1.2 Importing the main file:"
      ],
      "metadata": {
        "id": "jAahH4QGd8QL"
      }
    },
    {
      "cell_type": "code",
      "source": [
        "df_full_billionaires = pd.read_csv('/content/Billionaires Statistics Dataset.csv',\n",
        "                                   sep = ',')\n",
        "df_full_billionaires.columns"
      ],
      "metadata": {
        "execution": {
          "iopub.status.busy": "2023-11-10T20:54:28.483387Z",
          "iopub.execute_input": "2023-11-10T20:54:28.483756Z",
          "iopub.status.idle": "2023-11-10T20:54:28.511794Z",
          "shell.execute_reply.started": "2023-11-10T20:54:28.483732Z",
          "shell.execute_reply": "2023-11-10T20:54:28.510969Z"
        },
        "trusted": true,
        "colab": {
          "base_uri": "https://localhost:8080/"
        },
        "id": "gX1HsI4z5Gd4",
        "outputId": "732b3add-f978-4295-fa1a-e627ed370db4"
      },
      "execution_count": 2,
      "outputs": [
        {
          "output_type": "execute_result",
          "data": {
            "text/plain": [
              "Index(['rank', 'finalWorth', 'category', 'personName', 'age', 'country',\n",
              "       'city', 'source', 'industries', 'countryOfCitizenship', 'organization',\n",
              "       'selfMade', 'status', 'gender', 'birthDate', 'lastName', 'firstName',\n",
              "       'title', 'date', 'state', 'residenceStateRegion', 'birthYear',\n",
              "       'birthMonth', 'birthDay', 'cpi_country', 'cpi_change_country',\n",
              "       'gdp_country', 'gross_tertiary_education_enrollment',\n",
              "       'gross_primary_education_enrollment_country', 'life_expectancy_country',\n",
              "       'tax_revenue_country_country', 'total_tax_rate_country',\n",
              "       'population_country', 'latitude_country', 'longitude_country'],\n",
              "      dtype='object')"
            ]
          },
          "metadata": {},
          "execution_count": 2
        }
      ]
    },
    {
      "cell_type": "code",
      "source": [
        "def format_values(x):\n",
        "    return '{:.0f}'.format(x / 1)\n",
        "\n",
        "pd.options.display.float_format = format_values\n",
        "pd.set_option(\"mode.copy_on_write\", True)"
      ],
      "metadata": {
        "id": "kd9zyewJsIbi"
      },
      "execution_count": 3,
      "outputs": []
    },
    {
      "cell_type": "markdown",
      "source": [
        "### 1.3 Selecting the main columns:"
      ],
      "metadata": {
        "id": "oL5AgmfMeNxQ"
      }
    },
    {
      "cell_type": "code",
      "source": [
        "main = df_full_billionaires[['finalWorth', 'category', 'age', 'country',\n",
        "                             'city', 'life_expectancy_country', 'selfMade', 'population_country',\n",
        "                             'status', 'gender', 'cpi_country','total_tax_rate_country']]"
      ],
      "metadata": {
        "id": "-NrPuUgW2AWX"
      },
      "execution_count": 4,
      "outputs": []
    },
    {
      "cell_type": "markdown",
      "source": [
        "> I tried to extract informations of another columns but most of them have NA values or they have no value at all."
      ],
      "metadata": {
        "id": "d3z8y_iZ25mu"
      }
    },
    {
      "cell_type": "code",
      "source": [
        "main.head(3)"
      ],
      "metadata": {
        "colab": {
          "base_uri": "https://localhost:8080/",
          "height": 143
        },
        "id": "L-quD7FG7AmE",
        "outputId": "a7985850-e9dc-411c-c2e0-51e4cd85af26"
      },
      "execution_count": 5,
      "outputs": [
        {
          "output_type": "execute_result",
          "data": {
            "text/plain": [
              "   finalWorth          category  age        country    city  \\\n",
              "0      211000  Fashion & Retail   74         France   Paris   \n",
              "1      180000        Automotive   51  United States  Austin   \n",
              "2      114000        Technology   59  United States  Medina   \n",
              "\n",
              "   life_expectancy_country  selfMade  population_country status gender  \\\n",
              "0                       82     False            67059887      U      M   \n",
              "1                       78      True           328239523      D      M   \n",
              "2                       78      True           328239523      D      M   \n",
              "\n",
              "   cpi_country  total_tax_rate_country  \n",
              "0          110                      61  \n",
              "1          117                      37  \n",
              "2          117                      37  "
            ],
            "text/html": [
              "\n",
              "  <div id=\"df-25adf255-deca-431e-b1ce-5a4bc4b1e6c1\" class=\"colab-df-container\">\n",
              "    <div>\n",
              "<style scoped>\n",
              "    .dataframe tbody tr th:only-of-type {\n",
              "        vertical-align: middle;\n",
              "    }\n",
              "\n",
              "    .dataframe tbody tr th {\n",
              "        vertical-align: top;\n",
              "    }\n",
              "\n",
              "    .dataframe thead th {\n",
              "        text-align: right;\n",
              "    }\n",
              "</style>\n",
              "<table border=\"1\" class=\"dataframe\">\n",
              "  <thead>\n",
              "    <tr style=\"text-align: right;\">\n",
              "      <th></th>\n",
              "      <th>finalWorth</th>\n",
              "      <th>category</th>\n",
              "      <th>age</th>\n",
              "      <th>country</th>\n",
              "      <th>city</th>\n",
              "      <th>life_expectancy_country</th>\n",
              "      <th>selfMade</th>\n",
              "      <th>population_country</th>\n",
              "      <th>status</th>\n",
              "      <th>gender</th>\n",
              "      <th>cpi_country</th>\n",
              "      <th>total_tax_rate_country</th>\n",
              "    </tr>\n",
              "  </thead>\n",
              "  <tbody>\n",
              "    <tr>\n",
              "      <th>0</th>\n",
              "      <td>211000</td>\n",
              "      <td>Fashion &amp; Retail</td>\n",
              "      <td>74</td>\n",
              "      <td>France</td>\n",
              "      <td>Paris</td>\n",
              "      <td>82</td>\n",
              "      <td>False</td>\n",
              "      <td>67059887</td>\n",
              "      <td>U</td>\n",
              "      <td>M</td>\n",
              "      <td>110</td>\n",
              "      <td>61</td>\n",
              "    </tr>\n",
              "    <tr>\n",
              "      <th>1</th>\n",
              "      <td>180000</td>\n",
              "      <td>Automotive</td>\n",
              "      <td>51</td>\n",
              "      <td>United States</td>\n",
              "      <td>Austin</td>\n",
              "      <td>78</td>\n",
              "      <td>True</td>\n",
              "      <td>328239523</td>\n",
              "      <td>D</td>\n",
              "      <td>M</td>\n",
              "      <td>117</td>\n",
              "      <td>37</td>\n",
              "    </tr>\n",
              "    <tr>\n",
              "      <th>2</th>\n",
              "      <td>114000</td>\n",
              "      <td>Technology</td>\n",
              "      <td>59</td>\n",
              "      <td>United States</td>\n",
              "      <td>Medina</td>\n",
              "      <td>78</td>\n",
              "      <td>True</td>\n",
              "      <td>328239523</td>\n",
              "      <td>D</td>\n",
              "      <td>M</td>\n",
              "      <td>117</td>\n",
              "      <td>37</td>\n",
              "    </tr>\n",
              "  </tbody>\n",
              "</table>\n",
              "</div>\n",
              "    <div class=\"colab-df-buttons\">\n",
              "\n",
              "  <div class=\"colab-df-container\">\n",
              "    <button class=\"colab-df-convert\" onclick=\"convertToInteractive('df-25adf255-deca-431e-b1ce-5a4bc4b1e6c1')\"\n",
              "            title=\"Convert this dataframe to an interactive table.\"\n",
              "            style=\"display:none;\">\n",
              "\n",
              "  <svg xmlns=\"http://www.w3.org/2000/svg\" height=\"24px\" viewBox=\"0 -960 960 960\">\n",
              "    <path d=\"M120-120v-720h720v720H120Zm60-500h600v-160H180v160Zm220 220h160v-160H400v160Zm0 220h160v-160H400v160ZM180-400h160v-160H180v160Zm440 0h160v-160H620v160ZM180-180h160v-160H180v160Zm440 0h160v-160H620v160Z\"/>\n",
              "  </svg>\n",
              "    </button>\n",
              "\n",
              "  <style>\n",
              "    .colab-df-container {\n",
              "      display:flex;\n",
              "      gap: 12px;\n",
              "    }\n",
              "\n",
              "    .colab-df-convert {\n",
              "      background-color: #E8F0FE;\n",
              "      border: none;\n",
              "      border-radius: 50%;\n",
              "      cursor: pointer;\n",
              "      display: none;\n",
              "      fill: #1967D2;\n",
              "      height: 32px;\n",
              "      padding: 0 0 0 0;\n",
              "      width: 32px;\n",
              "    }\n",
              "\n",
              "    .colab-df-convert:hover {\n",
              "      background-color: #E2EBFA;\n",
              "      box-shadow: 0px 1px 2px rgba(60, 64, 67, 0.3), 0px 1px 3px 1px rgba(60, 64, 67, 0.15);\n",
              "      fill: #174EA6;\n",
              "    }\n",
              "\n",
              "    .colab-df-buttons div {\n",
              "      margin-bottom: 4px;\n",
              "    }\n",
              "\n",
              "    [theme=dark] .colab-df-convert {\n",
              "      background-color: #3B4455;\n",
              "      fill: #D2E3FC;\n",
              "    }\n",
              "\n",
              "    [theme=dark] .colab-df-convert:hover {\n",
              "      background-color: #434B5C;\n",
              "      box-shadow: 0px 1px 3px 1px rgba(0, 0, 0, 0.15);\n",
              "      filter: drop-shadow(0px 1px 2px rgba(0, 0, 0, 0.3));\n",
              "      fill: #FFFFFF;\n",
              "    }\n",
              "  </style>\n",
              "\n",
              "    <script>\n",
              "      const buttonEl =\n",
              "        document.querySelector('#df-25adf255-deca-431e-b1ce-5a4bc4b1e6c1 button.colab-df-convert');\n",
              "      buttonEl.style.display =\n",
              "        google.colab.kernel.accessAllowed ? 'block' : 'none';\n",
              "\n",
              "      async function convertToInteractive(key) {\n",
              "        const element = document.querySelector('#df-25adf255-deca-431e-b1ce-5a4bc4b1e6c1');\n",
              "        const dataTable =\n",
              "          await google.colab.kernel.invokeFunction('convertToInteractive',\n",
              "                                                    [key], {});\n",
              "        if (!dataTable) return;\n",
              "\n",
              "        const docLinkHtml = 'Like what you see? Visit the ' +\n",
              "          '<a target=\"_blank\" href=https://colab.research.google.com/notebooks/data_table.ipynb>data table notebook</a>'\n",
              "          + ' to learn more about interactive tables.';\n",
              "        element.innerHTML = '';\n",
              "        dataTable['output_type'] = 'display_data';\n",
              "        await google.colab.output.renderOutput(dataTable, element);\n",
              "        const docLink = document.createElement('div');\n",
              "        docLink.innerHTML = docLinkHtml;\n",
              "        element.appendChild(docLink);\n",
              "      }\n",
              "    </script>\n",
              "  </div>\n",
              "\n",
              "\n",
              "<div id=\"df-4b283fc9-3009-4904-9343-c328dd53b9fe\">\n",
              "  <button class=\"colab-df-quickchart\" onclick=\"quickchart('df-4b283fc9-3009-4904-9343-c328dd53b9fe')\"\n",
              "            title=\"Suggest charts\"\n",
              "            style=\"display:none;\">\n",
              "\n",
              "<svg xmlns=\"http://www.w3.org/2000/svg\" height=\"24px\"viewBox=\"0 0 24 24\"\n",
              "     width=\"24px\">\n",
              "    <g>\n",
              "        <path d=\"M19 3H5c-1.1 0-2 .9-2 2v14c0 1.1.9 2 2 2h14c1.1 0 2-.9 2-2V5c0-1.1-.9-2-2-2zM9 17H7v-7h2v7zm4 0h-2V7h2v10zm4 0h-2v-4h2v4z\"/>\n",
              "    </g>\n",
              "</svg>\n",
              "  </button>\n",
              "\n",
              "<style>\n",
              "  .colab-df-quickchart {\n",
              "      --bg-color: #E8F0FE;\n",
              "      --fill-color: #1967D2;\n",
              "      --hover-bg-color: #E2EBFA;\n",
              "      --hover-fill-color: #174EA6;\n",
              "      --disabled-fill-color: #AAA;\n",
              "      --disabled-bg-color: #DDD;\n",
              "  }\n",
              "\n",
              "  [theme=dark] .colab-df-quickchart {\n",
              "      --bg-color: #3B4455;\n",
              "      --fill-color: #D2E3FC;\n",
              "      --hover-bg-color: #434B5C;\n",
              "      --hover-fill-color: #FFFFFF;\n",
              "      --disabled-bg-color: #3B4455;\n",
              "      --disabled-fill-color: #666;\n",
              "  }\n",
              "\n",
              "  .colab-df-quickchart {\n",
              "    background-color: var(--bg-color);\n",
              "    border: none;\n",
              "    border-radius: 50%;\n",
              "    cursor: pointer;\n",
              "    display: none;\n",
              "    fill: var(--fill-color);\n",
              "    height: 32px;\n",
              "    padding: 0;\n",
              "    width: 32px;\n",
              "  }\n",
              "\n",
              "  .colab-df-quickchart:hover {\n",
              "    background-color: var(--hover-bg-color);\n",
              "    box-shadow: 0 1px 2px rgba(60, 64, 67, 0.3), 0 1px 3px 1px rgba(60, 64, 67, 0.15);\n",
              "    fill: var(--button-hover-fill-color);\n",
              "  }\n",
              "\n",
              "  .colab-df-quickchart-complete:disabled,\n",
              "  .colab-df-quickchart-complete:disabled:hover {\n",
              "    background-color: var(--disabled-bg-color);\n",
              "    fill: var(--disabled-fill-color);\n",
              "    box-shadow: none;\n",
              "  }\n",
              "\n",
              "  .colab-df-spinner {\n",
              "    border: 2px solid var(--fill-color);\n",
              "    border-color: transparent;\n",
              "    border-bottom-color: var(--fill-color);\n",
              "    animation:\n",
              "      spin 1s steps(1) infinite;\n",
              "  }\n",
              "\n",
              "  @keyframes spin {\n",
              "    0% {\n",
              "      border-color: transparent;\n",
              "      border-bottom-color: var(--fill-color);\n",
              "      border-left-color: var(--fill-color);\n",
              "    }\n",
              "    20% {\n",
              "      border-color: transparent;\n",
              "      border-left-color: var(--fill-color);\n",
              "      border-top-color: var(--fill-color);\n",
              "    }\n",
              "    30% {\n",
              "      border-color: transparent;\n",
              "      border-left-color: var(--fill-color);\n",
              "      border-top-color: var(--fill-color);\n",
              "      border-right-color: var(--fill-color);\n",
              "    }\n",
              "    40% {\n",
              "      border-color: transparent;\n",
              "      border-right-color: var(--fill-color);\n",
              "      border-top-color: var(--fill-color);\n",
              "    }\n",
              "    60% {\n",
              "      border-color: transparent;\n",
              "      border-right-color: var(--fill-color);\n",
              "    }\n",
              "    80% {\n",
              "      border-color: transparent;\n",
              "      border-right-color: var(--fill-color);\n",
              "      border-bottom-color: var(--fill-color);\n",
              "    }\n",
              "    90% {\n",
              "      border-color: transparent;\n",
              "      border-bottom-color: var(--fill-color);\n",
              "    }\n",
              "  }\n",
              "</style>\n",
              "\n",
              "  <script>\n",
              "    async function quickchart(key) {\n",
              "      const quickchartButtonEl =\n",
              "        document.querySelector('#' + key + ' button');\n",
              "      quickchartButtonEl.disabled = true;  // To prevent multiple clicks.\n",
              "      quickchartButtonEl.classList.add('colab-df-spinner');\n",
              "      try {\n",
              "        const charts = await google.colab.kernel.invokeFunction(\n",
              "            'suggestCharts', [key], {});\n",
              "      } catch (error) {\n",
              "        console.error('Error during call to suggestCharts:', error);\n",
              "      }\n",
              "      quickchartButtonEl.classList.remove('colab-df-spinner');\n",
              "      quickchartButtonEl.classList.add('colab-df-quickchart-complete');\n",
              "    }\n",
              "    (() => {\n",
              "      let quickchartButtonEl =\n",
              "        document.querySelector('#df-4b283fc9-3009-4904-9343-c328dd53b9fe button');\n",
              "      quickchartButtonEl.style.display =\n",
              "        google.colab.kernel.accessAllowed ? 'block' : 'none';\n",
              "    })();\n",
              "  </script>\n",
              "</div>\n",
              "\n",
              "    </div>\n",
              "  </div>\n"
            ],
            "application/vnd.google.colaboratory.intrinsic+json": {
              "type": "dataframe",
              "variable_name": "main",
              "summary": "{\n  \"name\": \"main\",\n  \"rows\": 2640,\n  \"fields\": [\n    {\n      \"column\": \"finalWorth\",\n      \"properties\": {\n        \"dtype\": \"number\",\n        \"std\": 9834,\n        \"min\": 1000,\n        \"max\": 211000,\n        \"num_unique_values\": 219,\n        \"samples\": [\n          7400,\n          15200,\n          1200\n        ],\n        \"semantic_type\": \"\",\n        \"description\": \"\"\n      }\n    },\n    {\n      \"column\": \"category\",\n      \"properties\": {\n        \"dtype\": \"category\",\n        \"num_unique_values\": 18,\n        \"samples\": [\n          \"Fashion & Retail\",\n          \"Automotive\",\n          \"Logistics\"\n        ],\n        \"semantic_type\": \"\",\n        \"description\": \"\"\n      }\n    },\n    {\n      \"column\": \"age\",\n      \"properties\": {\n        \"dtype\": \"number\",\n        \"std\": 13.25809761068434,\n        \"min\": 18.0,\n        \"max\": 101.0,\n        \"num_unique_values\": 79,\n        \"samples\": [\n          84.0,\n          74.0,\n          77.0\n        ],\n        \"semantic_type\": \"\",\n        \"description\": \"\"\n      }\n    },\n    {\n      \"column\": \"country\",\n      \"properties\": {\n        \"dtype\": \"category\",\n        \"num_unique_values\": 78,\n        \"samples\": [\n          \"Philippines\",\n          \"France\",\n          \"Taiwan\"\n        ],\n        \"semantic_type\": \"\",\n        \"description\": \"\"\n      }\n    },\n    {\n      \"column\": \"city\",\n      \"properties\": {\n        \"dtype\": \"category\",\n        \"num_unique_values\": 741,\n        \"samples\": [\n          \"Gloucestershire\",\n          \"Lyon\",\n          \"Cernusco Lombardone\"\n        ],\n        \"semantic_type\": \"\",\n        \"description\": \"\"\n      }\n    },\n    {\n      \"column\": \"life_expectancy_country\",\n      \"properties\": {\n        \"dtype\": \"number\",\n        \"std\": 3.730098983006228,\n        \"min\": 54.3,\n        \"max\": 84.2,\n        \"num_unique_values\": 54,\n        \"samples\": [\n          71.6,\n          70.5,\n          80.1\n        ],\n        \"semantic_type\": \"\",\n        \"description\": \"\"\n      }\n    },\n    {\n      \"column\": \"selfMade\",\n      \"properties\": {\n        \"dtype\": \"boolean\",\n        \"num_unique_values\": 2,\n        \"samples\": [\n          true,\n          false\n        ],\n        \"semantic_type\": \"\",\n        \"description\": \"\"\n      }\n    },\n    {\n      \"column\": \"population_country\",\n      \"properties\": {\n        \"dtype\": \"number\",\n        \"std\": 554244732.3646524,\n        \"min\": 38019.0,\n        \"max\": 1397715000.0,\n        \"num_unique_values\": 68,\n        \"samples\": [\n          43053054.0,\n          144373535.0\n        ],\n        \"semantic_type\": \"\",\n        \"description\": \"\"\n      }\n    },\n    {\n      \"column\": \"status\",\n      \"properties\": {\n        \"dtype\": \"category\",\n        \"num_unique_values\": 6,\n        \"samples\": [\n          \"U\",\n          \"D\"\n        ],\n        \"semantic_type\": \"\",\n        \"description\": \"\"\n      }\n    },\n    {\n      \"column\": \"gender\",\n      \"properties\": {\n        \"dtype\": \"category\",\n        \"num_unique_values\": 2,\n        \"samples\": [\n          \"F\",\n          \"M\"\n        ],\n        \"semantic_type\": \"\",\n        \"description\": \"\"\n      }\n    },\n    {\n      \"column\": \"cpi_country\",\n      \"properties\": {\n        \"dtype\": \"number\",\n        \"std\": 26.452951094889173,\n        \"min\": 99.55,\n        \"max\": 288.57,\n        \"num_unique_values\": 63,\n        \"samples\": [\n          129.78,\n          111.07\n        ],\n        \"semantic_type\": \"\",\n        \"description\": \"\"\n      }\n    },\n    {\n      \"column\": \"total_tax_rate_country\",\n      \"properties\": {\n        \"dtype\": \"number\",\n        \"std\": 12.14529571907216,\n        \"min\": 9.9,\n        \"max\": 106.3,\n        \"num_unique_values\": 63,\n        \"samples\": [\n          36.8,\n          45.8\n        ],\n        \"semantic_type\": \"\",\n        \"description\": \"\"\n      }\n    }\n  ]\n}"
            }
          },
          "metadata": {},
          "execution_count": 5
        }
      ]
    },
    {
      "cell_type": "code",
      "source": [
        "main.shape"
      ],
      "metadata": {
        "colab": {
          "base_uri": "https://localhost:8080/"
        },
        "id": "S73cyvXx07Vu",
        "outputId": "67f8ac60-8795-4f90-ede9-83b6c47156bf"
      },
      "execution_count": 6,
      "outputs": [
        {
          "output_type": "execute_result",
          "data": {
            "text/plain": [
              "(2640, 12)"
            ]
          },
          "metadata": {},
          "execution_count": 6
        }
      ]
    },
    {
      "cell_type": "markdown",
      "source": [
        "### 1.4 Checking null values in major columns:"
      ],
      "metadata": {
        "id": "9kY5MYweeeO8"
      }
    },
    {
      "cell_type": "code",
      "source": [
        "for cols in main.columns:\n",
        "  selected_col = main[cols].isnull().sum()\n",
        "  if  selected_col >= 1:\n",
        "    print(f'{cols} : {selected_col}')"
      ],
      "metadata": {
        "colab": {
          "base_uri": "https://localhost:8080/"
        },
        "id": "4dGydkMPZyxG",
        "outputId": "1f431e26-e2d7-41ff-e5d1-52359c3e5f29"
      },
      "execution_count": 7,
      "outputs": [
        {
          "output_type": "stream",
          "name": "stdout",
          "text": [
            "age : 65\n",
            "country : 38\n",
            "city : 72\n",
            "life_expectancy_country : 182\n",
            "population_country : 164\n",
            "cpi_country : 184\n",
            "total_tax_rate_country : 182\n"
          ]
        }
      ]
    },
    {
      "cell_type": "markdown",
      "source": [
        ">> Since our main goal is to differentiate the youngest billionaires from the others, we need to remove the ones who doesn't have the age in the dataset."
      ],
      "metadata": {
        "id": "Tl1a2K8eewoB"
      }
    },
    {
      "cell_type": "code",
      "source": [
        "main.dropna(subset = 'age',\n",
        "               inplace = True)"
      ],
      "metadata": {
        "id": "dSypNkytZb_U"
      },
      "execution_count": 8,
      "outputs": []
    },
    {
      "cell_type": "markdown",
      "source": [
        "### 1.5 Creating categories of ages:"
      ],
      "metadata": {
        "id": "AHfouZzLfW3G"
      }
    },
    {
      "cell_type": "code",
      "source": [
        "fig_age = sns.histplot(main,\n",
        "                       x = 'age',\n",
        "                       bins = main.age.value_counts().shape[0],  # there's 79 different ages in the dataset\n",
        "                       stat ='count',\n",
        "                       kde = True)\n",
        "fig_age.set_title(\"Age frequency.\",\n",
        "                  fontdict= {'fontsize': 15});\n"
      ],
      "metadata": {
        "execution": {
          "iopub.status.busy": "2023-11-10T20:54:29.378584Z",
          "iopub.execute_input": "2023-11-10T20:54:29.378919Z",
          "iopub.status.idle": "2023-11-10T20:54:29.696338Z",
          "shell.execute_reply.started": "2023-11-10T20:54:29.378888Z",
          "shell.execute_reply": "2023-11-10T20:54:29.695484Z"
        },
        "trusted": true,
        "colab": {
          "base_uri": "https://localhost:8080/",
          "height": 474
        },
        "id": "Kz2nO8yy5Gd6",
        "outputId": "54f43afd-96a7-493f-f710-74b084a540aa"
      },
      "execution_count": 9,
      "outputs": [
        {
          "output_type": "display_data",
          "data": {
            "text/plain": [
              "<Figure size 640x480 with 1 Axes>"
            ],
            "image/png": "[encoded data removed]"
          },
          "metadata": {}
        }
      ]
    },
    {
      "cell_type": "code",
      "source": [
        "bins = [1,51,61,76,111]\n",
        "labels = [1,2,3,4]\n",
        "main.loc[:, 'age_group'] = pd.cut(main.age, bins = bins, labels = labels, include_lowest = True, right = False)"
      ],
      "metadata": {
        "id": "bzgw0pNkQZHs"
      },
      "execution_count": 10,
      "outputs": []
    },
    {
      "cell_type": "code",
      "source": [
        "main.age_group.astype('category').dtypes"
      ],
      "metadata": {
        "colab": {
          "base_uri": "https://localhost:8080/"
        },
        "id": "BvY8uE0QXNbv",
        "outputId": "4c6bda41-7433-4043-d2fa-84c67e86a5e3"
      },
      "execution_count": 11,
      "outputs": [
        {
          "output_type": "execute_result",
          "data": {
            "text/plain": [
              "CategoricalDtype(categories=[1, 2, 3, 4], ordered=True, categories_dtype=int64)"
            ]
          },
          "metadata": {},
          "execution_count": 11
        }
      ]
    },
    {
      "cell_type": "code",
      "source": [
        "main.groupby('age_group', observed = False).age_group.count()"
      ],
      "metadata": {
        "execution": {
          "iopub.status.busy": "2023-11-10T20:54:29.711426Z",
          "iopub.execute_input": "2023-11-10T20:54:29.711805Z",
          "iopub.status.idle": "2023-11-10T20:54:29.721802Z",
          "shell.execute_reply.started": "2023-11-10T20:54:29.711774Z",
          "shell.execute_reply": "2023-11-10T20:54:29.720937Z"
        },
        "trusted": true,
        "colab": {
          "base_uri": "https://localhost:8080/",
          "height": 241
        },
        "id": "wIjAmIeZ5Gd6",
        "outputId": "f090233c-6935-4441-abed-de2f074a74b3"
      },
      "execution_count": 12,
      "outputs": [
        {
          "output_type": "execute_result",
          "data": {
            "text/plain": [
              "age_group\n",
              "1    324\n",
              "2    679\n",
              "3    973\n",
              "4    599\n",
              "Name: age_group, dtype: int64"
            ],
            "text/html": [
              "<div>\n",
              "<style scoped>\n",
              "    .dataframe tbody tr th:only-of-type {\n",
              "        vertical-align: middle;\n",
              "    }\n",
              "\n",
              "    .dataframe tbody tr th {\n",
              "        vertical-align: top;\n",
              "    }\n",
              "\n",
              "    .dataframe thead th {\n",
              "        text-align: right;\n",
              "    }\n",
              "</style>\n",
              "<table border=\"1\" class=\"dataframe\">\n",
              "  <thead>\n",
              "    <tr style=\"text-align: right;\">\n",
              "      <th></th>\n",
              "      <th>age_group</th>\n",
              "    </tr>\n",
              "    <tr>\n",
              "      <th>age_group</th>\n",
              "      <th></th>\n",
              "    </tr>\n",
              "  </thead>\n",
              "  <tbody>\n",
              "    <tr>\n",
              "      <th>1</th>\n",
              "      <td>324</td>\n",
              "    </tr>\n",
              "    <tr>\n",
              "      <th>2</th>\n",
              "      <td>679</td>\n",
              "    </tr>\n",
              "    <tr>\n",
              "      <th>3</th>\n",
              "      <td>973</td>\n",
              "    </tr>\n",
              "    <tr>\n",
              "      <th>4</th>\n",
              "      <td>599</td>\n",
              "    </tr>\n",
              "  </tbody>\n",
              "</table>\n",
              "</div><br><label><b>dtype:</b> int64</label>"
            ]
          },
          "metadata": {},
          "execution_count": 12
        }
      ]
    },
    {
      "cell_type": "markdown",
      "source": [
        ">  Even that someone with 50 years old might not be considered \"young\", a billionaire is someone that has been investing and/or growing his bussiness for multiple decades, achieving this immense wealth at a older age. Therefore, in this scale, a person in their 40's can be considered young in this \"bubble\". (Thus, if we increase this threshold, the sample size will be more larger, making it difficult to make predictions and analysis)."
      ],
      "metadata": {
        "id": "JAkVUrN85Gd6"
      }
    },
    {
      "cell_type": "markdown",
      "source": [
        "### 1.6 Creating a categorical column of industries:"
      ],
      "metadata": {
        "id": "w5qI4BuMgn3Z"
      }
    },
    {
      "cell_type": "markdown",
      "source": [
        "> Group each category business to a number (which we'll call ID):"
      ],
      "metadata": {
        "id": "y4yR1nUS5Gd4"
      }
    },
    {
      "cell_type": "code",
      "source": [
        "list_category = main.category.unique()\n",
        "\n",
        "\n",
        "number_to_cat = {category: idx+1\n",
        "                 for idx, category in enumerate(list_category)}\n",
        "\n",
        "main['id_category'] = main['category'].map(number_to_cat)"
      ],
      "metadata": {
        "execution": {
          "iopub.status.busy": "2023-11-10T20:54:28.520364Z",
          "iopub.execute_input": "2023-11-10T20:54:28.520606Z",
          "iopub.status.idle": "2023-11-10T20:54:28.533257Z",
          "shell.execute_reply.started": "2023-11-10T20:54:28.520583Z",
          "shell.execute_reply": "2023-11-10T20:54:28.532371Z"
        },
        "trusted": true,
        "id": "6QjD4fta5Gd5"
      },
      "execution_count": 13,
      "outputs": []
    },
    {
      "cell_type": "code",
      "source": [
        "for k,v in number_to_cat.items():\n",
        "  print(f'{k}: {v}')"
      ],
      "metadata": {
        "colab": {
          "base_uri": "https://localhost:8080/"
        },
        "id": "YbGjIc7qBcri",
        "outputId": "1156b878-c921-40b8-c411-6f7bc43b7c07"
      },
      "execution_count": 14,
      "outputs": [
        {
          "output_type": "stream",
          "name": "stdout",
          "text": [
            "Fashion & Retail: 1\n",
            "Automotive: 2\n",
            "Technology: 3\n",
            "Finance & Investments: 4\n",
            "Media & Entertainment: 5\n",
            "Telecom: 6\n",
            "Diversified: 7\n",
            "Food & Beverage: 8\n",
            "Logistics: 9\n",
            "Gambling & Casinos: 10\n",
            "Manufacturing: 11\n",
            "Real Estate: 12\n",
            "Metals & Mining: 13\n",
            "Energy: 14\n",
            "Healthcare: 15\n",
            "Service: 16\n",
            "Construction & Engineering: 17\n",
            "Sports: 18\n"
          ]
        }
      ]
    },
    {
      "cell_type": "markdown",
      "source": [
        "> **Plotting a bar graph to see the most common business among billionaires**"
      ],
      "metadata": {
        "id": "m-1Q3xM35Gd5"
      }
    },
    {
      "cell_type": "code",
      "source": [
        "fig_category, axes = plt.subplots(figsize= (15,9))\n",
        "\n",
        "sns.countplot(x = 'id_category',\n",
        "              data = main,\n",
        "              hue = 'id_category')\n",
        "axes.set_title('Industry hist.',\n",
        "               fontdict = {'fontsize' : 15});\n"
      ],
      "metadata": {
        "execution": {
          "iopub.status.busy": "2023-11-10T20:54:29.054024Z",
          "iopub.execute_input": "2023-11-10T20:54:29.054299Z",
          "iopub.status.idle": "2023-11-10T20:54:29.377407Z",
          "shell.execute_reply.started": "2023-11-10T20:54:29.054275Z",
          "shell.execute_reply": "2023-11-10T20:54:29.376588Z"
        },
        "jupyter": {
          "source_hidden": true
        },
        "trusted": true,
        "colab": {
          "base_uri": "https://localhost:8080/",
          "height": 797
        },
        "id": "-3kA6nys5Gd6",
        "outputId": "5530923b-1050-48ce-e82c-1d2812fb0559"
      },
      "execution_count": 15,
      "outputs": [
        {
          "output_type": "display_data",
          "data": {
            "text/plain": [
              "<Figure size 1500x900 with 1 Axes>"
            ],
            "image/png": "[encoded data removed]"
          },
          "metadata": {}
        }
      ]
    },
    {
      "cell_type": "markdown",
      "source": [
        "### 1.7 The young and the old billionaires datasets:"
      ],
      "metadata": {
        "id": "fy9MBUDGXjym"
      }
    },
    {
      "cell_type": "code",
      "source": [
        "young_dataset = main.loc[main.age_group == 1]\n",
        "young_dataset.groupby('category').category.count()"
      ],
      "metadata": {
        "execution": {
          "iopub.status.busy": "2023-11-10T20:54:29.736594Z",
          "iopub.execute_input": "2023-11-10T20:54:29.736927Z",
          "iopub.status.idle": "2023-11-10T20:54:29.747847Z",
          "shell.execute_reply.started": "2023-11-10T20:54:29.736898Z",
          "shell.execute_reply": "2023-11-10T20:54:29.746874Z"
        },
        "trusted": true,
        "colab": {
          "base_uri": "https://localhost:8080/",
          "height": 649
        },
        "id": "WFuAx_rg5Gd7",
        "outputId": "2c7c4f0e-3bf1-4601-ac3b-f69c267403e4"
      },
      "execution_count": 16,
      "outputs": [
        {
          "output_type": "execute_result",
          "data": {
            "text/plain": [
              "category\n",
              "Automotive                     7\n",
              "Construction & Engineering     4\n",
              "Diversified                   12\n",
              "Energy                         4\n",
              "Fashion & Retail              36\n",
              "Finance & Investments         43\n",
              "Food & Beverage               19\n",
              "Gambling & Casinos             2\n",
              "Healthcare                    19\n",
              "Logistics                      2\n",
              "Manufacturing                 25\n",
              "Media & Entertainment         20\n",
              "Metals & Mining               11\n",
              "Real Estate                   16\n",
              "Service                        4\n",
              "Sports                         2\n",
              "Technology                    98\n",
              "Name: category, dtype: int64"
            ],
            "text/html": [
              "<div>\n",
              "<style scoped>\n",
              "    .dataframe tbody tr th:only-of-type {\n",
              "        vertical-align: middle;\n",
              "    }\n",
              "\n",
              "    .dataframe tbody tr th {\n",
              "        vertical-align: top;\n",
              "    }\n",
              "\n",
              "    .dataframe thead th {\n",
              "        text-align: right;\n",
              "    }\n",
              "</style>\n",
              "<table border=\"1\" class=\"dataframe\">\n",
              "  <thead>\n",
              "    <tr style=\"text-align: right;\">\n",
              "      <th></th>\n",
              "      <th>category</th>\n",
              "    </tr>\n",
              "    <tr>\n",
              "      <th>category</th>\n",
              "      <th></th>\n",
              "    </tr>\n",
              "  </thead>\n",
              "  <tbody>\n",
              "    <tr>\n",
              "      <th>Automotive</th>\n",
              "      <td>7</td>\n",
              "    </tr>\n",
              "    <tr>\n",
              "      <th>Construction &amp; Engineering</th>\n",
              "      <td>4</td>\n",
              "    </tr>\n",
              "    <tr>\n",
              "      <th>Diversified</th>\n",
              "      <td>12</td>\n",
              "    </tr>\n",
              "    <tr>\n",
              "      <th>Energy</th>\n",
              "      <td>4</td>\n",
              "    </tr>\n",
              "    <tr>\n",
              "      <th>Fashion &amp; Retail</th>\n",
              "      <td>36</td>\n",
              "    </tr>\n",
              "    <tr>\n",
              "      <th>Finance &amp; Investments</th>\n",
              "      <td>43</td>\n",
              "    </tr>\n",
              "    <tr>\n",
              "      <th>Food &amp; Beverage</th>\n",
              "      <td>19</td>\n",
              "    </tr>\n",
              "    <tr>\n",
              "      <th>Gambling &amp; Casinos</th>\n",
              "      <td>2</td>\n",
              "    </tr>\n",
              "    <tr>\n",
              "      <th>Healthcare</th>\n",
              "      <td>19</td>\n",
              "    </tr>\n",
              "    <tr>\n",
              "      <th>Logistics</th>\n",
              "      <td>2</td>\n",
              "    </tr>\n",
              "    <tr>\n",
              "      <th>Manufacturing</th>\n",
              "      <td>25</td>\n",
              "    </tr>\n",
              "    <tr>\n",
              "      <th>Media &amp; Entertainment</th>\n",
              "      <td>20</td>\n",
              "    </tr>\n",
              "    <tr>\n",
              "      <th>Metals &amp; Mining</th>\n",
              "      <td>11</td>\n",
              "    </tr>\n",
              "    <tr>\n",
              "      <th>Real Estate</th>\n",
              "      <td>16</td>\n",
              "    </tr>\n",
              "    <tr>\n",
              "      <th>Service</th>\n",
              "      <td>4</td>\n",
              "    </tr>\n",
              "    <tr>\n",
              "      <th>Sports</th>\n",
              "      <td>2</td>\n",
              "    </tr>\n",
              "    <tr>\n",
              "      <th>Technology</th>\n",
              "      <td>98</td>\n",
              "    </tr>\n",
              "  </tbody>\n",
              "</table>\n",
              "</div><br><label><b>dtype:</b> int64</label>"
            ]
          },
          "metadata": {},
          "execution_count": 16
        }
      ]
    },
    {
      "cell_type": "code",
      "source": [
        "old_dataset = main.loc[(main.age_group == 2) |\n",
        "                       (main.age_group == 3) |\n",
        "                       (main.age_group == 4)]"
      ],
      "metadata": {
        "id": "1ckxzgY08T6u"
      },
      "execution_count": 17,
      "outputs": []
    },
    {
      "cell_type": "code",
      "source": [
        "country_values_old = old_dataset.groupby('country').country.value_counts().reset_index()\n",
        "country_values_old = country_values_old.set_index('country')['count'].to_dict()\n",
        "\n",
        "country_values_young = young_dataset.groupby('country').country.value_counts().reset_index()\n",
        "country_values_young = country_values_young.set_index('country')['count'].to_dict()"
      ],
      "metadata": {
        "id": "HJJNCyXJ24ZY"
      },
      "execution_count": 18,
      "outputs": []
    },
    {
      "cell_type": "code",
      "source": [
        "old_dataset.loc[:, 'billionaires_in_the_country'] = old_dataset.loc[:, 'country'].map(country_values_old)\n",
        "old_dataset.loc[:, 'proportion'] = old_dataset.loc[:, 'population_country'] / old_dataset.loc[:, 'billionaires_in_the_country']\n",
        "\n",
        "young_dataset.loc[:, 'billionaires_in_the_country'] = young_dataset.loc[:, 'country'].map(country_values_young)\n",
        "young_dataset.loc[:, 'proportion'] = young_dataset.loc[:, 'population_country'] / young_dataset.loc[:, 'billionaires_in_the_country']"
      ],
      "metadata": {
        "id": "4wuncKaj8AxV"
      },
      "execution_count": 19,
      "outputs": []
    },
    {
      "cell_type": "code",
      "source": [
        "old_dataset.head(1)"
      ],
      "metadata": {
        "colab": {
          "base_uri": "https://localhost:8080/",
          "height": 81
        },
        "id": "AhhF0OzlwQEp",
        "outputId": "ccc22295-8036-4730-b6f2-1479ed5a66ec"
      },
      "execution_count": 20,
      "outputs": [
        {
          "output_type": "execute_result",
          "data": {
            "text/plain": [
              "   finalWorth          category  age country   city  life_expectancy_country  \\\n",
              "0      211000  Fashion & Retail   74  France  Paris                       82   \n",
              "\n",
              "   selfMade  population_country status gender  cpi_country  \\\n",
              "0     False            67059887      U      M          110   \n",
              "\n",
              "   total_tax_rate_country age_group  id_category  billionaires_in_the_country  \\\n",
              "0                      61         3            1                           32   \n",
              "\n",
              "   proportion  \n",
              "0     2095621  "
            ],
            "text/html": [
              "\n",
              "  <div id=\"df-c6e762ee-010c-4c76-a31f-f3657f4f2626\" class=\"colab-df-container\">\n",
              "    <div>\n",
              "<style scoped>\n",
              "    .dataframe tbody tr th:only-of-type {\n",
              "        vertical-align: middle;\n",
              "    }\n",
              "\n",
              "    .dataframe tbody tr th {\n",
              "        vertical-align: top;\n",
              "    }\n",
              "\n",
              "    .dataframe thead th {\n",
              "        text-align: right;\n",
              "    }\n",
              "</style>\n",
              "<table border=\"1\" class=\"dataframe\">\n",
              "  <thead>\n",
              "    <tr style=\"text-align: right;\">\n",
              "      <th></th>\n",
              "      <th>finalWorth</th>\n",
              "      <th>category</th>\n",
              "      <th>age</th>\n",
              "      <th>country</th>\n",
              "      <th>city</th>\n",
              "      <th>life_expectancy_country</th>\n",
              "      <th>selfMade</th>\n",
              "      <th>population_country</th>\n",
              "      <th>status</th>\n",
              "      <th>gender</th>\n",
              "      <th>cpi_country</th>\n",
              "      <th>total_tax_rate_country</th>\n",
              "      <th>age_group</th>\n",
              "      <th>id_category</th>\n",
              "      <th>billionaires_in_the_country</th>\n",
              "      <th>proportion</th>\n",
              "    </tr>\n",
              "  </thead>\n",
              "  <tbody>\n",
              "    <tr>\n",
              "      <th>0</th>\n",
              "      <td>211000</td>\n",
              "      <td>Fashion &amp; Retail</td>\n",
              "      <td>74</td>\n",
              "      <td>France</td>\n",
              "      <td>Paris</td>\n",
              "      <td>82</td>\n",
              "      <td>False</td>\n",
              "      <td>67059887</td>\n",
              "      <td>U</td>\n",
              "      <td>M</td>\n",
              "      <td>110</td>\n",
              "      <td>61</td>\n",
              "      <td>3</td>\n",
              "      <td>1</td>\n",
              "      <td>32</td>\n",
              "      <td>2095621</td>\n",
              "    </tr>\n",
              "  </tbody>\n",
              "</table>\n",
              "</div>\n",
              "    <div class=\"colab-df-buttons\">\n",
              "\n",
              "  <div class=\"colab-df-container\">\n",
              "    <button class=\"colab-df-convert\" onclick=\"convertToInteractive('df-c6e762ee-010c-4c76-a31f-f3657f4f2626')\"\n",
              "            title=\"Convert this dataframe to an interactive table.\"\n",
              "            style=\"display:none;\">\n",
              "\n",
              "  <svg xmlns=\"http://www.w3.org/2000/svg\" height=\"24px\" viewBox=\"0 -960 960 960\">\n",
              "    <path d=\"M120-120v-720h720v720H120Zm60-500h600v-160H180v160Zm220 220h160v-160H400v160Zm0 220h160v-160H400v160ZM180-400h160v-160H180v160Zm440 0h160v-160H620v160ZM180-180h160v-160H180v160Zm440 0h160v-160H620v160Z\"/>\n",
              "  </svg>\n",
              "    </button>\n",
              "\n",
              "  <style>\n",
              "    .colab-df-container {\n",
              "      display:flex;\n",
              "      gap: 12px;\n",
              "    }\n",
              "\n",
              "    .colab-df-convert {\n",
              "      background-color: #E8F0FE;\n",
              "      border: none;\n",
              "      border-radius: 50%;\n",
              "      cursor: pointer;\n",
              "      display: none;\n",
              "      fill: #1967D2;\n",
              "      height: 32px;\n",
              "      padding: 0 0 0 0;\n",
              "      width: 32px;\n",
              "    }\n",
              "\n",
              "    .colab-df-convert:hover {\n",
              "      background-color: #E2EBFA;\n",
              "      box-shadow: 0px 1px 2px rgba(60, 64, 67, 0.3), 0px 1px 3px 1px rgba(60, 64, 67, 0.15);\n",
              "      fill: #174EA6;\n",
              "    }\n",
              "\n",
              "    .colab-df-buttons div {\n",
              "      margin-bottom: 4px;\n",
              "    }\n",
              "\n",
              "    [theme=dark] .colab-df-convert {\n",
              "      background-color: #3B4455;\n",
              "      fill: #D2E3FC;\n",
              "    }\n",
              "\n",
              "    [theme=dark] .colab-df-convert:hover {\n",
              "      background-color: #434B5C;\n",
              "      box-shadow: 0px 1px 3px 1px rgba(0, 0, 0, 0.15);\n",
              "      filter: drop-shadow(0px 1px 2px rgba(0, 0, 0, 0.3));\n",
              "      fill: #FFFFFF;\n",
              "    }\n",
              "  </style>\n",
              "\n",
              "    <script>\n",
              "      const buttonEl =\n",
              "        document.querySelector('#df-c6e762ee-010c-4c76-a31f-f3657f4f2626 button.colab-df-convert');\n",
              "      buttonEl.style.display =\n",
              "        google.colab.kernel.accessAllowed ? 'block' : 'none';\n",
              "\n",
              "      async function convertToInteractive(key) {\n",
              "        const element = document.querySelector('#df-c6e762ee-010c-4c76-a31f-f3657f4f2626');\n",
              "        const dataTable =\n",
              "          await google.colab.kernel.invokeFunction('convertToInteractive',\n",
              "                                                    [key], {});\n",
              "        if (!dataTable) return;\n",
              "\n",
              "        const docLinkHtml = 'Like what you see? Visit the ' +\n",
              "          '<a target=\"_blank\" href=https://colab.research.google.com/notebooks/data_table.ipynb>data table notebook</a>'\n",
              "          + ' to learn more about interactive tables.';\n",
              "        element.innerHTML = '';\n",
              "        dataTable['output_type'] = 'display_data';\n",
              "        await google.colab.output.renderOutput(dataTable, element);\n",
              "        const docLink = document.createElement('div');\n",
              "        docLink.innerHTML = docLinkHtml;\n",
              "        element.appendChild(docLink);\n",
              "      }\n",
              "    </script>\n",
              "  </div>\n",
              "\n",
              "\n",
              "    </div>\n",
              "  </div>\n"
            ],
            "application/vnd.google.colaboratory.intrinsic+json": {
              "type": "dataframe",
              "variable_name": "old_dataset",
              "summary": "{\n  \"name\": \"old_dataset\",\n  \"rows\": 2251,\n  \"fields\": [\n    {\n      \"column\": \"finalWorth\",\n      \"properties\": {\n        \"dtype\": \"number\",\n        \"std\": 10193,\n        \"min\": 1000,\n        \"max\": 211000,\n        \"num_unique_values\": 212,\n        \"samples\": [\n          32600,\n          4800,\n          8100\n        ],\n        \"semantic_type\": \"\",\n        \"description\": \"\"\n      }\n    },\n    {\n      \"column\": \"category\",\n      \"properties\": {\n        \"dtype\": \"category\",\n        \"num_unique_values\": 18,\n        \"samples\": [\n          \"Fashion & Retail\",\n          \"Automotive\",\n          \"Logistics\"\n        ],\n        \"semantic_type\": \"\",\n        \"description\": \"\"\n      }\n    },\n    {\n      \"column\": \"age\",\n      \"properties\": {\n        \"dtype\": \"number\",\n        \"std\": 10.862731470116321,\n        \"min\": 51.0,\n        \"max\": 101.0,\n        \"num_unique_values\": 50,\n        \"samples\": [\n          73.0,\n          99.0,\n          70.0\n        ],\n        \"semantic_type\": \"\",\n        \"description\": \"\"\n      }\n    },\n    {\n      \"column\": \"country\",\n      \"properties\": {\n        \"dtype\": \"category\",\n        \"num_unique_values\": 77,\n        \"samples\": [\n          \"Spain\",\n          \"Egypt\",\n          \"Hong Kong\"\n        ],\n        \"semantic_type\": \"\",\n        \"description\": \"\"\n      }\n    },\n    {\n      \"column\": \"city\",\n      \"properties\": {\n        \"dtype\": \"category\",\n        \"num_unique_values\": 690,\n        \"samples\": [\n          \"Los Altos Hills\",\n          \"Athens\",\n          \"Walldorf\"\n        ],\n        \"semantic_type\": \"\",\n        \"description\": \"\"\n      }\n    },\n    {\n      \"column\": \"life_expectancy_country\",\n      \"properties\": {\n        \"dtype\": \"number\",\n        \"std\": 3.8272533336634647,\n        \"min\": 54.3,\n        \"max\": 84.2,\n        \"num_unique_values\": 53,\n        \"samples\": [\n          71.6,\n          82.1,\n          75.4\n        ],\n        \"semantic_type\": \"\",\n        \"description\": \"\"\n      }\n    },\n    {\n      \"column\": \"selfMade\",\n      \"properties\": {\n        \"dtype\": \"boolean\",\n        \"num_unique_values\": 2,\n        \"samples\": [\n          true,\n          false\n        ],\n        \"semantic_type\": \"\",\n        \"description\": \"\"\n      }\n    },\n    {\n      \"column\": \"population_country\",\n      \"properties\": {\n        \"dtype\": \"number\",\n        \"std\": 550656645.547539,\n        \"min\": 38019.0,\n        \"max\": 1397715000.0,\n        \"num_unique_values\": 67,\n        \"samples\": [\n          50339443.0,\n          18952038.0\n        ],\n        \"semantic_type\": \"\",\n        \"description\": \"\"\n      }\n    },\n    {\n      \"column\": \"status\",\n      \"properties\": {\n        \"dtype\": \"category\",\n        \"num_unique_values\": 6,\n        \"samples\": [\n          \"U\",\n          \"D\"\n        ],\n        \"semantic_type\": \"\",\n        \"description\": \"\"\n      }\n    },\n    {\n      \"column\": \"gender\",\n      \"properties\": {\n        \"dtype\": \"category\",\n        \"num_unique_values\": 2,\n        \"samples\": [\n          \"F\",\n          \"M\"\n        ],\n        \"semantic_type\": \"\",\n        \"description\": \"\"\n      }\n    },\n    {\n      \"column\": \"cpi_country\",\n      \"properties\": {\n        \"dtype\": \"number\",\n        \"std\": 27.25185947096273,\n        \"min\": 99.55,\n        \"max\": 288.57,\n        \"num_unique_values\": 62,\n        \"samples\": [\n          102.51,\n          115.34\n        ],\n        \"semantic_type\": \"\",\n        \"description\": \"\"\n      }\n    },\n    {\n      \"column\": \"total_tax_rate_country\",\n      \"properties\": {\n        \"dtype\": \"number\",\n        \"std\": 12.027617249235918,\n        \"min\": 9.9,\n        \"max\": 106.3,\n        \"num_unique_values\": 62,\n        \"samples\": [\n          27.4,\n          41.8\n        ],\n        \"semantic_type\": \"\",\n        \"description\": \"\"\n      }\n    },\n    {\n      \"column\": \"age_group\",\n      \"properties\": {\n        \"dtype\": \"category\",\n        \"num_unique_values\": 3,\n        \"samples\": [\n          3,\n          2\n        ],\n        \"semantic_type\": \"\",\n        \"description\": \"\"\n      }\n    },\n    {\n      \"column\": \"id_category\",\n      \"properties\": {\n        \"dtype\": \"number\",\n        \"std\": 4,\n        \"min\": 1,\n        \"max\": 18,\n        \"num_unique_values\": 18,\n        \"samples\": [\n          1,\n          2\n        ],\n        \"semantic_type\": \"\",\n        \"description\": \"\"\n      }\n    },\n    {\n      \"column\": \"billionaires_in_the_country\",\n      \"properties\": {\n        \"dtype\": \"number\",\n        \"std\": 271.14938472664784,\n        \"min\": 1.0,\n        \"max\": 660.0,\n        \"num_unique_values\": 33,\n        \"samples\": [\n          7.0,\n          70.0\n        ],\n        \"semantic_type\": \"\",\n        \"description\": \"\"\n      }\n    },\n    {\n      \"column\": \"proportion\",\n      \"properties\": {\n        \"dtype\": \"number\",\n        \"std\": 4241231.523648467,\n        \"min\": 2292.0,\n        \"max\": 66987866.333333336,\n        \"num_unique_values\": 67,\n        \"samples\": [\n          50339443.0,\n          3158673.0\n        ],\n        \"semantic_type\": \"\",\n        \"description\": \"\"\n      }\n    }\n  ]\n}"
            }
          },
          "metadata": {},
          "execution_count": 20
        }
      ]
    },
    {
      "cell_type": "code",
      "source": [
        "young_dataset.head(1)"
      ],
      "metadata": {
        "colab": {
          "base_uri": "https://localhost:8080/",
          "height": 81
        },
        "id": "WsmvfU1HaFHE",
        "outputId": "2a872ee2-d09e-48f2-a3b6-15aa521b808e"
      },
      "execution_count": 21,
      "outputs": [
        {
          "output_type": "execute_result",
          "data": {
            "text/plain": [
              "    finalWorth    category  age        country       city  \\\n",
              "11       79200  Technology   50  United States  Palo Alto   \n",
              "\n",
              "    life_expectancy_country  selfMade  population_country status gender  \\\n",
              "11                       78      True           328239523      D      M   \n",
              "\n",
              "    cpi_country  total_tax_rate_country age_group  id_category  \\\n",
              "11          117                      37         1            3   \n",
              "\n",
              "    billionaires_in_the_country  proportion  \n",
              "11                           94     3491910  "
            ],
            "text/html": [
              "\n",
              "  <div id=\"df-06ae5eb4-ec21-47ca-896e-34f560ee54fe\" class=\"colab-df-container\">\n",
              "    <div>\n",
              "<style scoped>\n",
              "    .dataframe tbody tr th:only-of-type {\n",
              "        vertical-align: middle;\n",
              "    }\n",
              "\n",
              "    .dataframe tbody tr th {\n",
              "        vertical-align: top;\n",
              "    }\n",
              "\n",
              "    .dataframe thead th {\n",
              "        text-align: right;\n",
              "    }\n",
              "</style>\n",
              "<table border=\"1\" class=\"dataframe\">\n",
              "  <thead>\n",
              "    <tr style=\"text-align: right;\">\n",
              "      <th></th>\n",
              "      <th>finalWorth</th>\n",
              "      <th>category</th>\n",
              "      <th>age</th>\n",
              "      <th>country</th>\n",
              "      <th>city</th>\n",
              "      <th>life_expectancy_country</th>\n",
              "      <th>selfMade</th>\n",
              "      <th>population_country</th>\n",
              "      <th>status</th>\n",
              "      <th>gender</th>\n",
              "      <th>cpi_country</th>\n",
              "      <th>total_tax_rate_country</th>\n",
              "      <th>age_group</th>\n",
              "      <th>id_category</th>\n",
              "      <th>billionaires_in_the_country</th>\n",
              "      <th>proportion</th>\n",
              "    </tr>\n",
              "  </thead>\n",
              "  <tbody>\n",
              "    <tr>\n",
              "      <th>11</th>\n",
              "      <td>79200</td>\n",
              "      <td>Technology</td>\n",
              "      <td>50</td>\n",
              "      <td>United States</td>\n",
              "      <td>Palo Alto</td>\n",
              "      <td>78</td>\n",
              "      <td>True</td>\n",
              "      <td>328239523</td>\n",
              "      <td>D</td>\n",
              "      <td>M</td>\n",
              "      <td>117</td>\n",
              "      <td>37</td>\n",
              "      <td>1</td>\n",
              "      <td>3</td>\n",
              "      <td>94</td>\n",
              "      <td>3491910</td>\n",
              "    </tr>\n",
              "  </tbody>\n",
              "</table>\n",
              "</div>\n",
              "    <div class=\"colab-df-buttons\">\n",
              "\n",
              "  <div class=\"colab-df-container\">\n",
              "    <button class=\"colab-df-convert\" onclick=\"convertToInteractive('df-06ae5eb4-ec21-47ca-896e-34f560ee54fe')\"\n",
              "            title=\"Convert this dataframe to an interactive table.\"\n",
              "            style=\"display:none;\">\n",
              "\n",
              "  <svg xmlns=\"http://www.w3.org/2000/svg\" height=\"24px\" viewBox=\"0 -960 960 960\">\n",
              "    <path d=\"M120-120v-720h720v720H120Zm60-500h600v-160H180v160Zm220 220h160v-160H400v160Zm0 220h160v-160H400v160ZM180-400h160v-160H180v160Zm440 0h160v-160H620v160ZM180-180h160v-160H180v160Zm440 0h160v-160H620v160Z\"/>\n",
              "  </svg>\n",
              "    </button>\n",
              "\n",
              "  <style>\n",
              "    .colab-df-container {\n",
              "      display:flex;\n",
              "      gap: 12px;\n",
              "    }\n",
              "\n",
              "    .colab-df-convert {\n",
              "      background-color: #E8F0FE;\n",
              "      border: none;\n",
              "      border-radius: 50%;\n",
              "      cursor: pointer;\n",
              "      display: none;\n",
              "      fill: #1967D2;\n",
              "      height: 32px;\n",
              "      padding: 0 0 0 0;\n",
              "      width: 32px;\n",
              "    }\n",
              "\n",
              "    .colab-df-convert:hover {\n",
              "      background-color: #E2EBFA;\n",
              "      box-shadow: 0px 1px 2px rgba(60, 64, 67, 0.3), 0px 1px 3px 1px rgba(60, 64, 67, 0.15);\n",
              "      fill: #174EA6;\n",
              "    }\n",
              "\n",
              "    .colab-df-buttons div {\n",
              "      margin-bottom: 4px;\n",
              "    }\n",
              "\n",
              "    [theme=dark] .colab-df-convert {\n",
              "      background-color: #3B4455;\n",
              "      fill: #D2E3FC;\n",
              "    }\n",
              "\n",
              "    [theme=dark] .colab-df-convert:hover {\n",
              "      background-color: #434B5C;\n",
              "      box-shadow: 0px 1px 3px 1px rgba(0, 0, 0, 0.15);\n",
              "      filter: drop-shadow(0px 1px 2px rgba(0, 0, 0, 0.3));\n",
              "      fill: #FFFFFF;\n",
              "    }\n",
              "  </style>\n",
              "\n",
              "    <script>\n",
              "      const buttonEl =\n",
              "        document.querySelector('#df-06ae5eb4-ec21-47ca-896e-34f560ee54fe button.colab-df-convert');\n",
              "      buttonEl.style.display =\n",
              "        google.colab.kernel.accessAllowed ? 'block' : 'none';\n",
              "\n",
              "      async function convertToInteractive(key) {\n",
              "        const element = document.querySelector('#df-06ae5eb4-ec21-47ca-896e-34f560ee54fe');\n",
              "        const dataTable =\n",
              "          await google.colab.kernel.invokeFunction('convertToInteractive',\n",
              "                                                    [key], {});\n",
              "        if (!dataTable) return;\n",
              "\n",
              "        const docLinkHtml = 'Like what you see? Visit the ' +\n",
              "          '<a target=\"_blank\" href=https://colab.research.google.com/notebooks/data_table.ipynb>data table notebook</a>'\n",
              "          + ' to learn more about interactive tables.';\n",
              "        element.innerHTML = '';\n",
              "        dataTable['output_type'] = 'display_data';\n",
              "        await google.colab.output.renderOutput(dataTable, element);\n",
              "        const docLink = document.createElement('div');\n",
              "        docLink.innerHTML = docLinkHtml;\n",
              "        element.appendChild(docLink);\n",
              "      }\n",
              "    </script>\n",
              "  </div>\n",
              "\n",
              "\n",
              "    </div>\n",
              "  </div>\n"
            ],
            "application/vnd.google.colaboratory.intrinsic+json": {
              "type": "dataframe",
              "variable_name": "young_dataset",
              "summary": "{\n  \"name\": \"young_dataset\",\n  \"rows\": 324,\n  \"fields\": [\n    {\n      \"column\": \"finalWorth\",\n      \"properties\": {\n        \"dtype\": \"number\",\n        \"std\": 7942,\n        \"min\": 1000,\n        \"max\": 79200,\n        \"num_unique_values\": 78,\n        \"samples\": [\n          5500,\n          79200,\n          5400\n        ],\n        \"semantic_type\": \"\",\n        \"description\": \"\"\n      }\n    },\n    {\n      \"column\": \"category\",\n      \"properties\": {\n        \"dtype\": \"category\",\n        \"num_unique_values\": 17,\n        \"samples\": [\n          \"Technology\",\n          \"Food & Beverage\",\n          \"Energy\"\n        ],\n        \"semantic_type\": \"\",\n        \"description\": \"\"\n      }\n    },\n    {\n      \"column\": \"age\",\n      \"properties\": {\n        \"dtype\": \"number\",\n        \"std\": 6.1319522968681035,\n        \"min\": 18.0,\n        \"max\": 50.0,\n        \"num_unique_values\": 29,\n        \"samples\": [\n          26.0,\n          34.0,\n          37.0\n        ],\n        \"semantic_type\": \"\",\n        \"description\": \"\"\n      }\n    },\n    {\n      \"column\": \"country\",\n      \"properties\": {\n        \"dtype\": \"category\",\n        \"num_unique_values\": 36,\n        \"samples\": [\n          \"Israel\",\n          \"Greece\",\n          \"Cyprus\"\n        ],\n        \"semantic_type\": \"\",\n        \"description\": \"\"\n      }\n    },\n    {\n      \"column\": \"city\",\n      \"properties\": {\n        \"dtype\": \"category\",\n        \"num_unique_values\": 129,\n        \"samples\": [\n          \"Bangalore\",\n          \"Atlanta\",\n          \"Vienna\"\n        ],\n        \"semantic_type\": \"\",\n        \"description\": \"\"\n      }\n    },\n    {\n      \"column\": \"life_expectancy_country\",\n      \"properties\": {\n        \"dtype\": \"number\",\n        \"std\": 3.0941329381743645,\n        \"min\": 65.0,\n        \"max\": 84.2,\n        \"num_unique_values\": 32,\n        \"samples\": [\n          76.9,\n          75.7,\n          81.8\n        ],\n        \"semantic_type\": \"\",\n        \"description\": \"\"\n      }\n    },\n    {\n      \"column\": \"selfMade\",\n      \"properties\": {\n        \"dtype\": \"boolean\",\n        \"num_unique_values\": 2,\n        \"samples\": [\n          false,\n          true\n        ],\n        \"semantic_type\": \"\",\n        \"description\": \"\"\n      }\n    },\n    {\n      \"column\": \"population_country\",\n      \"properties\": {\n        \"dtype\": \"number\",\n        \"std\": 562773511.6825408,\n        \"min\": 1198575.0,\n        \"max\": 1397715000.0,\n        \"num_unique_values\": 35,\n        \"samples\": [\n          17332850.0,\n          10716322.0\n        ],\n        \"semantic_type\": \"\",\n        \"description\": \"\"\n      }\n    },\n    {\n      \"column\": \"status\",\n      \"properties\": {\n        \"dtype\": \"category\",\n        \"num_unique_values\": 6,\n        \"samples\": [\n          \"D\",\n          \"N\"\n        ],\n        \"semantic_type\": \"\",\n        \"description\": \"\"\n      }\n    },\n    {\n      \"column\": \"gender\",\n      \"properties\": {\n        \"dtype\": \"category\",\n        \"num_unique_values\": 2,\n        \"samples\": [\n          \"F\",\n          \"M\"\n        ],\n        \"semantic_type\": \"\",\n        \"description\": \"\"\n      }\n    },\n    {\n      \"column\": \"cpi_country\",\n      \"properties\": {\n        \"dtype\": \"number\",\n        \"std\": 20.8522328667646,\n        \"min\": 99.55,\n        \"max\": 281.66,\n        \"num_unique_values\": 35,\n        \"samples\": [\n          115.91,\n          101.87\n        ],\n        \"semantic_type\": \"\",\n        \"description\": \"\"\n      }\n    },\n    {\n      \"column\": \"total_tax_rate_country\",\n      \"properties\": {\n        \"dtype\": \"number\",\n        \"std\": 12.238711043133183,\n        \"min\": 15.9,\n        \"max\": 65.1,\n        \"num_unique_values\": 34,\n        \"samples\": [\n          40.8,\n          59.1\n        ],\n        \"semantic_type\": \"\",\n        \"description\": \"\"\n      }\n    },\n    {\n      \"column\": \"age_group\",\n      \"properties\": {\n        \"dtype\": \"category\",\n        \"num_unique_values\": 1,\n        \"samples\": [\n          1\n        ],\n        \"semantic_type\": \"\",\n        \"description\": \"\"\n      }\n    },\n    {\n      \"column\": \"id_category\",\n      \"properties\": {\n        \"dtype\": \"number\",\n        \"std\": 4,\n        \"min\": 1,\n        \"max\": 18,\n        \"num_unique_values\": 17,\n        \"samples\": [\n          3\n        ],\n        \"semantic_type\": \"\",\n        \"description\": \"\"\n      }\n    },\n    {\n      \"column\": \"billionaires_in_the_country\",\n      \"properties\": {\n        \"dtype\": \"number\",\n        \"std\": 39.75392252479615,\n        \"min\": 1.0,\n        \"max\": 94.0,\n        \"num_unique_values\": 13,\n        \"samples\": [\n          17.0\n        ],\n        \"semantic_type\": \"\",\n        \"description\": \"\"\n      }\n    },\n    {\n      \"column\": \"proportion\",\n      \"properties\": {\n        \"dtype\": \"number\",\n        \"std\": 27341207.414312143,\n        \"min\": 399525.0,\n        \"max\": 151824194.8888889,\n        \"num_unique_values\": 35,\n        \"samples\": [\n          17332850.0\n        ],\n        \"semantic_type\": \"\",\n        \"description\": \"\"\n      }\n    }\n  ]\n}"
            }
          },
          "metadata": {},
          "execution_count": 21
        }
      ]
    },
    {
      "cell_type": "markdown",
      "source": [
        "## 2. Old vs young:"
      ],
      "metadata": {
        "id": "-0wyjINWrN7_"
      }
    },
    {
      "cell_type": "markdown",
      "source": [
        "Trying to find patterns in the variables and  which one of them give us the best conclusions."
      ],
      "metadata": {
        "id": "6EDb_J6r5Sk-"
      }
    },
    {
      "cell_type": "code",
      "source": [
        "top_cities = old_dataset.groupby('city').city.value_counts().reset_index(drop = False).sort_values(by = 'count',  ascending = False)\n",
        "top_cities = top_cities.reset_index(drop = True).rename(columns = {'count' : 'quantity'})\n",
        "top_cities = top_cities.head(15)\n",
        "\n",
        "top_young_cities = young_dataset.groupby('city').city.value_counts().reset_index(drop = False).sort_values(by = 'count', ascending = False)\n",
        "top_young_cities = top_young_cities.reset_index(drop = True).rename(columns = {'count' : 'quantity'})\n",
        "top_young_cities = top_young_cities.head(15)\n",
        "\n",
        "top_countries = old_dataset.groupby('country').country.value_counts().reset_index(drop = False).sort_values(by = 'count',  ascending = False)\n",
        "top_countries = top_countries.reset_index(drop = True).rename(columns = {'count' : 'quantity'})\n",
        "top_countries = top_countries.head(15)\n",
        "\n",
        "top_young_countries = young_dataset.groupby('country').country.value_counts().reset_index(drop = False).sort_values(by = 'count', ascending = False)\n",
        "top_young_countries = top_young_countries.reset_index(drop = True).rename(columns = {'count' : 'quantity'})\n",
        "top_young_countries = top_young_countries.head(15)"
      ],
      "metadata": {
        "id": "C7BY4WSvNzS-"
      },
      "execution_count": 22,
      "outputs": []
    },
    {
      "cell_type": "markdown",
      "source": [
        "### 2.1 Top 15 cities:"
      ],
      "metadata": {
        "id": "OLpZF7GtXET7"
      }
    },
    {
      "cell_type": "code",
      "source": [
        "fig = make_subplots(rows = 1,\n",
        "                    cols = 2)\n",
        "\n",
        "graph_0 = go.Bar(x = top_countries.country,\n",
        "                 y = top_countries.quantity,\n",
        "                 name = 'Older billionaires')\n",
        "graph_1 = go.Bar(x = top_young_countries.country,\n",
        "                 y = top_young_countries.quantity,\n",
        "                 name = 'Younger billionaires')\n",
        "\n",
        "\n",
        "\n",
        "fig.add_trace(graph_0,\n",
        "              row = 1,\n",
        "              col = 1)\n",
        "fig.add_trace(graph_1,\n",
        "              row = 1,\n",
        "              col = 2)\n",
        "\n",
        "fig.data[0].marker.color = 'green'\n",
        "\n",
        "fig.update_layout(height=600,\n",
        "                  width=1200,\n",
        "                  title = dict(text = 'Top countries comparison',\n",
        "                               x = 0.5,\n",
        "                               font = dict(color = 'blue',\n",
        "                                           size = 20)))\n",
        "\n",
        "fig.show()"
      ],
      "metadata": {
        "id": "VD_38n05Fwl8",
        "colab": {
          "base_uri": "https://localhost:8080/",
          "height": 617
        },
        "outputId": "c3c55e0b-d4ba-40fa-d185-0b1057fecdf7"
      },
      "execution_count": 23,
      "outputs": [
        {
          "output_type": "display_data",
          "data": {
            "text/html": [
              "<html>\n",
              "<head><meta charset=\"utf-8\" /></head>\n",
              "<body>\n",
              "    <div>            <script src=\"https://cdnjs.cloudflare.com/ajax/libs/mathjax/2.7.5/MathJax.js?config=TeX-AMS-MML_SVG\"></script><script type=\"text/javascript\">if (window.MathJax && window.MathJax.Hub && window.MathJax.Hub.Config) {window.MathJax.Hub.Config({SVG: {font: \"STIX-Web\"}});}</script>                <script type=\"text/javascript\">window.PlotlyConfig = {MathJaxConfig: 'local'};</script>\n",
              "        <script charset=\"utf-8\" src=\"https://cdn.plot.ly/plotly-2.35.2.min.js\"></script>                <div id=\"ac2d390c-7c46-4e36-9b15-e7677df321a9\" class=\"plotly-graph-div\" style=\"height:600px; width:1200px;\"></div>            <script type=\"text/javascript\">                                    window.PLOTLYENV=window.PLOTLYENV || {};                                    if (document.getElementById(\"ac2d390c-7c46-4e36-9b15-e7677df321a9\")) {                    Plotly.newPlot(                        \"ac2d390c-7c46-4e36-9b15-e7677df321a9\",                        [{\"name\":\"Older billionaires\",\"x\":[\"United States\",\"China\",\"India\",\"Germany\",\"Russia\",\"Switzerland\",\"United Kingdom\",\"Hong Kong\",\"Italy\",\"Taiwan\",\"Singapore\",\"Brazil\",\"Canada\",\"Australia\",\"Japan\"],\"y\":[660,427,148,71,70,68,66,58,47,41,40,39,37,35,35],\"type\":\"bar\",\"xaxis\":\"x\",\"yaxis\":\"y\",\"marker\":{\"color\":\"green\"}},{\"name\":\"Younger billionaires\",\"x\":[\"United States\",\"China\",\"Germany\",\"United Kingdom\",\"Russia\",\"India\",\"Sweden\",\"Italy\",\"Hong Kong\",\"Australia\",\"Switzerland\",\"South Korea\",\"Singapore\",\"United Arab Emirates\",\"Brazil\"],\"y\":[94,77,17,14,9,9,8,8,8,8,7,7,6,5,4],\"type\":\"bar\",\"xaxis\":\"x2\",\"yaxis\":\"y2\"}],                        {\"template\":{\"data\":{\"histogram2dcontour\":[{\"type\":\"histogram2dcontour\",\"colorbar\":{\"outlinewidth\":0,\"ticks\":\"\"},\"colorscale\":[[0.0,\"#0d0887\"],[0.1111111111111111,\"#46039f\"],[0.2222222222222222,\"#7201a8\"],[0.3333333333333333,\"#9c179e\"],[0.4444444444444444,\"#bd3786\"],[0.5555555555555556,\"#d8576b\"],[0.6666666666666666,\"#ed7953\"],[0.7777777777777778,\"#fb9f3a\"],[0.8888888888888888,\"#fdca26\"],[1.0,\"#f0f921\"]]}],\"choropleth\":[{\"type\":\"choropleth\",\"colorbar\":{\"outlinewidth\":0,\"ticks\":\"\"}}],\"histogram2d\":[{\"type\":\"histogram2d\",\"colorbar\":{\"outlinewidth\":0,\"ticks\":\"\"},\"colorscale\":[[0.0,\"#0d0887\"],[0.1111111111111111,\"#46039f\"],[0.2222222222222222,\"#7201a8\"],[0.3333333333333333,\"#9c179e\"],[0.4444444444444444,\"#bd3786\"],[0.5555555555555556,\"#d8576b\"],[0.6666666666666666,\"#ed7953\"],[0.7777777777777778,\"#fb9f3a\"],[0.8888888888888888,\"#fdca26\"],[1.0,\"#f0f921\"]]}],\"heatmap\":[{\"type\":\"heatmap\",\"colorbar\":{\"outlinewidth\":0,\"ticks\":\"\"},\"colorscale\":[[0.0,\"#0d0887\"],[0.1111111111111111,\"#46039f\"],[0.2222222222222222,\"#7201a8\"],[0.3333333333333333,\"#9c179e\"],[0.4444444444444444,\"#bd3786\"],[0.5555555555555556,\"#d8576b\"],[0.6666666666666666,\"#ed7953\"],[0.7777777777777778,\"#fb9f3a\"],[0.8888888888888888,\"#fdca26\"],[1.0,\"#f0f921\"]]}],\"heatmapgl\":[{\"type\":\"heatmapgl\",\"colorbar\":{\"outlinewidth\":0,\"ticks\":\"\"},\"colorscale\":[[0.0,\"#0d0887\"],[0.1111111111111111,\"#46039f\"],[0.2222222222222222,\"#7201a8\"],[0.3333333333333333,\"#9c179e\"],[0.4444444444444444,\"#bd3786\"],[0.5555555555555556,\"#d8576b\"],[0.6666666666666666,\"#ed7953\"],[0.7777777777777778,\"#fb9f3a\"],[0.8888888888888888,\"#fdca26\"],[1.0,\"#f0f921\"]]}],\"contourcarpet\":[{\"type\":\"contourcarpet\",\"colorbar\":{\"outlinewidth\":0,\"ticks\":\"\"}}],\"contour\":[{\"type\":\"contour\",\"colorbar\":{\"outlinewidth\":0,\"ticks\":\"\"},\"colorscale\":[[0.0,\"#0d0887\"],[0.1111111111111111,\"#46039f\"],[0.2222222222222222,\"#7201a8\"],[0.3333333333333333,\"#9c179e\"],[0.4444444444444444,\"#bd3786\"],[0.5555555555555556,\"#d8576b\"],[0.6666666666666666,\"#ed7953\"],[0.7777777777777778,\"#fb9f3a\"],[0.8888888888888888,\"#fdca26\"],[1.0,\"#f0f921\"]]}],\"surface\":[{\"type\":\"surface\",\"colorbar\":{\"outlinewidth\":0,\"ticks\":\"\"},\"colorscale\":[[0.0,\"#0d0887\"],[0.1111111111111111,\"#46039f\"],[0.2222222222222222,\"#7201a8\"],[0.3333333333333333,\"#9c179e\"],[0.4444444444444444,\"#bd3786\"],[0.5555555555555556,\"#d8576b\"],[0.6666666666666666,\"#ed7953\"],[0.7777777777777778,\"#fb9f3a\"],[0.8888888888888888,\"#fdca26\"],[1.0,\"#f0f921\"]]}],\"mesh3d\":[{\"type\":\"mesh3d\",\"colorbar\":{\"outlinewidth\":0,\"ticks\":\"\"}}],\"scatter\":[{\"fillpattern\":{\"fillmode\":\"overlay\",\"size\":10,\"solidity\":0.2},\"type\":\"scatter\"}],\"parcoords\":[{\"type\":\"parcoords\",\"line\":{\"colorbar\":{\"outlinewidth\":0,\"ticks\":\"\"}}}],\"scatterpolargl\":[{\"type\":\"scatterpolargl\",\"marker\":{\"colorbar\":{\"outlinewidth\":0,\"ticks\":\"\"}}}],\"bar\":[{\"error_x\":{\"color\":\"#2a3f5f\"},\"error_y\":{\"color\":\"#2a3f5f\"},\"marker\":{\"line\":{\"color\":\"#E5ECF6\",\"width\":0.5},\"pattern\":{\"fillmode\":\"overlay\",\"size\":10,\"solidity\":0.2}},\"type\":\"bar\"}],\"scattergeo\":[{\"type\":\"scattergeo\",\"marker\":{\"colorbar\":{\"outlinewidth\":0,\"ticks\":\"\"}}}],\"scatterpolar\":[{\"type\":\"scatterpolar\",\"marker\":{\"colorbar\":{\"outlinewidth\":0,\"ticks\":\"\"}}}],\"histogram\":[{\"marker\":{\"pattern\":{\"fillmode\":\"overlay\",\"size\":10,\"solidity\":0.2}},\"type\":\"histogram\"}],\"scattergl\":[{\"type\":\"scattergl\",\"marker\":{\"colorbar\":{\"outlinewidth\":0,\"ticks\":\"\"}}}],\"scatter3d\":[{\"type\":\"scatter3d\",\"line\":{\"colorbar\":{\"outlinewidth\":0,\"ticks\":\"\"}},\"marker\":{\"colorbar\":{\"outlinewidth\":0,\"ticks\":\"\"}}}],\"scattermapbox\":[{\"type\":\"scattermapbox\",\"marker\":{\"colorbar\":{\"outlinewidth\":0,\"ticks\":\"\"}}}],\"scatterternary\":[{\"type\":\"scatterternary\",\"marker\":{\"colorbar\":{\"outlinewidth\":0,\"ticks\":\"\"}}}],\"scattercarpet\":[{\"type\":\"scattercarpet\",\"marker\":{\"colorbar\":{\"outlinewidth\":0,\"ticks\":\"\"}}}],\"carpet\":[{\"aaxis\":{\"endlinecolor\":\"#2a3f5f\",\"gridcolor\":\"white\",\"linecolor\":\"white\",\"minorgridcolor\":\"white\",\"startlinecolor\":\"#2a3f5f\"},\"baxis\":{\"endlinecolor\":\"#2a3f5f\",\"gridcolor\":\"white\",\"linecolor\":\"white\",\"minorgridcolor\":\"white\",\"startlinecolor\":\"#2a3f5f\"},\"type\":\"carpet\"}],\"table\":[{\"cells\":{\"fill\":{\"color\":\"#EBF0F8\"},\"line\":{\"color\":\"white\"}},\"header\":{\"fill\":{\"color\":\"#C8D4E3\"},\"line\":{\"color\":\"white\"}},\"type\":\"table\"}],\"barpolar\":[{\"marker\":{\"line\":{\"color\":\"#E5ECF6\",\"width\":0.5},\"pattern\":{\"fillmode\":\"overlay\",\"size\":10,\"solidity\":0.2}},\"type\":\"barpolar\"}],\"pie\":[{\"automargin\":true,\"type\":\"pie\"}]},\"layout\":{\"autotypenumbers\":\"strict\",\"colorway\":[\"#636efa\",\"#EF553B\",\"#00cc96\",\"#ab63fa\",\"#FFA15A\",\"#19d3f3\",\"#FF6692\",\"#B6E880\",\"#FF97FF\",\"#FECB52\"],\"font\":{\"color\":\"#2a3f5f\"},\"hovermode\":\"closest\",\"hoverlabel\":{\"align\":\"left\"},\"paper_bgcolor\":\"white\",\"plot_bgcolor\":\"#E5ECF6\",\"polar\":{\"bgcolor\":\"#E5ECF6\",\"angularaxis\":{\"gridcolor\":\"white\",\"linecolor\":\"white\",\"ticks\":\"\"},\"radialaxis\":{\"gridcolor\":\"white\",\"linecolor\":\"white\",\"ticks\":\"\"}},\"ternary\":{\"bgcolor\":\"#E5ECF6\",\"aaxis\":{\"gridcolor\":\"white\",\"linecolor\":\"white\",\"ticks\":\"\"},\"baxis\":{\"gridcolor\":\"white\",\"linecolor\":\"white\",\"ticks\":\"\"},\"caxis\":{\"gridcolor\":\"white\",\"linecolor\":\"white\",\"ticks\":\"\"}},\"coloraxis\":{\"colorbar\":{\"outlinewidth\":0,\"ticks\":\"\"}},\"colorscale\":{\"sequential\":[[0.0,\"#0d0887\"],[0.1111111111111111,\"#46039f\"],[0.2222222222222222,\"#7201a8\"],[0.3333333333333333,\"#9c179e\"],[0.4444444444444444,\"#bd3786\"],[0.5555555555555556,\"#d8576b\"],[0.6666666666666666,\"#ed7953\"],[0.7777777777777778,\"#fb9f3a\"],[0.8888888888888888,\"#fdca26\"],[1.0,\"#f0f921\"]],\"sequentialminus\":[[0.0,\"#0d0887\"],[0.1111111111111111,\"#46039f\"],[0.2222222222222222,\"#7201a8\"],[0.3333333333333333,\"#9c179e\"],[0.4444444444444444,\"#bd3786\"],[0.5555555555555556,\"#d8576b\"],[0.6666666666666666,\"#ed7953\"],[0.7777777777777778,\"#fb9f3a\"],[0.8888888888888888,\"#fdca26\"],[1.0,\"#f0f921\"]],\"diverging\":[[0,\"#8e0152\"],[0.1,\"#c51b7d\"],[0.2,\"#de77ae\"],[0.3,\"#f1b6da\"],[0.4,\"#fde0ef\"],[0.5,\"#f7f7f7\"],[0.6,\"#e6f5d0\"],[0.7,\"#b8e186\"],[0.8,\"#7fbc41\"],[0.9,\"#4d9221\"],[1,\"#276419\"]]},\"xaxis\":{\"gridcolor\":\"white\",\"linecolor\":\"white\",\"ticks\":\"\",\"title\":{\"standoff\":15},\"zerolinecolor\":\"white\",\"automargin\":true,\"zerolinewidth\":2},\"yaxis\":{\"gridcolor\":\"white\",\"linecolor\":\"white\",\"ticks\":\"\",\"title\":{\"standoff\":15},\"zerolinecolor\":\"white\",\"automargin\":true,\"zerolinewidth\":2},\"scene\":{\"xaxis\":{\"backgroundcolor\":\"#E5ECF6\",\"gridcolor\":\"white\",\"linecolor\":\"white\",\"showbackground\":true,\"ticks\":\"\",\"zerolinecolor\":\"white\",\"gridwidth\":2},\"yaxis\":{\"backgroundcolor\":\"#E5ECF6\",\"gridcolor\":\"white\",\"linecolor\":\"white\",\"showbackground\":true,\"ticks\":\"\",\"zerolinecolor\":\"white\",\"gridwidth\":2},\"zaxis\":{\"backgroundcolor\":\"#E5ECF6\",\"gridcolor\":\"white\",\"linecolor\":\"white\",\"showbackground\":true,\"ticks\":\"\",\"zerolinecolor\":\"white\",\"gridwidth\":2}},\"shapedefaults\":{\"line\":{\"color\":\"#2a3f5f\"}},\"annotationdefaults\":{\"arrowcolor\":\"#2a3f5f\",\"arrowhead\":0,\"arrowwidth\":1},\"geo\":{\"bgcolor\":\"white\",\"landcolor\":\"#E5ECF6\",\"subunitcolor\":\"white\",\"showland\":true,\"showlakes\":true,\"lakecolor\":\"white\"},\"title\":{\"x\":0.05},\"mapbox\":{\"style\":\"light\"}}},\"xaxis\":{\"anchor\":\"y\",\"domain\":[0.0,0.45]},\"yaxis\":{\"anchor\":\"x\",\"domain\":[0.0,1.0]},\"xaxis2\":{\"anchor\":\"y2\",\"domain\":[0.55,1.0]},\"yaxis2\":{\"anchor\":\"x2\",\"domain\":[0.0,1.0]},\"title\":{\"font\":{\"color\":\"blue\",\"size\":20},\"text\":\"Top countries comparison\",\"x\":0.5},\"height\":600,\"width\":1200},                        {\"responsive\": true}                    ).then(function(){\n",
              "                            \n",
              "var gd = document.getElementById('ac2d390c-7c46-4e36-9b15-e7677df321a9');\n",
              "var x = new MutationObserver(function (mutations, observer) {{\n",
              "        var display = window.getComputedStyle(gd).display;\n",
              "        if (!display || display === 'none') {{\n",
              "            console.log([gd, 'removed!']);\n",
              "            Plotly.purge(gd);\n",
              "            observer.disconnect();\n",
              "        }}\n",
              "}});\n",
              "\n",
              "// Listen for the removal of the full notebook cells\n",
              "var notebookContainer = gd.closest('#notebook-container');\n",
              "if (notebookContainer) {{\n",
              "    x.observe(notebookContainer, {childList: true});\n",
              "}}\n",
              "\n",
              "// Listen for the clearing of the current output cell\n",
              "var outputEl = gd.closest('.output');\n",
              "if (outputEl) {{\n",
              "    x.observe(outputEl, {childList: true});\n",
              "}}\n",
              "\n",
              "                        })                };                            </script>        </div>\n",
              "</body>\n",
              "</html>"
            ]
          },
          "metadata": {}
        }
      ]
    },
    {
      "cell_type": "markdown",
      "source": [
        "### 2.2 Top 15 countries:"
      ],
      "metadata": {
        "id": "9-rPOzr8XRQT"
      }
    },
    {
      "cell_type": "markdown",
      "source": [
        "> The city of San Francisco is the only one that can be highlighted. The rest can be very proportional."
      ],
      "metadata": {
        "id": "dQ6XWFcV2vCe"
      }
    },
    {
      "cell_type": "code",
      "source": [
        "# @title\n",
        "fig = make_subplots(rows = 1,\n",
        "                    cols = 2)\n",
        "\n",
        "graph_0 = go.Bar(x = top_cities.city,\n",
        "                 y = top_cities.quantity,\n",
        "                 name = 'Older billionaires')\n",
        "graph_1 = go.Bar(x = top_young_cities.city,\n",
        "                 y = top_young_cities.quantity,\n",
        "                 name = 'Younger billionaires')\n",
        "\n",
        "\n",
        "\n",
        "fig.add_trace(graph_0,\n",
        "              row = 1,\n",
        "              col = 1)\n",
        "fig.add_trace(graph_1,\n",
        "              row = 1,\n",
        "              col = 2)\n",
        "\n",
        "fig.data[0].marker.color = 'green'\n",
        "\n",
        "fig.update_layout(height=600,\n",
        "                  width=1200,\n",
        "                  title = dict(text = 'Top cities comparison',\n",
        "                               x = 0.5,\n",
        "                               font = dict(color = 'blue',\n",
        "                                           size = 20)))\n",
        "\n",
        "fig.show()"
      ],
      "metadata": {
        "id": "i7xPbocLYxTs",
        "colab": {
          "base_uri": "https://localhost:8080/",
          "height": 617
        },
        "outputId": "1657f03c-36aa-4f0a-e646-1d374e121e68",
        "cellView": "form"
      },
      "execution_count": 24,
      "outputs": [
        {
          "output_type": "display_data",
          "data": {
            "text/html": [
              "<html>\n",
              "<head><meta charset=\"utf-8\" /></head>\n",
              "<body>\n",
              "    <div>            <script src=\"https://cdnjs.cloudflare.com/ajax/libs/mathjax/2.7.5/MathJax.js?config=TeX-AMS-MML_SVG\"></script><script type=\"text/javascript\">if (window.MathJax && window.MathJax.Hub && window.MathJax.Hub.Config) {window.MathJax.Hub.Config({SVG: {font: \"STIX-Web\"}});}</script>                <script type=\"text/javascript\">window.PlotlyConfig = {MathJaxConfig: 'local'};</script>\n",
              "        <script charset=\"utf-8\" src=\"https://cdn.plot.ly/plotly-2.35.2.min.js\"></script>                <div id=\"26bf29e8-98af-448e-90b7-7889286de824\" class=\"plotly-graph-div\" style=\"height:600px; width:1200px;\"></div>            <script type=\"text/javascript\">                                    window.PLOTLYENV=window.PLOTLYENV || {};                                    if (document.getElementById(\"26bf29e8-98af-448e-90b7-7889286de824\")) {                    Plotly.newPlot(                        \"26bf29e8-98af-448e-90b7-7889286de824\",                        [{\"name\":\"Older billionaires\",\"x\":[\"New York\",\"Hong Kong\",\"Mumbai\",\"Moscow\",\"London\",\"Shanghai\",\"Beijing\",\"Shenzhen\",\"Singapore\",\"Delhi\",\"Hangzhou\",\"Taipei\",\"Los Angeles\",\"Bangkok\",\"Tokyo\"],\"y\":[85,58,55,52,47,46,43,41,39,37,32,29,25,24,23],\"type\":\"bar\",\"xaxis\":\"x\",\"yaxis\":\"y\",\"marker\":{\"color\":\"green\"}},{\"name\":\"Younger billionaires\",\"x\":[\"Beijing\",\"San Francisco\",\"New York\",\"Shanghai\",\"London\",\"Shenzhen\",\"Los Angeles\",\"Moscow\",\"Melsungen\",\"Hong Kong\",\"Stockholm\",\"Sydney\",\"Seoul\",\"Singapore\",\"Guangzhou\"],\"y\":[23,19,14,14,12,12,9,8,8,8,7,6,6,6,5],\"type\":\"bar\",\"xaxis\":\"x2\",\"yaxis\":\"y2\"}],                        {\"template\":{\"data\":{\"histogram2dcontour\":[{\"type\":\"histogram2dcontour\",\"colorbar\":{\"outlinewidth\":0,\"ticks\":\"\"},\"colorscale\":[[0.0,\"#0d0887\"],[0.1111111111111111,\"#46039f\"],[0.2222222222222222,\"#7201a8\"],[0.3333333333333333,\"#9c179e\"],[0.4444444444444444,\"#bd3786\"],[0.5555555555555556,\"#d8576b\"],[0.6666666666666666,\"#ed7953\"],[0.7777777777777778,\"#fb9f3a\"],[0.8888888888888888,\"#fdca26\"],[1.0,\"#f0f921\"]]}],\"choropleth\":[{\"type\":\"choropleth\",\"colorbar\":{\"outlinewidth\":0,\"ticks\":\"\"}}],\"histogram2d\":[{\"type\":\"histogram2d\",\"colorbar\":{\"outlinewidth\":0,\"ticks\":\"\"},\"colorscale\":[[0.0,\"#0d0887\"],[0.1111111111111111,\"#46039f\"],[0.2222222222222222,\"#7201a8\"],[0.3333333333333333,\"#9c179e\"],[0.4444444444444444,\"#bd3786\"],[0.5555555555555556,\"#d8576b\"],[0.6666666666666666,\"#ed7953\"],[0.7777777777777778,\"#fb9f3a\"],[0.8888888888888888,\"#fdca26\"],[1.0,\"#f0f921\"]]}],\"heatmap\":[{\"type\":\"heatmap\",\"colorbar\":{\"outlinewidth\":0,\"ticks\":\"\"},\"colorscale\":[[0.0,\"#0d0887\"],[0.1111111111111111,\"#46039f\"],[0.2222222222222222,\"#7201a8\"],[0.3333333333333333,\"#9c179e\"],[0.4444444444444444,\"#bd3786\"],[0.5555555555555556,\"#d8576b\"],[0.6666666666666666,\"#ed7953\"],[0.7777777777777778,\"#fb9f3a\"],[0.8888888888888888,\"#fdca26\"],[1.0,\"#f0f921\"]]}],\"heatmapgl\":[{\"type\":\"heatmapgl\",\"colorbar\":{\"outlinewidth\":0,\"ticks\":\"\"},\"colorscale\":[[0.0,\"#0d0887\"],[0.1111111111111111,\"#46039f\"],[0.2222222222222222,\"#7201a8\"],[0.3333333333333333,\"#9c179e\"],[0.4444444444444444,\"#bd3786\"],[0.5555555555555556,\"#d8576b\"],[0.6666666666666666,\"#ed7953\"],[0.7777777777777778,\"#fb9f3a\"],[0.8888888888888888,\"#fdca26\"],[1.0,\"#f0f921\"]]}],\"contourcarpet\":[{\"type\":\"contourcarpet\",\"colorbar\":{\"outlinewidth\":0,\"ticks\":\"\"}}],\"contour\":[{\"type\":\"contour\",\"colorbar\":{\"outlinewidth\":0,\"ticks\":\"\"},\"colorscale\":[[0.0,\"#0d0887\"],[0.1111111111111111,\"#46039f\"],[0.2222222222222222,\"#7201a8\"],[0.3333333333333333,\"#9c179e\"],[0.4444444444444444,\"#bd3786\"],[0.5555555555555556,\"#d8576b\"],[0.6666666666666666,\"#ed7953\"],[0.7777777777777778,\"#fb9f3a\"],[0.8888888888888888,\"#fdca26\"],[1.0,\"#f0f921\"]]}],\"surface\":[{\"type\":\"surface\",\"colorbar\":{\"outlinewidth\":0,\"ticks\":\"\"},\"colorscale\":[[0.0,\"#0d0887\"],[0.1111111111111111,\"#46039f\"],[0.2222222222222222,\"#7201a8\"],[0.3333333333333333,\"#9c179e\"],[0.4444444444444444,\"#bd3786\"],[0.5555555555555556,\"#d8576b\"],[0.6666666666666666,\"#ed7953\"],[0.7777777777777778,\"#fb9f3a\"],[0.8888888888888888,\"#fdca26\"],[1.0,\"#f0f921\"]]}],\"mesh3d\":[{\"type\":\"mesh3d\",\"colorbar\":{\"outlinewidth\":0,\"ticks\":\"\"}}],\"scatter\":[{\"fillpattern\":{\"fillmode\":\"overlay\",\"size\":10,\"solidity\":0.2},\"type\":\"scatter\"}],\"parcoords\":[{\"type\":\"parcoords\",\"line\":{\"colorbar\":{\"outlinewidth\":0,\"ticks\":\"\"}}}],\"scatterpolargl\":[{\"type\":\"scatterpolargl\",\"marker\":{\"colorbar\":{\"outlinewidth\":0,\"ticks\":\"\"}}}],\"bar\":[{\"error_x\":{\"color\":\"#2a3f5f\"},\"error_y\":{\"color\":\"#2a3f5f\"},\"marker\":{\"line\":{\"color\":\"#E5ECF6\",\"width\":0.5},\"pattern\":{\"fillmode\":\"overlay\",\"size\":10,\"solidity\":0.2}},\"type\":\"bar\"}],\"scattergeo\":[{\"type\":\"scattergeo\",\"marker\":{\"colorbar\":{\"outlinewidth\":0,\"ticks\":\"\"}}}],\"scatterpolar\":[{\"type\":\"scatterpolar\",\"marker\":{\"colorbar\":{\"outlinewidth\":0,\"ticks\":\"\"}}}],\"histogram\":[{\"marker\":{\"pattern\":{\"fillmode\":\"overlay\",\"size\":10,\"solidity\":0.2}},\"type\":\"histogram\"}],\"scattergl\":[{\"type\":\"scattergl\",\"marker\":{\"colorbar\":{\"outlinewidth\":0,\"ticks\":\"\"}}}],\"scatter3d\":[{\"type\":\"scatter3d\",\"line\":{\"colorbar\":{\"outlinewidth\":0,\"ticks\":\"\"}},\"marker\":{\"colorbar\":{\"outlinewidth\":0,\"ticks\":\"\"}}}],\"scattermapbox\":[{\"type\":\"scattermapbox\",\"marker\":{\"colorbar\":{\"outlinewidth\":0,\"ticks\":\"\"}}}],\"scatterternary\":[{\"type\":\"scatterternary\",\"marker\":{\"colorbar\":{\"outlinewidth\":0,\"ticks\":\"\"}}}],\"scattercarpet\":[{\"type\":\"scattercarpet\",\"marker\":{\"colorbar\":{\"outlinewidth\":0,\"ticks\":\"\"}}}],\"carpet\":[{\"aaxis\":{\"endlinecolor\":\"#2a3f5f\",\"gridcolor\":\"white\",\"linecolor\":\"white\",\"minorgridcolor\":\"white\",\"startlinecolor\":\"#2a3f5f\"},\"baxis\":{\"endlinecolor\":\"#2a3f5f\",\"gridcolor\":\"white\",\"linecolor\":\"white\",\"minorgridcolor\":\"white\",\"startlinecolor\":\"#2a3f5f\"},\"type\":\"carpet\"}],\"table\":[{\"cells\":{\"fill\":{\"color\":\"#EBF0F8\"},\"line\":{\"color\":\"white\"}},\"header\":{\"fill\":{\"color\":\"#C8D4E3\"},\"line\":{\"color\":\"white\"}},\"type\":\"table\"}],\"barpolar\":[{\"marker\":{\"line\":{\"color\":\"#E5ECF6\",\"width\":0.5},\"pattern\":{\"fillmode\":\"overlay\",\"size\":10,\"solidity\":0.2}},\"type\":\"barpolar\"}],\"pie\":[{\"automargin\":true,\"type\":\"pie\"}]},\"layout\":{\"autotypenumbers\":\"strict\",\"colorway\":[\"#636efa\",\"#EF553B\",\"#00cc96\",\"#ab63fa\",\"#FFA15A\",\"#19d3f3\",\"#FF6692\",\"#B6E880\",\"#FF97FF\",\"#FECB52\"],\"font\":{\"color\":\"#2a3f5f\"},\"hovermode\":\"closest\",\"hoverlabel\":{\"align\":\"left\"},\"paper_bgcolor\":\"white\",\"plot_bgcolor\":\"#E5ECF6\",\"polar\":{\"bgcolor\":\"#E5ECF6\",\"angularaxis\":{\"gridcolor\":\"white\",\"linecolor\":\"white\",\"ticks\":\"\"},\"radialaxis\":{\"gridcolor\":\"white\",\"linecolor\":\"white\",\"ticks\":\"\"}},\"ternary\":{\"bgcolor\":\"#E5ECF6\",\"aaxis\":{\"gridcolor\":\"white\",\"linecolor\":\"white\",\"ticks\":\"\"},\"baxis\":{\"gridcolor\":\"white\",\"linecolor\":\"white\",\"ticks\":\"\"},\"caxis\":{\"gridcolor\":\"white\",\"linecolor\":\"white\",\"ticks\":\"\"}},\"coloraxis\":{\"colorbar\":{\"outlinewidth\":0,\"ticks\":\"\"}},\"colorscale\":{\"sequential\":[[0.0,\"#0d0887\"],[0.1111111111111111,\"#46039f\"],[0.2222222222222222,\"#7201a8\"],[0.3333333333333333,\"#9c179e\"],[0.4444444444444444,\"#bd3786\"],[0.5555555555555556,\"#d8576b\"],[0.6666666666666666,\"#ed7953\"],[0.7777777777777778,\"#fb9f3a\"],[0.8888888888888888,\"#fdca26\"],[1.0,\"#f0f921\"]],\"sequentialminus\":[[0.0,\"#0d0887\"],[0.1111111111111111,\"#46039f\"],[0.2222222222222222,\"#7201a8\"],[0.3333333333333333,\"#9c179e\"],[0.4444444444444444,\"#bd3786\"],[0.5555555555555556,\"#d8576b\"],[0.6666666666666666,\"#ed7953\"],[0.7777777777777778,\"#fb9f3a\"],[0.8888888888888888,\"#fdca26\"],[1.0,\"#f0f921\"]],\"diverging\":[[0,\"#8e0152\"],[0.1,\"#c51b7d\"],[0.2,\"#de77ae\"],[0.3,\"#f1b6da\"],[0.4,\"#fde0ef\"],[0.5,\"#f7f7f7\"],[0.6,\"#e6f5d0\"],[0.7,\"#b8e186\"],[0.8,\"#7fbc41\"],[0.9,\"#4d9221\"],[1,\"#276419\"]]},\"xaxis\":{\"gridcolor\":\"white\",\"linecolor\":\"white\",\"ticks\":\"\",\"title\":{\"standoff\":15},\"zerolinecolor\":\"white\",\"automargin\":true,\"zerolinewidth\":2},\"yaxis\":{\"gridcolor\":\"white\",\"linecolor\":\"white\",\"ticks\":\"\",\"title\":{\"standoff\":15},\"zerolinecolor\":\"white\",\"automargin\":true,\"zerolinewidth\":2},\"scene\":{\"xaxis\":{\"backgroundcolor\":\"#E5ECF6\",\"gridcolor\":\"white\",\"linecolor\":\"white\",\"showbackground\":true,\"ticks\":\"\",\"zerolinecolor\":\"white\",\"gridwidth\":2},\"yaxis\":{\"backgroundcolor\":\"#E5ECF6\",\"gridcolor\":\"white\",\"linecolor\":\"white\",\"showbackground\":true,\"ticks\":\"\",\"zerolinecolor\":\"white\",\"gridwidth\":2},\"zaxis\":{\"backgroundcolor\":\"#E5ECF6\",\"gridcolor\":\"white\",\"linecolor\":\"white\",\"showbackground\":true,\"ticks\":\"\",\"zerolinecolor\":\"white\",\"gridwidth\":2}},\"shapedefaults\":{\"line\":{\"color\":\"#2a3f5f\"}},\"annotationdefaults\":{\"arrowcolor\":\"#2a3f5f\",\"arrowhead\":0,\"arrowwidth\":1},\"geo\":{\"bgcolor\":\"white\",\"landcolor\":\"#E5ECF6\",\"subunitcolor\":\"white\",\"showland\":true,\"showlakes\":true,\"lakecolor\":\"white\"},\"title\":{\"x\":0.05},\"mapbox\":{\"style\":\"light\"}}},\"xaxis\":{\"anchor\":\"y\",\"domain\":[0.0,0.45]},\"yaxis\":{\"anchor\":\"x\",\"domain\":[0.0,1.0]},\"xaxis2\":{\"anchor\":\"y2\",\"domain\":[0.55,1.0]},\"yaxis2\":{\"anchor\":\"x2\",\"domain\":[0.0,1.0]},\"title\":{\"font\":{\"color\":\"blue\",\"size\":20},\"text\":\"Top cities comparison\",\"x\":0.5},\"height\":600,\"width\":1200},                        {\"responsive\": true}                    ).then(function(){\n",
              "                            \n",
              "var gd = document.getElementById('26bf29e8-98af-448e-90b7-7889286de824');\n",
              "var x = new MutationObserver(function (mutations, observer) {{\n",
              "        var display = window.getComputedStyle(gd).display;\n",
              "        if (!display || display === 'none') {{\n",
              "            console.log([gd, 'removed!']);\n",
              "            Plotly.purge(gd);\n",
              "            observer.disconnect();\n",
              "        }}\n",
              "}});\n",
              "\n",
              "// Listen for the removal of the full notebook cells\n",
              "var notebookContainer = gd.closest('#notebook-container');\n",
              "if (notebookContainer) {{\n",
              "    x.observe(notebookContainer, {childList: true});\n",
              "}}\n",
              "\n",
              "// Listen for the clearing of the current output cell\n",
              "var outputEl = gd.closest('.output');\n",
              "if (outputEl) {{\n",
              "    x.observe(outputEl, {childList: true});\n",
              "}}\n",
              "\n",
              "                        })                };                            </script>        </div>\n",
              "</body>\n",
              "</html>"
            ]
          },
          "metadata": {}
        }
      ]
    },
    {
      "cell_type": "markdown",
      "source": [
        "### 2.3 Self-Made vs Non Self-Mades:"
      ],
      "metadata": {
        "id": "x7QnFA3tOuQu"
      }
    },
    {
      "cell_type": "code",
      "source": [
        "# @title\n",
        "fig = make_subplots(rows = 1,\n",
        "                    cols = 2)\n",
        "\n",
        "graph_0 = go.Histogram(x = old_dataset['selfMade'],\n",
        "                       name = 'For older billionaires')\n",
        "graph_1 = go.Histogram(x = young_dataset['selfMade'],\n",
        "                       name = 'For  young billionaires')\n",
        "\n",
        "fig.add_trace(graph_0,\n",
        "              row = 1,\n",
        "              col = 1)\n",
        "fig.add_trace(graph_1,\n",
        "              row = 1,\n",
        "              col = 2)\n",
        "\n",
        "fig.data[0].marker.color = 'green'\n",
        "\n",
        "fig.update_layout(height=600,\n",
        "                  width=1200,\n",
        "                  title = dict(text = 'Self-Made Graph',\n",
        "                               x = 0.5,\n",
        "                               font = dict(color = 'blue',\n",
        "                                           size = 20)))\n",
        "\n",
        "fig.show()"
      ],
      "metadata": {
        "colab": {
          "base_uri": "https://localhost:8080/",
          "height": 617
        },
        "id": "rE9wkTb_PWV2",
        "outputId": "0a6cfe8f-d908-479c-9301-e8b72cfa5f0c"
      },
      "execution_count": 25,
      "outputs": [
        {
          "output_type": "display_data",
          "data": {
            "text/html": [
              "<html>\n",
              "<head><meta charset=\"utf-8\" /></head>\n",
              "<body>\n",
              "    <div>            <script src=\"https://cdnjs.cloudflare.com/ajax/libs/mathjax/2.7.5/MathJax.js?config=TeX-AMS-MML_SVG\"></script><script type=\"text/javascript\">if (window.MathJax && window.MathJax.Hub && window.MathJax.Hub.Config) {window.MathJax.Hub.Config({SVG: {font: \"STIX-Web\"}});}</script>                <script type=\"text/javascript\">window.PlotlyConfig = {MathJaxConfig: 'local'};</script>\n",
              "        <script charset=\"utf-8\" src=\"https://cdn.plot.ly/plotly-2.35.2.min.js\"></script>                <div id=\"aedffd2d-366f-45b0-8b1f-25bd22257bba\" class=\"plotly-graph-div\" style=\"height:600px; width:1200px;\"></div>            <script type=\"text/javascript\">                                    window.PLOTLYENV=window.PLOTLYENV || {};                                    if (document.getElementById(\"aedffd2d-366f-45b0-8b1f-25bd22257bba\")) {                    Plotly.newPlot(                        \"aedffd2d-366f-45b0-8b1f-25bd22257bba\",                        [{\"name\":\"For older billionaires\",\"x\":[false,true,true,true,true,true,true,true,false,true,false,true,true,false,false,false,false,false,false,true,true,true,false,true,false,false,false,false,true,true,false,true,true,true,true,false,false,true,true,true,true,true,true,true,false,false,true,false,true,true,true,true,false,false,false,true,true,true,false,false,true,false,true,true,false,false,true,true,true,false,true,true,true,true,true,true,true,true,false,true,true,true,true,true,true,false,true,true,false,true,true,false,false,false,false,true,false,true,true,true,true,false,true,true,true,false,true,true,false,true,true,true,true,false,true,false,false,true,true,true,true,true,false,true,true,true,true,true,true,true,true,true,false,true,true,true,true,true,true,true,false,true,true,false,true,true,false,true,false,false,true,true,true,true,false,true,true,true,false,false,false,true,true,true,true,false,false,false,false,true,true,true,true,false,true,false,true,true,false,false,false,false,false,true,false,true,true,false,true,false,true,true,true,true,false,true,true,false,false,false,true,true,true,false,true,false,true,true,false,true,true,true,true,false,true,false,false,false,false,true,false,true,true,false,true,false,true,false,false,true,false,true,true,true,true,true,true,false,true,true,false,false,true,true,true,true,true,true,true,true,true,false,true,true,true,true,true,true,true,true,true,false,true,false,true,true,true,false,true,true,true,true,true,false,true,false,true,false,true,false,true,false,true,true,true,true,true,true,false,true,true,true,false,true,false,false,true,true,true,false,true,false,false,false,true,true,true,false,false,false,true,true,true,false,false,false,true,true,false,false,true,true,true,true,true,true,false,true,true,false,false,true,true,false,true,true,false,true,true,true,true,true,false,false,false,true,true,true,false,true,false,true,true,true,true,true,true,true,true,true,true,true,false,true,true,false,true,true,false,true,true,true,true,true,true,true,true,false,false,false,true,true,true,true,true,true,true,false,true,true,true,true,true,true,false,true,true,false,true,false,true,true,true,true,false,false,false,false,false,false,false,false,true,false,true,true,false,false,true,true,true,false,false,true,true,false,false,false,true,true,false,true,false,true,true,true,false,true,true,true,false,true,true,true,false,false,false,false,false,true,true,false,true,false,false,true,true,false,true,true,true,true,true,true,true,true,false,true,true,false,true,true,true,false,false,true,true,true,true,true,true,false,true,false,false,false,true,true,false,true,false,true,false,false,false,true,true,true,false,true,true,true,true,true,false,false,true,true,true,true,true,false,false,false,false,true,true,false,false,true,true,false,false,true,true,true,false,false,true,true,true,true,true,true,true,true,false,false,true,false,false,false,false,true,true,true,true,true,false,true,true,true,false,true,false,true,true,true,false,true,false,true,true,false,true,false,true,false,true,true,true,true,true,true,true,true,true,true,true,false,true,true,false,true,true,false,false,false,true,true,true,false,true,true,true,false,false,true,true,true,true,true,true,true,false,false,true,true,true,true,true,false,false,true,true,true,false,false,true,false,true,false,false,false,true,true,true,true,true,true,false,false,true,false,true,true,true,true,true,false,false,true,false,true,true,true,true,true,true,false,false,false,true,true,false,false,false,true,false,false,false,true,false,false,true,false,true,true,false,false,true,true,true,false,true,true,true,true,true,true,false,false,false,true,true,true,false,true,true,true,true,true,false,true,true,true,true,true,false,true,true,true,true,false,true,true,true,true,true,false,false,true,true,false,true,false,false,true,true,false,true,false,true,true,true,true,true,false,false,true,true,false,true,true,true,true,false,true,true,true,false,false,false,true,true,true,true,true,true,true,false,true,true,true,true,true,true,true,false,true,true,true,false,false,true,true,true,true,false,true,false,false,true,true,false,true,false,false,true,true,true,true,false,false,false,true,true,true,true,true,true,true,false,true,false,true,false,true,false,true,true,true,true,true,true,false,true,true,true,true,false,true,true,false,true,true,false,true,true,true,true,true,true,true,true,true,true,true,true,true,true,true,false,true,true,false,false,true,false,true,true,true,true,true,false,false,true,false,false,true,false,true,true,true,true,true,true,true,true,true,true,true,true,true,true,true,false,false,true,true,true,true,true,true,true,false,true,false,false,true,false,true,true,true,false,false,true,true,false,true,false,true,true,true,true,false,false,true,true,true,true,false,false,true,false,true,true,true,true,false,true,false,true,false,true,false,false,true,true,true,true,true,false,true,true,true,false,true,true,true,true,true,true,true,true,false,true,false,false,true,true,true,true,true,true,true,false,true,true,false,true,true,false,true,true,false,false,true,true,false,true,true,true,false,false,false,true,false,false,false,false,true,true,false,true,true,false,false,false,true,false,false,true,false,false,true,true,true,true,false,false,true,false,false,false,true,false,false,true,true,true,true,false,false,true,false,true,true,false,false,true,true,false,true,true,false,true,false,true,true,true,true,true,false,false,true,true,true,false,false,true,true,true,false,true,true,true,true,true,true,true,true,true,true,true,false,true,false,true,true,false,true,false,false,false,false,true,true,true,true,false,true,true,true,true,true,false,true,true,true,false,true,false,true,false,true,false,true,false,true,false,false,false,false,true,true,true,false,false,false,false,true,false,false,true,true,true,true,false,false,true,true,true,true,true,true,true,false,true,true,false,false,true,true,true,true,false,true,false,true,false,true,false,true,true,true,false,true,true,true,false,true,true,true,true,true,true,false,false,true,true,false,true,true,true,true,true,true,true,true,true,false,false,true,true,true,false,true,true,false,true,true,false,false,true,true,false,true,true,true,true,true,true,true,false,true,true,true,true,true,true,true,true,false,false,true,true,true,true,false,false,true,true,true,true,true,true,false,false,false,false,false,false,true,true,false,true,false,true,true,true,true,true,true,false,true,true,true,true,true,true,false,false,true,true,true,true,true,true,true,true,false,true,true,true,false,true,true,true,true,true,false,true,true,true,true,true,false,true,true,true,true,true,true,true,true,false,true,true,false,false,true,true,true,false,true,true,false,true,true,true,true,true,false,true,true,true,false,true,false,true,true,false,true,true,true,true,true,true,true,true,true,false,true,true,false,false,false,true,false,false,false,true,false,true,true,true,false,true,true,false,false,true,false,true,true,true,true,true,true,true,true,true,false,true,true,true,true,false,true,true,true,true,true,true,true,true,true,true,false,false,true,true,true,true,true,false,true,false,true,false,false,true,true,true,true,true,false,true,true,true,false,true,false,true,true,false,true,false,true,false,true,true,true,true,false,true,true,true,true,true,true,true,true,true,false,true,true,true,true,false,false,false,true,true,true,false,false,false,false,true,true,false,false,true,false,true,false,true,true,true,false,true,true,true,true,false,true,true,false,true,true,true,true,false,false,false,true,true,true,true,true,true,true,true,false,false,false,false,true,true,false,true,true,false,false,true,true,true,false,false,true,true,true,true,true,false,true,false,true,true,true,false,true,true,false,true,false,false,false,true,true,true,true,true,true,true,false,false,false,true,true,true,true,false,true,true,true,false,true,false,true,true,true,true,true,false,true,true,true,true,true,true,false,true,true,false,false,true,false,true,false,true,false,true,true,false,true,true,false,true,true,true,false,true,true,false,true,true,true,true,true,false,false,true,false,true,true,true,true,true,false,true,true,true,true,true,true,true,true,true,false,true,true,true,true,false,false,true,true,true,true,true,true,true,false,true,true,true,true,true,false,true,true,true,true,true,true,true,false,true,true,true,true,false,true,true,false,true,true,true,true,true,true,true,true,false,true,true,true,true,false,true,false,false,true,false,true,true,true,true,true,false,true,true,true,true,false,true,true,true,false,true,true,true,false,false,true,false,false,true,false,false,true,true,true,true,false,false,false,true,true,true,true,true,true,true,false,false,false,true,true,true,true,true,true,true,true,true,true,true,true,false,false,true,true,false,true,false,false,true,false,true,true,false,true,true,false,true,true,true,true,true,false,true,true,true,true,true,true,true,true,true,true,true,true,true,true,true,true,true,false,false,false,false,true,true,true,true,true,true,true,true,true,true,true,false,true,true,false,false,true,true,false,false,true,true,true,true,true,true,true,true,true,true,true,true,true,true,true,true,false,true,true,true,true,true,true,true,true,true,true,false,true,true,true,true,true,false,true,true,true,true,true,true,true,true,true,false,true,true,true,true,false,false,true,true,true,true,true,true,false,false,false,false,false,false,false,false,false,true,false,true,false,true,true,true,true,false,true,false,true,true,false,true,true,false,true,true,false,true,true,true,true,true,true,true,true,false,true,true,true,true,false,false,false,true,true,true,false,true,true,true,true,true,true,true,false,true,true,true,true,true,true,true,true,true,true,true,false,true,true,true,true,true,true,false,false,false,true,true,true,true,true,true,true,true,true,true,true,false,false,true,true,true,true,true,true,true,true,true,false,true,true,true,true,true,true,true,true,true,true,true,true,true,false,true,true,true,true,true,true,false,true,false,true,true,true,true,true,true,true,true,true,true,true,true,true,true,false,false,true,false,false,true,true,true,true,true,false,false,false,true,true,true,true,true,true,true,true,true,true,true,true,true,true,true,true,true,false,true,false,true,false,false,false,true,true,true,true,true,false,true,false,true,true,false,true,false,true,false,false,true,false,true,true,true,true,true,true,true,true,true,true,true,false,true,true,true,true,false,true,true,true,true,true,true,true,false,false,false,false,false,true,false,true,true,true,true,false,false,false,true,true,true,false,true,true,true,true,true,false,true,false,true,true,true,false,true,false,false,true,true,true,true,true,true,true,false,true,true,true,true,true,true,true,true,true,false,false,false,true,true,true,true,true,true,true,true,true,true,true,true,true,true,true,false,true,true,true,true,true,true,false,true,false,true,false,true,true,true,true,true,true,true,true,true,true,false,false,true,true,false,true,true,true,false,true,false,true,true,true,true,false,false,true,false,false,false,true,false,true,true,true,false,true,true,false,true,true,false,false,false,false,true,true,false,false,false,true,false,true,true,false,true,true,false,false,true,true,true,true,true,true,true,true,false,true,true,true,false,true,true,true,true,true,true,true,true,true,true,true,true,true,true,true,true,false,false,true,false,true,false,true,true,true,true,true,true,true,true,true,true,true,true,false,false,true,true,true,false,false,true,true,false,false,true,true,true,false,true,true,true,true,true,true,true,true,false,true,true,true,true,true,true,true,true,false,true,true,false,true,false,true,true,true,true,true,true,true,false,false,true,true,true,true,true,true,true,true,true,true,true,true,true,true,true,false,true,true,false],\"type\":\"histogram\",\"xaxis\":\"x\",\"yaxis\":\"y\",\"marker\":{\"color\":\"green\"}},{\"name\":\"For  young billionaires\",\"x\":[true,true,true,true,false,true,false,true,true,true,true,true,true,true,true,true,true,true,true,true,true,true,true,true,false,true,true,false,true,false,true,true,true,false,false,false,false,false,false,true,false,true,true,false,true,true,true,true,true,true,false,true,true,true,true,true,false,true,true,true,true,true,false,true,true,true,false,false,true,true,true,false,true,true,true,false,false,false,false,true,true,true,true,true,false,true,true,true,true,true,true,true,false,false,true,true,true,true,true,false,true,true,true,false,false,true,false,false,false,false,true,false,true,false,true,true,true,true,true,false,true,true,true,true,false,true,true,false,true,false,true,true,true,true,true,false,false,true,true,true,true,true,true,false,true,true,true,true,true,true,true,true,true,false,true,true,true,true,false,false,false,false,true,true,true,false,false,true,false,true,true,false,true,false,true,true,true,true,true,true,true,false,true,false,false,false,false,true,true,true,true,true,true,false,true,true,true,false,false,true,false,true,true,true,true,true,true,false,false,false,false,false,true,true,true,false,false,false,true,true,true,true,true,true,true,true,true,false,true,true,false,true,false,false,true,true,true,true,false,false,false,true,true,true,true,true,true,false,false,true,true,true,true,true,false,true,false,true,true,true,true,true,false,false,false,true,false,false,true,false,true,true,true,true,true,true,true,false,false,true,true,true,true,true,true,false,true,false,true,true,true,false,true,true,true,true,true,true,true,false,true,true,false,true,true,false,true,true,true,true,false,false,false,false,true,true,true,true,true,true,true,true,true,false],\"type\":\"histogram\",\"xaxis\":\"x2\",\"yaxis\":\"y2\"}],                        {\"template\":{\"data\":{\"histogram2dcontour\":[{\"type\":\"histogram2dcontour\",\"colorbar\":{\"outlinewidth\":0,\"ticks\":\"\"},\"colorscale\":[[0.0,\"#0d0887\"],[0.1111111111111111,\"#46039f\"],[0.2222222222222222,\"#7201a8\"],[0.3333333333333333,\"#9c179e\"],[0.4444444444444444,\"#bd3786\"],[0.5555555555555556,\"#d8576b\"],[0.6666666666666666,\"#ed7953\"],[0.7777777777777778,\"#fb9f3a\"],[0.8888888888888888,\"#fdca26\"],[1.0,\"#f0f921\"]]}],\"choropleth\":[{\"type\":\"choropleth\",\"colorbar\":{\"outlinewidth\":0,\"ticks\":\"\"}}],\"histogram2d\":[{\"type\":\"histogram2d\",\"colorbar\":{\"outlinewidth\":0,\"ticks\":\"\"},\"colorscale\":[[0.0,\"#0d0887\"],[0.1111111111111111,\"#46039f\"],[0.2222222222222222,\"#7201a8\"],[0.3333333333333333,\"#9c179e\"],[0.4444444444444444,\"#bd3786\"],[0.5555555555555556,\"#d8576b\"],[0.6666666666666666,\"#ed7953\"],[0.7777777777777778,\"#fb9f3a\"],[0.8888888888888888,\"#fdca26\"],[1.0,\"#f0f921\"]]}],\"heatmap\":[{\"type\":\"heatmap\",\"colorbar\":{\"outlinewidth\":0,\"ticks\":\"\"},\"colorscale\":[[0.0,\"#0d0887\"],[0.1111111111111111,\"#46039f\"],[0.2222222222222222,\"#7201a8\"],[0.3333333333333333,\"#9c179e\"],[0.4444444444444444,\"#bd3786\"],[0.5555555555555556,\"#d8576b\"],[0.6666666666666666,\"#ed7953\"],[0.7777777777777778,\"#fb9f3a\"],[0.8888888888888888,\"#fdca26\"],[1.0,\"#f0f921\"]]}],\"heatmapgl\":[{\"type\":\"heatmapgl\",\"colorbar\":{\"outlinewidth\":0,\"ticks\":\"\"},\"colorscale\":[[0.0,\"#0d0887\"],[0.1111111111111111,\"#46039f\"],[0.2222222222222222,\"#7201a8\"],[0.3333333333333333,\"#9c179e\"],[0.4444444444444444,\"#bd3786\"],[0.5555555555555556,\"#d8576b\"],[0.6666666666666666,\"#ed7953\"],[0.7777777777777778,\"#fb9f3a\"],[0.8888888888888888,\"#fdca26\"],[1.0,\"#f0f921\"]]}],\"contourcarpet\":[{\"type\":\"contourcarpet\",\"colorbar\":{\"outlinewidth\":0,\"ticks\":\"\"}}],\"contour\":[{\"type\":\"contour\",\"colorbar\":{\"outlinewidth\":0,\"ticks\":\"\"},\"colorscale\":[[0.0,\"#0d0887\"],[0.1111111111111111,\"#46039f\"],[0.2222222222222222,\"#7201a8\"],[0.3333333333333333,\"#9c179e\"],[0.4444444444444444,\"#bd3786\"],[0.5555555555555556,\"#d8576b\"],[0.6666666666666666,\"#ed7953\"],[0.7777777777777778,\"#fb9f3a\"],[0.8888888888888888,\"#fdca26\"],[1.0,\"#f0f921\"]]}],\"surface\":[{\"type\":\"surface\",\"colorbar\":{\"outlinewidth\":0,\"ticks\":\"\"},\"colorscale\":[[0.0,\"#0d0887\"],[0.1111111111111111,\"#46039f\"],[0.2222222222222222,\"#7201a8\"],[0.3333333333333333,\"#9c179e\"],[0.4444444444444444,\"#bd3786\"],[0.5555555555555556,\"#d8576b\"],[0.6666666666666666,\"#ed7953\"],[0.7777777777777778,\"#fb9f3a\"],[0.8888888888888888,\"#fdca26\"],[1.0,\"#f0f921\"]]}],\"mesh3d\":[{\"type\":\"mesh3d\",\"colorbar\":{\"outlinewidth\":0,\"ticks\":\"\"}}],\"scatter\":[{\"fillpattern\":{\"fillmode\":\"overlay\",\"size\":10,\"solidity\":0.2},\"type\":\"scatter\"}],\"parcoords\":[{\"type\":\"parcoords\",\"line\":{\"colorbar\":{\"outlinewidth\":0,\"ticks\":\"\"}}}],\"scatterpolargl\":[{\"type\":\"scatterpolargl\",\"marker\":{\"colorbar\":{\"outlinewidth\":0,\"ticks\":\"\"}}}],\"bar\":[{\"error_x\":{\"color\":\"#2a3f5f\"},\"error_y\":{\"color\":\"#2a3f5f\"},\"marker\":{\"line\":{\"color\":\"#E5ECF6\",\"width\":0.5},\"pattern\":{\"fillmode\":\"overlay\",\"size\":10,\"solidity\":0.2}},\"type\":\"bar\"}],\"scattergeo\":[{\"type\":\"scattergeo\",\"marker\":{\"colorbar\":{\"outlinewidth\":0,\"ticks\":\"\"}}}],\"scatterpolar\":[{\"type\":\"scatterpolar\",\"marker\":{\"colorbar\":{\"outlinewidth\":0,\"ticks\":\"\"}}}],\"histogram\":[{\"marker\":{\"pattern\":{\"fillmode\":\"overlay\",\"size\":10,\"solidity\":0.2}},\"type\":\"histogram\"}],\"scattergl\":[{\"type\":\"scattergl\",\"marker\":{\"colorbar\":{\"outlinewidth\":0,\"ticks\":\"\"}}}],\"scatter3d\":[{\"type\":\"scatter3d\",\"line\":{\"colorbar\":{\"outlinewidth\":0,\"ticks\":\"\"}},\"marker\":{\"colorbar\":{\"outlinewidth\":0,\"ticks\":\"\"}}}],\"scattermapbox\":[{\"type\":\"scattermapbox\",\"marker\":{\"colorbar\":{\"outlinewidth\":0,\"ticks\":\"\"}}}],\"scatterternary\":[{\"type\":\"scatterternary\",\"marker\":{\"colorbar\":{\"outlinewidth\":0,\"ticks\":\"\"}}}],\"scattercarpet\":[{\"type\":\"scattercarpet\",\"marker\":{\"colorbar\":{\"outlinewidth\":0,\"ticks\":\"\"}}}],\"carpet\":[{\"aaxis\":{\"endlinecolor\":\"#2a3f5f\",\"gridcolor\":\"white\",\"linecolor\":\"white\",\"minorgridcolor\":\"white\",\"startlinecolor\":\"#2a3f5f\"},\"baxis\":{\"endlinecolor\":\"#2a3f5f\",\"gridcolor\":\"white\",\"linecolor\":\"white\",\"minorgridcolor\":\"white\",\"startlinecolor\":\"#2a3f5f\"},\"type\":\"carpet\"}],\"table\":[{\"cells\":{\"fill\":{\"color\":\"#EBF0F8\"},\"line\":{\"color\":\"white\"}},\"header\":{\"fill\":{\"color\":\"#C8D4E3\"},\"line\":{\"color\":\"white\"}},\"type\":\"table\"}],\"barpolar\":[{\"marker\":{\"line\":{\"color\":\"#E5ECF6\",\"width\":0.5},\"pattern\":{\"fillmode\":\"overlay\",\"size\":10,\"solidity\":0.2}},\"type\":\"barpolar\"}],\"pie\":[{\"automargin\":true,\"type\":\"pie\"}]},\"layout\":{\"autotypenumbers\":\"strict\",\"colorway\":[\"#636efa\",\"#EF553B\",\"#00cc96\",\"#ab63fa\",\"#FFA15A\",\"#19d3f3\",\"#FF6692\",\"#B6E880\",\"#FF97FF\",\"#FECB52\"],\"font\":{\"color\":\"#2a3f5f\"},\"hovermode\":\"closest\",\"hoverlabel\":{\"align\":\"left\"},\"paper_bgcolor\":\"white\",\"plot_bgcolor\":\"#E5ECF6\",\"polar\":{\"bgcolor\":\"#E5ECF6\",\"angularaxis\":{\"gridcolor\":\"white\",\"linecolor\":\"white\",\"ticks\":\"\"},\"radialaxis\":{\"gridcolor\":\"white\",\"linecolor\":\"white\",\"ticks\":\"\"}},\"ternary\":{\"bgcolor\":\"#E5ECF6\",\"aaxis\":{\"gridcolor\":\"white\",\"linecolor\":\"white\",\"ticks\":\"\"},\"baxis\":{\"gridcolor\":\"white\",\"linecolor\":\"white\",\"ticks\":\"\"},\"caxis\":{\"gridcolor\":\"white\",\"linecolor\":\"white\",\"ticks\":\"\"}},\"coloraxis\":{\"colorbar\":{\"outlinewidth\":0,\"ticks\":\"\"}},\"colorscale\":{\"sequential\":[[0.0,\"#0d0887\"],[0.1111111111111111,\"#46039f\"],[0.2222222222222222,\"#7201a8\"],[0.3333333333333333,\"#9c179e\"],[0.4444444444444444,\"#bd3786\"],[0.5555555555555556,\"#d8576b\"],[0.6666666666666666,\"#ed7953\"],[0.7777777777777778,\"#fb9f3a\"],[0.8888888888888888,\"#fdca26\"],[1.0,\"#f0f921\"]],\"sequentialminus\":[[0.0,\"#0d0887\"],[0.1111111111111111,\"#46039f\"],[0.2222222222222222,\"#7201a8\"],[0.3333333333333333,\"#9c179e\"],[0.4444444444444444,\"#bd3786\"],[0.5555555555555556,\"#d8576b\"],[0.6666666666666666,\"#ed7953\"],[0.7777777777777778,\"#fb9f3a\"],[0.8888888888888888,\"#fdca26\"],[1.0,\"#f0f921\"]],\"diverging\":[[0,\"#8e0152\"],[0.1,\"#c51b7d\"],[0.2,\"#de77ae\"],[0.3,\"#f1b6da\"],[0.4,\"#fde0ef\"],[0.5,\"#f7f7f7\"],[0.6,\"#e6f5d0\"],[0.7,\"#b8e186\"],[0.8,\"#7fbc41\"],[0.9,\"#4d9221\"],[1,\"#276419\"]]},\"xaxis\":{\"gridcolor\":\"white\",\"linecolor\":\"white\",\"ticks\":\"\",\"title\":{\"standoff\":15},\"zerolinecolor\":\"white\",\"automargin\":true,\"zerolinewidth\":2},\"yaxis\":{\"gridcolor\":\"white\",\"linecolor\":\"white\",\"ticks\":\"\",\"title\":{\"standoff\":15},\"zerolinecolor\":\"white\",\"automargin\":true,\"zerolinewidth\":2},\"scene\":{\"xaxis\":{\"backgroundcolor\":\"#E5ECF6\",\"gridcolor\":\"white\",\"linecolor\":\"white\",\"showbackground\":true,\"ticks\":\"\",\"zerolinecolor\":\"white\",\"gridwidth\":2},\"yaxis\":{\"backgroundcolor\":\"#E5ECF6\",\"gridcolor\":\"white\",\"linecolor\":\"white\",\"showbackground\":true,\"ticks\":\"\",\"zerolinecolor\":\"white\",\"gridwidth\":2},\"zaxis\":{\"backgroundcolor\":\"#E5ECF6\",\"gridcolor\":\"white\",\"linecolor\":\"white\",\"showbackground\":true,\"ticks\":\"\",\"zerolinecolor\":\"white\",\"gridwidth\":2}},\"shapedefaults\":{\"line\":{\"color\":\"#2a3f5f\"}},\"annotationdefaults\":{\"arrowcolor\":\"#2a3f5f\",\"arrowhead\":0,\"arrowwidth\":1},\"geo\":{\"bgcolor\":\"white\",\"landcolor\":\"#E5ECF6\",\"subunitcolor\":\"white\",\"showland\":true,\"showlakes\":true,\"lakecolor\":\"white\"},\"title\":{\"x\":0.05},\"mapbox\":{\"style\":\"light\"}}},\"xaxis\":{\"anchor\":\"y\",\"domain\":[0.0,0.45]},\"yaxis\":{\"anchor\":\"x\",\"domain\":[0.0,1.0]},\"xaxis2\":{\"anchor\":\"y2\",\"domain\":[0.55,1.0]},\"yaxis2\":{\"anchor\":\"x2\",\"domain\":[0.0,1.0]},\"title\":{\"font\":{\"color\":\"blue\",\"size\":20},\"text\":\"Self-Made Graph\",\"x\":0.5},\"height\":600,\"width\":1200},                        {\"responsive\": true}                    ).then(function(){\n",
              "                            \n",
              "var gd = document.getElementById('aedffd2d-366f-45b0-8b1f-25bd22257bba');\n",
              "var x = new MutationObserver(function (mutations, observer) {{\n",
              "        var display = window.getComputedStyle(gd).display;\n",
              "        if (!display || display === 'none') {{\n",
              "            console.log([gd, 'removed!']);\n",
              "            Plotly.purge(gd);\n",
              "            observer.disconnect();\n",
              "        }}\n",
              "}});\n",
              "\n",
              "// Listen for the removal of the full notebook cells\n",
              "var notebookContainer = gd.closest('#notebook-container');\n",
              "if (notebookContainer) {{\n",
              "    x.observe(notebookContainer, {childList: true});\n",
              "}}\n",
              "\n",
              "// Listen for the clearing of the current output cell\n",
              "var outputEl = gd.closest('.output');\n",
              "if (outputEl) {{\n",
              "    x.observe(outputEl, {childList: true});\n",
              "}}\n",
              "\n",
              "                        })                };                            </script>        </div>\n",
              "</body>\n",
              "</html>"
            ]
          },
          "metadata": {}
        }
      ]
    },
    {
      "cell_type": "markdown",
      "source": [
        "### 2.4 Gender:"
      ],
      "metadata": {
        "id": "351l3ThNO420"
      }
    },
    {
      "cell_type": "code",
      "source": [
        "# @title\n",
        "fig = make_subplots(rows = 1,\n",
        "                    cols = 2)\n",
        "\n",
        "graph_0 = go.Histogram(x = old_dataset.gender,\n",
        "                       name = 'Gender (M/F) of old billionaires')\n",
        "graph_1 = go.Histogram(x = young_dataset.gender,\n",
        "                       name = 'Gender (M/F) of billionaires below 50 years old')\n",
        "\n",
        "fig.add_trace(graph_0,\n",
        "              row = 1,\n",
        "              col = 1)\n",
        "\n",
        "fig.add_trace(graph_1,\n",
        "              row = 1,\n",
        "              col = 2)\n",
        "\n",
        "fig.data[0].marker.color = 'green'\n",
        "\n",
        "fig.update_layout(height=600,\n",
        "                  width=1200,\n",
        "                  title = dict(text = 'Sex (M/F) comparison',\n",
        "                               x = 0.5,\n",
        "                               font = dict(color = 'blue',\n",
        "                                           size = 20)))\n",
        "\n",
        "fig.show()"
      ],
      "metadata": {
        "id": "lW04sHZTOsHe",
        "colab": {
          "base_uri": "https://localhost:8080/",
          "height": 617
        },
        "outputId": "4ead4cb5-c022-4df7-e65f-53a83489a392"
      },
      "execution_count": 26,
      "outputs": [
        {
          "output_type": "display_data",
          "data": {
            "text/html": [
              "<html>\n",
              "<head><meta charset=\"utf-8\" /></head>\n",
              "<body>\n",
              "    <div>            <script src=\"https://cdnjs.cloudflare.com/ajax/libs/mathjax/2.7.5/MathJax.js?config=TeX-AMS-MML_SVG\"></script><script type=\"text/javascript\">if (window.MathJax && window.MathJax.Hub && window.MathJax.Hub.Config) {window.MathJax.Hub.Config({SVG: {font: \"STIX-Web\"}});}</script>                <script type=\"text/javascript\">window.PlotlyConfig = {MathJaxConfig: 'local'};</script>\n",
              "        <script charset=\"utf-8\" src=\"https://cdn.plot.ly/plotly-2.35.2.min.js\"></script>                <div id=\"abba6a45-82f4-4a43-8220-010514d8098c\" class=\"plotly-graph-div\" style=\"height:600px; width:1200px;\"></div>            <script type=\"text/javascript\">                                    window.PLOTLYENV=window.PLOTLYENV || {};                                    if (document.getElementById(\"abba6a45-82f4-4a43-8220-010514d8098c\")) {                    Plotly.newPlot(                        \"abba6a45-82f4-4a43-8220-010514d8098c\",                        [{\"name\":\"Gender (M\\u002fF) of old billionaires\",\"x\":[\"M\",\"M\",\"M\",\"M\",\"M\",\"M\",\"M\",\"M\",\"M\",\"M\",\"F\",\"M\",\"M\",\"M\",\"F\",\"M\",\"M\",\"F\",\"M\",\"M\",\"M\",\"M\",\"M\",\"M\",\"M\",\"M\",\"F\",\"M\",\"M\",\"M\",\"F\",\"M\",\"M\",\"M\",\"M\",\"M\",\"M\",\"M\",\"F\",\"M\",\"M\",\"M\",\"M\",\"M\",\"F\",\"F\",\"M\",\"M\",\"M\",\"M\",\"M\",\"M\",\"M\",\"F\",\"M\",\"M\",\"M\",\"M\",\"F\",\"M\",\"M\",\"M\",\"M\",\"M\",\"M\",\"F\",\"M\",\"M\",\"M\",\"M\",\"M\",\"M\",\"M\",\"M\",\"M\",\"M\",\"M\",\"M\",\"M\",\"M\",\"M\",\"M\",\"M\",\"M\",\"M\",\"M\",\"M\",\"M\",\"F\",\"M\",\"M\",\"M\",\"F\",\"M\",\"F\",\"M\",\"M\",\"M\",\"M\",\"M\",\"M\",\"M\",\"M\",\"M\",\"M\",\"M\",\"M\",\"M\",\"F\",\"M\",\"M\",\"M\",\"M\",\"M\",\"M\",\"F\",\"M\",\"M\",\"M\",\"M\",\"F\",\"M\",\"M\",\"M\",\"M\",\"M\",\"M\",\"M\",\"M\",\"M\",\"M\",\"M\",\"F\",\"M\",\"M\",\"M\",\"M\",\"M\",\"M\",\"M\",\"M\",\"M\",\"M\",\"M\",\"M\",\"M\",\"M\",\"F\",\"M\",\"M\",\"M\",\"M\",\"M\",\"M\",\"M\",\"M\",\"M\",\"M\",\"M\",\"F\",\"M\",\"F\",\"M\",\"M\",\"M\",\"M\",\"M\",\"M\",\"F\",\"M\",\"M\",\"M\",\"M\",\"M\",\"M\",\"M\",\"M\",\"M\",\"F\",\"F\",\"F\",\"F\",\"M\",\"M\",\"M\",\"M\",\"M\",\"F\",\"M\",\"M\",\"M\",\"M\",\"M\",\"M\",\"M\",\"M\",\"M\",\"M\",\"M\",\"F\",\"M\",\"M\",\"M\",\"F\",\"M\",\"M\",\"M\",\"M\",\"M\",\"M\",\"M\",\"M\",\"M\",\"F\",\"M\",\"M\",\"M\",\"F\",\"F\",\"M\",\"M\",\"M\",\"M\",\"M\",\"M\",\"M\",\"M\",\"M\",\"M\",\"M\",\"F\",\"M\",\"M\",\"M\",\"M\",\"M\",\"M\",\"M\",\"M\",\"M\",\"F\",\"M\",\"M\",\"M\",\"M\",\"M\",\"M\",\"M\",\"M\",\"M\",\"M\",\"M\",\"M\",\"M\",\"M\",\"M\",\"M\",\"M\",\"M\",\"M\",\"M\",\"M\",\"M\",\"M\",\"M\",\"F\",\"M\",\"M\",\"M\",\"M\",\"M\",\"M\",\"M\",\"M\",\"M\",\"M\",\"M\",\"M\",\"M\",\"M\",\"M\",\"M\",\"F\",\"M\",\"M\",\"M\",\"M\",\"M\",\"M\",\"M\",\"F\",\"M\",\"F\",\"M\",\"M\",\"M\",\"M\",\"M\",\"M\",\"M\",\"M\",\"M\",\"F\",\"M\",\"M\",\"M\",\"M\",\"M\",\"F\",\"F\",\"M\",\"M\",\"M\",\"F\",\"F\",\"F\",\"M\",\"F\",\"F\",\"M\",\"M\",\"M\",\"M\",\"M\",\"M\",\"M\",\"F\",\"M\",\"M\",\"M\",\"F\",\"M\",\"M\",\"F\",\"M\",\"M\",\"M\",\"M\",\"M\",\"M\",\"M\",\"M\",\"M\",\"M\",\"F\",\"M\",\"M\",\"M\",\"F\",\"M\",\"F\",\"M\",\"M\",\"M\",\"M\",\"M\",\"M\",\"F\",\"M\",\"M\",\"M\",\"M\",\"M\",\"M\",\"M\",\"M\",\"M\",\"M\",\"F\",\"M\",\"M\",\"M\",\"M\",\"M\",\"M\",\"M\",\"M\",\"M\",\"M\",\"M\",\"M\",\"F\",\"M\",\"M\",\"M\",\"M\",\"M\",\"M\",\"M\",\"M\",\"M\",\"M\",\"M\",\"M\",\"M\",\"M\",\"M\",\"M\",\"M\",\"M\",\"M\",\"M\",\"M\",\"M\",\"M\",\"M\",\"M\",\"M\",\"M\",\"M\",\"M\",\"M\",\"M\",\"M\",\"M\",\"M\",\"F\",\"M\",\"M\",\"M\",\"M\",\"M\",\"M\",\"M\",\"M\",\"M\",\"M\",\"M\",\"M\",\"M\",\"M\",\"M\",\"F\",\"M\",\"M\",\"M\",\"F\",\"M\",\"F\",\"M\",\"M\",\"M\",\"M\",\"M\",\"F\",\"M\",\"M\",\"M\",\"F\",\"M\",\"M\",\"F\",\"M\",\"M\",\"M\",\"F\",\"M\",\"M\",\"M\",\"M\",\"M\",\"M\",\"M\",\"F\",\"M\",\"M\",\"M\",\"M\",\"M\",\"M\",\"M\",\"M\",\"M\",\"F\",\"M\",\"M\",\"M\",\"M\",\"M\",\"M\",\"M\",\"F\",\"M\",\"M\",\"F\",\"M\",\"M\",\"M\",\"M\",\"M\",\"F\",\"M\",\"F\",\"M\",\"M\",\"M\",\"M\",\"M\",\"F\",\"M\",\"M\",\"M\",\"M\",\"M\",\"M\",\"M\",\"M\",\"M\",\"M\",\"M\",\"M\",\"M\",\"M\",\"M\",\"F\",\"M\",\"F\",\"F\",\"M\",\"M\",\"M\",\"F\",\"F\",\"M\",\"M\",\"M\",\"M\",\"F\",\"M\",\"M\",\"M\",\"M\",\"M\",\"M\",\"F\",\"M\",\"M\",\"M\",\"M\",\"M\",\"M\",\"M\",\"M\",\"M\",\"M\",\"M\",\"M\",\"M\",\"M\",\"M\",\"M\",\"M\",\"M\",\"M\",\"M\",\"M\",\"M\",\"M\",\"M\",\"M\",\"F\",\"M\",\"M\",\"M\",\"M\",\"M\",\"M\",\"M\",\"M\",\"M\",\"M\",\"M\",\"M\",\"M\",\"F\",\"F\",\"M\",\"M\",\"M\",\"F\",\"M\",\"M\",\"F\",\"M\",\"M\",\"M\",\"M\",\"M\",\"M\",\"M\",\"M\",\"F\",\"M\",\"F\",\"M\",\"M\",\"M\",\"F\",\"M\",\"M\",\"M\",\"M\",\"M\",\"M\",\"F\",\"M\",\"M\",\"M\",\"M\",\"M\",\"M\",\"F\",\"M\",\"M\",\"M\",\"M\",\"M\",\"M\",\"M\",\"M\",\"M\",\"F\",\"M\",\"M\",\"M\",\"M\",\"M\",\"M\",\"M\",\"M\",\"M\",\"F\",\"M\",\"F\",\"M\",\"M\",\"M\",\"M\",\"F\",\"M\",\"M\",\"M\",\"M\",\"M\",\"M\",\"M\",\"M\",\"M\",\"M\",\"M\",\"M\",\"M\",\"M\",\"M\",\"M\",\"M\",\"M\",\"M\",\"M\",\"M\",\"F\",\"M\",\"M\",\"M\",\"M\",\"M\",\"M\",\"M\",\"M\",\"M\",\"M\",\"M\",\"M\",\"M\",\"M\",\"M\",\"M\",\"M\",\"M\",\"M\",\"F\",\"M\",\"M\",\"M\",\"M\",\"M\",\"M\",\"M\",\"F\",\"M\",\"M\",\"M\",\"M\",\"M\",\"M\",\"M\",\"M\",\"M\",\"M\",\"M\",\"M\",\"M\",\"M\",\"M\",\"M\",\"M\",\"M\",\"M\",\"M\",\"M\",\"M\",\"M\",\"M\",\"F\",\"M\",\"M\",\"F\",\"M\",\"M\",\"M\",\"M\",\"M\",\"M\",\"M\",\"M\",\"M\",\"M\",\"M\",\"M\",\"M\",\"M\",\"M\",\"M\",\"M\",\"F\",\"M\",\"M\",\"M\",\"M\",\"M\",\"M\",\"F\",\"F\",\"M\",\"F\",\"M\",\"M\",\"M\",\"M\",\"M\",\"F\",\"M\",\"M\",\"M\",\"M\",\"M\",\"M\",\"M\",\"M\",\"M\",\"M\",\"M\",\"F\",\"M\",\"M\",\"M\",\"M\",\"M\",\"M\",\"M\",\"M\",\"F\",\"M\",\"M\",\"M\",\"M\",\"M\",\"M\",\"M\",\"M\",\"M\",\"M\",\"F\",\"M\",\"M\",\"M\",\"M\",\"M\",\"M\",\"M\",\"M\",\"M\",\"M\",\"M\",\"M\",\"M\",\"M\",\"M\",\"M\",\"M\",\"M\",\"M\",\"M\",\"M\",\"M\",\"M\",\"M\",\"M\",\"M\",\"M\",\"M\",\"M\",\"M\",\"F\",\"F\",\"M\",\"M\",\"M\",\"M\",\"M\",\"M\",\"M\",\"M\",\"M\",\"M\",\"M\",\"M\",\"M\",\"M\",\"M\",\"M\",\"M\",\"F\",\"M\",\"M\",\"M\",\"M\",\"M\",\"M\",\"M\",\"M\",\"M\",\"M\",\"M\",\"F\",\"F\",\"M\",\"M\",\"F\",\"M\",\"M\",\"M\",\"M\",\"M\",\"M\",\"M\",\"M\",\"M\",\"M\",\"M\",\"M\",\"M\",\"M\",\"M\",\"M\",\"M\",\"M\",\"F\",\"M\",\"M\",\"M\",\"M\",\"M\",\"M\",\"M\",\"F\",\"M\",\"F\",\"M\",\"M\",\"F\",\"F\",\"M\",\"F\",\"F\",\"M\",\"M\",\"M\",\"F\",\"M\",\"M\",\"M\",\"M\",\"M\",\"M\",\"F\",\"M\",\"M\",\"M\",\"M\",\"M\",\"M\",\"F\",\"M\",\"M\",\"M\",\"M\",\"M\",\"M\",\"M\",\"M\",\"F\",\"M\",\"M\",\"M\",\"M\",\"M\",\"M\",\"M\",\"M\",\"M\",\"M\",\"M\",\"M\",\"M\",\"M\",\"M\",\"M\",\"M\",\"M\",\"M\",\"M\",\"M\",\"M\",\"M\",\"M\",\"M\",\"M\",\"F\",\"M\",\"M\",\"M\",\"M\",\"M\",\"M\",\"M\",\"M\",\"M\",\"M\",\"M\",\"M\",\"M\",\"M\",\"M\",\"M\",\"F\",\"M\",\"M\",\"M\",\"M\",\"M\",\"M\",\"M\",\"M\",\"F\",\"F\",\"M\",\"M\",\"M\",\"M\",\"M\",\"M\",\"M\",\"M\",\"M\",\"M\",\"M\",\"M\",\"M\",\"M\",\"M\",\"M\",\"M\",\"M\",\"M\",\"F\",\"M\",\"M\",\"M\",\"M\",\"M\",\"M\",\"M\",\"M\",\"M\",\"M\",\"F\",\"M\",\"M\",\"M\",\"M\",\"M\",\"M\",\"M\",\"M\",\"M\",\"M\",\"M\",\"M\",\"F\",\"M\",\"M\",\"M\",\"M\",\"M\",\"M\",\"F\",\"F\",\"M\",\"M\",\"M\",\"M\",\"M\",\"M\",\"M\",\"F\",\"M\",\"M\",\"M\",\"M\",\"M\",\"M\",\"M\",\"M\",\"M\",\"M\",\"M\",\"M\",\"M\",\"M\",\"M\",\"M\",\"M\",\"M\",\"M\",\"M\",\"M\",\"M\",\"M\",\"M\",\"F\",\"M\",\"M\",\"M\",\"M\",\"F\",\"M\",\"M\",\"M\",\"M\",\"F\",\"M\",\"M\",\"M\",\"M\",\"M\",\"M\",\"M\",\"M\",\"M\",\"M\",\"F\",\"M\",\"M\",\"M\",\"M\",\"F\",\"M\",\"M\",\"M\",\"F\",\"M\",\"M\",\"M\",\"M\",\"M\",\"M\",\"M\",\"F\",\"M\",\"M\",\"M\",\"M\",\"M\",\"M\",\"M\",\"F\",\"M\",\"M\",\"M\",\"M\",\"M\",\"M\",\"M\",\"M\",\"M\",\"M\",\"M\",\"M\",\"M\",\"M\",\"M\",\"M\",\"M\",\"M\",\"M\",\"M\",\"M\",\"M\",\"F\",\"M\",\"F\",\"M\",\"M\",\"M\",\"M\",\"M\",\"M\",\"M\",\"M\",\"M\",\"M\",\"M\",\"F\",\"M\",\"M\",\"M\",\"M\",\"M\",\"M\",\"M\",\"M\",\"M\",\"F\",\"M\",\"M\",\"M\",\"M\",\"M\",\"M\",\"M\",\"M\",\"F\",\"M\",\"M\",\"M\",\"M\",\"M\",\"M\",\"M\",\"M\",\"M\",\"M\",\"M\",\"M\",\"M\",\"M\",\"M\",\"M\",\"M\",\"M\",\"M\",\"M\",\"M\",\"M\",\"M\",\"M\",\"M\",\"M\",\"F\",\"M\",\"M\",\"M\",\"M\",\"M\",\"M\",\"M\",\"M\",\"M\",\"M\",\"M\",\"M\",\"M\",\"M\",\"M\",\"M\",\"M\",\"M\",\"F\",\"F\",\"M\",\"M\",\"M\",\"M\",\"M\",\"M\",\"F\",\"M\",\"M\",\"M\",\"M\",\"M\",\"M\",\"M\",\"M\",\"M\",\"M\",\"M\",\"M\",\"M\",\"M\",\"M\",\"F\",\"M\",\"M\",\"M\",\"M\",\"M\",\"M\",\"M\",\"M\",\"M\",\"M\",\"M\",\"M\",\"M\",\"M\",\"M\",\"M\",\"M\",\"M\",\"M\",\"M\",\"M\",\"M\",\"F\",\"M\",\"F\",\"M\",\"M\",\"M\",\"M\",\"M\",\"M\",\"F\",\"M\",\"M\",\"M\",\"M\",\"M\",\"F\",\"M\",\"M\",\"M\",\"F\",\"M\",\"M\",\"M\",\"M\",\"M\",\"M\",\"M\",\"M\",\"M\",\"M\",\"M\",\"M\",\"M\",\"M\",\"M\",\"M\",\"M\",\"M\",\"M\",\"M\",\"M\",\"M\",\"M\",\"M\",\"M\",\"M\",\"M\",\"M\",\"M\",\"M\",\"M\",\"M\",\"F\",\"M\",\"M\",\"F\",\"M\",\"M\",\"M\",\"M\",\"M\",\"M\",\"F\",\"M\",\"M\",\"M\",\"M\",\"F\",\"M\",\"M\",\"M\",\"M\",\"M\",\"M\",\"M\",\"M\",\"F\",\"M\",\"M\",\"M\",\"M\",\"M\",\"M\",\"F\",\"M\",\"M\",\"M\",\"M\",\"M\",\"F\",\"M\",\"M\",\"M\",\"M\",\"M\",\"F\",\"M\",\"M\",\"M\",\"M\",\"M\",\"M\",\"M\",\"F\",\"M\",\"M\",\"F\",\"M\",\"M\",\"M\",\"M\",\"M\",\"F\",\"M\",\"M\",\"M\",\"M\",\"M\",\"M\",\"M\",\"M\",\"M\",\"M\",\"M\",\"M\",\"F\",\"M\",\"M\",\"M\",\"M\",\"F\",\"M\",\"M\",\"M\",\"M\",\"M\",\"M\",\"M\",\"M\",\"M\",\"M\",\"M\",\"M\",\"M\",\"M\",\"M\",\"M\",\"M\",\"M\",\"M\",\"M\",\"M\",\"F\",\"F\",\"M\",\"M\",\"M\",\"M\",\"M\",\"M\",\"M\",\"M\",\"M\",\"M\",\"M\",\"M\",\"M\",\"M\",\"M\",\"M\",\"M\",\"M\",\"M\",\"M\",\"F\",\"M\",\"M\",\"M\",\"M\",\"M\",\"M\",\"F\",\"M\",\"M\",\"M\",\"M\",\"M\",\"M\",\"M\",\"M\",\"F\",\"F\",\"M\",\"M\",\"M\",\"M\",\"M\",\"M\",\"M\",\"F\",\"F\",\"M\",\"M\",\"M\",\"F\",\"M\",\"M\",\"M\",\"M\",\"M\",\"M\",\"M\",\"M\",\"M\",\"M\",\"M\",\"M\",\"M\",\"M\",\"M\",\"M\",\"M\",\"M\",\"M\",\"M\",\"M\",\"M\",\"M\",\"M\",\"M\",\"M\",\"M\",\"M\",\"M\",\"M\",\"M\",\"M\",\"M\",\"M\",\"M\",\"M\",\"M\",\"M\",\"M\",\"M\",\"M\",\"M\",\"M\",\"M\",\"M\",\"M\",\"M\",\"M\",\"M\",\"M\",\"M\",\"M\",\"M\",\"M\",\"M\",\"M\",\"M\",\"M\",\"M\",\"F\",\"M\",\"M\",\"M\",\"F\",\"M\",\"M\",\"M\",\"M\",\"M\",\"M\",\"M\",\"M\",\"M\",\"M\",\"M\",\"M\",\"M\",\"M\",\"M\",\"M\",\"M\",\"M\",\"M\",\"M\",\"M\",\"M\",\"M\",\"M\",\"M\",\"M\",\"M\",\"M\",\"F\",\"M\",\"F\",\"M\",\"M\",\"M\",\"M\",\"M\",\"M\",\"F\",\"M\",\"M\",\"M\",\"M\",\"M\",\"M\",\"M\",\"M\",\"M\",\"M\",\"M\",\"M\",\"M\",\"M\",\"M\",\"M\",\"M\",\"M\",\"M\",\"M\",\"M\",\"M\",\"F\",\"M\",\"F\",\"M\",\"M\",\"M\",\"M\",\"M\",\"M\",\"M\",\"M\",\"M\",\"M\",\"M\",\"M\",\"M\",\"M\",\"M\",\"M\",\"M\",\"M\",\"M\",\"M\",\"M\",\"M\",\"M\",\"M\",\"F\",\"M\",\"M\",\"F\",\"M\",\"M\",\"M\",\"M\",\"M\",\"M\",\"M\",\"M\",\"M\",\"M\",\"M\",\"M\",\"F\",\"M\",\"M\",\"F\",\"M\",\"M\",\"M\",\"M\",\"M\",\"F\",\"M\",\"M\",\"M\",\"M\",\"M\",\"M\",\"M\",\"M\",\"M\",\"M\",\"M\",\"F\",\"M\",\"M\",\"M\",\"M\",\"M\",\"M\",\"M\",\"M\",\"M\",\"M\",\"M\",\"M\",\"M\",\"F\",\"M\",\"M\",\"M\",\"M\",\"M\",\"F\",\"M\",\"M\",\"M\",\"M\",\"M\",\"M\",\"M\",\"F\",\"M\",\"F\",\"F\",\"M\",\"M\",\"M\",\"F\",\"M\",\"M\",\"M\",\"M\",\"M\",\"M\",\"M\",\"M\",\"M\",\"F\",\"M\",\"M\",\"M\",\"M\",\"M\",\"M\",\"M\",\"M\",\"M\",\"M\",\"M\",\"M\",\"M\",\"M\",\"M\",\"M\",\"M\",\"M\",\"M\",\"F\",\"F\",\"M\",\"M\",\"M\",\"M\",\"M\",\"F\",\"M\",\"M\",\"M\",\"M\",\"M\",\"M\",\"M\",\"M\",\"M\",\"M\",\"M\",\"M\",\"M\",\"M\",\"M\",\"M\",\"F\",\"M\",\"M\",\"M\",\"M\",\"M\",\"M\",\"M\",\"M\",\"M\",\"F\",\"M\",\"M\",\"M\",\"F\",\"M\",\"M\",\"M\",\"M\",\"M\",\"M\",\"M\",\"M\",\"M\",\"M\",\"M\",\"M\",\"M\",\"M\",\"M\",\"M\",\"M\",\"M\",\"M\",\"M\",\"M\",\"M\",\"M\",\"M\",\"M\",\"M\",\"M\",\"M\",\"M\",\"M\",\"M\",\"M\",\"M\",\"M\",\"M\",\"M\",\"M\",\"M\",\"M\",\"M\",\"M\",\"M\",\"M\",\"M\",\"M\",\"M\",\"M\",\"M\",\"M\",\"M\",\"M\",\"F\",\"M\",\"M\",\"M\",\"M\",\"M\",\"F\",\"M\",\"M\",\"M\",\"M\",\"M\",\"M\",\"F\",\"M\",\"M\",\"F\",\"M\",\"M\",\"M\",\"M\",\"M\",\"M\",\"M\",\"M\",\"M\",\"M\",\"M\",\"M\",\"M\",\"M\",\"M\",\"F\",\"M\",\"M\",\"M\",\"F\",\"M\",\"M\",\"M\",\"M\",\"M\",\"M\",\"M\",\"F\",\"M\",\"M\",\"F\",\"M\",\"M\",\"M\",\"M\",\"M\",\"M\",\"M\",\"M\",\"M\",\"M\",\"M\",\"M\",\"M\",\"F\",\"M\",\"M\",\"M\",\"M\",\"M\",\"M\",\"M\",\"M\",\"M\",\"M\",\"M\",\"M\",\"M\",\"M\",\"M\",\"F\",\"M\",\"M\",\"M\",\"F\",\"M\",\"M\",\"M\",\"M\",\"M\",\"M\",\"M\",\"M\",\"M\",\"M\",\"M\",\"M\",\"M\",\"M\",\"M\",\"M\",\"M\",\"M\",\"M\",\"M\",\"M\",\"M\",\"M\",\"M\",\"F\",\"M\",\"M\",\"M\",\"M\",\"M\",\"M\",\"M\",\"M\",\"M\",\"M\",\"M\",\"M\",\"M\",\"M\",\"M\",\"M\",\"M\",\"M\",\"M\",\"M\",\"M\",\"M\",\"F\",\"M\",\"M\",\"M\",\"M\",\"M\",\"M\",\"M\",\"F\",\"F\",\"M\",\"M\",\"M\",\"M\",\"M\",\"M\",\"M\",\"M\",\"M\",\"M\",\"M\",\"M\",\"F\",\"M\",\"M\",\"F\",\"M\",\"M\",\"M\",\"M\",\"M\",\"F\",\"F\",\"F\",\"M\",\"M\",\"M\",\"M\",\"M\",\"M\",\"M\",\"M\",\"M\",\"M\",\"M\",\"M\",\"M\",\"M\",\"M\",\"M\",\"M\",\"M\",\"M\",\"M\",\"M\",\"M\",\"F\",\"M\",\"M\",\"M\",\"M\",\"M\",\"M\",\"F\",\"M\",\"M\",\"M\",\"M\",\"M\",\"M\",\"M\",\"M\",\"M\",\"M\",\"M\",\"M\",\"M\",\"M\",\"F\",\"M\",\"M\",\"M\",\"M\",\"M\",\"M\",\"M\",\"M\",\"F\",\"M\",\"M\",\"M\",\"M\",\"M\",\"M\",\"M\",\"F\",\"M\",\"M\",\"M\",\"M\",\"M\",\"M\",\"M\",\"M\",\"M\",\"M\",\"M\",\"M\",\"F\",\"M\",\"M\",\"M\",\"M\",\"M\",\"M\",\"M\",\"F\",\"M\",\"M\",\"M\",\"M\",\"M\",\"M\",\"M\",\"M\",\"M\",\"F\",\"M\",\"M\",\"M\",\"M\",\"M\",\"M\",\"M\",\"M\",\"F\",\"M\",\"M\",\"F\",\"F\",\"M\",\"M\",\"M\",\"M\",\"M\",\"M\",\"F\",\"M\",\"M\",\"M\",\"M\",\"M\",\"F\",\"M\",\"M\",\"F\",\"M\",\"M\",\"M\",\"F\",\"M\",\"F\",\"M\",\"M\",\"M\",\"M\",\"M\",\"M\",\"M\",\"M\",\"M\",\"M\",\"M\",\"M\",\"M\",\"M\",\"M\",\"M\",\"M\",\"M\",\"F\",\"M\",\"M\",\"M\",\"M\",\"M\",\"M\",\"M\",\"M\",\"M\",\"M\",\"M\",\"M\",\"M\",\"M\",\"M\",\"M\",\"M\",\"F\",\"F\",\"M\",\"M\",\"M\",\"M\",\"M\",\"F\",\"M\",\"M\",\"M\",\"M\",\"M\",\"M\",\"M\",\"M\",\"F\",\"M\",\"M\",\"M\",\"M\",\"M\",\"M\",\"M\",\"M\",\"M\",\"M\",\"M\",\"M\",\"M\",\"M\",\"M\",\"M\",\"M\",\"M\",\"M\",\"M\",\"M\",\"M\",\"M\",\"M\",\"F\",\"M\",\"M\",\"M\",\"M\",\"M\",\"F\",\"M\",\"M\",\"F\",\"M\",\"M\",\"M\",\"M\",\"M\",\"M\",\"M\",\"M\",\"M\",\"F\",\"M\",\"M\",\"M\",\"F\",\"F\",\"M\",\"M\",\"M\",\"M\",\"F\",\"M\",\"F\",\"M\",\"F\",\"M\",\"M\",\"F\",\"M\",\"M\",\"M\",\"M\",\"M\",\"M\",\"M\",\"M\",\"M\",\"M\",\"M\",\"M\",\"M\",\"M\",\"M\",\"M\",\"M\",\"M\",\"F\",\"F\",\"M\",\"M\",\"M\",\"M\",\"F\",\"M\",\"M\",\"F\",\"M\",\"M\",\"M\",\"M\",\"M\",\"M\",\"M\",\"M\",\"M\",\"M\",\"M\",\"M\",\"M\",\"M\",\"M\",\"M\",\"M\",\"M\",\"M\",\"M\",\"M\",\"M\",\"M\",\"M\",\"M\"],\"type\":\"histogram\",\"xaxis\":\"x\",\"yaxis\":\"y\",\"marker\":{\"color\":\"green\"}},{\"name\":\"Gender (M\\u002fF) of billionaires below 50 years old\",\"x\":[\"M\",\"M\",\"M\",\"M\",\"M\",\"M\",\"M\",\"M\",\"M\",\"M\",\"M\",\"M\",\"M\",\"M\",\"M\",\"M\",\"M\",\"M\",\"M\",\"M\",\"F\",\"M\",\"M\",\"M\",\"F\",\"M\",\"M\",\"F\",\"M\",\"M\",\"M\",\"M\",\"M\",\"M\",\"F\",\"M\",\"F\",\"F\",\"F\",\"M\",\"F\",\"M\",\"M\",\"M\",\"M\",\"M\",\"M\",\"M\",\"M\",\"M\",\"F\",\"M\",\"M\",\"M\",\"M\",\"M\",\"M\",\"M\",\"M\",\"M\",\"M\",\"M\",\"F\",\"M\",\"M\",\"M\",\"M\",\"F\",\"M\",\"M\",\"M\",\"M\",\"M\",\"M\",\"F\",\"M\",\"M\",\"M\",\"M\",\"M\",\"M\",\"M\",\"M\",\"M\",\"M\",\"M\",\"M\",\"M\",\"M\",\"M\",\"M\",\"M\",\"F\",\"F\",\"M\",\"M\",\"M\",\"M\",\"M\",\"M\",\"M\",\"M\",\"M\",\"M\",\"M\",\"M\",\"M\",\"M\",\"F\",\"F\",\"M\",\"M\",\"M\",\"M\",\"M\",\"F\",\"M\",\"M\",\"M\",\"M\",\"M\",\"M\",\"M\",\"M\",\"M\",\"M\",\"M\",\"M\",\"M\",\"M\",\"M\",\"M\",\"M\",\"M\",\"M\",\"M\",\"F\",\"M\",\"M\",\"M\",\"M\",\"M\",\"M\",\"F\",\"M\",\"M\",\"M\",\"M\",\"M\",\"M\",\"F\",\"M\",\"M\",\"M\",\"M\",\"M\",\"M\",\"M\",\"F\",\"F\",\"M\",\"F\",\"M\",\"M\",\"M\",\"F\",\"F\",\"M\",\"F\",\"M\",\"M\",\"M\",\"M\",\"F\",\"M\",\"M\",\"M\",\"M\",\"M\",\"M\",\"M\",\"M\",\"M\",\"F\",\"F\",\"M\",\"M\",\"M\",\"M\",\"M\",\"F\",\"M\",\"M\",\"M\",\"M\",\"M\",\"M\",\"M\",\"M\",\"M\",\"M\",\"M\",\"M\",\"M\",\"M\",\"M\",\"M\",\"F\",\"F\",\"M\",\"F\",\"M\",\"M\",\"M\",\"M\",\"M\",\"M\",\"M\",\"M\",\"M\",\"M\",\"M\",\"M\",\"M\",\"M\",\"M\",\"M\",\"M\",\"M\",\"M\",\"M\",\"M\",\"M\",\"M\",\"F\",\"F\",\"M\",\"M\",\"F\",\"M\",\"F\",\"M\",\"M\",\"M\",\"M\",\"M\",\"M\",\"F\",\"M\",\"M\",\"M\",\"M\",\"F\",\"M\",\"M\",\"M\",\"M\",\"M\",\"F\",\"M\",\"M\",\"M\",\"M\",\"F\",\"F\",\"M\",\"M\",\"M\",\"M\",\"M\",\"F\",\"M\",\"M\",\"M\",\"M\",\"M\",\"M\",\"M\",\"M\",\"M\",\"M\",\"M\",\"F\",\"M\",\"M\",\"F\",\"M\",\"F\",\"M\",\"F\",\"M\",\"M\",\"M\",\"M\",\"M\",\"M\",\"M\",\"M\",\"M\",\"M\",\"M\",\"M\",\"M\",\"M\",\"M\",\"M\",\"M\",\"M\",\"M\",\"M\",\"F\",\"F\",\"M\",\"M\",\"M\",\"M\",\"M\",\"M\",\"M\",\"M\",\"M\",\"M\",\"M\",\"F\"],\"type\":\"histogram\",\"xaxis\":\"x2\",\"yaxis\":\"y2\"}],                        {\"template\":{\"data\":{\"histogram2dcontour\":[{\"type\":\"histogram2dcontour\",\"colorbar\":{\"outlinewidth\":0,\"ticks\":\"\"},\"colorscale\":[[0.0,\"#0d0887\"],[0.1111111111111111,\"#46039f\"],[0.2222222222222222,\"#7201a8\"],[0.3333333333333333,\"#9c179e\"],[0.4444444444444444,\"#bd3786\"],[0.5555555555555556,\"#d8576b\"],[0.6666666666666666,\"#ed7953\"],[0.7777777777777778,\"#fb9f3a\"],[0.8888888888888888,\"#fdca26\"],[1.0,\"#f0f921\"]]}],\"choropleth\":[{\"type\":\"choropleth\",\"colorbar\":{\"outlinewidth\":0,\"ticks\":\"\"}}],\"histogram2d\":[{\"type\":\"histogram2d\",\"colorbar\":{\"outlinewidth\":0,\"ticks\":\"\"},\"colorscale\":[[0.0,\"#0d0887\"],[0.1111111111111111,\"#46039f\"],[0.2222222222222222,\"#7201a8\"],[0.3333333333333333,\"#9c179e\"],[0.4444444444444444,\"#bd3786\"],[0.5555555555555556,\"#d8576b\"],[0.6666666666666666,\"#ed7953\"],[0.7777777777777778,\"#fb9f3a\"],[0.8888888888888888,\"#fdca26\"],[1.0,\"#f0f921\"]]}],\"heatmap\":[{\"type\":\"heatmap\",\"colorbar\":{\"outlinewidth\":0,\"ticks\":\"\"},\"colorscale\":[[0.0,\"#0d0887\"],[0.1111111111111111,\"#46039f\"],[0.2222222222222222,\"#7201a8\"],[0.3333333333333333,\"#9c179e\"],[0.4444444444444444,\"#bd3786\"],[0.5555555555555556,\"#d8576b\"],[0.6666666666666666,\"#ed7953\"],[0.7777777777777778,\"#fb9f3a\"],[0.8888888888888888,\"#fdca26\"],[1.0,\"#f0f921\"]]}],\"heatmapgl\":[{\"type\":\"heatmapgl\",\"colorbar\":{\"outlinewidth\":0,\"ticks\":\"\"},\"colorscale\":[[0.0,\"#0d0887\"],[0.1111111111111111,\"#46039f\"],[0.2222222222222222,\"#7201a8\"],[0.3333333333333333,\"#9c179e\"],[0.4444444444444444,\"#bd3786\"],[0.5555555555555556,\"#d8576b\"],[0.6666666666666666,\"#ed7953\"],[0.7777777777777778,\"#fb9f3a\"],[0.8888888888888888,\"#fdca26\"],[1.0,\"#f0f921\"]]}],\"contourcarpet\":[{\"type\":\"contourcarpet\",\"colorbar\":{\"outlinewidth\":0,\"ticks\":\"\"}}],\"contour\":[{\"type\":\"contour\",\"colorbar\":{\"outlinewidth\":0,\"ticks\":\"\"},\"colorscale\":[[0.0,\"#0d0887\"],[0.1111111111111111,\"#46039f\"],[0.2222222222222222,\"#7201a8\"],[0.3333333333333333,\"#9c179e\"],[0.4444444444444444,\"#bd3786\"],[0.5555555555555556,\"#d8576b\"],[0.6666666666666666,\"#ed7953\"],[0.7777777777777778,\"#fb9f3a\"],[0.8888888888888888,\"#fdca26\"],[1.0,\"#f0f921\"]]}],\"surface\":[{\"type\":\"surface\",\"colorbar\":{\"outlinewidth\":0,\"ticks\":\"\"},\"colorscale\":[[0.0,\"#0d0887\"],[0.1111111111111111,\"#46039f\"],[0.2222222222222222,\"#7201a8\"],[0.3333333333333333,\"#9c179e\"],[0.4444444444444444,\"#bd3786\"],[0.5555555555555556,\"#d8576b\"],[0.6666666666666666,\"#ed7953\"],[0.7777777777777778,\"#fb9f3a\"],[0.8888888888888888,\"#fdca26\"],[1.0,\"#f0f921\"]]}],\"mesh3d\":[{\"type\":\"mesh3d\",\"colorbar\":{\"outlinewidth\":0,\"ticks\":\"\"}}],\"scatter\":[{\"fillpattern\":{\"fillmode\":\"overlay\",\"size\":10,\"solidity\":0.2},\"type\":\"scatter\"}],\"parcoords\":[{\"type\":\"parcoords\",\"line\":{\"colorbar\":{\"outlinewidth\":0,\"ticks\":\"\"}}}],\"scatterpolargl\":[{\"type\":\"scatterpolargl\",\"marker\":{\"colorbar\":{\"outlinewidth\":0,\"ticks\":\"\"}}}],\"bar\":[{\"error_x\":{\"color\":\"#2a3f5f\"},\"error_y\":{\"color\":\"#2a3f5f\"},\"marker\":{\"line\":{\"color\":\"#E5ECF6\",\"width\":0.5},\"pattern\":{\"fillmode\":\"overlay\",\"size\":10,\"solidity\":0.2}},\"type\":\"bar\"}],\"scattergeo\":[{\"type\":\"scattergeo\",\"marker\":{\"colorbar\":{\"outlinewidth\":0,\"ticks\":\"\"}}}],\"scatterpolar\":[{\"type\":\"scatterpolar\",\"marker\":{\"colorbar\":{\"outlinewidth\":0,\"ticks\":\"\"}}}],\"histogram\":[{\"marker\":{\"pattern\":{\"fillmode\":\"overlay\",\"size\":10,\"solidity\":0.2}},\"type\":\"histogram\"}],\"scattergl\":[{\"type\":\"scattergl\",\"marker\":{\"colorbar\":{\"outlinewidth\":0,\"ticks\":\"\"}}}],\"scatter3d\":[{\"type\":\"scatter3d\",\"line\":{\"colorbar\":{\"outlinewidth\":0,\"ticks\":\"\"}},\"marker\":{\"colorbar\":{\"outlinewidth\":0,\"ticks\":\"\"}}}],\"scattermapbox\":[{\"type\":\"scattermapbox\",\"marker\":{\"colorbar\":{\"outlinewidth\":0,\"ticks\":\"\"}}}],\"scatterternary\":[{\"type\":\"scatterternary\",\"marker\":{\"colorbar\":{\"outlinewidth\":0,\"ticks\":\"\"}}}],\"scattercarpet\":[{\"type\":\"scattercarpet\",\"marker\":{\"colorbar\":{\"outlinewidth\":0,\"ticks\":\"\"}}}],\"carpet\":[{\"aaxis\":{\"endlinecolor\":\"#2a3f5f\",\"gridcolor\":\"white\",\"linecolor\":\"white\",\"minorgridcolor\":\"white\",\"startlinecolor\":\"#2a3f5f\"},\"baxis\":{\"endlinecolor\":\"#2a3f5f\",\"gridcolor\":\"white\",\"linecolor\":\"white\",\"minorgridcolor\":\"white\",\"startlinecolor\":\"#2a3f5f\"},\"type\":\"carpet\"}],\"table\":[{\"cells\":{\"fill\":{\"color\":\"#EBF0F8\"},\"line\":{\"color\":\"white\"}},\"header\":{\"fill\":{\"color\":\"#C8D4E3\"},\"line\":{\"color\":\"white\"}},\"type\":\"table\"}],\"barpolar\":[{\"marker\":{\"line\":{\"color\":\"#E5ECF6\",\"width\":0.5},\"pattern\":{\"fillmode\":\"overlay\",\"size\":10,\"solidity\":0.2}},\"type\":\"barpolar\"}],\"pie\":[{\"automargin\":true,\"type\":\"pie\"}]},\"layout\":{\"autotypenumbers\":\"strict\",\"colorway\":[\"#636efa\",\"#EF553B\",\"#00cc96\",\"#ab63fa\",\"#FFA15A\",\"#19d3f3\",\"#FF6692\",\"#B6E880\",\"#FF97FF\",\"#FECB52\"],\"font\":{\"color\":\"#2a3f5f\"},\"hovermode\":\"closest\",\"hoverlabel\":{\"align\":\"left\"},\"paper_bgcolor\":\"white\",\"plot_bgcolor\":\"#E5ECF6\",\"polar\":{\"bgcolor\":\"#E5ECF6\",\"angularaxis\":{\"gridcolor\":\"white\",\"linecolor\":\"white\",\"ticks\":\"\"},\"radialaxis\":{\"gridcolor\":\"white\",\"linecolor\":\"white\",\"ticks\":\"\"}},\"ternary\":{\"bgcolor\":\"#E5ECF6\",\"aaxis\":{\"gridcolor\":\"white\",\"linecolor\":\"white\",\"ticks\":\"\"},\"baxis\":{\"gridcolor\":\"white\",\"linecolor\":\"white\",\"ticks\":\"\"},\"caxis\":{\"gridcolor\":\"white\",\"linecolor\":\"white\",\"ticks\":\"\"}},\"coloraxis\":{\"colorbar\":{\"outlinewidth\":0,\"ticks\":\"\"}},\"colorscale\":{\"sequential\":[[0.0,\"#0d0887\"],[0.1111111111111111,\"#46039f\"],[0.2222222222222222,\"#7201a8\"],[0.3333333333333333,\"#9c179e\"],[0.4444444444444444,\"#bd3786\"],[0.5555555555555556,\"#d8576b\"],[0.6666666666666666,\"#ed7953\"],[0.7777777777777778,\"#fb9f3a\"],[0.8888888888888888,\"#fdca26\"],[1.0,\"#f0f921\"]],\"sequentialminus\":[[0.0,\"#0d0887\"],[0.1111111111111111,\"#46039f\"],[0.2222222222222222,\"#7201a8\"],[0.3333333333333333,\"#9c179e\"],[0.4444444444444444,\"#bd3786\"],[0.5555555555555556,\"#d8576b\"],[0.6666666666666666,\"#ed7953\"],[0.7777777777777778,\"#fb9f3a\"],[0.8888888888888888,\"#fdca26\"],[1.0,\"#f0f921\"]],\"diverging\":[[0,\"#8e0152\"],[0.1,\"#c51b7d\"],[0.2,\"#de77ae\"],[0.3,\"#f1b6da\"],[0.4,\"#fde0ef\"],[0.5,\"#f7f7f7\"],[0.6,\"#e6f5d0\"],[0.7,\"#b8e186\"],[0.8,\"#7fbc41\"],[0.9,\"#4d9221\"],[1,\"#276419\"]]},\"xaxis\":{\"gridcolor\":\"white\",\"linecolor\":\"white\",\"ticks\":\"\",\"title\":{\"standoff\":15},\"zerolinecolor\":\"white\",\"automargin\":true,\"zerolinewidth\":2},\"yaxis\":{\"gridcolor\":\"white\",\"linecolor\":\"white\",\"ticks\":\"\",\"title\":{\"standoff\":15},\"zerolinecolor\":\"white\",\"automargin\":true,\"zerolinewidth\":2},\"scene\":{\"xaxis\":{\"backgroundcolor\":\"#E5ECF6\",\"gridcolor\":\"white\",\"linecolor\":\"white\",\"showbackground\":true,\"ticks\":\"\",\"zerolinecolor\":\"white\",\"gridwidth\":2},\"yaxis\":{\"backgroundcolor\":\"#E5ECF6\",\"gridcolor\":\"white\",\"linecolor\":\"white\",\"showbackground\":true,\"ticks\":\"\",\"zerolinecolor\":\"white\",\"gridwidth\":2},\"zaxis\":{\"backgroundcolor\":\"#E5ECF6\",\"gridcolor\":\"white\",\"linecolor\":\"white\",\"showbackground\":true,\"ticks\":\"\",\"zerolinecolor\":\"white\",\"gridwidth\":2}},\"shapedefaults\":{\"line\":{\"color\":\"#2a3f5f\"}},\"annotationdefaults\":{\"arrowcolor\":\"#2a3f5f\",\"arrowhead\":0,\"arrowwidth\":1},\"geo\":{\"bgcolor\":\"white\",\"landcolor\":\"#E5ECF6\",\"subunitcolor\":\"white\",\"showland\":true,\"showlakes\":true,\"lakecolor\":\"white\"},\"title\":{\"x\":0.05},\"mapbox\":{\"style\":\"light\"}}},\"xaxis\":{\"anchor\":\"y\",\"domain\":[0.0,0.45]},\"yaxis\":{\"anchor\":\"x\",\"domain\":[0.0,1.0]},\"xaxis2\":{\"anchor\":\"y2\",\"domain\":[0.55,1.0]},\"yaxis2\":{\"anchor\":\"x2\",\"domain\":[0.0,1.0]},\"title\":{\"font\":{\"color\":\"blue\",\"size\":20},\"text\":\"Sex (M\\u002fF) comparison\",\"x\":0.5},\"height\":600,\"width\":1200},                        {\"responsive\": true}                    ).then(function(){\n",
              "                            \n",
              "var gd = document.getElementById('abba6a45-82f4-4a43-8220-010514d8098c');\n",
              "var x = new MutationObserver(function (mutations, observer) {{\n",
              "        var display = window.getComputedStyle(gd).display;\n",
              "        if (!display || display === 'none') {{\n",
              "            console.log([gd, 'removed!']);\n",
              "            Plotly.purge(gd);\n",
              "            observer.disconnect();\n",
              "        }}\n",
              "}});\n",
              "\n",
              "// Listen for the removal of the full notebook cells\n",
              "var notebookContainer = gd.closest('#notebook-container');\n",
              "if (notebookContainer) {{\n",
              "    x.observe(notebookContainer, {childList: true});\n",
              "}}\n",
              "\n",
              "// Listen for the clearing of the current output cell\n",
              "var outputEl = gd.closest('.output');\n",
              "if (outputEl) {{\n",
              "    x.observe(outputEl, {childList: true});\n",
              "}}\n",
              "\n",
              "                        })                };                            </script>        </div>\n",
              "</body>\n",
              "</html>"
            ]
          },
          "metadata": {}
        }
      ]
    },
    {
      "cell_type": "markdown",
      "source": [
        "### 2.5 Secondary analysis:"
      ],
      "metadata": {
        "id": "pSW_nbLgSRyW"
      }
    },
    {
      "cell_type": "markdown",
      "source": [
        "> The correlations seems to be almost equal.\n",
        "\n",
        "- The higher a CPI Index is for a country, the lower is the purchase power of the people in it.\n",
        "\n",
        "- If the CPI Index is of a country is high, the population can't afford to live a good - and healthier - lifestyle.\n",
        "\n",
        "- Lower proportions of 'population/qt_billionaires' can be a good sign of a county's abundant and prosperous economy."
      ],
      "metadata": {
        "id": "mVmJr6YY0cBi"
      }
    },
    {
      "cell_type": "code",
      "source": [
        "cpi_relation_young = young_dataset[['cpi_country', 'proportion', 'life_expectancy_country', 'total_tax_rate_country']].drop_duplicates()\n",
        "cpi_relation_old = old_dataset[['cpi_country', 'proportion', 'life_expectancy_country', 'total_tax_rate_country']].drop_duplicates()"
      ],
      "metadata": {
        "id": "FsBAi4xuSQpY"
      },
      "execution_count": 27,
      "outputs": []
    },
    {
      "cell_type": "code",
      "source": [
        "fig, axes = plt.subplots(nrows = 1, ncols = 2, figsize = (14,5))\n",
        "sns.heatmap(cpi_relation_young.corr(), annot = True, ax = axes[0])\n",
        "axes[0].set_title('Young')\n",
        "sns.heatmap(cpi_relation_old.corr(), annot = True, ax = axes[1])\n",
        "axes[1].set_title('Old')\n",
        "fig.show()"
      ],
      "metadata": {
        "id": "Ij5Z-SMuZqGF",
        "colab": {
          "base_uri": "https://localhost:8080/",
          "height": 622
        },
        "outputId": "77699d03-7bef-45b1-fb68-b1d1012c8327"
      },
      "execution_count": 28,
      "outputs": [
        {
          "output_type": "display_data",
          "data": {
            "text/plain": [
              "<Figure size 1400x500 with 4 Axes>"
            ],
            "image/png": "[encoded data removed]"
          },
          "metadata": {}
        }
      ]
    },
    {
      "cell_type": "markdown",
      "source": [
        ">> Notes: For the \"self-made\" and \"gender\" columns, there is not a bigger difference in the datasets."
      ],
      "metadata": {
        "id": "0ER-kfre_x0X"
      }
    },
    {
      "cell_type": "markdown",
      "source": [
        "## 3. Insights:"
      ],
      "metadata": {
        "id": "vLjBVMYc3riK"
      }
    },
    {
      "cell_type": "markdown",
      "source": [
        "###  3.1 1st analysis:\n",
        " Young billionaires are more common in the 'tecnology' field, followed by 'finance and investments' and 'fashion & retail'."
      ],
      "metadata": {
        "id": "n_IqrLvq5Gd7"
      }
    },
    {
      "cell_type": "code",
      "source": [
        "fig_catwithage  = px.bar(main.sort_values(by = 'age_group'),\n",
        "                         x = 'category',\n",
        "                         color = 'age_group',\n",
        "                         title = 'Relation between business and age',\n",
        "                         height = 800)\n",
        "fig_catwithage"
      ],
      "metadata": {
        "execution": {
          "iopub.status.busy": "2023-11-10T20:54:29.759375Z",
          "iopub.execute_input": "2023-11-10T20:54:29.759632Z",
          "iopub.status.idle": "2023-11-10T20:54:29.826465Z",
          "shell.execute_reply.started": "2023-11-10T20:54:29.759604Z",
          "shell.execute_reply": "2023-11-10T20:54:29.825241Z"
        },
        "trusted": true,
        "id": "uZfY5B4w5Gd7",
        "colab": {
          "base_uri": "https://localhost:8080/",
          "height": 817
        },
        "outputId": "0d816cee-327c-4209-fbb6-d2d51d43f7fb"
      },
      "execution_count": 29,
      "outputs": [
        {
          "output_type": "display_data",
          "data": {
            "text/html": [
              "<html>\n",
              "<head><meta charset=\"utf-8\" /></head>\n",
              "<body>\n",
              "    <div>            <script src=\"https://cdnjs.cloudflare.com/ajax/libs/mathjax/2.7.5/MathJax.js?config=TeX-AMS-MML_SVG\"></script><script type=\"text/javascript\">if (window.MathJax && window.MathJax.Hub && window.MathJax.Hub.Config) {window.MathJax.Hub.Config({SVG: {font: \"STIX-Web\"}});}</script>                <script type=\"text/javascript\">window.PlotlyConfig = {MathJaxConfig: 'local'};</script>\n",
              "        <script charset=\"utf-8\" src=\"https://cdn.plot.ly/plotly-2.35.2.min.js\"></script>                <div id=\"6cb2bea0-2a8d-4763-bbd8-6aa34852d0c6\" class=\"plotly-graph-div\" style=\"height:800px; width:100%;\"></div>            <script type=\"text/javascript\">                                    window.PLOTLYENV=window.PLOTLYENV || {};                                    if (document.getElementById(\"6cb2bea0-2a8d-4763-bbd8-6aa34852d0c6\")) {                    Plotly.newPlot(                        \"6cb2bea0-2a8d-4763-bbd8-6aa34852d0c6\",                        [{\"alignmentgroup\":\"True\",\"hovertemplate\":\"age_group=1\\u003cbr\\u003ecategory=%{x}\\u003cbr\\u003ecount=%{y}\\u003cextra\\u003e\\u003c\\u002fextra\\u003e\",\"legendgroup\":\"1\",\"marker\":{\"color\":\"#636efa\",\"pattern\":{\"shape\":\"\"}},\"name\":\"1\",\"offsetgroup\":\"1\",\"orientation\":\"v\",\"showlegend\":true,\"textposition\":\"auto\",\"x\":[\"Technology\",\"Manufacturing\",\"Manufacturing\",\"Manufacturing\",\"Media & Entertainment\",\"Finance & Investments\",\"Finance & Investments\",\"Technology\",\"Technology\",\"Energy\",\"Technology\",\"Food & Beverage\",\"Technology\",\"Real Estate\",\"Real Estate\",\"Diversified\",\"Technology\",\"Media & Entertainment\",\"Media & Entertainment\",\"Technology\",\"Automotive\",\"Automotive\",\"Media & Entertainment\",\"Media & Entertainment\",\"Manufacturing\",\"Technology\",\"Manufacturing\",\"Technology\",\"Real Estate\",\"Technology\",\"Real Estate\",\"Finance & Investments\",\"Fashion & Retail\",\"Metals & Mining\",\"Real Estate\",\"Media & Entertainment\",\"Healthcare\",\"Metals & Mining\",\"Construction & Engineering\",\"Fashion & Retail\",\"Technology\",\"Gambling & Casinos\",\"Finance & Investments\",\"Technology\",\"Technology\",\"Fashion & Retail\",\"Fashion & Retail\",\"Finance & Investments\",\"Technology\",\"Healthcare\",\"Real Estate\",\"Healthcare\",\"Healthcare\",\"Finance & Investments\",\"Metals & Mining\",\"Diversified\",\"Technology\",\"Technology\",\"Technology\",\"Diversified\",\"Technology\",\"Food & Beverage\",\"Real Estate\",\"Technology\",\"Technology\",\"Logistics\",\"Food & Beverage\",\"Finance & Investments\",\"Food & Beverage\",\"Media & Entertainment\",\"Manufacturing\",\"Real Estate\",\"Energy\",\"Manufacturing\",\"Technology\",\"Technology\",\"Technology\",\"Real Estate\",\"Healthcare\",\"Real Estate\",\"Diversified\",\"Technology\",\"Finance & Investments\",\"Technology\",\"Finance & Investments\",\"Finance & Investments\",\"Media & Entertainment\",\"Fashion & Retail\",\"Finance & Investments\",\"Finance & Investments\",\"Real Estate\",\"Service\",\"Technology\",\"Media & Entertainment\",\"Technology\",\"Fashion & Retail\",\"Technology\",\"Technology\",\"Finance & Investments\",\"Technology\",\"Technology\",\"Food & Beverage\",\"Finance & Investments\",\"Food & Beverage\",\"Technology\",\"Healthcare\",\"Healthcare\",\"Food & Beverage\",\"Fashion & Retail\",\"Fashion & Retail\",\"Technology\",\"Fashion & Retail\",\"Technology\",\"Media & Entertainment\",\"Healthcare\",\"Automotive\",\"Technology\",\"Food & Beverage\",\"Technology\",\"Technology\",\"Technology\",\"Manufacturing\",\"Manufacturing\",\"Media & Entertainment\",\"Media & Entertainment\",\"Finance & Investments\",\"Finance & Investments\",\"Construction & Engineering\",\"Real Estate\",\"Manufacturing\",\"Fashion & Retail\",\"Manufacturing\",\"Fashion & Retail\",\"Service\",\"Technology\",\"Fashion & Retail\",\"Automotive\",\"Fashion & Retail\",\"Finance & Investments\",\"Manufacturing\",\"Technology\",\"Food & Beverage\",\"Technology\",\"Fashion & Retail\",\"Automotive\",\"Finance & Investments\",\"Metals & Mining\",\"Finance & Investments\",\"Manufacturing\",\"Technology\",\"Technology\",\"Finance & Investments\",\"Technology\",\"Technology\",\"Healthcare\",\"Automotive\",\"Finance & Investments\",\"Construction & Engineering\",\"Technology\",\"Fashion & Retail\",\"Fashion & Retail\",\"Automotive\",\"Diversified\",\"Diversified\",\"Finance & Investments\",\"Technology\",\"Food & Beverage\",\"Finance & Investments\",\"Finance & Investments\",\"Technology\",\"Food & Beverage\",\"Technology\",\"Technology\",\"Manufacturing\",\"Media & Entertainment\",\"Technology\",\"Technology\",\"Finance & Investments\",\"Finance & Investments\",\"Metals & Mining\",\"Technology\",\"Logistics\",\"Manufacturing\",\"Finance & Investments\",\"Technology\",\"Manufacturing\",\"Construction & Engineering\",\"Food & Beverage\",\"Food & Beverage\",\"Finance & Investments\",\"Finance & Investments\",\"Manufacturing\",\"Technology\",\"Technology\",\"Finance & Investments\",\"Fashion & Retail\",\"Healthcare\",\"Fashion & Retail\",\"Finance & Investments\",\"Fashion & Retail\",\"Fashion & Retail\",\"Fashion & Retail\",\"Manufacturing\",\"Media & Entertainment\",\"Media & Entertainment\",\"Manufacturing\",\"Finance & Investments\",\"Gambling & Casinos\",\"Diversified\",\"Finance & Investments\",\"Finance & Investments\",\"Fashion & Retail\",\"Diversified\",\"Finance & Investments\",\"Media & Entertainment\",\"Healthcare\",\"Technology\",\"Fashion & Retail\",\"Energy\",\"Fashion & Retail\",\"Technology\",\"Fashion & Retail\",\"Technology\",\"Media & Entertainment\",\"Diversified\",\"Media & Entertainment\",\"Healthcare\",\"Metals & Mining\",\"Finance & Investments\",\"Sports\",\"Healthcare\",\"Fashion & Retail\",\"Fashion & Retail\",\"Technology\",\"Technology\",\"Diversified\",\"Food & Beverage\",\"Food & Beverage\",\"Finance & Investments\",\"Fashion & Retail\",\"Technology\",\"Technology\",\"Technology\",\"Technology\",\"Fashion & Retail\",\"Finance & Investments\",\"Fashion & Retail\",\"Technology\",\"Real Estate\",\"Fashion & Retail\",\"Food & Beverage\",\"Technology\",\"Technology\",\"Metals & Mining\",\"Real Estate\",\"Manufacturing\",\"Technology\",\"Finance & Investments\",\"Fashion & Retail\",\"Manufacturing\",\"Healthcare\",\"Fashion & Retail\",\"Technology\",\"Technology\",\"Healthcare\",\"Finance & Investments\",\"Technology\",\"Technology\",\"Technology\",\"Technology\",\"Technology\",\"Metals & Mining\",\"Technology\",\"Media & Entertainment\",\"Technology\",\"Technology\",\"Healthcare\",\"Food & Beverage\",\"Technology\",\"Metals & Mining\",\"Metals & Mining\",\"Real Estate\",\"Metals & Mining\",\"Finance & Investments\",\"Technology\",\"Technology\",\"Fashion & Retail\",\"Food & Beverage\",\"Technology\",\"Service\",\"Manufacturing\",\"Manufacturing\",\"Finance & Investments\",\"Technology\",\"Sports\",\"Technology\",\"Technology\",\"Media & Entertainment\",\"Service\",\"Technology\",\"Energy\",\"Technology\",\"Technology\",\"Technology\",\"Manufacturing\",\"Technology\",\"Healthcare\",\"Technology\",\"Healthcare\",\"Food & Beverage\",\"Technology\",\"Diversified\",\"Diversified\",\"Technology\",\"Healthcare\",\"Technology\",\"Manufacturing\",\"Technology\",\"Fashion & Retail\",\"Real Estate\",\"Technology\",\"Fashion & Retail\",\"Finance & Investments\",\"Technology\"],\"xaxis\":\"x\",\"y\":[1,1,1,1,1,1,1,1,1,1,1,1,1,1,1,1,1,1,1,1,1,1,1,1,1,1,1,1,1,1,1,1,1,1,1,1,1,1,1,1,1,1,1,1,1,1,1,1,1,1,1,1,1,1,1,1,1,1,1,1,1,1,1,1,1,1,1,1,1,1,1,1,1,1,1,1,1,1,1,1,1,1,1,1,1,1,1,1,1,1,1,1,1,1,1,1,1,1,1,1,1,1,1,1,1,1,1,1,1,1,1,1,1,1,1,1,1,1,1,1,1,1,1,1,1,1,1,1,1,1,1,1,1,1,1,1,1,1,1,1,1,1,1,1,1,1,1,1,1,1,1,1,1,1,1,1,1,1,1,1,1,1,1,1,1,1,1,1,1,1,1,1,1,1,1,1,1,1,1,1,1,1,1,1,1,1,1,1,1,1,1,1,1,1,1,1,1,1,1,1,1,1,1,1,1,1,1,1,1,1,1,1,1,1,1,1,1,1,1,1,1,1,1,1,1,1,1,1,1,1,1,1,1,1,1,1,1,1,1,1,1,1,1,1,1,1,1,1,1,1,1,1,1,1,1,1,1,1,1,1,1,1,1,1,1,1,1,1,1,1,1,1,1,1,1,1,1,1,1,1,1,1,1,1,1,1,1,1,1,1,1,1,1,1,1,1,1,1,1,1,1,1,1,1,1,1,1,1,1,1,1,1,1,1,1,1,1,1,1,1,1,1,1,1],\"yaxis\":\"y\",\"type\":\"bar\"},{\"alignmentgroup\":\"True\",\"hovertemplate\":\"age_group=2\\u003cbr\\u003ecategory=%{x}\\u003cbr\\u003ecount=%{y}\\u003cextra\\u003e\\u003c\\u002fextra\\u003e\",\"legendgroup\":\"2\",\"marker\":{\"color\":\"#EF553B\",\"pattern\":{\"shape\":\"\"}},\"name\":\"2\",\"offsetgroup\":\"2\",\"orientation\":\"v\",\"showlegend\":true,\"textposition\":\"auto\",\"x\":[\"Construction & Engineering\",\"Automotive\",\"Manufacturing\",\"Healthcare\",\"Manufacturing\",\"Food & Beverage\",\"Healthcare\",\"Manufacturing\",\"Manufacturing\",\"Healthcare\",\"Healthcare\",\"Diversified\",\"Manufacturing\",\"Fashion & Retail\",\"Food & Beverage\",\"Manufacturing\",\"Technology\",\"Energy\",\"Diversified\",\"Diversified\",\"Food & Beverage\",\"Metals & Mining\",\"Manufacturing\",\"Manufacturing\",\"Manufacturing\",\"Technology\",\"Food & Beverage\",\"Technology\",\"Manufacturing\",\"Manufacturing\",\"Finance & Investments\",\"Energy\",\"Manufacturing\",\"Service\",\"Gambling & Casinos\",\"Food & Beverage\",\"Manufacturing\",\"Finance & Investments\",\"Logistics\",\"Media & Entertainment\",\"Healthcare\",\"Technology\",\"Technology\",\"Technology\",\"Automotive\",\"Manufacturing\",\"Manufacturing\",\"Food & Beverage\",\"Fashion & Retail\",\"Finance & Investments\",\"Finance & Investments\",\"Energy\",\"Technology\",\"Metals & Mining\",\"Food & Beverage\",\"Healthcare\",\"Healthcare\",\"Finance & Investments\",\"Construction & Engineering\",\"Technology\",\"Metals & Mining\",\"Fashion & Retail\",\"Manufacturing\",\"Manufacturing\",\"Manufacturing\",\"Healthcare\",\"Finance & Investments\",\"Finance & Investments\",\"Real Estate\",\"Food & Beverage\",\"Metals & Mining\",\"Technology\",\"Food & Beverage\",\"Technology\",\"Service\",\"Finance & Investments\",\"Technology\",\"Real Estate\",\"Diversified\",\"Food & Beverage\",\"Finance & Investments\",\"Food & Beverage\",\"Healthcare\",\"Fashion & Retail\",\"Technology\",\"Gambling & Casinos\",\"Technology\",\"Healthcare\",\"Gambling & Casinos\",\"Diversified\",\"Manufacturing\",\"Energy\",\"Manufacturing\",\"Diversified\",\"Finance & Investments\",\"Telecom\",\"Technology\",\"Healthcare\",\"Technology\",\"Fashion & Retail\",\"Finance & Investments\",\"Fashion & Retail\",\"Real Estate\",\"Manufacturing\",\"Fashion & Retail\",\"Finance & Investments\",\"Diversified\",\"Food & Beverage\",\"Food & Beverage\",\"Technology\",\"Manufacturing\",\"Manufacturing\",\"Fashion & Retail\",\"Diversified\",\"Diversified\",\"Finance & Investments\",\"Healthcare\",\"Fashion & Retail\",\"Finance & Investments\",\"Healthcare\",\"Finance & Investments\",\"Technology\",\"Manufacturing\",\"Finance & Investments\",\"Energy\",\"Manufacturing\",\"Diversified\",\"Real Estate\",\"Manufacturing\",\"Manufacturing\",\"Media & Entertainment\",\"Fashion & Retail\",\"Gambling & Casinos\",\"Manufacturing\",\"Technology\",\"Finance & Investments\",\"Logistics\",\"Technology\",\"Finance & Investments\",\"Manufacturing\",\"Manufacturing\",\"Technology\",\"Real Estate\",\"Technology\",\"Service\",\"Media & Entertainment\",\"Fashion & Retail\",\"Energy\",\"Technology\",\"Media & Entertainment\",\"Technology\",\"Manufacturing\",\"Technology\",\"Finance & Investments\",\"Fashion & Retail\",\"Healthcare\",\"Healthcare\",\"Manufacturing\",\"Food & Beverage\",\"Metals & Mining\",\"Technology\",\"Metals & Mining\",\"Finance & Investments\",\"Technology\",\"Metals & Mining\",\"Service\",\"Healthcare\",\"Real Estate\",\"Healthcare\",\"Finance & Investments\",\"Fashion & Retail\",\"Diversified\",\"Manufacturing\",\"Technology\",\"Diversified\",\"Healthcare\",\"Technology\",\"Real Estate\",\"Food & Beverage\",\"Manufacturing\",\"Food & Beverage\",\"Automotive\",\"Healthcare\",\"Finance & Investments\",\"Manufacturing\",\"Sports\",\"Real Estate\",\"Manufacturing\",\"Manufacturing\",\"Real Estate\",\"Food & Beverage\",\"Technology\",\"Technology\",\"Real Estate\",\"Construction & Engineering\",\"Healthcare\",\"Real Estate\",\"Finance & Investments\",\"Finance & Investments\",\"Media & Entertainment\",\"Food & Beverage\",\"Finance & Investments\",\"Fashion & Retail\",\"Manufacturing\",\"Diversified\",\"Manufacturing\",\"Diversified\",\"Automotive\",\"Fashion & Retail\",\"Manufacturing\",\"Real Estate\",\"Finance & Investments\",\"Healthcare\",\"Technology\",\"Healthcare\",\"Construction & Engineering\",\"Logistics\",\"Media & Entertainment\",\"Diversified\",\"Finance & Investments\",\"Technology\",\"Real Estate\",\"Technology\",\"Food & Beverage\",\"Technology\",\"Technology\",\"Fashion & Retail\",\"Technology\",\"Construction & Engineering\",\"Construction & Engineering\",\"Manufacturing\",\"Healthcare\",\"Healthcare\",\"Manufacturing\",\"Real Estate\",\"Logistics\",\"Technology\",\"Finance & Investments\",\"Technology\",\"Manufacturing\",\"Energy\",\"Healthcare\",\"Manufacturing\",\"Manufacturing\",\"Healthcare\",\"Finance & Investments\",\"Technology\",\"Technology\",\"Real Estate\",\"Fashion & Retail\",\"Logistics\",\"Technology\",\"Technology\",\"Manufacturing\",\"Food & Beverage\",\"Technology\",\"Real Estate\",\"Metals & Mining\",\"Manufacturing\",\"Manufacturing\",\"Fashion & Retail\",\"Healthcare\",\"Gambling & Casinos\",\"Metals & Mining\",\"Technology\",\"Manufacturing\",\"Finance & Investments\",\"Finance & Investments\",\"Technology\",\"Technology\",\"Sports\",\"Manufacturing\",\"Manufacturing\",\"Manufacturing\",\"Food & Beverage\",\"Healthcare\",\"Technology\",\"Food & Beverage\",\"Automotive\",\"Technology\",\"Manufacturing\",\"Manufacturing\",\"Technology\",\"Fashion & Retail\",\"Metals & Mining\",\"Fashion & Retail\",\"Metals & Mining\",\"Metals & Mining\",\"Finance & Investments\",\"Technology\",\"Food & Beverage\",\"Technology\",\"Technology\",\"Metals & Mining\",\"Diversified\",\"Fashion & Retail\",\"Healthcare\",\"Technology\",\"Fashion & Retail\",\"Real Estate\",\"Real Estate\",\"Food & Beverage\",\"Food & Beverage\",\"Logistics\",\"Healthcare\",\"Energy\",\"Fashion & Retail\",\"Real Estate\",\"Sports\",\"Energy\",\"Metals & Mining\",\"Healthcare\",\"Healthcare\",\"Fashion & Retail\",\"Real Estate\",\"Finance & Investments\",\"Real Estate\",\"Media & Entertainment\",\"Media & Entertainment\",\"Construction & Engineering\",\"Fashion & Retail\",\"Manufacturing\",\"Finance & Investments\",\"Fashion & Retail\",\"Healthcare\",\"Manufacturing\",\"Finance & Investments\",\"Manufacturing\",\"Finance & Investments\",\"Logistics\",\"Finance & Investments\",\"Manufacturing\",\"Technology\",\"Healthcare\",\"Healthcare\",\"Technology\",\"Technology\",\"Technology\",\"Real Estate\",\"Fashion & Retail\",\"Manufacturing\",\"Manufacturing\",\"Food & Beverage\",\"Fashion & Retail\",\"Fashion & Retail\",\"Manufacturing\",\"Metals & Mining\",\"Finance & Investments\",\"Technology\",\"Finance & Investments\",\"Manufacturing\",\"Manufacturing\",\"Technology\",\"Construction & Engineering\",\"Construction & Engineering\",\"Technology\",\"Technology\",\"Manufacturing\",\"Diversified\",\"Diversified\",\"Real Estate\",\"Finance & Investments\",\"Finance & Investments\",\"Food & Beverage\",\"Food & Beverage\",\"Manufacturing\",\"Technology\",\"Healthcare\",\"Manufacturing\",\"Food & Beverage\",\"Manufacturing\",\"Energy\",\"Manufacturing\",\"Diversified\",\"Gambling & Casinos\",\"Diversified\",\"Finance & Investments\",\"Metals & Mining\",\"Real Estate\",\"Finance & Investments\",\"Technology\",\"Fashion & Retail\",\"Finance & Investments\",\"Metals & Mining\",\"Fashion & Retail\",\"Finance & Investments\",\"Technology\",\"Manufacturing\",\"Food & Beverage\",\"Technology\",\"Manufacturing\",\"Healthcare\",\"Energy\",\"Diversified\",\"Technology\",\"Finance & Investments\",\"Technology\",\"Fashion & Retail\",\"Fashion & Retail\",\"Energy\",\"Energy\",\"Food & Beverage\",\"Food & Beverage\",\"Manufacturing\",\"Manufacturing\",\"Finance & Investments\",\"Finance & Investments\",\"Manufacturing\",\"Technology\",\"Manufacturing\",\"Manufacturing\",\"Manufacturing\",\"Fashion & Retail\",\"Fashion & Retail\",\"Real Estate\",\"Healthcare\",\"Finance & Investments\",\"Energy\",\"Metals & Mining\",\"Real Estate\",\"Real Estate\",\"Finance & Investments\",\"Finance & Investments\",\"Finance & Investments\",\"Media & Entertainment\",\"Manufacturing\",\"Energy\",\"Finance & Investments\",\"Food & Beverage\",\"Energy\",\"Gambling & Casinos\",\"Energy\",\"Finance & Investments\",\"Food & Beverage\",\"Finance & Investments\",\"Technology\",\"Diversified\",\"Finance & Investments\",\"Construction & Engineering\",\"Manufacturing\",\"Healthcare\",\"Automotive\",\"Manufacturing\",\"Telecom\",\"Energy\",\"Manufacturing\",\"Manufacturing\",\"Healthcare\",\"Manufacturing\",\"Technology\",\"Real Estate\",\"Healthcare\",\"Manufacturing\",\"Real Estate\",\"Manufacturing\",\"Telecom\",\"Finance & Investments\",\"Manufacturing\",\"Real Estate\",\"Diversified\",\"Metals & Mining\",\"Automotive\",\"Technology\",\"Technology\",\"Finance & Investments\",\"Technology\",\"Fashion & Retail\",\"Healthcare\",\"Food & Beverage\",\"Service\",\"Technology\",\"Technology\",\"Metals & Mining\",\"Service\",\"Service\",\"Real Estate\",\"Manufacturing\",\"Automotive\",\"Metals & Mining\",\"Food & Beverage\",\"Automotive\",\"Healthcare\",\"Technology\",\"Real Estate\",\"Manufacturing\",\"Energy\",\"Automotive\",\"Technology\",\"Automotive\",\"Technology\",\"Manufacturing\",\"Healthcare\",\"Manufacturing\",\"Manufacturing\",\"Fashion & Retail\",\"Sports\",\"Food & Beverage\",\"Automotive\",\"Diversified\",\"Healthcare\",\"Finance & Investments\",\"Manufacturing\",\"Diversified\",\"Finance & Investments\",\"Diversified\",\"Service\",\"Food & Beverage\",\"Technology\",\"Finance & Investments\",\"Automotive\",\"Media & Entertainment\",\"Construction & Engineering\",\"Manufacturing\",\"Manufacturing\",\"Technology\",\"Metals & Mining\",\"Manufacturing\",\"Finance & Investments\",\"Healthcare\",\"Automotive\",\"Real Estate\",\"Fashion & Retail\",\"Energy\",\"Logistics\",\"Logistics\",\"Logistics\",\"Finance & Investments\",\"Technology\",\"Fashion & Retail\",\"Telecom\",\"Healthcare\",\"Food & Beverage\",\"Diversified\",\"Sports\",\"Healthcare\",\"Automotive\",\"Finance & Investments\",\"Finance & Investments\",\"Real Estate\",\"Finance & Investments\",\"Manufacturing\",\"Technology\",\"Technology\",\"Food & Beverage\",\"Healthcare\",\"Finance & Investments\",\"Healthcare\",\"Finance & Investments\",\"Automotive\",\"Manufacturing\",\"Healthcare\",\"Automotive\",\"Diversified\",\"Fashion & Retail\",\"Construction & Engineering\",\"Healthcare\",\"Media & Entertainment\",\"Food & Beverage\",\"Automotive\",\"Food & Beverage\",\"Finance & Investments\",\"Telecom\",\"Energy\",\"Technology\",\"Technology\",\"Manufacturing\",\"Food & Beverage\",\"Manufacturing\",\"Fashion & Retail\",\"Finance & Investments\",\"Manufacturing\",\"Finance & Investments\",\"Technology\",\"Energy\",\"Energy\",\"Logistics\",\"Technology\",\"Diversified\",\"Manufacturing\",\"Manufacturing\",\"Food & Beverage\",\"Real Estate\",\"Healthcare\",\"Food & Beverage\",\"Finance & Investments\",\"Finance & Investments\",\"Logistics\",\"Healthcare\",\"Finance & Investments\",\"Fashion & Retail\",\"Technology\",\"Healthcare\",\"Finance & Investments\",\"Technology\",\"Real Estate\",\"Manufacturing\",\"Diversified\",\"Metals & Mining\",\"Sports\",\"Manufacturing\",\"Fashion & Retail\",\"Fashion & Retail\",\"Healthcare\",\"Manufacturing\",\"Manufacturing\",\"Food & Beverage\",\"Healthcare\",\"Manufacturing\",\"Finance & Investments\",\"Manufacturing\",\"Fashion & Retail\",\"Sports\",\"Manufacturing\",\"Healthcare\",\"Finance & Investments\",\"Manufacturing\",\"Media & Entertainment\",\"Manufacturing\",\"Finance & Investments\",\"Sports\",\"Energy\",\"Finance & Investments\",\"Finance & Investments\",\"Telecom\",\"Food & Beverage\",\"Technology\",\"Healthcare\",\"Finance & Investments\",\"Fashion & Retail\",\"Food & Beverage\",\"Technology\",\"Technology\",\"Automotive\",\"Food & Beverage\",\"Technology\",\"Telecom\",\"Technology\",\"Fashion & Retail\",\"Diversified\",\"Finance & Investments\",\"Healthcare\",\"Telecom\",\"Manufacturing\",\"Healthcare\",\"Healthcare\",\"Finance & Investments\",\"Construction & Engineering\",\"Telecom\",\"Finance & Investments\",\"Healthcare\",\"Logistics\",\"Technology\",\"Finance & Investments\",\"Healthcare\",\"Technology\",\"Service\",\"Service\",\"Manufacturing\",\"Finance & Investments\",\"Finance & Investments\",\"Automotive\",\"Automotive\",\"Service\",\"Finance & Investments\",\"Manufacturing\",\"Technology\",\"Energy\",\"Real Estate\",\"Diversified\",\"Real Estate\",\"Technology\",\"Gambling & Casinos\",\"Finance & Investments\",\"Healthcare\",\"Healthcare\",\"Real Estate\",\"Diversified\",\"Manufacturing\",\"Healthcare\"],\"xaxis\":\"x\",\"y\":[1,1,1,1,1,1,1,1,1,1,1,1,1,1,1,1,1,1,1,1,1,1,1,1,1,1,1,1,1,1,1,1,1,1,1,1,1,1,1,1,1,1,1,1,1,1,1,1,1,1,1,1,1,1,1,1,1,1,1,1,1,1,1,1,1,1,1,1,1,1,1,1,1,1,1,1,1,1,1,1,1,1,1,1,1,1,1,1,1,1,1,1,1,1,1,1,1,1,1,1,1,1,1,1,1,1,1,1,1,1,1,1,1,1,1,1,1,1,1,1,1,1,1,1,1,1,1,1,1,1,1,1,1,1,1,1,1,1,1,1,1,1,1,1,1,1,1,1,1,1,1,1,1,1,1,1,1,1,1,1,1,1,1,1,1,1,1,1,1,1,1,1,1,1,1,1,1,1,1,1,1,1,1,1,1,1,1,1,1,1,1,1,1,1,1,1,1,1,1,1,1,1,1,1,1,1,1,1,1,1,1,1,1,1,1,1,1,1,1,1,1,1,1,1,1,1,1,1,1,1,1,1,1,1,1,1,1,1,1,1,1,1,1,1,1,1,1,1,1,1,1,1,1,1,1,1,1,1,1,1,1,1,1,1,1,1,1,1,1,1,1,1,1,1,1,1,1,1,1,1,1,1,1,1,1,1,1,1,1,1,1,1,1,1,1,1,1,1,1,1,1,1,1,1,1,1,1,1,1,1,1,1,1,1,1,1,1,1,1,1,1,1,1,1,1,1,1,1,1,1,1,1,1,1,1,1,1,1,1,1,1,1,1,1,1,1,1,1,1,1,1,1,1,1,1,1,1,1,1,1,1,1,1,1,1,1,1,1,1,1,1,1,1,1,1,1,1,1,1,1,1,1,1,1,1,1,1,1,1,1,1,1,1,1,1,1,1,1,1,1,1,1,1,1,1,1,1,1,1,1,1,1,1,1,1,1,1,1,1,1,1,1,1,1,1,1,1,1,1,1,1,1,1,1,1,1,1,1,1,1,1,1,1,1,1,1,1,1,1,1,1,1,1,1,1,1,1,1,1,1,1,1,1,1,1,1,1,1,1,1,1,1,1,1,1,1,1,1,1,1,1,1,1,1,1,1,1,1,1,1,1,1,1,1,1,1,1,1,1,1,1,1,1,1,1,1,1,1,1,1,1,1,1,1,1,1,1,1,1,1,1,1,1,1,1,1,1,1,1,1,1,1,1,1,1,1,1,1,1,1,1,1,1,1,1,1,1,1,1,1,1,1,1,1,1,1,1,1,1,1,1,1,1,1,1,1,1,1,1,1,1,1,1,1,1,1,1,1,1,1,1,1,1,1,1,1,1,1,1,1,1,1,1,1,1,1,1,1,1,1,1,1,1,1,1,1,1,1,1,1,1,1,1,1,1,1,1,1,1,1,1,1,1,1,1,1,1,1,1,1,1,1,1,1,1,1,1,1,1,1,1,1,1,1,1,1,1,1,1,1,1,1,1,1,1,1,1,1,1,1,1,1,1,1,1,1,1,1,1,1,1,1,1,1,1,1,1,1,1],\"yaxis\":\"y\",\"type\":\"bar\"},{\"alignmentgroup\":\"True\",\"hovertemplate\":\"age_group=3\\u003cbr\\u003ecategory=%{x}\\u003cbr\\u003ecount=%{y}\\u003cextra\\u003e\\u003c\\u002fextra\\u003e\",\"legendgroup\":\"3\",\"marker\":{\"color\":\"#00cc96\",\"pattern\":{\"shape\":\"\"}},\"name\":\"3\",\"offsetgroup\":\"3\",\"orientation\":\"v\",\"showlegend\":true,\"textposition\":\"auto\",\"x\":[\"Manufacturing\",\"Healthcare\",\"Healthcare\",\"Finance & Investments\",\"Finance & Investments\",\"Telecom\",\"Fashion & Retail\",\"Finance & Investments\",\"Healthcare\",\"Diversified\",\"Fashion & Retail\",\"Technology\",\"Automotive\",\"Telecom\",\"Fashion & Retail\",\"Construction & Engineering\",\"Manufacturing\",\"Diversified\",\"Real Estate\",\"Manufacturing\",\"Fashion & Retail\",\"Manufacturing\",\"Media & Entertainment\",\"Telecom\",\"Healthcare\",\"Fashion & Retail\",\"Technology\",\"Healthcare\",\"Telecom\",\"Service\",\"Food & Beverage\",\"Automotive\",\"Technology\",\"Manufacturing\",\"Manufacturing\",\"Energy\",\"Manufacturing\",\"Energy\",\"Manufacturing\",\"Diversified\",\"Diversified\",\"Finance & Investments\",\"Real Estate\",\"Finance & Investments\",\"Diversified\",\"Finance & Investments\",\"Construction & Engineering\",\"Real Estate\",\"Automotive\",\"Manufacturing\",\"Healthcare\",\"Real Estate\",\"Technology\",\"Automotive\",\"Food & Beverage\",\"Telecom\",\"Healthcare\",\"Finance & Investments\",\"Food & Beverage\",\"Real Estate\",\"Manufacturing\",\"Metals & Mining\",\"Automotive\",\"Finance & Investments\",\"Healthcare\",\"Healthcare\",\"Food & Beverage\",\"Manufacturing\",\"Sports\",\"Finance & Investments\",\"Technology\",\"Energy\",\"Real Estate\",\"Automotive\",\"Diversified\",\"Diversified\",\"Real Estate\",\"Finance & Investments\",\"Fashion & Retail\",\"Manufacturing\",\"Healthcare\",\"Technology\",\"Manufacturing\",\"Real Estate\",\"Healthcare\",\"Real Estate\",\"Manufacturing\",\"Food & Beverage\",\"Finance & Investments\",\"Service\",\"Food & Beverage\",\"Finance & Investments\",\"Food & Beverage\",\"Food & Beverage\",\"Food & Beverage\",\"Real Estate\",\"Fashion & Retail\",\"Real Estate\",\"Fashion & Retail\",\"Healthcare\",\"Manufacturing\",\"Manufacturing\",\"Manufacturing\",\"Energy\",\"Technology\",\"Healthcare\",\"Manufacturing\",\"Food & Beverage\",\"Food & Beverage\",\"Sports\",\"Metals & Mining\",\"Finance & Investments\",\"Manufacturing\",\"Automotive\",\"Healthcare\",\"Fashion & Retail\",\"Fashion & Retail\",\"Construction & Engineering\",\"Diversified\",\"Diversified\",\"Manufacturing\",\"Energy\",\"Healthcare\",\"Real Estate\",\"Finance & Investments\",\"Real Estate\",\"Real Estate\",\"Manufacturing\",\"Healthcare\",\"Automotive\",\"Finance & Investments\",\"Fashion & Retail\",\"Fashion & Retail\",\"Media & Entertainment\",\"Technology\",\"Gambling & Casinos\",\"Metals & Mining\",\"Food & Beverage\",\"Energy\",\"Manufacturing\",\"Fashion & Retail\",\"Real Estate\",\"Finance & Investments\",\"Energy\",\"Telecom\",\"Healthcare\",\"Diversified\",\"Finance & Investments\",\"Metals & Mining\",\"Media & Entertainment\",\"Fashion & Retail\",\"Diversified\",\"Diversified\",\"Diversified\",\"Service\",\"Energy\",\"Manufacturing\",\"Fashion & Retail\",\"Finance & Investments\",\"Manufacturing\",\"Manufacturing\",\"Technology\",\"Fashion & Retail\",\"Manufacturing\",\"Real Estate\",\"Healthcare\",\"Technology\",\"Diversified\",\"Real Estate\",\"Fashion & Retail\",\"Real Estate\",\"Real Estate\",\"Finance & Investments\",\"Diversified\",\"Finance & Investments\",\"Manufacturing\",\"Media & Entertainment\",\"Metals & Mining\",\"Manufacturing\",\"Food & Beverage\",\"Real Estate\",\"Technology\",\"Real Estate\",\"Diversified\",\"Diversified\",\"Healthcare\",\"Media & Entertainment\",\"Real Estate\",\"Diversified\",\"Manufacturing\",\"Diversified\",\"Food & Beverage\",\"Real Estate\",\"Diversified\",\"Service\",\"Food & Beverage\",\"Food & Beverage\",\"Diversified\",\"Sports\",\"Technology\",\"Diversified\",\"Telecom\",\"Healthcare\",\"Diversified\",\"Metals & Mining\",\"Media & Entertainment\",\"Construction & Engineering\",\"Metals & Mining\",\"Finance & Investments\",\"Sports\",\"Food & Beverage\",\"Healthcare\",\"Technology\",\"Real Estate\",\"Real Estate\",\"Manufacturing\",\"Diversified\",\"Energy\",\"Real Estate\",\"Fashion & Retail\",\"Finance & Investments\",\"Technology\",\"Finance & Investments\",\"Finance & Investments\",\"Diversified\",\"Logistics\",\"Technology\",\"Healthcare\",\"Real Estate\",\"Logistics\",\"Healthcare\",\"Diversified\",\"Manufacturing\",\"Manufacturing\",\"Fashion & Retail\",\"Manufacturing\",\"Diversified\",\"Fashion & Retail\",\"Technology\",\"Food & Beverage\",\"Technology\",\"Diversified\",\"Technology\",\"Diversified\",\"Manufacturing\",\"Technology\",\"Diversified\",\"Diversified\",\"Real Estate\",\"Media & Entertainment\",\"Manufacturing\",\"Real Estate\",\"Fashion & Retail\",\"Real Estate\",\"Finance & Investments\",\"Automotive\",\"Energy\",\"Finance & Investments\",\"Food & Beverage\",\"Energy\",\"Real Estate\",\"Healthcare\",\"Healthcare\",\"Food & Beverage\",\"Finance & Investments\",\"Diversified\",\"Diversified\",\"Diversified\",\"Diversified\",\"Manufacturing\",\"Healthcare\",\"Healthcare\",\"Metals & Mining\",\"Construction & Engineering\",\"Finance & Investments\",\"Sports\",\"Logistics\",\"Energy\",\"Food & Beverage\",\"Finance & Investments\",\"Finance & Investments\",\"Fashion & Retail\",\"Healthcare\",\"Technology\",\"Technology\",\"Fashion & Retail\",\"Manufacturing\",\"Fashion & Retail\",\"Finance & Investments\",\"Energy\",\"Finance & Investments\",\"Diversified\",\"Manufacturing\",\"Diversified\",\"Fashion & Retail\",\"Energy\",\"Fashion & Retail\",\"Manufacturing\",\"Energy\",\"Fashion & Retail\",\"Real Estate\",\"Diversified\",\"Manufacturing\",\"Finance & Investments\",\"Manufacturing\",\"Technology\",\"Service\",\"Technology\",\"Technology\",\"Fashion & Retail\",\"Healthcare\",\"Real Estate\",\"Energy\",\"Automotive\",\"Technology\",\"Healthcare\",\"Manufacturing\",\"Fashion & Retail\",\"Sports\",\"Manufacturing\",\"Finance & Investments\",\"Media & Entertainment\",\"Manufacturing\",\"Fashion & Retail\",\"Media & Entertainment\",\"Manufacturing\",\"Fashion & Retail\",\"Fashion & Retail\",\"Healthcare\",\"Finance & Investments\",\"Diversified\",\"Manufacturing\",\"Technology\",\"Automotive\",\"Energy\",\"Service\",\"Diversified\",\"Media & Entertainment\",\"Media & Entertainment\",\"Finance & Investments\",\"Finance & Investments\",\"Food & Beverage\",\"Finance & Investments\",\"Gambling & Casinos\",\"Technology\",\"Food & Beverage\",\"Diversified\",\"Real Estate\",\"Technology\",\"Finance & Investments\",\"Service\",\"Media & Entertainment\",\"Service\",\"Fashion & Retail\",\"Media & Entertainment\",\"Healthcare\",\"Diversified\",\"Finance & Investments\",\"Real Estate\",\"Diversified\",\"Manufacturing\",\"Real Estate\",\"Sports\",\"Food & Beverage\",\"Food & Beverage\",\"Diversified\",\"Manufacturing\",\"Manufacturing\",\"Technology\",\"Healthcare\",\"Real Estate\",\"Fashion & Retail\",\"Food & Beverage\",\"Finance & Investments\",\"Automotive\",\"Technology\",\"Media & Entertainment\",\"Finance & Investments\",\"Real Estate\",\"Fashion & Retail\",\"Food & Beverage\",\"Manufacturing\",\"Food & Beverage\",\"Technology\",\"Finance & Investments\",\"Media & Entertainment\",\"Metals & Mining\",\"Manufacturing\",\"Manufacturing\",\"Finance & Investments\",\"Diversified\",\"Technology\",\"Energy\",\"Media & Entertainment\",\"Fashion & Retail\",\"Manufacturing\",\"Real Estate\",\"Construction & Engineering\",\"Energy\",\"Food & Beverage\",\"Diversified\",\"Manufacturing\",\"Technology\",\"Technology\",\"Food & Beverage\",\"Manufacturing\",\"Manufacturing\",\"Technology\",\"Healthcare\",\"Manufacturing\",\"Manufacturing\",\"Media & Entertainment\",\"Finance & Investments\",\"Fashion & Retail\",\"Diversified\",\"Metals & Mining\",\"Sports\",\"Technology\",\"Healthcare\",\"Food & Beverage\",\"Finance & Investments\",\"Real Estate\",\"Manufacturing\",\"Finance & Investments\",\"Diversified\",\"Fashion & Retail\",\"Logistics\",\"Manufacturing\",\"Technology\",\"Automotive\",\"Fashion & Retail\",\"Construction & Engineering\",\"Food & Beverage\",\"Real Estate\",\"Fashion & Retail\",\"Service\",\"Finance & Investments\",\"Telecom\",\"Diversified\",\"Food & Beverage\",\"Energy\",\"Fashion & Retail\",\"Construction & Engineering\",\"Food & Beverage\",\"Finance & Investments\",\"Food & Beverage\",\"Manufacturing\",\"Construction & Engineering\",\"Media & Entertainment\",\"Healthcare\",\"Fashion & Retail\",\"Technology\",\"Telecom\",\"Manufacturing\",\"Healthcare\",\"Finance & Investments\",\"Automotive\",\"Technology\",\"Real Estate\",\"Finance & Investments\",\"Fashion & Retail\",\"Finance & Investments\",\"Finance & Investments\",\"Finance & Investments\",\"Real Estate\",\"Technology\",\"Service\",\"Finance & Investments\",\"Fashion & Retail\",\"Logistics\",\"Real Estate\",\"Service\",\"Food & Beverage\",\"Logistics\",\"Real Estate\",\"Finance & Investments\",\"Energy\",\"Finance & Investments\",\"Fashion & Retail\",\"Fashion & Retail\",\"Fashion & Retail\",\"Finance & Investments\",\"Finance & Investments\",\"Healthcare\",\"Automotive\",\"Manufacturing\",\"Real Estate\",\"Fashion & Retail\",\"Manufacturing\",\"Construction & Engineering\",\"Fashion & Retail\",\"Fashion & Retail\",\"Diversified\",\"Finance & Investments\",\"Manufacturing\",\"Fashion & Retail\",\"Real Estate\",\"Food & Beverage\",\"Finance & Investments\",\"Food & Beverage\",\"Real Estate\",\"Food & Beverage\",\"Healthcare\",\"Technology\",\"Metals & Mining\",\"Food & Beverage\",\"Real Estate\",\"Energy\",\"Fashion & Retail\",\"Real Estate\",\"Energy\",\"Fashion & Retail\",\"Finance & Investments\",\"Technology\",\"Finance & Investments\",\"Technology\",\"Automotive\",\"Manufacturing\",\"Food & Beverage\",\"Manufacturing\",\"Fashion & Retail\",\"Healthcare\",\"Finance & Investments\",\"Healthcare\",\"Metals & Mining\",\"Food & Beverage\",\"Fashion & Retail\",\"Fashion & Retail\",\"Manufacturing\",\"Real Estate\",\"Manufacturing\",\"Diversified\",\"Fashion & Retail\",\"Technology\",\"Real Estate\",\"Finance & Investments\",\"Diversified\",\"Fashion & Retail\",\"Finance & Investments\",\"Construction & Engineering\",\"Real Estate\",\"Real Estate\",\"Metals & Mining\",\"Healthcare\",\"Food & Beverage\",\"Finance & Investments\",\"Technology\",\"Energy\",\"Media & Entertainment\",\"Diversified\",\"Fashion & Retail\",\"Manufacturing\",\"Finance & Investments\",\"Finance & Investments\",\"Service\",\"Finance & Investments\",\"Healthcare\",\"Manufacturing\",\"Finance & Investments\",\"Manufacturing\",\"Food & Beverage\",\"Manufacturing\",\"Fashion & Retail\",\"Food & Beverage\",\"Real Estate\",\"Technology\",\"Manufacturing\",\"Manufacturing\",\"Fashion & Retail\",\"Media & Entertainment\",\"Gambling & Casinos\",\"Media & Entertainment\",\"Food & Beverage\",\"Finance & Investments\",\"Diversified\",\"Diversified\",\"Healthcare\",\"Finance & Investments\",\"Media & Entertainment\",\"Food & Beverage\",\"Media & Entertainment\",\"Technology\",\"Real Estate\",\"Manufacturing\",\"Finance & Investments\",\"Metals & Mining\",\"Finance & Investments\",\"Finance & Investments\",\"Healthcare\",\"Healthcare\",\"Manufacturing\",\"Technology\",\"Technology\",\"Manufacturing\",\"Food & Beverage\",\"Manufacturing\",\"Fashion & Retail\",\"Fashion & Retail\",\"Sports\",\"Real Estate\",\"Construction & Engineering\",\"Service\",\"Fashion & Retail\",\"Manufacturing\",\"Diversified\",\"Fashion & Retail\",\"Real Estate\",\"Telecom\",\"Metals & Mining\",\"Healthcare\",\"Fashion & Retail\",\"Finance & Investments\",\"Technology\",\"Fashion & Retail\",\"Fashion & Retail\",\"Manufacturing\",\"Fashion & Retail\",\"Healthcare\",\"Technology\",\"Technology\",\"Technology\",\"Manufacturing\",\"Fashion & Retail\",\"Fashion & Retail\",\"Fashion & Retail\",\"Media & Entertainment\",\"Manufacturing\",\"Finance & Investments\",\"Technology\",\"Finance & Investments\",\"Real Estate\",\"Fashion & Retail\",\"Fashion & Retail\",\"Fashion & Retail\",\"Finance & Investments\",\"Finance & Investments\",\"Logistics\",\"Finance & Investments\",\"Energy\",\"Automotive\",\"Finance & Investments\",\"Real Estate\",\"Healthcare\",\"Fashion & Retail\",\"Food & Beverage\",\"Real Estate\",\"Finance & Investments\",\"Service\",\"Technology\",\"Energy\",\"Healthcare\",\"Sports\",\"Service\",\"Technology\",\"Healthcare\",\"Finance & Investments\",\"Manufacturing\",\"Diversified\",\"Finance & Investments\",\"Finance & Investments\",\"Healthcare\",\"Finance & Investments\",\"Food & Beverage\",\"Food & Beverage\",\"Diversified\",\"Manufacturing\",\"Finance & Investments\",\"Energy\",\"Healthcare\",\"Diversified\",\"Telecom\",\"Energy\",\"Finance & Investments\",\"Telecom\",\"Telecom\",\"Finance & Investments\",\"Manufacturing\",\"Sports\",\"Diversified\",\"Energy\",\"Real Estate\",\"Real Estate\",\"Food & Beverage\",\"Service\",\"Finance & Investments\",\"Finance & Investments\",\"Food & Beverage\",\"Service\",\"Food & Beverage\",\"Food & Beverage\",\"Finance & Investments\",\"Finance & Investments\",\"Manufacturing\",\"Diversified\",\"Food & Beverage\",\"Healthcare\",\"Manufacturing\",\"Manufacturing\",\"Sports\",\"Energy\",\"Finance & Investments\",\"Sports\",\"Finance & Investments\",\"Service\",\"Finance & Investments\",\"Manufacturing\",\"Technology\",\"Finance & Investments\",\"Healthcare\",\"Real Estate\",\"Food & Beverage\",\"Metals & Mining\",\"Diversified\",\"Finance & Investments\",\"Healthcare\",\"Finance & Investments\",\"Technology\",\"Automotive\",\"Fashion & Retail\",\"Energy\",\"Food & Beverage\",\"Technology\",\"Manufacturing\",\"Finance & Investments\",\"Food & Beverage\",\"Diversified\",\"Food & Beverage\",\"Food & Beverage\",\"Manufacturing\",\"Technology\",\"Energy\",\"Food & Beverage\",\"Food & Beverage\",\"Technology\",\"Food & Beverage\",\"Diversified\",\"Manufacturing\",\"Service\",\"Technology\",\"Fashion & Retail\",\"Energy\",\"Finance & Investments\",\"Diversified\",\"Diversified\",\"Real Estate\",\"Metals & Mining\",\"Fashion & Retail\",\"Finance & Investments\",\"Finance & Investments\",\"Diversified\",\"Finance & Investments\",\"Manufacturing\",\"Construction & Engineering\",\"Energy\",\"Manufacturing\",\"Real Estate\",\"Media & Entertainment\",\"Energy\",\"Manufacturing\",\"Real Estate\",\"Finance & Investments\",\"Manufacturing\",\"Diversified\",\"Metals & Mining\",\"Metals & Mining\",\"Real Estate\",\"Manufacturing\",\"Telecom\",\"Metals & Mining\",\"Fashion & Retail\",\"Media & Entertainment\",\"Finance & Investments\",\"Healthcare\",\"Manufacturing\",\"Finance & Investments\",\"Automotive\",\"Technology\",\"Food & Beverage\",\"Fashion & Retail\",\"Food & Beverage\",\"Energy\",\"Healthcare\",\"Fashion & Retail\",\"Healthcare\",\"Manufacturing\",\"Food & Beverage\",\"Metals & Mining\",\"Finance & Investments\",\"Technology\",\"Manufacturing\",\"Fashion & Retail\",\"Construction & Engineering\",\"Healthcare\",\"Fashion & Retail\",\"Metals & Mining\",\"Finance & Investments\",\"Fashion & Retail\",\"Finance & Investments\",\"Technology\",\"Energy\",\"Finance & Investments\",\"Manufacturing\",\"Finance & Investments\",\"Food & Beverage\",\"Manufacturing\",\"Metals & Mining\",\"Food & Beverage\",\"Food & Beverage\",\"Finance & Investments\",\"Diversified\",\"Finance & Investments\",\"Diversified\",\"Diversified\",\"Diversified\",\"Fashion & Retail\",\"Finance & Investments\",\"Automotive\",\"Fashion & Retail\",\"Real Estate\",\"Fashion & Retail\",\"Media & Entertainment\",\"Finance & Investments\",\"Finance & Investments\",\"Food & Beverage\",\"Fashion & Retail\",\"Finance & Investments\",\"Healthcare\",\"Healthcare\",\"Food & Beverage\",\"Technology\",\"Food & Beverage\",\"Food & Beverage\",\"Construction & Engineering\",\"Food & Beverage\",\"Fashion & Retail\",\"Technology\",\"Fashion & Retail\",\"Manufacturing\",\"Diversified\",\"Diversified\",\"Diversified\",\"Finance & Investments\",\"Technology\",\"Technology\",\"Technology\",\"Fashion & Retail\",\"Fashion & Retail\",\"Diversified\",\"Diversified\",\"Real Estate\",\"Finance & Investments\",\"Diversified\",\"Diversified\",\"Technology\",\"Finance & Investments\",\"Fashion & Retail\",\"Fashion & Retail\",\"Energy\",\"Metals & Mining\",\"Metals & Mining\",\"Finance & Investments\",\"Real Estate\",\"Technology\",\"Energy\",\"Finance & Investments\",\"Fashion & Retail\",\"Finance & Investments\",\"Finance & Investments\",\"Manufacturing\",\"Technology\",\"Finance & Investments\",\"Technology\",\"Fashion & Retail\",\"Finance & Investments\",\"Food & Beverage\",\"Diversified\",\"Fashion & Retail\",\"Finance & Investments\",\"Fashion & Retail\",\"Fashion & Retail\",\"Fashion & Retail\",\"Fashion & Retail\",\"Gambling & Casinos\",\"Healthcare\",\"Finance & Investments\",\"Energy\",\"Technology\",\"Sports\",\"Manufacturing\",\"Finance & Investments\",\"Diversified\",\"Metals & Mining\",\"Food & Beverage\",\"Finance & Investments\",\"Automotive\",\"Diversified\",\"Finance & Investments\",\"Manufacturing\",\"Healthcare\",\"Energy\",\"Healthcare\",\"Manufacturing\",\"Healthcare\",\"Manufacturing\",\"Technology\",\"Energy\",\"Real Estate\",\"Manufacturing\",\"Automotive\",\"Metals & Mining\",\"Healthcare\",\"Telecom\",\"Healthcare\",\"Finance & Investments\",\"Finance & Investments\",\"Fashion & Retail\",\"Manufacturing\",\"Diversified\",\"Food & Beverage\",\"Telecom\",\"Diversified\",\"Technology\",\"Energy\",\"Diversified\",\"Manufacturing\",\"Manufacturing\",\"Construction & Engineering\",\"Manufacturing\",\"Fashion & Retail\",\"Technology\",\"Manufacturing\",\"Fashion & Retail\",\"Service\",\"Diversified\",\"Real Estate\",\"Fashion & Retail\",\"Gambling & Casinos\",\"Healthcare\",\"Diversified\",\"Fashion & Retail\",\"Fashion & Retail\",\"Diversified\",\"Diversified\",\"Finance & Investments\",\"Technology\",\"Sports\",\"Finance & Investments\",\"Technology\",\"Service\",\"Food & Beverage\",\"Finance & Investments\",\"Manufacturing\",\"Food & Beverage\",\"Healthcare\",\"Media & Entertainment\",\"Construction & Engineering\",\"Manufacturing\",\"Manufacturing\",\"Real Estate\",\"Technology\",\"Telecom\",\"Food & Beverage\",\"Finance & Investments\",\"Diversified\",\"Fashion & Retail\",\"Metals & Mining\",\"Finance & Investments\",\"Real Estate\",\"Healthcare\",\"Construction & Engineering\",\"Metals & Mining\",\"Healthcare\",\"Metals & Mining\"],\"xaxis\":\"x\",\"y\":[1,1,1,1,1,1,1,1,1,1,1,1,1,1,1,1,1,1,1,1,1,1,1,1,1,1,1,1,1,1,1,1,1,1,1,1,1,1,1,1,1,1,1,1,1,1,1,1,1,1,1,1,1,1,1,1,1,1,1,1,1,1,1,1,1,1,1,1,1,1,1,1,1,1,1,1,1,1,1,1,1,1,1,1,1,1,1,1,1,1,1,1,1,1,1,1,1,1,1,1,1,1,1,1,1,1,1,1,1,1,1,1,1,1,1,1,1,1,1,1,1,1,1,1,1,1,1,1,1,1,1,1,1,1,1,1,1,1,1,1,1,1,1,1,1,1,1,1,1,1,1,1,1,1,1,1,1,1,1,1,1,1,1,1,1,1,1,1,1,1,1,1,1,1,1,1,1,1,1,1,1,1,1,1,1,1,1,1,1,1,1,1,1,1,1,1,1,1,1,1,1,1,1,1,1,1,1,1,1,1,1,1,1,1,1,1,1,1,1,1,1,1,1,1,1,1,1,1,1,1,1,1,1,1,1,1,1,1,1,1,1,1,1,1,1,1,1,1,1,1,1,1,1,1,1,1,1,1,1,1,1,1,1,1,1,1,1,1,1,1,1,1,1,1,1,1,1,1,1,1,1,1,1,1,1,1,1,1,1,1,1,1,1,1,1,1,1,1,1,1,1,1,1,1,1,1,1,1,1,1,1,1,1,1,1,1,1,1,1,1,1,1,1,1,1,1,1,1,1,1,1,1,1,1,1,1,1,1,1,1,1,1,1,1,1,1,1,1,1,1,1,1,1,1,1,1,1,1,1,1,1,1,1,1,1,1,1,1,1,1,1,1,1,1,1,1,1,1,1,1,1,1,1,1,1,1,1,1,1,1,1,1,1,1,1,1,1,1,1,1,1,1,1,1,1,1,1,1,1,1,1,1,1,1,1,1,1,1,1,1,1,1,1,1,1,1,1,1,1,1,1,1,1,1,1,1,1,1,1,1,1,1,1,1,1,1,1,1,1,1,1,1,1,1,1,1,1,1,1,1,1,1,1,1,1,1,1,1,1,1,1,1,1,1,1,1,1,1,1,1,1,1,1,1,1,1,1,1,1,1,1,1,1,1,1,1,1,1,1,1,1,1,1,1,1,1,1,1,1,1,1,1,1,1,1,1,1,1,1,1,1,1,1,1,1,1,1,1,1,1,1,1,1,1,1,1,1,1,1,1,1,1,1,1,1,1,1,1,1,1,1,1,1,1,1,1,1,1,1,1,1,1,1,1,1,1,1,1,1,1,1,1,1,1,1,1,1,1,1,1,1,1,1,1,1,1,1,1,1,1,1,1,1,1,1,1,1,1,1,1,1,1,1,1,1,1,1,1,1,1,1,1,1,1,1,1,1,1,1,1,1,1,1,1,1,1,1,1,1,1,1,1,1,1,1,1,1,1,1,1,1,1,1,1,1,1,1,1,1,1,1,1,1,1,1,1,1,1,1,1,1,1,1,1,1,1,1,1,1,1,1,1,1,1,1,1,1,1,1,1,1,1,1,1,1,1,1,1,1,1,1,1,1,1,1,1,1,1,1,1,1,1,1,1,1,1,1,1,1,1,1,1,1,1,1,1,1,1,1,1,1,1,1,1,1,1,1,1,1,1,1,1,1,1,1,1,1,1,1,1,1,1,1,1,1,1,1,1,1,1,1,1,1,1,1,1,1,1,1,1,1,1,1,1,1,1,1,1,1,1,1,1,1,1,1,1,1,1,1,1,1,1,1,1,1,1,1,1,1,1,1,1,1,1,1,1,1,1,1,1,1,1,1,1,1,1,1,1,1,1,1,1,1,1,1,1,1,1,1,1,1,1,1,1,1,1,1,1,1,1,1,1,1,1,1,1,1,1,1,1,1,1,1,1,1,1,1,1,1,1,1,1,1,1,1,1,1,1,1,1,1,1,1,1,1,1,1,1,1,1,1,1,1,1,1,1,1,1,1,1,1,1,1,1,1,1,1,1,1,1,1,1,1,1,1,1,1,1,1,1,1,1,1,1,1,1,1,1,1,1,1,1,1,1,1,1,1,1,1,1,1,1,1,1,1,1,1,1,1,1,1,1,1,1,1,1,1,1,1,1,1,1,1,1,1,1,1,1,1,1,1,1,1,1,1,1,1,1,1,1,1,1,1,1,1,1,1,1,1,1,1,1,1],\"yaxis\":\"y\",\"type\":\"bar\"},{\"alignmentgroup\":\"True\",\"hovertemplate\":\"age_group=4\\u003cbr\\u003ecategory=%{x}\\u003cbr\\u003ecount=%{y}\\u003cextra\\u003e\\u003c\\u002fextra\\u003e\",\"legendgroup\":\"4\",\"marker\":{\"color\":\"#ab63fa\",\"pattern\":{\"shape\":\"\"}},\"name\":\"4\",\"offsetgroup\":\"4\",\"orientation\":\"v\",\"showlegend\":true,\"textposition\":\"auto\",\"x\":[\"Real Estate\",\"Technology\",\"Energy\",\"Automotive\",\"Manufacturing\",\"Finance & Investments\",\"Construction & Engineering\",\"Gambling & Casinos\",\"Real Estate\",\"Manufacturing\",\"Fashion & Retail\",\"Finance & Investments\",\"Diversified\",\"Healthcare\",\"Media & Entertainment\",\"Media & Entertainment\",\"Diversified\",\"Technology\",\"Healthcare\",\"Manufacturing\",\"Technology\",\"Technology\",\"Diversified\",\"Food & Beverage\",\"Service\",\"Service\",\"Fashion & Retail\",\"Real Estate\",\"Manufacturing\",\"Fashion & Retail\",\"Finance & Investments\",\"Logistics\",\"Logistics\",\"Media & Entertainment\",\"Healthcare\",\"Energy\",\"Diversified\",\"Diversified\",\"Telecom\",\"Fashion & Retail\",\"Fashion & Retail\",\"Finance & Investments\",\"Logistics\",\"Fashion & Retail\",\"Energy\",\"Fashion & Retail\",\"Fashion & Retail\",\"Diversified\",\"Finance & Investments\",\"Healthcare\",\"Media & Entertainment\",\"Energy\",\"Food & Beverage\",\"Construction & Engineering\",\"Logistics\",\"Fashion & Retail\",\"Finance & Investments\",\"Energy\",\"Automotive\",\"Manufacturing\",\"Technology\",\"Logistics\",\"Food & Beverage\",\"Finance & Investments\",\"Gambling & Casinos\",\"Finance & Investments\",\"Media & Entertainment\",\"Fashion & Retail\",\"Diversified\",\"Finance & Investments\",\"Media & Entertainment\",\"Automotive\",\"Healthcare\",\"Energy\",\"Automotive\",\"Service\",\"Diversified\",\"Food & Beverage\",\"Fashion & Retail\",\"Diversified\",\"Finance & Investments\",\"Real Estate\",\"Fashion & Retail\",\"Manufacturing\",\"Finance & Investments\",\"Gambling & Casinos\",\"Manufacturing\",\"Real Estate\",\"Media & Entertainment\",\"Media & Entertainment\",\"Fashion & Retail\",\"Food & Beverage\",\"Technology\",\"Real Estate\",\"Healthcare\",\"Metals & Mining\",\"Gambling & Casinos\",\"Fashion & Retail\",\"Finance & Investments\",\"Finance & Investments\",\"Manufacturing\",\"Finance & Investments\",\"Technology\",\"Manufacturing\",\"Finance & Investments\",\"Fashion & Retail\",\"Finance & Investments\",\"Fashion & Retail\",\"Fashion & Retail\",\"Diversified\",\"Food & Beverage\",\"Finance & Investments\",\"Construction & Engineering\",\"Food & Beverage\",\"Energy\",\"Finance & Investments\",\"Media & Entertainment\",\"Manufacturing\",\"Manufacturing\",\"Real Estate\",\"Real Estate\",\"Logistics\",\"Service\",\"Sports\",\"Fashion & Retail\",\"Manufacturing\",\"Construction & Engineering\",\"Food & Beverage\",\"Finance & Investments\",\"Fashion & Retail\",\"Technology\",\"Food & Beverage\",\"Diversified\",\"Finance & Investments\",\"Healthcare\",\"Real Estate\",\"Food & Beverage\",\"Manufacturing\",\"Diversified\",\"Sports\",\"Diversified\",\"Media & Entertainment\",\"Energy\",\"Food & Beverage\",\"Manufacturing\",\"Real Estate\",\"Fashion & Retail\",\"Manufacturing\",\"Energy\",\"Real Estate\",\"Sports\",\"Finance & Investments\",\"Finance & Investments\",\"Finance & Investments\",\"Fashion & Retail\",\"Metals & Mining\",\"Finance & Investments\",\"Finance & Investments\",\"Finance & Investments\",\"Automotive\",\"Fashion & Retail\",\"Real Estate\",\"Service\",\"Metals & Mining\",\"Real Estate\",\"Technology\",\"Media & Entertainment\",\"Diversified\",\"Sports\",\"Telecom\",\"Real Estate\",\"Fashion & Retail\",\"Finance & Investments\",\"Real Estate\",\"Logistics\",\"Finance & Investments\",\"Construction & Engineering\",\"Technology\",\"Fashion & Retail\",\"Manufacturing\",\"Finance & Investments\",\"Manufacturing\",\"Diversified\",\"Finance & Investments\",\"Healthcare\",\"Diversified\",\"Food & Beverage\",\"Real Estate\",\"Real Estate\",\"Food & Beverage\",\"Healthcare\",\"Diversified\",\"Finance & Investments\",\"Manufacturing\",\"Real Estate\",\"Technology\",\"Automotive\",\"Energy\",\"Automotive\",\"Healthcare\",\"Healthcare\",\"Fashion & Retail\",\"Manufacturing\",\"Healthcare\",\"Metals & Mining\",\"Diversified\",\"Technology\",\"Real Estate\",\"Real Estate\",\"Fashion & Retail\",\"Finance & Investments\",\"Technology\",\"Diversified\",\"Finance & Investments\",\"Diversified\",\"Service\",\"Finance & Investments\",\"Automotive\",\"Media & Entertainment\",\"Food & Beverage\",\"Logistics\",\"Diversified\",\"Real Estate\",\"Finance & Investments\",\"Healthcare\",\"Logistics\",\"Healthcare\",\"Manufacturing\",\"Fashion & Retail\",\"Real Estate\",\"Telecom\",\"Metals & Mining\",\"Fashion & Retail\",\"Finance & Investments\",\"Finance & Investments\",\"Technology\",\"Sports\",\"Food & Beverage\",\"Finance & Investments\",\"Service\",\"Food & Beverage\",\"Sports\",\"Finance & Investments\",\"Finance & Investments\",\"Energy\",\"Food & Beverage\",\"Real Estate\",\"Energy\",\"Sports\",\"Healthcare\",\"Finance & Investments\",\"Food & Beverage\",\"Healthcare\",\"Service\",\"Real Estate\",\"Diversified\",\"Diversified\",\"Healthcare\",\"Diversified\",\"Manufacturing\",\"Food & Beverage\",\"Food & Beverage\",\"Real Estate\",\"Automotive\",\"Fashion & Retail\",\"Finance & Investments\",\"Food & Beverage\",\"Automotive\",\"Energy\",\"Food & Beverage\",\"Energy\",\"Diversified\",\"Media & Entertainment\",\"Finance & Investments\",\"Diversified\",\"Finance & Investments\",\"Food & Beverage\",\"Finance & Investments\",\"Sports\",\"Service\",\"Manufacturing\",\"Real Estate\",\"Real Estate\",\"Manufacturing\",\"Manufacturing\",\"Fashion & Retail\",\"Finance & Investments\",\"Fashion & Retail\",\"Healthcare\",\"Media & Entertainment\",\"Finance & Investments\",\"Energy\",\"Technology\",\"Fashion & Retail\",\"Energy\",\"Diversified\",\"Technology\",\"Healthcare\",\"Sports\",\"Fashion & Retail\",\"Technology\",\"Finance & Investments\",\"Automotive\",\"Fashion & Retail\",\"Food & Beverage\",\"Manufacturing\",\"Manufacturing\",\"Media & Entertainment\",\"Food & Beverage\",\"Finance & Investments\",\"Real Estate\",\"Manufacturing\",\"Food & Beverage\",\"Real Estate\",\"Fashion & Retail\",\"Healthcare\",\"Gambling & Casinos\",\"Fashion & Retail\",\"Food & Beverage\",\"Finance & Investments\",\"Construction & Engineering\",\"Food & Beverage\",\"Finance & Investments\",\"Food & Beverage\",\"Food & Beverage\",\"Diversified\",\"Real Estate\",\"Technology\",\"Real Estate\",\"Healthcare\",\"Fashion & Retail\",\"Real Estate\",\"Construction & Engineering\",\"Automotive\",\"Gambling & Casinos\",\"Healthcare\",\"Service\",\"Real Estate\",\"Real Estate\",\"Energy\",\"Healthcare\",\"Healthcare\",\"Fashion & Retail\",\"Manufacturing\",\"Diversified\",\"Healthcare\",\"Finance & Investments\",\"Finance & Investments\",\"Finance & Investments\",\"Fashion & Retail\",\"Real Estate\",\"Finance & Investments\",\"Healthcare\",\"Technology\",\"Sports\",\"Real Estate\",\"Diversified\",\"Manufacturing\",\"Manufacturing\",\"Finance & Investments\",\"Finance & Investments\",\"Food & Beverage\",\"Finance & Investments\",\"Fashion & Retail\",\"Automotive\",\"Food & Beverage\",\"Manufacturing\",\"Diversified\",\"Food & Beverage\",\"Fashion & Retail\",\"Construction & Engineering\",\"Fashion & Retail\",\"Manufacturing\",\"Food & Beverage\",\"Manufacturing\",\"Fashion & Retail\",\"Energy\",\"Automotive\",\"Fashion & Retail\",\"Real Estate\",\"Food & Beverage\",\"Healthcare\",\"Healthcare\",\"Finance & Investments\",\"Finance & Investments\",\"Gambling & Casinos\",\"Finance & Investments\",\"Fashion & Retail\",\"Sports\",\"Finance & Investments\",\"Finance & Investments\",\"Fashion & Retail\",\"Manufacturing\",\"Energy\",\"Automotive\",\"Food & Beverage\",\"Automotive\",\"Real Estate\",\"Finance & Investments\",\"Fashion & Retail\",\"Metals & Mining\",\"Technology\",\"Automotive\",\"Fashion & Retail\",\"Manufacturing\",\"Finance & Investments\",\"Manufacturing\",\"Finance & Investments\",\"Finance & Investments\",\"Real Estate\",\"Diversified\",\"Finance & Investments\",\"Real Estate\",\"Real Estate\",\"Fashion & Retail\",\"Finance & Investments\",\"Finance & Investments\",\"Food & Beverage\",\"Manufacturing\",\"Manufacturing\",\"Finance & Investments\",\"Healthcare\",\"Manufacturing\",\"Technology\",\"Technology\",\"Food & Beverage\",\"Technology\",\"Logistics\",\"Logistics\",\"Real Estate\",\"Media & Entertainment\",\"Media & Entertainment\",\"Fashion & Retail\",\"Finance & Investments\",\"Media & Entertainment\",\"Automotive\",\"Finance & Investments\",\"Real Estate\",\"Manufacturing\",\"Real Estate\",\"Service\",\"Energy\",\"Real Estate\",\"Sports\",\"Fashion & Retail\",\"Service\",\"Food & Beverage\",\"Diversified\",\"Food & Beverage\",\"Technology\",\"Manufacturing\",\"Diversified\",\"Healthcare\",\"Logistics\",\"Food & Beverage\",\"Media & Entertainment\",\"Fashion & Retail\",\"Finance & Investments\",\"Healthcare\",\"Finance & Investments\",\"Real Estate\",\"Real Estate\",\"Real Estate\",\"Food & Beverage\",\"Sports\",\"Telecom\",\"Manufacturing\",\"Food & Beverage\",\"Manufacturing\",\"Service\",\"Food & Beverage\",\"Food & Beverage\",\"Diversified\",\"Food & Beverage\",\"Gambling & Casinos\",\"Gambling & Casinos\",\"Technology\",\"Manufacturing\",\"Technology\",\"Energy\",\"Fashion & Retail\",\"Finance & Investments\",\"Media & Entertainment\",\"Diversified\",\"Real Estate\",\"Technology\",\"Technology\",\"Finance & Investments\",\"Real Estate\",\"Sports\",\"Diversified\",\"Media & Entertainment\",\"Manufacturing\",\"Real Estate\",\"Healthcare\",\"Food & Beverage\",\"Healthcare\",\"Metals & Mining\",\"Service\",\"Finance & Investments\",\"Finance & Investments\",\"Manufacturing\",\"Service\",\"Manufacturing\",\"Automotive\",\"Food & Beverage\",\"Manufacturing\",\"Food & Beverage\",\"Real Estate\",\"Finance & Investments\",\"Food & Beverage\",\"Media & Entertainment\",\"Fashion & Retail\",\"Real Estate\",\"Metals & Mining\",\"Fashion & Retail\",\"Fashion & Retail\",\"Finance & Investments\",\"Healthcare\",\"Media & Entertainment\",\"Logistics\",\"Fashion & Retail\",\"Manufacturing\",\"Finance & Investments\",\"Diversified\",\"Manufacturing\",\"Diversified\",\"Fashion & Retail\",\"Energy\",\"Logistics\",\"Gambling & Casinos\",\"Manufacturing\",\"Energy\",\"Telecom\",\"Energy\",\"Automotive\",\"Logistics\",\"Media & Entertainment\",\"Healthcare\",\"Manufacturing\",\"Fashion & Retail\",\"Fashion & Retail\",\"Diversified\",\"Finance & Investments\",\"Metals & Mining\",\"Fashion & Retail\",\"Fashion & Retail\",\"Fashion & Retail\",\"Manufacturing\",\"Finance & Investments\",\"Logistics\",\"Diversified\",\"Service\",\"Real Estate\",\"Manufacturing\",\"Media & Entertainment\",\"Manufacturing\",\"Media & Entertainment\",\"Construction & Engineering\",\"Real Estate\",\"Food & Beverage\",\"Manufacturing\",\"Diversified\",\"Finance & Investments\",\"Healthcare\",\"Diversified\",\"Energy\",\"Healthcare\",\"Fashion & Retail\",\"Automotive\",\"Finance & Investments\",\"Finance & Investments\",\"Diversified\",\"Real Estate\",\"Manufacturing\",\"Healthcare\",\"Fashion & Retail\",\"Real Estate\",\"Diversified\",\"Technology\",\"Real Estate\",\"Technology\",\"Finance & Investments\",\"Automotive\",\"Diversified\",\"Real Estate\",\"Diversified\",\"Real Estate\",\"Service\",\"Logistics\",\"Food & Beverage\",\"Finance & Investments\",\"Fashion & Retail\",\"Fashion & Retail\",\"Manufacturing\",\"Real Estate\",\"Finance & Investments\",\"Manufacturing\",\"Media & Entertainment\"],\"xaxis\":\"x\",\"y\":[1,1,1,1,1,1,1,1,1,1,1,1,1,1,1,1,1,1,1,1,1,1,1,1,1,1,1,1,1,1,1,1,1,1,1,1,1,1,1,1,1,1,1,1,1,1,1,1,1,1,1,1,1,1,1,1,1,1,1,1,1,1,1,1,1,1,1,1,1,1,1,1,1,1,1,1,1,1,1,1,1,1,1,1,1,1,1,1,1,1,1,1,1,1,1,1,1,1,1,1,1,1,1,1,1,1,1,1,1,1,1,1,1,1,1,1,1,1,1,1,1,1,1,1,1,1,1,1,1,1,1,1,1,1,1,1,1,1,1,1,1,1,1,1,1,1,1,1,1,1,1,1,1,1,1,1,1,1,1,1,1,1,1,1,1,1,1,1,1,1,1,1,1,1,1,1,1,1,1,1,1,1,1,1,1,1,1,1,1,1,1,1,1,1,1,1,1,1,1,1,1,1,1,1,1,1,1,1,1,1,1,1,1,1,1,1,1,1,1,1,1,1,1,1,1,1,1,1,1,1,1,1,1,1,1,1,1,1,1,1,1,1,1,1,1,1,1,1,1,1,1,1,1,1,1,1,1,1,1,1,1,1,1,1,1,1,1,1,1,1,1,1,1,1,1,1,1,1,1,1,1,1,1,1,1,1,1,1,1,1,1,1,1,1,1,1,1,1,1,1,1,1,1,1,1,1,1,1,1,1,1,1,1,1,1,1,1,1,1,1,1,1,1,1,1,1,1,1,1,1,1,1,1,1,1,1,1,1,1,1,1,1,1,1,1,1,1,1,1,1,1,1,1,1,1,1,1,1,1,1,1,1,1,1,1,1,1,1,1,1,1,1,1,1,1,1,1,1,1,1,1,1,1,1,1,1,1,1,1,1,1,1,1,1,1,1,1,1,1,1,1,1,1,1,1,1,1,1,1,1,1,1,1,1,1,1,1,1,1,1,1,1,1,1,1,1,1,1,1,1,1,1,1,1,1,1,1,1,1,1,1,1,1,1,1,1,1,1,1,1,1,1,1,1,1,1,1,1,1,1,1,1,1,1,1,1,1,1,1,1,1,1,1,1,1,1,1,1,1,1,1,1,1,1,1,1,1,1,1,1,1,1,1,1,1,1,1,1,1,1,1,1,1,1,1,1,1,1,1,1,1,1,1,1,1,1,1,1,1,1,1,1,1,1,1,1,1,1,1,1,1,1,1,1,1,1,1,1,1,1,1,1,1,1,1,1,1,1,1,1,1,1,1,1,1,1,1,1,1,1,1,1,1,1,1,1,1,1,1,1,1,1,1,1,1,1,1,1,1,1,1,1,1,1,1,1,1,1,1,1,1,1,1,1,1,1,1,1,1],\"yaxis\":\"y\",\"type\":\"bar\"}],                        {\"template\":{\"data\":{\"histogram2dcontour\":[{\"type\":\"histogram2dcontour\",\"colorbar\":{\"outlinewidth\":0,\"ticks\":\"\"},\"colorscale\":[[0.0,\"#0d0887\"],[0.1111111111111111,\"#46039f\"],[0.2222222222222222,\"#7201a8\"],[0.3333333333333333,\"#9c179e\"],[0.4444444444444444,\"#bd3786\"],[0.5555555555555556,\"#d8576b\"],[0.6666666666666666,\"#ed7953\"],[0.7777777777777778,\"#fb9f3a\"],[0.8888888888888888,\"#fdca26\"],[1.0,\"#f0f921\"]]}],\"choropleth\":[{\"type\":\"choropleth\",\"colorbar\":{\"outlinewidth\":0,\"ticks\":\"\"}}],\"histogram2d\":[{\"type\":\"histogram2d\",\"colorbar\":{\"outlinewidth\":0,\"ticks\":\"\"},\"colorscale\":[[0.0,\"#0d0887\"],[0.1111111111111111,\"#46039f\"],[0.2222222222222222,\"#7201a8\"],[0.3333333333333333,\"#9c179e\"],[0.4444444444444444,\"#bd3786\"],[0.5555555555555556,\"#d8576b\"],[0.6666666666666666,\"#ed7953\"],[0.7777777777777778,\"#fb9f3a\"],[0.8888888888888888,\"#fdca26\"],[1.0,\"#f0f921\"]]}],\"heatmap\":[{\"type\":\"heatmap\",\"colorbar\":{\"outlinewidth\":0,\"ticks\":\"\"},\"colorscale\":[[0.0,\"#0d0887\"],[0.1111111111111111,\"#46039f\"],[0.2222222222222222,\"#7201a8\"],[0.3333333333333333,\"#9c179e\"],[0.4444444444444444,\"#bd3786\"],[0.5555555555555556,\"#d8576b\"],[0.6666666666666666,\"#ed7953\"],[0.7777777777777778,\"#fb9f3a\"],[0.8888888888888888,\"#fdca26\"],[1.0,\"#f0f921\"]]}],\"heatmapgl\":[{\"type\":\"heatmapgl\",\"colorbar\":{\"outlinewidth\":0,\"ticks\":\"\"},\"colorscale\":[[0.0,\"#0d0887\"],[0.1111111111111111,\"#46039f\"],[0.2222222222222222,\"#7201a8\"],[0.3333333333333333,\"#9c179e\"],[0.4444444444444444,\"#bd3786\"],[0.5555555555555556,\"#d8576b\"],[0.6666666666666666,\"#ed7953\"],[0.7777777777777778,\"#fb9f3a\"],[0.8888888888888888,\"#fdca26\"],[1.0,\"#f0f921\"]]}],\"contourcarpet\":[{\"type\":\"contourcarpet\",\"colorbar\":{\"outlinewidth\":0,\"ticks\":\"\"}}],\"contour\":[{\"type\":\"contour\",\"colorbar\":{\"outlinewidth\":0,\"ticks\":\"\"},\"colorscale\":[[0.0,\"#0d0887\"],[0.1111111111111111,\"#46039f\"],[0.2222222222222222,\"#7201a8\"],[0.3333333333333333,\"#9c179e\"],[0.4444444444444444,\"#bd3786\"],[0.5555555555555556,\"#d8576b\"],[0.6666666666666666,\"#ed7953\"],[0.7777777777777778,\"#fb9f3a\"],[0.8888888888888888,\"#fdca26\"],[1.0,\"#f0f921\"]]}],\"surface\":[{\"type\":\"surface\",\"colorbar\":{\"outlinewidth\":0,\"ticks\":\"\"},\"colorscale\":[[0.0,\"#0d0887\"],[0.1111111111111111,\"#46039f\"],[0.2222222222222222,\"#7201a8\"],[0.3333333333333333,\"#9c179e\"],[0.4444444444444444,\"#bd3786\"],[0.5555555555555556,\"#d8576b\"],[0.6666666666666666,\"#ed7953\"],[0.7777777777777778,\"#fb9f3a\"],[0.8888888888888888,\"#fdca26\"],[1.0,\"#f0f921\"]]}],\"mesh3d\":[{\"type\":\"mesh3d\",\"colorbar\":{\"outlinewidth\":0,\"ticks\":\"\"}}],\"scatter\":[{\"fillpattern\":{\"fillmode\":\"overlay\",\"size\":10,\"solidity\":0.2},\"type\":\"scatter\"}],\"parcoords\":[{\"type\":\"parcoords\",\"line\":{\"colorbar\":{\"outlinewidth\":0,\"ticks\":\"\"}}}],\"scatterpolargl\":[{\"type\":\"scatterpolargl\",\"marker\":{\"colorbar\":{\"outlinewidth\":0,\"ticks\":\"\"}}}],\"bar\":[{\"error_x\":{\"color\":\"#2a3f5f\"},\"error_y\":{\"color\":\"#2a3f5f\"},\"marker\":{\"line\":{\"color\":\"#E5ECF6\",\"width\":0.5},\"pattern\":{\"fillmode\":\"overlay\",\"size\":10,\"solidity\":0.2}},\"type\":\"bar\"}],\"scattergeo\":[{\"type\":\"scattergeo\",\"marker\":{\"colorbar\":{\"outlinewidth\":0,\"ticks\":\"\"}}}],\"scatterpolar\":[{\"type\":\"scatterpolar\",\"marker\":{\"colorbar\":{\"outlinewidth\":0,\"ticks\":\"\"}}}],\"histogram\":[{\"marker\":{\"pattern\":{\"fillmode\":\"overlay\",\"size\":10,\"solidity\":0.2}},\"type\":\"histogram\"}],\"scattergl\":[{\"type\":\"scattergl\",\"marker\":{\"colorbar\":{\"outlinewidth\":0,\"ticks\":\"\"}}}],\"scatter3d\":[{\"type\":\"scatter3d\",\"line\":{\"colorbar\":{\"outlinewidth\":0,\"ticks\":\"\"}},\"marker\":{\"colorbar\":{\"outlinewidth\":0,\"ticks\":\"\"}}}],\"scattermapbox\":[{\"type\":\"scattermapbox\",\"marker\":{\"colorbar\":{\"outlinewidth\":0,\"ticks\":\"\"}}}],\"scatterternary\":[{\"type\":\"scatterternary\",\"marker\":{\"colorbar\":{\"outlinewidth\":0,\"ticks\":\"\"}}}],\"scattercarpet\":[{\"type\":\"scattercarpet\",\"marker\":{\"colorbar\":{\"outlinewidth\":0,\"ticks\":\"\"}}}],\"carpet\":[{\"aaxis\":{\"endlinecolor\":\"#2a3f5f\",\"gridcolor\":\"white\",\"linecolor\":\"white\",\"minorgridcolor\":\"white\",\"startlinecolor\":\"#2a3f5f\"},\"baxis\":{\"endlinecolor\":\"#2a3f5f\",\"gridcolor\":\"white\",\"linecolor\":\"white\",\"minorgridcolor\":\"white\",\"startlinecolor\":\"#2a3f5f\"},\"type\":\"carpet\"}],\"table\":[{\"cells\":{\"fill\":{\"color\":\"#EBF0F8\"},\"line\":{\"color\":\"white\"}},\"header\":{\"fill\":{\"color\":\"#C8D4E3\"},\"line\":{\"color\":\"white\"}},\"type\":\"table\"}],\"barpolar\":[{\"marker\":{\"line\":{\"color\":\"#E5ECF6\",\"width\":0.5},\"pattern\":{\"fillmode\":\"overlay\",\"size\":10,\"solidity\":0.2}},\"type\":\"barpolar\"}],\"pie\":[{\"automargin\":true,\"type\":\"pie\"}]},\"layout\":{\"autotypenumbers\":\"strict\",\"colorway\":[\"#636efa\",\"#EF553B\",\"#00cc96\",\"#ab63fa\",\"#FFA15A\",\"#19d3f3\",\"#FF6692\",\"#B6E880\",\"#FF97FF\",\"#FECB52\"],\"font\":{\"color\":\"#2a3f5f\"},\"hovermode\":\"closest\",\"hoverlabel\":{\"align\":\"left\"},\"paper_bgcolor\":\"white\",\"plot_bgcolor\":\"#E5ECF6\",\"polar\":{\"bgcolor\":\"#E5ECF6\",\"angularaxis\":{\"gridcolor\":\"white\",\"linecolor\":\"white\",\"ticks\":\"\"},\"radialaxis\":{\"gridcolor\":\"white\",\"linecolor\":\"white\",\"ticks\":\"\"}},\"ternary\":{\"bgcolor\":\"#E5ECF6\",\"aaxis\":{\"gridcolor\":\"white\",\"linecolor\":\"white\",\"ticks\":\"\"},\"baxis\":{\"gridcolor\":\"white\",\"linecolor\":\"white\",\"ticks\":\"\"},\"caxis\":{\"gridcolor\":\"white\",\"linecolor\":\"white\",\"ticks\":\"\"}},\"coloraxis\":{\"colorbar\":{\"outlinewidth\":0,\"ticks\":\"\"}},\"colorscale\":{\"sequential\":[[0.0,\"#0d0887\"],[0.1111111111111111,\"#46039f\"],[0.2222222222222222,\"#7201a8\"],[0.3333333333333333,\"#9c179e\"],[0.4444444444444444,\"#bd3786\"],[0.5555555555555556,\"#d8576b\"],[0.6666666666666666,\"#ed7953\"],[0.7777777777777778,\"#fb9f3a\"],[0.8888888888888888,\"#fdca26\"],[1.0,\"#f0f921\"]],\"sequentialminus\":[[0.0,\"#0d0887\"],[0.1111111111111111,\"#46039f\"],[0.2222222222222222,\"#7201a8\"],[0.3333333333333333,\"#9c179e\"],[0.4444444444444444,\"#bd3786\"],[0.5555555555555556,\"#d8576b\"],[0.6666666666666666,\"#ed7953\"],[0.7777777777777778,\"#fb9f3a\"],[0.8888888888888888,\"#fdca26\"],[1.0,\"#f0f921\"]],\"diverging\":[[0,\"#8e0152\"],[0.1,\"#c51b7d\"],[0.2,\"#de77ae\"],[0.3,\"#f1b6da\"],[0.4,\"#fde0ef\"],[0.5,\"#f7f7f7\"],[0.6,\"#e6f5d0\"],[0.7,\"#b8e186\"],[0.8,\"#7fbc41\"],[0.9,\"#4d9221\"],[1,\"#276419\"]]},\"xaxis\":{\"gridcolor\":\"white\",\"linecolor\":\"white\",\"ticks\":\"\",\"title\":{\"standoff\":15},\"zerolinecolor\":\"white\",\"automargin\":true,\"zerolinewidth\":2},\"yaxis\":{\"gridcolor\":\"white\",\"linecolor\":\"white\",\"ticks\":\"\",\"title\":{\"standoff\":15},\"zerolinecolor\":\"white\",\"automargin\":true,\"zerolinewidth\":2},\"scene\":{\"xaxis\":{\"backgroundcolor\":\"#E5ECF6\",\"gridcolor\":\"white\",\"linecolor\":\"white\",\"showbackground\":true,\"ticks\":\"\",\"zerolinecolor\":\"white\",\"gridwidth\":2},\"yaxis\":{\"backgroundcolor\":\"#E5ECF6\",\"gridcolor\":\"white\",\"linecolor\":\"white\",\"showbackground\":true,\"ticks\":\"\",\"zerolinecolor\":\"white\",\"gridwidth\":2},\"zaxis\":{\"backgroundcolor\":\"#E5ECF6\",\"gridcolor\":\"white\",\"linecolor\":\"white\",\"showbackground\":true,\"ticks\":\"\",\"zerolinecolor\":\"white\",\"gridwidth\":2}},\"shapedefaults\":{\"line\":{\"color\":\"#2a3f5f\"}},\"annotationdefaults\":{\"arrowcolor\":\"#2a3f5f\",\"arrowhead\":0,\"arrowwidth\":1},\"geo\":{\"bgcolor\":\"white\",\"landcolor\":\"#E5ECF6\",\"subunitcolor\":\"white\",\"showland\":true,\"showlakes\":true,\"lakecolor\":\"white\"},\"title\":{\"x\":0.05},\"mapbox\":{\"style\":\"light\"}}},\"xaxis\":{\"anchor\":\"y\",\"domain\":[0.0,1.0],\"title\":{\"text\":\"category\"}},\"yaxis\":{\"anchor\":\"x\",\"domain\":[0.0,1.0],\"title\":{\"text\":\"count\"}},\"legend\":{\"title\":{\"text\":\"age_group\"},\"tracegroupgap\":0},\"title\":{\"text\":\"Relation between business and age\"},\"barmode\":\"relative\",\"height\":800},                        {\"responsive\": true}                    ).then(function(){\n",
              "                            \n",
              "var gd = document.getElementById('6cb2bea0-2a8d-4763-bbd8-6aa34852d0c6');\n",
              "var x = new MutationObserver(function (mutations, observer) {{\n",
              "        var display = window.getComputedStyle(gd).display;\n",
              "        if (!display || display === 'none') {{\n",
              "            console.log([gd, 'removed!']);\n",
              "            Plotly.purge(gd);\n",
              "            observer.disconnect();\n",
              "        }}\n",
              "}});\n",
              "\n",
              "// Listen for the removal of the full notebook cells\n",
              "var notebookContainer = gd.closest('#notebook-container');\n",
              "if (notebookContainer) {{\n",
              "    x.observe(notebookContainer, {childList: true});\n",
              "}}\n",
              "\n",
              "// Listen for the clearing of the current output cell\n",
              "var outputEl = gd.closest('.output');\n",
              "if (outputEl) {{\n",
              "    x.observe(outputEl, {childList: true});\n",
              "}}\n",
              "\n",
              "                        })                };                            </script>        </div>\n",
              "</body>\n",
              "</html>"
            ]
          },
          "metadata": {}
        }
      ]
    },
    {
      "cell_type": "markdown",
      "source": [
        "### 3.2  2nd analysis:\n",
        "The most common field are the ones with billionaires that created their own wealth."
      ],
      "metadata": {
        "id": "JUC2uRNj5Gd8"
      }
    },
    {
      "cell_type": "code",
      "source": [
        "fig_selfmadecategory_young = px.bar(young_dataset.sort_values(by = 'category'),\n",
        "                              x = 'category',\n",
        "                              color = 'selfMade',\n",
        "                              title = 'Category and inherited wealth relation - YOUNG',\n",
        "                              height = 800)\n",
        "fig_selfmadecategory_young"
      ],
      "metadata": {
        "execution": {
          "iopub.status.busy": "2023-11-10T20:54:29.838459Z",
          "iopub.execute_input": "2023-11-10T20:54:29.838710Z",
          "iopub.status.idle": "2023-11-10T20:54:29.899644Z",
          "shell.execute_reply.started": "2023-11-10T20:54:29.838688Z",
          "shell.execute_reply": "2023-11-10T20:54:29.898833Z"
        },
        "trusted": true,
        "id": "5pZYLrhL5Gd8",
        "colab": {
          "base_uri": "https://localhost:8080/",
          "height": 817
        },
        "outputId": "6649a606-249e-42c6-a74e-344adf3d37e4"
      },
      "execution_count": 30,
      "outputs": [
        {
          "output_type": "display_data",
          "data": {
            "text/html": [
              "<html>\n",
              "<head><meta charset=\"utf-8\" /></head>\n",
              "<body>\n",
              "    <div>            <script src=\"https://cdnjs.cloudflare.com/ajax/libs/mathjax/2.7.5/MathJax.js?config=TeX-AMS-MML_SVG\"></script><script type=\"text/javascript\">if (window.MathJax && window.MathJax.Hub && window.MathJax.Hub.Config) {window.MathJax.Hub.Config({SVG: {font: \"STIX-Web\"}});}</script>                <script type=\"text/javascript\">window.PlotlyConfig = {MathJaxConfig: 'local'};</script>\n",
              "        <script charset=\"utf-8\" src=\"https://cdn.plot.ly/plotly-2.35.2.min.js\"></script>                <div id=\"9577d2c9-65ee-490f-987f-4dc263d2dce7\" class=\"plotly-graph-div\" style=\"height:800px; width:100%;\"></div>            <script type=\"text/javascript\">                                    window.PLOTLYENV=window.PLOTLYENV || {};                                    if (document.getElementById(\"9577d2c9-65ee-490f-987f-4dc263d2dce7\")) {                    Plotly.newPlot(                        \"9577d2c9-65ee-490f-987f-4dc263d2dce7\",                        [{\"alignmentgroup\":\"True\",\"hovertemplate\":\"selfMade=False\\u003cbr\\u003ecategory=%{x}\\u003cbr\\u003ecount=%{y}\\u003cextra\\u003e\\u003c\\u002fextra\\u003e\",\"legendgroup\":\"False\",\"marker\":{\"color\":\"#636efa\",\"pattern\":{\"shape\":\"\"}},\"name\":\"False\",\"offsetgroup\":\"False\",\"orientation\":\"v\",\"showlegend\":true,\"textposition\":\"auto\",\"x\":[\"Automotive\",\"Automotive\",\"Automotive\",\"Construction & Engineering\",\"Construction & Engineering\",\"Construction & Engineering\",\"Construction & Engineering\",\"Diversified\",\"Diversified\",\"Diversified\",\"Diversified\",\"Diversified\",\"Diversified\",\"Diversified\",\"Diversified\",\"Diversified\",\"Energy\",\"Energy\",\"Fashion & Retail\",\"Fashion & Retail\",\"Fashion & Retail\",\"Fashion & Retail\",\"Fashion & Retail\",\"Fashion & Retail\",\"Fashion & Retail\",\"Fashion & Retail\",\"Fashion & Retail\",\"Fashion & Retail\",\"Fashion & Retail\",\"Fashion & Retail\",\"Fashion & Retail\",\"Fashion & Retail\",\"Fashion & Retail\",\"Finance & Investments\",\"Finance & Investments\",\"Finance & Investments\",\"Finance & Investments\",\"Finance & Investments\",\"Finance & Investments\",\"Finance & Investments\",\"Finance & Investments\",\"Food & Beverage\",\"Food & Beverage\",\"Food & Beverage\",\"Food & Beverage\",\"Food & Beverage\",\"Food & Beverage\",\"Food & Beverage\",\"Food & Beverage\",\"Food & Beverage\",\"Food & Beverage\",\"Food & Beverage\",\"Food & Beverage\",\"Gambling & Casinos\",\"Healthcare\",\"Healthcare\",\"Healthcare\",\"Healthcare\",\"Healthcare\",\"Healthcare\",\"Healthcare\",\"Healthcare\",\"Healthcare\",\"Healthcare\",\"Logistics\",\"Manufacturing\",\"Manufacturing\",\"Manufacturing\",\"Manufacturing\",\"Manufacturing\",\"Manufacturing\",\"Manufacturing\",\"Manufacturing\",\"Manufacturing\",\"Manufacturing\",\"Manufacturing\",\"Media & Entertainment\",\"Media & Entertainment\",\"Media & Entertainment\",\"Metals & Mining\",\"Metals & Mining\",\"Metals & Mining\",\"Metals & Mining\",\"Metals & Mining\",\"Metals & Mining\",\"Metals & Mining\",\"Real Estate\",\"Real Estate\",\"Real Estate\",\"Real Estate\",\"Real Estate\",\"Real Estate\",\"Real Estate\",\"Real Estate\",\"Real Estate\",\"Service\",\"Technology\",\"Technology\",\"Technology\"],\"xaxis\":\"x\",\"y\":[1,1,1,1,1,1,1,1,1,1,1,1,1,1,1,1,1,1,1,1,1,1,1,1,1,1,1,1,1,1,1,1,1,1,1,1,1,1,1,1,1,1,1,1,1,1,1,1,1,1,1,1,1,1,1,1,1,1,1,1,1,1,1,1,1,1,1,1,1,1,1,1,1,1,1,1,1,1,1,1,1,1,1,1,1,1,1,1,1,1,1,1,1,1,1,1,1,1,1],\"yaxis\":\"y\",\"type\":\"bar\"},{\"alignmentgroup\":\"True\",\"hovertemplate\":\"selfMade=True\\u003cbr\\u003ecategory=%{x}\\u003cbr\\u003ecount=%{y}\\u003cextra\\u003e\\u003c\\u002fextra\\u003e\",\"legendgroup\":\"True\",\"marker\":{\"color\":\"#EF553B\",\"pattern\":{\"shape\":\"\"}},\"name\":\"True\",\"offsetgroup\":\"True\",\"orientation\":\"v\",\"showlegend\":true,\"textposition\":\"auto\",\"x\":[\"Automotive\",\"Automotive\",\"Automotive\",\"Automotive\",\"Diversified\",\"Diversified\",\"Diversified\",\"Energy\",\"Energy\",\"Fashion & Retail\",\"Fashion & Retail\",\"Fashion & Retail\",\"Fashion & Retail\",\"Fashion & Retail\",\"Fashion & Retail\",\"Fashion & Retail\",\"Fashion & Retail\",\"Fashion & Retail\",\"Fashion & Retail\",\"Fashion & Retail\",\"Fashion & Retail\",\"Fashion & Retail\",\"Fashion & Retail\",\"Fashion & Retail\",\"Fashion & Retail\",\"Fashion & Retail\",\"Fashion & Retail\",\"Fashion & Retail\",\"Fashion & Retail\",\"Fashion & Retail\",\"Finance & Investments\",\"Finance & Investments\",\"Finance & Investments\",\"Finance & Investments\",\"Finance & Investments\",\"Finance & Investments\",\"Finance & Investments\",\"Finance & Investments\",\"Finance & Investments\",\"Finance & Investments\",\"Finance & Investments\",\"Finance & Investments\",\"Finance & Investments\",\"Finance & Investments\",\"Finance & Investments\",\"Finance & Investments\",\"Finance & Investments\",\"Finance & Investments\",\"Finance & Investments\",\"Finance & Investments\",\"Finance & Investments\",\"Finance & Investments\",\"Finance & Investments\",\"Finance & Investments\",\"Finance & Investments\",\"Finance & Investments\",\"Finance & Investments\",\"Finance & Investments\",\"Finance & Investments\",\"Finance & Investments\",\"Finance & Investments\",\"Finance & Investments\",\"Finance & Investments\",\"Finance & Investments\",\"Finance & Investments\",\"Food & Beverage\",\"Food & Beverage\",\"Food & Beverage\",\"Food & Beverage\",\"Food & Beverage\",\"Food & Beverage\",\"Food & Beverage\",\"Gambling & Casinos\",\"Healthcare\",\"Healthcare\",\"Healthcare\",\"Healthcare\",\"Healthcare\",\"Healthcare\",\"Healthcare\",\"Healthcare\",\"Healthcare\",\"Logistics\",\"Manufacturing\",\"Manufacturing\",\"Manufacturing\",\"Manufacturing\",\"Manufacturing\",\"Manufacturing\",\"Manufacturing\",\"Manufacturing\",\"Manufacturing\",\"Manufacturing\",\"Manufacturing\",\"Manufacturing\",\"Manufacturing\",\"Manufacturing\",\"Media & Entertainment\",\"Media & Entertainment\",\"Media & Entertainment\",\"Media & Entertainment\",\"Media & Entertainment\",\"Media & Entertainment\",\"Media & Entertainment\",\"Media & Entertainment\",\"Media & Entertainment\",\"Media & Entertainment\",\"Media & Entertainment\",\"Media & Entertainment\",\"Media & Entertainment\",\"Media & Entertainment\",\"Media & Entertainment\",\"Media & Entertainment\",\"Media & Entertainment\",\"Metals & Mining\",\"Metals & Mining\",\"Metals & Mining\",\"Metals & Mining\",\"Real Estate\",\"Real Estate\",\"Real Estate\",\"Real Estate\",\"Real Estate\",\"Real Estate\",\"Real Estate\",\"Service\",\"Service\",\"Service\",\"Sports\",\"Sports\",\"Technology\",\"Technology\",\"Technology\",\"Technology\",\"Technology\",\"Technology\",\"Technology\",\"Technology\",\"Technology\",\"Technology\",\"Technology\",\"Technology\",\"Technology\",\"Technology\",\"Technology\",\"Technology\",\"Technology\",\"Technology\",\"Technology\",\"Technology\",\"Technology\",\"Technology\",\"Technology\",\"Technology\",\"Technology\",\"Technology\",\"Technology\",\"Technology\",\"Technology\",\"Technology\",\"Technology\",\"Technology\",\"Technology\",\"Technology\",\"Technology\",\"Technology\",\"Technology\",\"Technology\",\"Technology\",\"Technology\",\"Technology\",\"Technology\",\"Technology\",\"Technology\",\"Technology\",\"Technology\",\"Technology\",\"Technology\",\"Technology\",\"Technology\",\"Technology\",\"Technology\",\"Technology\",\"Technology\",\"Technology\",\"Technology\",\"Technology\",\"Technology\",\"Technology\",\"Technology\",\"Technology\",\"Technology\",\"Technology\",\"Technology\",\"Technology\",\"Technology\",\"Technology\",\"Technology\",\"Technology\",\"Technology\",\"Technology\",\"Technology\",\"Technology\",\"Technology\",\"Technology\",\"Technology\",\"Technology\",\"Technology\",\"Technology\",\"Technology\",\"Technology\",\"Technology\",\"Technology\",\"Technology\",\"Technology\",\"Technology\",\"Technology\",\"Technology\",\"Technology\",\"Technology\",\"Technology\",\"Technology\",\"Technology\",\"Technology\",\"Technology\"],\"xaxis\":\"x\",\"y\":[1,1,1,1,1,1,1,1,1,1,1,1,1,1,1,1,1,1,1,1,1,1,1,1,1,1,1,1,1,1,1,1,1,1,1,1,1,1,1,1,1,1,1,1,1,1,1,1,1,1,1,1,1,1,1,1,1,1,1,1,1,1,1,1,1,1,1,1,1,1,1,1,1,1,1,1,1,1,1,1,1,1,1,1,1,1,1,1,1,1,1,1,1,1,1,1,1,1,1,1,1,1,1,1,1,1,1,1,1,1,1,1,1,1,1,1,1,1,1,1,1,1,1,1,1,1,1,1,1,1,1,1,1,1,1,1,1,1,1,1,1,1,1,1,1,1,1,1,1,1,1,1,1,1,1,1,1,1,1,1,1,1,1,1,1,1,1,1,1,1,1,1,1,1,1,1,1,1,1,1,1,1,1,1,1,1,1,1,1,1,1,1,1,1,1,1,1,1,1,1,1,1,1,1,1,1,1,1,1,1,1,1,1,1,1,1,1,1,1,1,1,1,1,1,1],\"yaxis\":\"y\",\"type\":\"bar\"}],                        {\"template\":{\"data\":{\"histogram2dcontour\":[{\"type\":\"histogram2dcontour\",\"colorbar\":{\"outlinewidth\":0,\"ticks\":\"\"},\"colorscale\":[[0.0,\"#0d0887\"],[0.1111111111111111,\"#46039f\"],[0.2222222222222222,\"#7201a8\"],[0.3333333333333333,\"#9c179e\"],[0.4444444444444444,\"#bd3786\"],[0.5555555555555556,\"#d8576b\"],[0.6666666666666666,\"#ed7953\"],[0.7777777777777778,\"#fb9f3a\"],[0.8888888888888888,\"#fdca26\"],[1.0,\"#f0f921\"]]}],\"choropleth\":[{\"type\":\"choropleth\",\"colorbar\":{\"outlinewidth\":0,\"ticks\":\"\"}}],\"histogram2d\":[{\"type\":\"histogram2d\",\"colorbar\":{\"outlinewidth\":0,\"ticks\":\"\"},\"colorscale\":[[0.0,\"#0d0887\"],[0.1111111111111111,\"#46039f\"],[0.2222222222222222,\"#7201a8\"],[0.3333333333333333,\"#9c179e\"],[0.4444444444444444,\"#bd3786\"],[0.5555555555555556,\"#d8576b\"],[0.6666666666666666,\"#ed7953\"],[0.7777777777777778,\"#fb9f3a\"],[0.8888888888888888,\"#fdca26\"],[1.0,\"#f0f921\"]]}],\"heatmap\":[{\"type\":\"heatmap\",\"colorbar\":{\"outlinewidth\":0,\"ticks\":\"\"},\"colorscale\":[[0.0,\"#0d0887\"],[0.1111111111111111,\"#46039f\"],[0.2222222222222222,\"#7201a8\"],[0.3333333333333333,\"#9c179e\"],[0.4444444444444444,\"#bd3786\"],[0.5555555555555556,\"#d8576b\"],[0.6666666666666666,\"#ed7953\"],[0.7777777777777778,\"#fb9f3a\"],[0.8888888888888888,\"#fdca26\"],[1.0,\"#f0f921\"]]}],\"heatmapgl\":[{\"type\":\"heatmapgl\",\"colorbar\":{\"outlinewidth\":0,\"ticks\":\"\"},\"colorscale\":[[0.0,\"#0d0887\"],[0.1111111111111111,\"#46039f\"],[0.2222222222222222,\"#7201a8\"],[0.3333333333333333,\"#9c179e\"],[0.4444444444444444,\"#bd3786\"],[0.5555555555555556,\"#d8576b\"],[0.6666666666666666,\"#ed7953\"],[0.7777777777777778,\"#fb9f3a\"],[0.8888888888888888,\"#fdca26\"],[1.0,\"#f0f921\"]]}],\"contourcarpet\":[{\"type\":\"contourcarpet\",\"colorbar\":{\"outlinewidth\":0,\"ticks\":\"\"}}],\"contour\":[{\"type\":\"contour\",\"colorbar\":{\"outlinewidth\":0,\"ticks\":\"\"},\"colorscale\":[[0.0,\"#0d0887\"],[0.1111111111111111,\"#46039f\"],[0.2222222222222222,\"#7201a8\"],[0.3333333333333333,\"#9c179e\"],[0.4444444444444444,\"#bd3786\"],[0.5555555555555556,\"#d8576b\"],[0.6666666666666666,\"#ed7953\"],[0.7777777777777778,\"#fb9f3a\"],[0.8888888888888888,\"#fdca26\"],[1.0,\"#f0f921\"]]}],\"surface\":[{\"type\":\"surface\",\"colorbar\":{\"outlinewidth\":0,\"ticks\":\"\"},\"colorscale\":[[0.0,\"#0d0887\"],[0.1111111111111111,\"#46039f\"],[0.2222222222222222,\"#7201a8\"],[0.3333333333333333,\"#9c179e\"],[0.4444444444444444,\"#bd3786\"],[0.5555555555555556,\"#d8576b\"],[0.6666666666666666,\"#ed7953\"],[0.7777777777777778,\"#fb9f3a\"],[0.8888888888888888,\"#fdca26\"],[1.0,\"#f0f921\"]]}],\"mesh3d\":[{\"type\":\"mesh3d\",\"colorbar\":{\"outlinewidth\":0,\"ticks\":\"\"}}],\"scatter\":[{\"fillpattern\":{\"fillmode\":\"overlay\",\"size\":10,\"solidity\":0.2},\"type\":\"scatter\"}],\"parcoords\":[{\"type\":\"parcoords\",\"line\":{\"colorbar\":{\"outlinewidth\":0,\"ticks\":\"\"}}}],\"scatterpolargl\":[{\"type\":\"scatterpolargl\",\"marker\":{\"colorbar\":{\"outlinewidth\":0,\"ticks\":\"\"}}}],\"bar\":[{\"error_x\":{\"color\":\"#2a3f5f\"},\"error_y\":{\"color\":\"#2a3f5f\"},\"marker\":{\"line\":{\"color\":\"#E5ECF6\",\"width\":0.5},\"pattern\":{\"fillmode\":\"overlay\",\"size\":10,\"solidity\":0.2}},\"type\":\"bar\"}],\"scattergeo\":[{\"type\":\"scattergeo\",\"marker\":{\"colorbar\":{\"outlinewidth\":0,\"ticks\":\"\"}}}],\"scatterpolar\":[{\"type\":\"scatterpolar\",\"marker\":{\"colorbar\":{\"outlinewidth\":0,\"ticks\":\"\"}}}],\"histogram\":[{\"marker\":{\"pattern\":{\"fillmode\":\"overlay\",\"size\":10,\"solidity\":0.2}},\"type\":\"histogram\"}],\"scattergl\":[{\"type\":\"scattergl\",\"marker\":{\"colorbar\":{\"outlinewidth\":0,\"ticks\":\"\"}}}],\"scatter3d\":[{\"type\":\"scatter3d\",\"line\":{\"colorbar\":{\"outlinewidth\":0,\"ticks\":\"\"}},\"marker\":{\"colorbar\":{\"outlinewidth\":0,\"ticks\":\"\"}}}],\"scattermapbox\":[{\"type\":\"scattermapbox\",\"marker\":{\"colorbar\":{\"outlinewidth\":0,\"ticks\":\"\"}}}],\"scatterternary\":[{\"type\":\"scatterternary\",\"marker\":{\"colorbar\":{\"outlinewidth\":0,\"ticks\":\"\"}}}],\"scattercarpet\":[{\"type\":\"scattercarpet\",\"marker\":{\"colorbar\":{\"outlinewidth\":0,\"ticks\":\"\"}}}],\"carpet\":[{\"aaxis\":{\"endlinecolor\":\"#2a3f5f\",\"gridcolor\":\"white\",\"linecolor\":\"white\",\"minorgridcolor\":\"white\",\"startlinecolor\":\"#2a3f5f\"},\"baxis\":{\"endlinecolor\":\"#2a3f5f\",\"gridcolor\":\"white\",\"linecolor\":\"white\",\"minorgridcolor\":\"white\",\"startlinecolor\":\"#2a3f5f\"},\"type\":\"carpet\"}],\"table\":[{\"cells\":{\"fill\":{\"color\":\"#EBF0F8\"},\"line\":{\"color\":\"white\"}},\"header\":{\"fill\":{\"color\":\"#C8D4E3\"},\"line\":{\"color\":\"white\"}},\"type\":\"table\"}],\"barpolar\":[{\"marker\":{\"line\":{\"color\":\"#E5ECF6\",\"width\":0.5},\"pattern\":{\"fillmode\":\"overlay\",\"size\":10,\"solidity\":0.2}},\"type\":\"barpolar\"}],\"pie\":[{\"automargin\":true,\"type\":\"pie\"}]},\"layout\":{\"autotypenumbers\":\"strict\",\"colorway\":[\"#636efa\",\"#EF553B\",\"#00cc96\",\"#ab63fa\",\"#FFA15A\",\"#19d3f3\",\"#FF6692\",\"#B6E880\",\"#FF97FF\",\"#FECB52\"],\"font\":{\"color\":\"#2a3f5f\"},\"hovermode\":\"closest\",\"hoverlabel\":{\"align\":\"left\"},\"paper_bgcolor\":\"white\",\"plot_bgcolor\":\"#E5ECF6\",\"polar\":{\"bgcolor\":\"#E5ECF6\",\"angularaxis\":{\"gridcolor\":\"white\",\"linecolor\":\"white\",\"ticks\":\"\"},\"radialaxis\":{\"gridcolor\":\"white\",\"linecolor\":\"white\",\"ticks\":\"\"}},\"ternary\":{\"bgcolor\":\"#E5ECF6\",\"aaxis\":{\"gridcolor\":\"white\",\"linecolor\":\"white\",\"ticks\":\"\"},\"baxis\":{\"gridcolor\":\"white\",\"linecolor\":\"white\",\"ticks\":\"\"},\"caxis\":{\"gridcolor\":\"white\",\"linecolor\":\"white\",\"ticks\":\"\"}},\"coloraxis\":{\"colorbar\":{\"outlinewidth\":0,\"ticks\":\"\"}},\"colorscale\":{\"sequential\":[[0.0,\"#0d0887\"],[0.1111111111111111,\"#46039f\"],[0.2222222222222222,\"#7201a8\"],[0.3333333333333333,\"#9c179e\"],[0.4444444444444444,\"#bd3786\"],[0.5555555555555556,\"#d8576b\"],[0.6666666666666666,\"#ed7953\"],[0.7777777777777778,\"#fb9f3a\"],[0.8888888888888888,\"#fdca26\"],[1.0,\"#f0f921\"]],\"sequentialminus\":[[0.0,\"#0d0887\"],[0.1111111111111111,\"#46039f\"],[0.2222222222222222,\"#7201a8\"],[0.3333333333333333,\"#9c179e\"],[0.4444444444444444,\"#bd3786\"],[0.5555555555555556,\"#d8576b\"],[0.6666666666666666,\"#ed7953\"],[0.7777777777777778,\"#fb9f3a\"],[0.8888888888888888,\"#fdca26\"],[1.0,\"#f0f921\"]],\"diverging\":[[0,\"#8e0152\"],[0.1,\"#c51b7d\"],[0.2,\"#de77ae\"],[0.3,\"#f1b6da\"],[0.4,\"#fde0ef\"],[0.5,\"#f7f7f7\"],[0.6,\"#e6f5d0\"],[0.7,\"#b8e186\"],[0.8,\"#7fbc41\"],[0.9,\"#4d9221\"],[1,\"#276419\"]]},\"xaxis\":{\"gridcolor\":\"white\",\"linecolor\":\"white\",\"ticks\":\"\",\"title\":{\"standoff\":15},\"zerolinecolor\":\"white\",\"automargin\":true,\"zerolinewidth\":2},\"yaxis\":{\"gridcolor\":\"white\",\"linecolor\":\"white\",\"ticks\":\"\",\"title\":{\"standoff\":15},\"zerolinecolor\":\"white\",\"automargin\":true,\"zerolinewidth\":2},\"scene\":{\"xaxis\":{\"backgroundcolor\":\"#E5ECF6\",\"gridcolor\":\"white\",\"linecolor\":\"white\",\"showbackground\":true,\"ticks\":\"\",\"zerolinecolor\":\"white\",\"gridwidth\":2},\"yaxis\":{\"backgroundcolor\":\"#E5ECF6\",\"gridcolor\":\"white\",\"linecolor\":\"white\",\"showbackground\":true,\"ticks\":\"\",\"zerolinecolor\":\"white\",\"gridwidth\":2},\"zaxis\":{\"backgroundcolor\":\"#E5ECF6\",\"gridcolor\":\"white\",\"linecolor\":\"white\",\"showbackground\":true,\"ticks\":\"\",\"zerolinecolor\":\"white\",\"gridwidth\":2}},\"shapedefaults\":{\"line\":{\"color\":\"#2a3f5f\"}},\"annotationdefaults\":{\"arrowcolor\":\"#2a3f5f\",\"arrowhead\":0,\"arrowwidth\":1},\"geo\":{\"bgcolor\":\"white\",\"landcolor\":\"#E5ECF6\",\"subunitcolor\":\"white\",\"showland\":true,\"showlakes\":true,\"lakecolor\":\"white\"},\"title\":{\"x\":0.05},\"mapbox\":{\"style\":\"light\"}}},\"xaxis\":{\"anchor\":\"y\",\"domain\":[0.0,1.0],\"title\":{\"text\":\"category\"}},\"yaxis\":{\"anchor\":\"x\",\"domain\":[0.0,1.0],\"title\":{\"text\":\"count\"}},\"legend\":{\"title\":{\"text\":\"selfMade\"},\"tracegroupgap\":0},\"title\":{\"text\":\"Category and inherited wealth relation - YOUNG\"},\"barmode\":\"relative\",\"height\":800},                        {\"responsive\": true}                    ).then(function(){\n",
              "                            \n",
              "var gd = document.getElementById('9577d2c9-65ee-490f-987f-4dc263d2dce7');\n",
              "var x = new MutationObserver(function (mutations, observer) {{\n",
              "        var display = window.getComputedStyle(gd).display;\n",
              "        if (!display || display === 'none') {{\n",
              "            console.log([gd, 'removed!']);\n",
              "            Plotly.purge(gd);\n",
              "            observer.disconnect();\n",
              "        }}\n",
              "}});\n",
              "\n",
              "// Listen for the removal of the full notebook cells\n",
              "var notebookContainer = gd.closest('#notebook-container');\n",
              "if (notebookContainer) {{\n",
              "    x.observe(notebookContainer, {childList: true});\n",
              "}}\n",
              "\n",
              "// Listen for the clearing of the current output cell\n",
              "var outputEl = gd.closest('.output');\n",
              "if (outputEl) {{\n",
              "    x.observe(outputEl, {childList: true});\n",
              "}}\n",
              "\n",
              "                        })                };                            </script>        </div>\n",
              "</body>\n",
              "</html>"
            ]
          },
          "metadata": {}
        }
      ]
    },
    {
      "cell_type": "code",
      "source": [
        "fig_selfmadecategory_old = px.bar(old_dataset.sort_values(by = 'category'),\n",
        "                              x = 'category',\n",
        "                              color = 'selfMade',\n",
        "                              title = 'Category and inherited wealth relation - OLD',\n",
        "                              height = 800)\n",
        "fig_selfmadecategory_old"
      ],
      "metadata": {
        "colab": {
          "base_uri": "https://localhost:8080/",
          "height": 817
        },
        "id": "c3GPbNet31jl",
        "outputId": "c01cce80-cac6-4361-f62d-fd584f24cece"
      },
      "execution_count": 31,
      "outputs": [
        {
          "output_type": "display_data",
          "data": {
            "text/html": [
              "<html>\n",
              "<head><meta charset=\"utf-8\" /></head>\n",
              "<body>\n",
              "    <div>            <script src=\"https://cdnjs.cloudflare.com/ajax/libs/mathjax/2.7.5/MathJax.js?config=TeX-AMS-MML_SVG\"></script><script type=\"text/javascript\">if (window.MathJax && window.MathJax.Hub && window.MathJax.Hub.Config) {window.MathJax.Hub.Config({SVG: {font: \"STIX-Web\"}});}</script>                <script type=\"text/javascript\">window.PlotlyConfig = {MathJaxConfig: 'local'};</script>\n",
              "        <script charset=\"utf-8\" src=\"https://cdn.plot.ly/plotly-2.35.2.min.js\"></script>                <div id=\"96292209-2164-4d71-a6fd-05303a0a4229\" class=\"plotly-graph-div\" style=\"height:800px; width:100%;\"></div>            <script type=\"text/javascript\">                                    window.PLOTLYENV=window.PLOTLYENV || {};                                    if (document.getElementById(\"96292209-2164-4d71-a6fd-05303a0a4229\")) {                    Plotly.newPlot(                        \"96292209-2164-4d71-a6fd-05303a0a4229\",                        [{\"alignmentgroup\":\"True\",\"hovertemplate\":\"selfMade=False\\u003cbr\\u003ecategory=%{x}\\u003cbr\\u003ecount=%{y}\\u003cextra\\u003e\\u003c\\u002fextra\\u003e\",\"legendgroup\":\"False\",\"marker\":{\"color\":\"#636efa\",\"pattern\":{\"shape\":\"\"}},\"name\":\"False\",\"offsetgroup\":\"False\",\"orientation\":\"v\",\"showlegend\":true,\"textposition\":\"auto\",\"x\":[\"Automotive\",\"Automotive\",\"Automotive\",\"Automotive\",\"Automotive\",\"Automotive\",\"Automotive\",\"Automotive\",\"Automotive\",\"Automotive\",\"Automotive\",\"Automotive\",\"Automotive\",\"Automotive\",\"Automotive\",\"Automotive\",\"Automotive\",\"Automotive\",\"Automotive\",\"Automotive\",\"Automotive\",\"Automotive\",\"Automotive\",\"Automotive\",\"Automotive\",\"Automotive\",\"Automotive\",\"Automotive\",\"Automotive\",\"Automotive\",\"Construction & Engineering\",\"Construction & Engineering\",\"Construction & Engineering\",\"Construction & Engineering\",\"Construction & Engineering\",\"Construction & Engineering\",\"Construction & Engineering\",\"Construction & Engineering\",\"Construction & Engineering\",\"Construction & Engineering\",\"Construction & Engineering\",\"Construction & Engineering\",\"Construction & Engineering\",\"Construction & Engineering\",\"Construction & Engineering\",\"Construction & Engineering\",\"Construction & Engineering\",\"Diversified\",\"Diversified\",\"Diversified\",\"Diversified\",\"Diversified\",\"Diversified\",\"Diversified\",\"Diversified\",\"Diversified\",\"Diversified\",\"Diversified\",\"Diversified\",\"Diversified\",\"Diversified\",\"Diversified\",\"Diversified\",\"Diversified\",\"Diversified\",\"Diversified\",\"Diversified\",\"Diversified\",\"Diversified\",\"Diversified\",\"Diversified\",\"Diversified\",\"Diversified\",\"Diversified\",\"Diversified\",\"Diversified\",\"Diversified\",\"Diversified\",\"Diversified\",\"Diversified\",\"Diversified\",\"Diversified\",\"Diversified\",\"Diversified\",\"Diversified\",\"Diversified\",\"Diversified\",\"Diversified\",\"Diversified\",\"Diversified\",\"Diversified\",\"Diversified\",\"Diversified\",\"Diversified\",\"Diversified\",\"Diversified\",\"Diversified\",\"Diversified\",\"Diversified\",\"Diversified\",\"Diversified\",\"Diversified\",\"Diversified\",\"Diversified\",\"Diversified\",\"Diversified\",\"Diversified\",\"Diversified\",\"Diversified\",\"Diversified\",\"Diversified\",\"Diversified\",\"Diversified\",\"Diversified\",\"Diversified\",\"Diversified\",\"Diversified\",\"Diversified\",\"Diversified\",\"Diversified\",\"Diversified\",\"Diversified\",\"Diversified\",\"Diversified\",\"Diversified\",\"Diversified\",\"Diversified\",\"Diversified\",\"Diversified\",\"Diversified\",\"Diversified\",\"Diversified\",\"Diversified\",\"Diversified\",\"Diversified\",\"Diversified\",\"Diversified\",\"Energy\",\"Energy\",\"Energy\",\"Energy\",\"Energy\",\"Energy\",\"Energy\",\"Energy\",\"Energy\",\"Energy\",\"Energy\",\"Energy\",\"Energy\",\"Energy\",\"Energy\",\"Energy\",\"Energy\",\"Energy\",\"Energy\",\"Energy\",\"Energy\",\"Energy\",\"Energy\",\"Energy\",\"Energy\",\"Fashion & Retail\",\"Fashion & Retail\",\"Fashion & Retail\",\"Fashion & Retail\",\"Fashion & Retail\",\"Fashion & Retail\",\"Fashion & Retail\",\"Fashion & Retail\",\"Fashion & Retail\",\"Fashion & Retail\",\"Fashion & Retail\",\"Fashion & Retail\",\"Fashion & Retail\",\"Fashion & Retail\",\"Fashion & Retail\",\"Fashion & Retail\",\"Fashion & Retail\",\"Fashion & Retail\",\"Fashion & Retail\",\"Fashion & Retail\",\"Fashion & Retail\",\"Fashion & Retail\",\"Fashion & Retail\",\"Fashion & Retail\",\"Fashion & Retail\",\"Fashion & Retail\",\"Fashion & Retail\",\"Fashion & Retail\",\"Fashion & Retail\",\"Fashion & Retail\",\"Fashion & Retail\",\"Fashion & Retail\",\"Fashion & Retail\",\"Fashion & Retail\",\"Fashion & Retail\",\"Fashion & Retail\",\"Fashion & Retail\",\"Fashion & Retail\",\"Fashion & Retail\",\"Fashion & Retail\",\"Fashion & Retail\",\"Fashion & Retail\",\"Fashion & Retail\",\"Fashion & Retail\",\"Fashion & Retail\",\"Fashion & Retail\",\"Fashion & Retail\",\"Fashion & Retail\",\"Fashion & Retail\",\"Fashion & Retail\",\"Fashion & Retail\",\"Fashion & Retail\",\"Fashion & Retail\",\"Fashion & Retail\",\"Fashion & Retail\",\"Fashion & Retail\",\"Fashion & Retail\",\"Fashion & Retail\",\"Fashion & Retail\",\"Fashion & Retail\",\"Fashion & Retail\",\"Fashion & Retail\",\"Fashion & Retail\",\"Fashion & Retail\",\"Fashion & Retail\",\"Fashion & Retail\",\"Fashion & Retail\",\"Fashion & Retail\",\"Fashion & Retail\",\"Fashion & Retail\",\"Fashion & Retail\",\"Fashion & Retail\",\"Fashion & Retail\",\"Fashion & Retail\",\"Fashion & Retail\",\"Fashion & Retail\",\"Fashion & Retail\",\"Fashion & Retail\",\"Fashion & Retail\",\"Fashion & Retail\",\"Fashion & Retail\",\"Fashion & Retail\",\"Fashion & Retail\",\"Fashion & Retail\",\"Fashion & Retail\",\"Fashion & Retail\",\"Fashion & Retail\",\"Fashion & Retail\",\"Fashion & Retail\",\"Finance & Investments\",\"Finance & Investments\",\"Finance & Investments\",\"Finance & Investments\",\"Finance & Investments\",\"Finance & Investments\",\"Finance & Investments\",\"Finance & Investments\",\"Finance & Investments\",\"Finance & Investments\",\"Finance & Investments\",\"Finance & Investments\",\"Finance & Investments\",\"Finance & Investments\",\"Finance & Investments\",\"Finance & Investments\",\"Finance & Investments\",\"Finance & Investments\",\"Finance & Investments\",\"Finance & Investments\",\"Finance & Investments\",\"Finance & Investments\",\"Finance & Investments\",\"Finance & Investments\",\"Finance & Investments\",\"Finance & Investments\",\"Finance & Investments\",\"Finance & Investments\",\"Finance & Investments\",\"Finance & Investments\",\"Finance & Investments\",\"Finance & Investments\",\"Finance & Investments\",\"Finance & Investments\",\"Finance & Investments\",\"Finance & Investments\",\"Finance & Investments\",\"Finance & Investments\",\"Finance & Investments\",\"Finance & Investments\",\"Finance & Investments\",\"Finance & Investments\",\"Finance & Investments\",\"Finance & Investments\",\"Finance & Investments\",\"Finance & Investments\",\"Finance & Investments\",\"Finance & Investments\",\"Finance & Investments\",\"Finance & Investments\",\"Finance & Investments\",\"Finance & Investments\",\"Finance & Investments\",\"Finance & Investments\",\"Finance & Investments\",\"Finance & Investments\",\"Finance & Investments\",\"Finance & Investments\",\"Finance & Investments\",\"Finance & Investments\",\"Finance & Investments\",\"Finance & Investments\",\"Finance & Investments\",\"Finance & Investments\",\"Finance & Investments\",\"Finance & Investments\",\"Finance & Investments\",\"Finance & Investments\",\"Finance & Investments\",\"Finance & Investments\",\"Finance & Investments\",\"Finance & Investments\",\"Finance & Investments\",\"Finance & Investments\",\"Finance & Investments\",\"Finance & Investments\",\"Finance & Investments\",\"Finance & Investments\",\"Finance & Investments\",\"Food & Beverage\",\"Food & Beverage\",\"Food & Beverage\",\"Food & Beverage\",\"Food & Beverage\",\"Food & Beverage\",\"Food & Beverage\",\"Food & Beverage\",\"Food & Beverage\",\"Food & Beverage\",\"Food & Beverage\",\"Food & Beverage\",\"Food & Beverage\",\"Food & Beverage\",\"Food & Beverage\",\"Food & Beverage\",\"Food & Beverage\",\"Food & Beverage\",\"Food & Beverage\",\"Food & Beverage\",\"Food & Beverage\",\"Food & Beverage\",\"Food & Beverage\",\"Food & Beverage\",\"Food & Beverage\",\"Food & Beverage\",\"Food & Beverage\",\"Food & Beverage\",\"Food & Beverage\",\"Food & Beverage\",\"Food & Beverage\",\"Food & Beverage\",\"Food & Beverage\",\"Food & Beverage\",\"Food & Beverage\",\"Food & Beverage\",\"Food & Beverage\",\"Food & Beverage\",\"Food & Beverage\",\"Food & Beverage\",\"Food & Beverage\",\"Food & Beverage\",\"Food & Beverage\",\"Food & Beverage\",\"Food & Beverage\",\"Food & Beverage\",\"Food & Beverage\",\"Food & Beverage\",\"Food & Beverage\",\"Food & Beverage\",\"Food & Beverage\",\"Food & Beverage\",\"Food & Beverage\",\"Food & Beverage\",\"Food & Beverage\",\"Food & Beverage\",\"Food & Beverage\",\"Food & Beverage\",\"Food & Beverage\",\"Food & Beverage\",\"Food & Beverage\",\"Food & Beverage\",\"Food & Beverage\",\"Food & Beverage\",\"Food & Beverage\",\"Food & Beverage\",\"Food & Beverage\",\"Food & Beverage\",\"Food & Beverage\",\"Food & Beverage\",\"Food & Beverage\",\"Food & Beverage\",\"Food & Beverage\",\"Food & Beverage\",\"Food & Beverage\",\"Food & Beverage\",\"Food & Beverage\",\"Food & Beverage\",\"Food & Beverage\",\"Food & Beverage\",\"Food & Beverage\",\"Food & Beverage\",\"Food & Beverage\",\"Food & Beverage\",\"Gambling & Casinos\",\"Gambling & Casinos\",\"Gambling & Casinos\",\"Gambling & Casinos\",\"Gambling & Casinos\",\"Healthcare\",\"Healthcare\",\"Healthcare\",\"Healthcare\",\"Healthcare\",\"Healthcare\",\"Healthcare\",\"Healthcare\",\"Healthcare\",\"Healthcare\",\"Healthcare\",\"Healthcare\",\"Healthcare\",\"Healthcare\",\"Healthcare\",\"Healthcare\",\"Healthcare\",\"Healthcare\",\"Healthcare\",\"Healthcare\",\"Healthcare\",\"Healthcare\",\"Healthcare\",\"Healthcare\",\"Healthcare\",\"Healthcare\",\"Healthcare\",\"Healthcare\",\"Healthcare\",\"Healthcare\",\"Healthcare\",\"Healthcare\",\"Healthcare\",\"Healthcare\",\"Healthcare\",\"Healthcare\",\"Healthcare\",\"Healthcare\",\"Healthcare\",\"Healthcare\",\"Healthcare\",\"Healthcare\",\"Logistics\",\"Logistics\",\"Logistics\",\"Logistics\",\"Logistics\",\"Logistics\",\"Logistics\",\"Logistics\",\"Logistics\",\"Manufacturing\",\"Manufacturing\",\"Manufacturing\",\"Manufacturing\",\"Manufacturing\",\"Manufacturing\",\"Manufacturing\",\"Manufacturing\",\"Manufacturing\",\"Manufacturing\",\"Manufacturing\",\"Manufacturing\",\"Manufacturing\",\"Manufacturing\",\"Manufacturing\",\"Manufacturing\",\"Manufacturing\",\"Manufacturing\",\"Manufacturing\",\"Manufacturing\",\"Manufacturing\",\"Manufacturing\",\"Manufacturing\",\"Manufacturing\",\"Manufacturing\",\"Manufacturing\",\"Manufacturing\",\"Manufacturing\",\"Manufacturing\",\"Manufacturing\",\"Manufacturing\",\"Manufacturing\",\"Manufacturing\",\"Manufacturing\",\"Manufacturing\",\"Manufacturing\",\"Manufacturing\",\"Manufacturing\",\"Manufacturing\",\"Manufacturing\",\"Manufacturing\",\"Manufacturing\",\"Manufacturing\",\"Manufacturing\",\"Manufacturing\",\"Manufacturing\",\"Manufacturing\",\"Manufacturing\",\"Manufacturing\",\"Manufacturing\",\"Manufacturing\",\"Manufacturing\",\"Manufacturing\",\"Manufacturing\",\"Manufacturing\",\"Manufacturing\",\"Manufacturing\",\"Manufacturing\",\"Manufacturing\",\"Manufacturing\",\"Manufacturing\",\"Manufacturing\",\"Manufacturing\",\"Manufacturing\",\"Manufacturing\",\"Manufacturing\",\"Manufacturing\",\"Manufacturing\",\"Manufacturing\",\"Manufacturing\",\"Manufacturing\",\"Manufacturing\",\"Manufacturing\",\"Media & Entertainment\",\"Media & Entertainment\",\"Media & Entertainment\",\"Media & Entertainment\",\"Media & Entertainment\",\"Media & Entertainment\",\"Media & Entertainment\",\"Media & Entertainment\",\"Media & Entertainment\",\"Media & Entertainment\",\"Media & Entertainment\",\"Media & Entertainment\",\"Media & Entertainment\",\"Media & Entertainment\",\"Media & Entertainment\",\"Media & Entertainment\",\"Media & Entertainment\",\"Media & Entertainment\",\"Media & Entertainment\",\"Media & Entertainment\",\"Media & Entertainment\",\"Media & Entertainment\",\"Media & Entertainment\",\"Metals & Mining\",\"Metals & Mining\",\"Metals & Mining\",\"Metals & Mining\",\"Metals & Mining\",\"Metals & Mining\",\"Metals & Mining\",\"Metals & Mining\",\"Metals & Mining\",\"Metals & Mining\",\"Metals & Mining\",\"Metals & Mining\",\"Metals & Mining\",\"Real Estate\",\"Real Estate\",\"Real Estate\",\"Real Estate\",\"Real Estate\",\"Real Estate\",\"Real Estate\",\"Real Estate\",\"Real Estate\",\"Real Estate\",\"Real Estate\",\"Real Estate\",\"Real Estate\",\"Real Estate\",\"Real Estate\",\"Real Estate\",\"Real Estate\",\"Real Estate\",\"Real Estate\",\"Real Estate\",\"Real Estate\",\"Real Estate\",\"Real Estate\",\"Real Estate\",\"Real Estate\",\"Real Estate\",\"Real Estate\",\"Real Estate\",\"Real Estate\",\"Real Estate\",\"Real Estate\",\"Real Estate\",\"Real Estate\",\"Real Estate\",\"Real Estate\",\"Real Estate\",\"Real Estate\",\"Real Estate\",\"Real Estate\",\"Real Estate\",\"Real Estate\",\"Real Estate\",\"Real Estate\",\"Real Estate\",\"Real Estate\",\"Real Estate\",\"Real Estate\",\"Real Estate\",\"Real Estate\",\"Real Estate\",\"Real Estate\",\"Service\",\"Service\",\"Service\",\"Service\",\"Service\",\"Service\",\"Service\",\"Service\",\"Service\",\"Service\",\"Service\",\"Service\",\"Service\",\"Service\",\"Service\",\"Service\",\"Service\",\"Service\",\"Service\",\"Service\",\"Service\",\"Service\",\"Sports\",\"Sports\",\"Sports\",\"Sports\",\"Sports\",\"Sports\",\"Sports\",\"Sports\",\"Sports\",\"Sports\",\"Sports\",\"Sports\",\"Sports\",\"Sports\",\"Technology\",\"Technology\",\"Technology\",\"Technology\",\"Technology\",\"Technology\",\"Technology\",\"Technology\",\"Technology\",\"Technology\",\"Technology\",\"Technology\",\"Technology\",\"Technology\",\"Technology\",\"Technology\",\"Technology\",\"Telecom\",\"Telecom\",\"Telecom\",\"Telecom\",\"Telecom\"],\"xaxis\":\"x\",\"y\":[1,1,1,1,1,1,1,1,1,1,1,1,1,1,1,1,1,1,1,1,1,1,1,1,1,1,1,1,1,1,1,1,1,1,1,1,1,1,1,1,1,1,1,1,1,1,1,1,1,1,1,1,1,1,1,1,1,1,1,1,1,1,1,1,1,1,1,1,1,1,1,1,1,1,1,1,1,1,1,1,1,1,1,1,1,1,1,1,1,1,1,1,1,1,1,1,1,1,1,1,1,1,1,1,1,1,1,1,1,1,1,1,1,1,1,1,1,1,1,1,1,1,1,1,1,1,1,1,1,1,1,1,1,1,1,1,1,1,1,1,1,1,1,1,1,1,1,1,1,1,1,1,1,1,1,1,1,1,1,1,1,1,1,1,1,1,1,1,1,1,1,1,1,1,1,1,1,1,1,1,1,1,1,1,1,1,1,1,1,1,1,1,1,1,1,1,1,1,1,1,1,1,1,1,1,1,1,1,1,1,1,1,1,1,1,1,1,1,1,1,1,1,1,1,1,1,1,1,1,1,1,1,1,1,1,1,1,1,1,1,1,1,1,1,1,1,1,1,1,1,1,1,1,1,1,1,1,1,1,1,1,1,1,1,1,1,1,1,1,1,1,1,1,1,1,1,1,1,1,1,1,1,1,1,1,1,1,1,1,1,1,1,1,1,1,1,1,1,1,1,1,1,1,1,1,1,1,1,1,1,1,1,1,1,1,1,1,1,1,1,1,1,1,1,1,1,1,1,1,1,1,1,1,1,1,1,1,1,1,1,1,1,1,1,1,1,1,1,1,1,1,1,1,1,1,1,1,1,1,1,1,1,1,1,1,1,1,1,1,1,1,1,1,1,1,1,1,1,1,1,1,1,1,1,1,1,1,1,1,1,1,1,1,1,1,1,1,1,1,1,1,1,1,1,1,1,1,1,1,1,1,1,1,1,1,1,1,1,1,1,1,1,1,1,1,1,1,1,1,1,1,1,1,1,1,1,1,1,1,1,1,1,1,1,1,1,1,1,1,1,1,1,1,1,1,1,1,1,1,1,1,1,1,1,1,1,1,1,1,1,1,1,1,1,1,1,1,1,1,1,1,1,1,1,1,1,1,1,1,1,1,1,1,1,1,1,1,1,1,1,1,1,1,1,1,1,1,1,1,1,1,1,1,1,1,1,1,1,1,1,1,1,1,1,1,1,1,1,1,1,1,1,1,1,1,1,1,1,1,1,1,1,1,1,1,1,1,1,1,1,1,1,1,1,1,1,1,1,1,1,1,1,1,1,1,1,1,1,1,1,1,1,1,1,1,1,1,1,1,1,1,1,1,1,1,1,1,1,1,1,1,1,1,1,1,1,1,1,1,1,1,1,1,1,1,1,1,1,1,1,1,1,1,1,1,1,1,1,1,1,1,1,1,1,1,1,1,1,1,1,1,1,1,1,1,1,1,1,1,1,1,1,1,1,1,1,1,1,1,1,1,1,1,1,1,1,1,1,1,1,1,1,1,1,1,1,1,1,1,1,1,1,1,1,1,1,1,1,1,1,1,1,1,1,1,1,1,1],\"yaxis\":\"y\",\"type\":\"bar\"},{\"alignmentgroup\":\"True\",\"hovertemplate\":\"selfMade=True\\u003cbr\\u003ecategory=%{x}\\u003cbr\\u003ecount=%{y}\\u003cextra\\u003e\\u003c\\u002fextra\\u003e\",\"legendgroup\":\"True\",\"marker\":{\"color\":\"#EF553B\",\"pattern\":{\"shape\":\"\"}},\"name\":\"True\",\"offsetgroup\":\"True\",\"orientation\":\"v\",\"showlegend\":true,\"textposition\":\"auto\",\"x\":[\"Automotive\",\"Automotive\",\"Automotive\",\"Automotive\",\"Automotive\",\"Automotive\",\"Automotive\",\"Automotive\",\"Automotive\",\"Automotive\",\"Automotive\",\"Automotive\",\"Automotive\",\"Automotive\",\"Automotive\",\"Automotive\",\"Automotive\",\"Automotive\",\"Automotive\",\"Automotive\",\"Automotive\",\"Automotive\",\"Automotive\",\"Automotive\",\"Automotive\",\"Automotive\",\"Automotive\",\"Automotive\",\"Automotive\",\"Automotive\",\"Automotive\",\"Automotive\",\"Automotive\",\"Automotive\",\"Automotive\",\"Construction & Engineering\",\"Construction & Engineering\",\"Construction & Engineering\",\"Construction & Engineering\",\"Construction & Engineering\",\"Construction & Engineering\",\"Construction & Engineering\",\"Construction & Engineering\",\"Construction & Engineering\",\"Construction & Engineering\",\"Construction & Engineering\",\"Construction & Engineering\",\"Construction & Engineering\",\"Construction & Engineering\",\"Construction & Engineering\",\"Construction & Engineering\",\"Construction & Engineering\",\"Construction & Engineering\",\"Construction & Engineering\",\"Construction & Engineering\",\"Construction & Engineering\",\"Construction & Engineering\",\"Construction & Engineering\",\"Diversified\",\"Diversified\",\"Diversified\",\"Diversified\",\"Diversified\",\"Diversified\",\"Diversified\",\"Diversified\",\"Diversified\",\"Diversified\",\"Diversified\",\"Diversified\",\"Diversified\",\"Diversified\",\"Diversified\",\"Diversified\",\"Diversified\",\"Diversified\",\"Diversified\",\"Diversified\",\"Diversified\",\"Diversified\",\"Diversified\",\"Diversified\",\"Diversified\",\"Diversified\",\"Diversified\",\"Diversified\",\"Diversified\",\"Diversified\",\"Diversified\",\"Diversified\",\"Diversified\",\"Diversified\",\"Diversified\",\"Diversified\",\"Diversified\",\"Diversified\",\"Diversified\",\"Diversified\",\"Diversified\",\"Diversified\",\"Diversified\",\"Diversified\",\"Diversified\",\"Diversified\",\"Diversified\",\"Diversified\",\"Diversified\",\"Diversified\",\"Diversified\",\"Diversified\",\"Diversified\",\"Diversified\",\"Diversified\",\"Diversified\",\"Diversified\",\"Diversified\",\"Diversified\",\"Diversified\",\"Diversified\",\"Diversified\",\"Diversified\",\"Diversified\",\"Diversified\",\"Diversified\",\"Diversified\",\"Diversified\",\"Diversified\",\"Diversified\",\"Diversified\",\"Diversified\",\"Diversified\",\"Diversified\",\"Diversified\",\"Diversified\",\"Diversified\",\"Diversified\",\"Diversified\",\"Diversified\",\"Energy\",\"Energy\",\"Energy\",\"Energy\",\"Energy\",\"Energy\",\"Energy\",\"Energy\",\"Energy\",\"Energy\",\"Energy\",\"Energy\",\"Energy\",\"Energy\",\"Energy\",\"Energy\",\"Energy\",\"Energy\",\"Energy\",\"Energy\",\"Energy\",\"Energy\",\"Energy\",\"Energy\",\"Energy\",\"Energy\",\"Energy\",\"Energy\",\"Energy\",\"Energy\",\"Energy\",\"Energy\",\"Energy\",\"Energy\",\"Energy\",\"Energy\",\"Energy\",\"Energy\",\"Energy\",\"Energy\",\"Energy\",\"Energy\",\"Energy\",\"Energy\",\"Energy\",\"Energy\",\"Energy\",\"Energy\",\"Energy\",\"Energy\",\"Energy\",\"Energy\",\"Energy\",\"Energy\",\"Energy\",\"Energy\",\"Energy\",\"Energy\",\"Energy\",\"Energy\",\"Energy\",\"Energy\",\"Energy\",\"Energy\",\"Energy\",\"Energy\",\"Energy\",\"Energy\",\"Fashion & Retail\",\"Fashion & Retail\",\"Fashion & Retail\",\"Fashion & Retail\",\"Fashion & Retail\",\"Fashion & Retail\",\"Fashion & Retail\",\"Fashion & Retail\",\"Fashion & Retail\",\"Fashion & Retail\",\"Fashion & Retail\",\"Fashion & Retail\",\"Fashion & Retail\",\"Fashion & Retail\",\"Fashion & Retail\",\"Fashion & Retail\",\"Fashion & Retail\",\"Fashion & Retail\",\"Fashion & Retail\",\"Fashion & Retail\",\"Fashion & Retail\",\"Fashion & Retail\",\"Fashion & Retail\",\"Fashion & Retail\",\"Fashion & Retail\",\"Fashion & Retail\",\"Fashion & Retail\",\"Fashion & Retail\",\"Fashion & Retail\",\"Fashion & Retail\",\"Fashion & Retail\",\"Fashion & Retail\",\"Fashion & Retail\",\"Fashion & Retail\",\"Fashion & Retail\",\"Fashion & Retail\",\"Fashion & Retail\",\"Fashion & Retail\",\"Fashion & Retail\",\"Fashion & Retail\",\"Fashion & Retail\",\"Fashion & Retail\",\"Fashion & Retail\",\"Fashion & Retail\",\"Fashion & Retail\",\"Fashion & Retail\",\"Fashion & Retail\",\"Fashion & Retail\",\"Fashion & Retail\",\"Fashion & Retail\",\"Fashion & Retail\",\"Fashion & Retail\",\"Fashion & Retail\",\"Fashion & Retail\",\"Fashion & Retail\",\"Fashion & Retail\",\"Fashion & Retail\",\"Fashion & Retail\",\"Fashion & Retail\",\"Fashion & Retail\",\"Fashion & Retail\",\"Fashion & Retail\",\"Fashion & Retail\",\"Fashion & Retail\",\"Fashion & Retail\",\"Fashion & Retail\",\"Fashion & Retail\",\"Fashion & Retail\",\"Fashion & Retail\",\"Fashion & Retail\",\"Fashion & Retail\",\"Fashion & Retail\",\"Fashion & Retail\",\"Fashion & Retail\",\"Fashion & Retail\",\"Fashion & Retail\",\"Fashion & Retail\",\"Fashion & Retail\",\"Fashion & Retail\",\"Fashion & Retail\",\"Fashion & Retail\",\"Fashion & Retail\",\"Fashion & Retail\",\"Fashion & Retail\",\"Fashion & Retail\",\"Fashion & Retail\",\"Fashion & Retail\",\"Fashion & Retail\",\"Fashion & Retail\",\"Fashion & Retail\",\"Fashion & Retail\",\"Fashion & Retail\",\"Fashion & Retail\",\"Fashion & Retail\",\"Fashion & Retail\",\"Fashion & Retail\",\"Fashion & Retail\",\"Fashion & Retail\",\"Fashion & Retail\",\"Fashion & Retail\",\"Fashion & Retail\",\"Fashion & Retail\",\"Fashion & Retail\",\"Fashion & Retail\",\"Fashion & Retail\",\"Fashion & Retail\",\"Fashion & Retail\",\"Fashion & Retail\",\"Fashion & Retail\",\"Fashion & Retail\",\"Fashion & Retail\",\"Fashion & Retail\",\"Fashion & Retail\",\"Fashion & Retail\",\"Fashion & Retail\",\"Fashion & Retail\",\"Fashion & Retail\",\"Fashion & Retail\",\"Fashion & Retail\",\"Fashion & Retail\",\"Fashion & Retail\",\"Fashion & Retail\",\"Fashion & Retail\",\"Fashion & Retail\",\"Fashion & Retail\",\"Fashion & Retail\",\"Fashion & Retail\",\"Fashion & Retail\",\"Fashion & Retail\",\"Fashion & Retail\",\"Fashion & Retail\",\"Fashion & Retail\",\"Fashion & Retail\",\"Fashion & Retail\",\"Finance & Investments\",\"Finance & Investments\",\"Finance & Investments\",\"Finance & Investments\",\"Finance & Investments\",\"Finance & Investments\",\"Finance & Investments\",\"Finance & Investments\",\"Finance & Investments\",\"Finance & Investments\",\"Finance & Investments\",\"Finance & Investments\",\"Finance & Investments\",\"Finance & Investments\",\"Finance & Investments\",\"Finance & Investments\",\"Finance & Investments\",\"Finance & Investments\",\"Finance & Investments\",\"Finance & Investments\",\"Finance & Investments\",\"Finance & Investments\",\"Finance & Investments\",\"Finance & Investments\",\"Finance & Investments\",\"Finance & Investments\",\"Finance & Investments\",\"Finance & Investments\",\"Finance & Investments\",\"Finance & Investments\",\"Finance & Investments\",\"Finance & Investments\",\"Finance & Investments\",\"Finance & Investments\",\"Finance & Investments\",\"Finance & Investments\",\"Finance & Investments\",\"Finance & Investments\",\"Finance & Investments\",\"Finance & Investments\",\"Finance & Investments\",\"Finance & Investments\",\"Finance & Investments\",\"Finance & Investments\",\"Finance & Investments\",\"Finance & Investments\",\"Finance & Investments\",\"Finance & Investments\",\"Finance & Investments\",\"Finance & Investments\",\"Finance & Investments\",\"Finance & Investments\",\"Finance & Investments\",\"Finance & Investments\",\"Finance & Investments\",\"Finance & Investments\",\"Finance & Investments\",\"Finance & Investments\",\"Finance & Investments\",\"Finance & Investments\",\"Finance & Investments\",\"Finance & Investments\",\"Finance & Investments\",\"Finance & Investments\",\"Finance & Investments\",\"Finance & Investments\",\"Finance & Investments\",\"Finance & Investments\",\"Finance & Investments\",\"Finance & Investments\",\"Finance & Investments\",\"Finance & Investments\",\"Finance & Investments\",\"Finance & Investments\",\"Finance & Investments\",\"Finance & Investments\",\"Finance & Investments\",\"Finance & Investments\",\"Finance & Investments\",\"Finance & Investments\",\"Finance & Investments\",\"Finance & Investments\",\"Finance & Investments\",\"Finance & Investments\",\"Finance & Investments\",\"Finance & Investments\",\"Finance & Investments\",\"Finance & Investments\",\"Finance & Investments\",\"Finance & Investments\",\"Finance & Investments\",\"Finance & Investments\",\"Finance & Investments\",\"Finance & Investments\",\"Finance & Investments\",\"Finance & Investments\",\"Finance & Investments\",\"Finance & Investments\",\"Finance & Investments\",\"Finance & Investments\",\"Finance & Investments\",\"Finance & Investments\",\"Finance & Investments\",\"Finance & Investments\",\"Finance & Investments\",\"Finance & Investments\",\"Finance & Investments\",\"Finance & Investments\",\"Finance & Investments\",\"Finance & Investments\",\"Finance & Investments\",\"Finance & Investments\",\"Finance & Investments\",\"Finance & Investments\",\"Finance & Investments\",\"Finance & Investments\",\"Finance & Investments\",\"Finance & Investments\",\"Finance & Investments\",\"Finance & Investments\",\"Finance & Investments\",\"Finance & Investments\",\"Finance & Investments\",\"Finance & Investments\",\"Finance & Investments\",\"Finance & Investments\",\"Finance & Investments\",\"Finance & Investments\",\"Finance & Investments\",\"Finance & Investments\",\"Finance & Investments\",\"Finance & Investments\",\"Finance & Investments\",\"Finance & Investments\",\"Finance & Investments\",\"Finance & Investments\",\"Finance & Investments\",\"Finance & Investments\",\"Finance & Investments\",\"Finance & Investments\",\"Finance & Investments\",\"Finance & Investments\",\"Finance & Investments\",\"Finance & Investments\",\"Finance & Investments\",\"Finance & Investments\",\"Finance & Investments\",\"Finance & Investments\",\"Finance & Investments\",\"Finance & Investments\",\"Finance & Investments\",\"Finance & Investments\",\"Finance & Investments\",\"Finance & Investments\",\"Finance & Investments\",\"Finance & Investments\",\"Finance & Investments\",\"Finance & Investments\",\"Finance & Investments\",\"Finance & Investments\",\"Finance & Investments\",\"Finance & Investments\",\"Finance & Investments\",\"Finance & Investments\",\"Finance & Investments\",\"Finance & Investments\",\"Finance & Investments\",\"Finance & Investments\",\"Finance & Investments\",\"Finance & Investments\",\"Finance & Investments\",\"Finance & Investments\",\"Finance & Investments\",\"Finance & Investments\",\"Finance & Investments\",\"Finance & Investments\",\"Finance & Investments\",\"Finance & Investments\",\"Finance & Investments\",\"Finance & Investments\",\"Finance & Investments\",\"Finance & Investments\",\"Finance & Investments\",\"Finance & Investments\",\"Finance & Investments\",\"Finance & Investments\",\"Finance & Investments\",\"Finance & Investments\",\"Finance & Investments\",\"Finance & Investments\",\"Finance & Investments\",\"Finance & Investments\",\"Finance & Investments\",\"Finance & Investments\",\"Finance & Investments\",\"Finance & Investments\",\"Finance & Investments\",\"Finance & Investments\",\"Finance & Investments\",\"Finance & Investments\",\"Finance & Investments\",\"Finance & Investments\",\"Finance & Investments\",\"Finance & Investments\",\"Finance & Investments\",\"Finance & Investments\",\"Finance & Investments\",\"Finance & Investments\",\"Finance & Investments\",\"Finance & Investments\",\"Finance & Investments\",\"Finance & Investments\",\"Finance & Investments\",\"Finance & Investments\",\"Finance & Investments\",\"Finance & Investments\",\"Finance & Investments\",\"Finance & Investments\",\"Finance & Investments\",\"Finance & Investments\",\"Finance & Investments\",\"Finance & Investments\",\"Finance & Investments\",\"Finance & Investments\",\"Finance & Investments\",\"Finance & Investments\",\"Finance & Investments\",\"Finance & Investments\",\"Finance & Investments\",\"Finance & Investments\",\"Finance & Investments\",\"Finance & Investments\",\"Finance & Investments\",\"Finance & Investments\",\"Finance & Investments\",\"Finance & Investments\",\"Finance & Investments\",\"Finance & Investments\",\"Finance & Investments\",\"Finance & Investments\",\"Finance & Investments\",\"Food & Beverage\",\"Food & Beverage\",\"Food & Beverage\",\"Food & Beverage\",\"Food & Beverage\",\"Food & Beverage\",\"Food & Beverage\",\"Food & Beverage\",\"Food & Beverage\",\"Food & Beverage\",\"Food & Beverage\",\"Food & Beverage\",\"Food & Beverage\",\"Food & Beverage\",\"Food & Beverage\",\"Food & Beverage\",\"Food & Beverage\",\"Food & Beverage\",\"Food & Beverage\",\"Food & Beverage\",\"Food & Beverage\",\"Food & Beverage\",\"Food & Beverage\",\"Food & Beverage\",\"Food & Beverage\",\"Food & Beverage\",\"Food & Beverage\",\"Food & Beverage\",\"Food & Beverage\",\"Food & Beverage\",\"Food & Beverage\",\"Food & Beverage\",\"Food & Beverage\",\"Food & Beverage\",\"Food & Beverage\",\"Food & Beverage\",\"Food & Beverage\",\"Food & Beverage\",\"Food & Beverage\",\"Food & Beverage\",\"Food & Beverage\",\"Food & Beverage\",\"Food & Beverage\",\"Food & Beverage\",\"Food & Beverage\",\"Food & Beverage\",\"Food & Beverage\",\"Food & Beverage\",\"Food & Beverage\",\"Food & Beverage\",\"Food & Beverage\",\"Food & Beverage\",\"Food & Beverage\",\"Food & Beverage\",\"Food & Beverage\",\"Food & Beverage\",\"Food & Beverage\",\"Food & Beverage\",\"Food & Beverage\",\"Food & Beverage\",\"Food & Beverage\",\"Food & Beverage\",\"Food & Beverage\",\"Food & Beverage\",\"Food & Beverage\",\"Food & Beverage\",\"Food & Beverage\",\"Food & Beverage\",\"Food & Beverage\",\"Food & Beverage\",\"Food & Beverage\",\"Food & Beverage\",\"Food & Beverage\",\"Food & Beverage\",\"Food & Beverage\",\"Food & Beverage\",\"Food & Beverage\",\"Food & Beverage\",\"Food & Beverage\",\"Food & Beverage\",\"Food & Beverage\",\"Food & Beverage\",\"Food & Beverage\",\"Food & Beverage\",\"Food & Beverage\",\"Food & Beverage\",\"Food & Beverage\",\"Food & Beverage\",\"Food & Beverage\",\"Food & Beverage\",\"Food & Beverage\",\"Food & Beverage\",\"Food & Beverage\",\"Food & Beverage\",\"Food & Beverage\",\"Food & Beverage\",\"Food & Beverage\",\"Food & Beverage\",\"Gambling & Casinos\",\"Gambling & Casinos\",\"Gambling & Casinos\",\"Gambling & Casinos\",\"Gambling & Casinos\",\"Gambling & Casinos\",\"Gambling & Casinos\",\"Gambling & Casinos\",\"Gambling & Casinos\",\"Gambling & Casinos\",\"Gambling & Casinos\",\"Gambling & Casinos\",\"Gambling & Casinos\",\"Gambling & Casinos\",\"Gambling & Casinos\",\"Gambling & Casinos\",\"Gambling & Casinos\",\"Gambling & Casinos\",\"Healthcare\",\"Healthcare\",\"Healthcare\",\"Healthcare\",\"Healthcare\",\"Healthcare\",\"Healthcare\",\"Healthcare\",\"Healthcare\",\"Healthcare\",\"Healthcare\",\"Healthcare\",\"Healthcare\",\"Healthcare\",\"Healthcare\",\"Healthcare\",\"Healthcare\",\"Healthcare\",\"Healthcare\",\"Healthcare\",\"Healthcare\",\"Healthcare\",\"Healthcare\",\"Healthcare\",\"Healthcare\",\"Healthcare\",\"Healthcare\",\"Healthcare\",\"Healthcare\",\"Healthcare\",\"Healthcare\",\"Healthcare\",\"Healthcare\",\"Healthcare\",\"Healthcare\",\"Healthcare\",\"Healthcare\",\"Healthcare\",\"Healthcare\",\"Healthcare\",\"Healthcare\",\"Healthcare\",\"Healthcare\",\"Healthcare\",\"Healthcare\",\"Healthcare\",\"Healthcare\",\"Healthcare\",\"Healthcare\",\"Healthcare\",\"Healthcare\",\"Healthcare\",\"Healthcare\",\"Healthcare\",\"Healthcare\",\"Healthcare\",\"Healthcare\",\"Healthcare\",\"Healthcare\",\"Healthcare\",\"Healthcare\",\"Healthcare\",\"Healthcare\",\"Healthcare\",\"Healthcare\",\"Healthcare\",\"Healthcare\",\"Healthcare\",\"Healthcare\",\"Healthcare\",\"Healthcare\",\"Healthcare\",\"Healthcare\",\"Healthcare\",\"Healthcare\",\"Healthcare\",\"Healthcare\",\"Healthcare\",\"Healthcare\",\"Healthcare\",\"Healthcare\",\"Healthcare\",\"Healthcare\",\"Healthcare\",\"Healthcare\",\"Healthcare\",\"Healthcare\",\"Healthcare\",\"Healthcare\",\"Healthcare\",\"Healthcare\",\"Healthcare\",\"Healthcare\",\"Healthcare\",\"Healthcare\",\"Healthcare\",\"Healthcare\",\"Healthcare\",\"Healthcare\",\"Healthcare\",\"Healthcare\",\"Healthcare\",\"Healthcare\",\"Healthcare\",\"Healthcare\",\"Healthcare\",\"Healthcare\",\"Healthcare\",\"Healthcare\",\"Healthcare\",\"Healthcare\",\"Healthcare\",\"Healthcare\",\"Healthcare\",\"Healthcare\",\"Healthcare\",\"Healthcare\",\"Healthcare\",\"Healthcare\",\"Healthcare\",\"Healthcare\",\"Healthcare\",\"Healthcare\",\"Healthcare\",\"Healthcare\",\"Healthcare\",\"Healthcare\",\"Healthcare\",\"Healthcare\",\"Healthcare\",\"Healthcare\",\"Healthcare\",\"Healthcare\",\"Healthcare\",\"Healthcare\",\"Logistics\",\"Logistics\",\"Logistics\",\"Logistics\",\"Logistics\",\"Logistics\",\"Logistics\",\"Logistics\",\"Logistics\",\"Logistics\",\"Logistics\",\"Logistics\",\"Logistics\",\"Logistics\",\"Logistics\",\"Logistics\",\"Logistics\",\"Logistics\",\"Logistics\",\"Logistics\",\"Logistics\",\"Logistics\",\"Logistics\",\"Logistics\",\"Logistics\",\"Logistics\",\"Logistics\",\"Logistics\",\"Manufacturing\",\"Manufacturing\",\"Manufacturing\",\"Manufacturing\",\"Manufacturing\",\"Manufacturing\",\"Manufacturing\",\"Manufacturing\",\"Manufacturing\",\"Manufacturing\",\"Manufacturing\",\"Manufacturing\",\"Manufacturing\",\"Manufacturing\",\"Manufacturing\",\"Manufacturing\",\"Manufacturing\",\"Manufacturing\",\"Manufacturing\",\"Manufacturing\",\"Manufacturing\",\"Manufacturing\",\"Manufacturing\",\"Manufacturing\",\"Manufacturing\",\"Manufacturing\",\"Manufacturing\",\"Manufacturing\",\"Manufacturing\",\"Manufacturing\",\"Manufacturing\",\"Manufacturing\",\"Manufacturing\",\"Manufacturing\",\"Manufacturing\",\"Manufacturing\",\"Manufacturing\",\"Manufacturing\",\"Manufacturing\",\"Manufacturing\",\"Manufacturing\",\"Manufacturing\",\"Manufacturing\",\"Manufacturing\",\"Manufacturing\",\"Manufacturing\",\"Manufacturing\",\"Manufacturing\",\"Manufacturing\",\"Manufacturing\",\"Manufacturing\",\"Manufacturing\",\"Manufacturing\",\"Manufacturing\",\"Manufacturing\",\"Manufacturing\",\"Manufacturing\",\"Manufacturing\",\"Manufacturing\",\"Manufacturing\",\"Manufacturing\",\"Manufacturing\",\"Manufacturing\",\"Manufacturing\",\"Manufacturing\",\"Manufacturing\",\"Manufacturing\",\"Manufacturing\",\"Manufacturing\",\"Manufacturing\",\"Manufacturing\",\"Manufacturing\",\"Manufacturing\",\"Manufacturing\",\"Manufacturing\",\"Manufacturing\",\"Manufacturing\",\"Manufacturing\",\"Manufacturing\",\"Manufacturing\",\"Manufacturing\",\"Manufacturing\",\"Manufacturing\",\"Manufacturing\",\"Manufacturing\",\"Manufacturing\",\"Manufacturing\",\"Manufacturing\",\"Manufacturing\",\"Manufacturing\",\"Manufacturing\",\"Manufacturing\",\"Manufacturing\",\"Manufacturing\",\"Manufacturing\",\"Manufacturing\",\"Manufacturing\",\"Manufacturing\",\"Manufacturing\",\"Manufacturing\",\"Manufacturing\",\"Manufacturing\",\"Manufacturing\",\"Manufacturing\",\"Manufacturing\",\"Manufacturing\",\"Manufacturing\",\"Manufacturing\",\"Manufacturing\",\"Manufacturing\",\"Manufacturing\",\"Manufacturing\",\"Manufacturing\",\"Manufacturing\",\"Manufacturing\",\"Manufacturing\",\"Manufacturing\",\"Manufacturing\",\"Manufacturing\",\"Manufacturing\",\"Manufacturing\",\"Manufacturing\",\"Manufacturing\",\"Manufacturing\",\"Manufacturing\",\"Manufacturing\",\"Manufacturing\",\"Manufacturing\",\"Manufacturing\",\"Manufacturing\",\"Manufacturing\",\"Manufacturing\",\"Manufacturing\",\"Manufacturing\",\"Manufacturing\",\"Manufacturing\",\"Manufacturing\",\"Manufacturing\",\"Manufacturing\",\"Manufacturing\",\"Manufacturing\",\"Manufacturing\",\"Manufacturing\",\"Manufacturing\",\"Manufacturing\",\"Manufacturing\",\"Manufacturing\",\"Manufacturing\",\"Manufacturing\",\"Manufacturing\",\"Manufacturing\",\"Manufacturing\",\"Manufacturing\",\"Manufacturing\",\"Manufacturing\",\"Manufacturing\",\"Manufacturing\",\"Manufacturing\",\"Manufacturing\",\"Manufacturing\",\"Manufacturing\",\"Manufacturing\",\"Manufacturing\",\"Manufacturing\",\"Manufacturing\",\"Manufacturing\",\"Manufacturing\",\"Manufacturing\",\"Manufacturing\",\"Manufacturing\",\"Manufacturing\",\"Manufacturing\",\"Manufacturing\",\"Manufacturing\",\"Manufacturing\",\"Manufacturing\",\"Manufacturing\",\"Manufacturing\",\"Manufacturing\",\"Manufacturing\",\"Manufacturing\",\"Manufacturing\",\"Manufacturing\",\"Manufacturing\",\"Manufacturing\",\"Manufacturing\",\"Manufacturing\",\"Manufacturing\",\"Manufacturing\",\"Manufacturing\",\"Manufacturing\",\"Manufacturing\",\"Manufacturing\",\"Manufacturing\",\"Manufacturing\",\"Manufacturing\",\"Manufacturing\",\"Manufacturing\",\"Manufacturing\",\"Manufacturing\",\"Manufacturing\",\"Manufacturing\",\"Manufacturing\",\"Manufacturing\",\"Manufacturing\",\"Manufacturing\",\"Manufacturing\",\"Manufacturing\",\"Manufacturing\",\"Manufacturing\",\"Manufacturing\",\"Manufacturing\",\"Manufacturing\",\"Manufacturing\",\"Manufacturing\",\"Manufacturing\",\"Manufacturing\",\"Manufacturing\",\"Media & Entertainment\",\"Media & Entertainment\",\"Media & Entertainment\",\"Media & Entertainment\",\"Media & Entertainment\",\"Media & Entertainment\",\"Media & Entertainment\",\"Media & Entertainment\",\"Media & Entertainment\",\"Media & Entertainment\",\"Media & Entertainment\",\"Media & Entertainment\",\"Media & Entertainment\",\"Media & Entertainment\",\"Media & Entertainment\",\"Media & Entertainment\",\"Media & Entertainment\",\"Media & Entertainment\",\"Media & Entertainment\",\"Media & Entertainment\",\"Media & Entertainment\",\"Media & Entertainment\",\"Media & Entertainment\",\"Media & Entertainment\",\"Media & Entertainment\",\"Media & Entertainment\",\"Media & Entertainment\",\"Media & Entertainment\",\"Media & Entertainment\",\"Media & Entertainment\",\"Media & Entertainment\",\"Media & Entertainment\",\"Media & Entertainment\",\"Media & Entertainment\",\"Media & Entertainment\",\"Media & Entertainment\",\"Media & Entertainment\",\"Media & Entertainment\",\"Media & Entertainment\",\"Media & Entertainment\",\"Media & Entertainment\",\"Media & Entertainment\",\"Media & Entertainment\",\"Media & Entertainment\",\"Metals & Mining\",\"Metals & Mining\",\"Metals & Mining\",\"Metals & Mining\",\"Metals & Mining\",\"Metals & Mining\",\"Metals & Mining\",\"Metals & Mining\",\"Metals & Mining\",\"Metals & Mining\",\"Metals & Mining\",\"Metals & Mining\",\"Metals & Mining\",\"Metals & Mining\",\"Metals & Mining\",\"Metals & Mining\",\"Metals & Mining\",\"Metals & Mining\",\"Metals & Mining\",\"Metals & Mining\",\"Metals & Mining\",\"Metals & Mining\",\"Metals & Mining\",\"Metals & Mining\",\"Metals & Mining\",\"Metals & Mining\",\"Metals & Mining\",\"Metals & Mining\",\"Metals & Mining\",\"Metals & Mining\",\"Metals & Mining\",\"Metals & Mining\",\"Metals & Mining\",\"Metals & Mining\",\"Metals & Mining\",\"Metals & Mining\",\"Metals & Mining\",\"Metals & Mining\",\"Metals & Mining\",\"Metals & Mining\",\"Metals & Mining\",\"Metals & Mining\",\"Metals & Mining\",\"Metals & Mining\",\"Metals & Mining\",\"Metals & Mining\",\"Metals & Mining\",\"Metals & Mining\",\"Metals & Mining\",\"Real Estate\",\"Real Estate\",\"Real Estate\",\"Real Estate\",\"Real Estate\",\"Real Estate\",\"Real Estate\",\"Real Estate\",\"Real Estate\",\"Real Estate\",\"Real Estate\",\"Real Estate\",\"Real Estate\",\"Real Estate\",\"Real Estate\",\"Real Estate\",\"Real Estate\",\"Real Estate\",\"Real Estate\",\"Real Estate\",\"Real Estate\",\"Real Estate\",\"Real Estate\",\"Real Estate\",\"Real Estate\",\"Real Estate\",\"Real Estate\",\"Real Estate\",\"Real Estate\",\"Real Estate\",\"Real Estate\",\"Real Estate\",\"Real Estate\",\"Real Estate\",\"Real Estate\",\"Real Estate\",\"Real Estate\",\"Real Estate\",\"Real Estate\",\"Real Estate\",\"Real Estate\",\"Real Estate\",\"Real Estate\",\"Real Estate\",\"Real Estate\",\"Real Estate\",\"Real Estate\",\"Real Estate\",\"Real Estate\",\"Real Estate\",\"Real Estate\",\"Real Estate\",\"Real Estate\",\"Real Estate\",\"Real Estate\",\"Real Estate\",\"Real Estate\",\"Real Estate\",\"Real Estate\",\"Real Estate\",\"Real Estate\",\"Real Estate\",\"Real Estate\",\"Real Estate\",\"Real Estate\",\"Real Estate\",\"Real Estate\",\"Real Estate\",\"Real Estate\",\"Real Estate\",\"Real Estate\",\"Real Estate\",\"Real Estate\",\"Real Estate\",\"Real Estate\",\"Real Estate\",\"Real Estate\",\"Real Estate\",\"Real Estate\",\"Real Estate\",\"Real Estate\",\"Real Estate\",\"Real Estate\",\"Real Estate\",\"Real Estate\",\"Real Estate\",\"Real Estate\",\"Real Estate\",\"Real Estate\",\"Real Estate\",\"Real Estate\",\"Real Estate\",\"Real Estate\",\"Real Estate\",\"Real Estate\",\"Real Estate\",\"Real Estate\",\"Real Estate\",\"Real Estate\",\"Real Estate\",\"Real Estate\",\"Real Estate\",\"Real Estate\",\"Real Estate\",\"Real Estate\",\"Real Estate\",\"Real Estate\",\"Real Estate\",\"Real Estate\",\"Real Estate\",\"Real Estate\",\"Real Estate\",\"Real Estate\",\"Real Estate\",\"Real Estate\",\"Real Estate\",\"Real Estate\",\"Real Estate\",\"Real Estate\",\"Real Estate\",\"Real Estate\",\"Real Estate\",\"Real Estate\",\"Real Estate\",\"Service\",\"Service\",\"Service\",\"Service\",\"Service\",\"Service\",\"Service\",\"Service\",\"Service\",\"Service\",\"Service\",\"Service\",\"Service\",\"Service\",\"Service\",\"Service\",\"Service\",\"Service\",\"Service\",\"Service\",\"Service\",\"Service\",\"Service\",\"Service\",\"Service\",\"Service\",\"Service\",\"Sports\",\"Sports\",\"Sports\",\"Sports\",\"Sports\",\"Sports\",\"Sports\",\"Sports\",\"Sports\",\"Sports\",\"Sports\",\"Sports\",\"Sports\",\"Sports\",\"Sports\",\"Sports\",\"Sports\",\"Sports\",\"Sports\",\"Sports\",\"Sports\",\"Sports\",\"Sports\",\"Technology\",\"Technology\",\"Technology\",\"Technology\",\"Technology\",\"Technology\",\"Technology\",\"Technology\",\"Technology\",\"Technology\",\"Technology\",\"Technology\",\"Technology\",\"Technology\",\"Technology\",\"Technology\",\"Technology\",\"Technology\",\"Technology\",\"Technology\",\"Technology\",\"Technology\",\"Technology\",\"Technology\",\"Technology\",\"Technology\",\"Technology\",\"Technology\",\"Technology\",\"Technology\",\"Technology\",\"Technology\",\"Technology\",\"Technology\",\"Technology\",\"Technology\",\"Technology\",\"Technology\",\"Technology\",\"Technology\",\"Technology\",\"Technology\",\"Technology\",\"Technology\",\"Technology\",\"Technology\",\"Technology\",\"Technology\",\"Technology\",\"Technology\",\"Technology\",\"Technology\",\"Technology\",\"Technology\",\"Technology\",\"Technology\",\"Technology\",\"Technology\",\"Technology\",\"Technology\",\"Technology\",\"Technology\",\"Technology\",\"Technology\",\"Technology\",\"Technology\",\"Technology\",\"Technology\",\"Technology\",\"Technology\",\"Technology\",\"Technology\",\"Technology\",\"Technology\",\"Technology\",\"Technology\",\"Technology\",\"Technology\",\"Technology\",\"Technology\",\"Technology\",\"Technology\",\"Technology\",\"Technology\",\"Technology\",\"Technology\",\"Technology\",\"Technology\",\"Technology\",\"Technology\",\"Technology\",\"Technology\",\"Technology\",\"Technology\",\"Technology\",\"Technology\",\"Technology\",\"Technology\",\"Technology\",\"Technology\",\"Technology\",\"Technology\",\"Technology\",\"Technology\",\"Technology\",\"Technology\",\"Technology\",\"Technology\",\"Technology\",\"Technology\",\"Technology\",\"Technology\",\"Technology\",\"Technology\",\"Technology\",\"Technology\",\"Technology\",\"Technology\",\"Technology\",\"Technology\",\"Technology\",\"Technology\",\"Technology\",\"Technology\",\"Technology\",\"Technology\",\"Technology\",\"Technology\",\"Technology\",\"Technology\",\"Technology\",\"Technology\",\"Technology\",\"Technology\",\"Technology\",\"Technology\",\"Technology\",\"Technology\",\"Technology\",\"Technology\",\"Technology\",\"Technology\",\"Technology\",\"Technology\",\"Technology\",\"Technology\",\"Technology\",\"Technology\",\"Technology\",\"Technology\",\"Technology\",\"Technology\",\"Technology\",\"Technology\",\"Technology\",\"Technology\",\"Technology\",\"Technology\",\"Technology\",\"Technology\",\"Technology\",\"Technology\",\"Technology\",\"Technology\",\"Technology\",\"Technology\",\"Technology\",\"Technology\",\"Technology\",\"Technology\",\"Technology\",\"Technology\",\"Technology\",\"Technology\",\"Technology\",\"Technology\",\"Technology\",\"Technology\",\"Technology\",\"Technology\",\"Technology\",\"Technology\",\"Technology\",\"Technology\",\"Technology\",\"Technology\",\"Technology\",\"Technology\",\"Technology\",\"Technology\",\"Technology\",\"Technology\",\"Telecom\",\"Telecom\",\"Telecom\",\"Telecom\",\"Telecom\",\"Telecom\",\"Telecom\",\"Telecom\",\"Telecom\",\"Telecom\",\"Telecom\",\"Telecom\",\"Telecom\",\"Telecom\",\"Telecom\",\"Telecom\",\"Telecom\",\"Telecom\",\"Telecom\",\"Telecom\",\"Telecom\",\"Telecom\",\"Telecom\",\"Telecom\",\"Telecom\",\"Telecom\"],\"xaxis\":\"x\",\"y\":[1,1,1,1,1,1,1,1,1,1,1,1,1,1,1,1,1,1,1,1,1,1,1,1,1,1,1,1,1,1,1,1,1,1,1,1,1,1,1,1,1,1,1,1,1,1,1,1,1,1,1,1,1,1,1,1,1,1,1,1,1,1,1,1,1,1,1,1,1,1,1,1,1,1,1,1,1,1,1,1,1,1,1,1,1,1,1,1,1,1,1,1,1,1,1,1,1,1,1,1,1,1,1,1,1,1,1,1,1,1,1,1,1,1,1,1,1,1,1,1,1,1,1,1,1,1,1,1,1,1,1,1,1,1,1,1,1,1,1,1,1,1,1,1,1,1,1,1,1,1,1,1,1,1,1,1,1,1,1,1,1,1,1,1,1,1,1,1,1,1,1,1,1,1,1,1,1,1,1,1,1,1,1,1,1,1,1,1,1,1,1,1,1,1,1,1,1,1,1,1,1,1,1,1,1,1,1,1,1,1,1,1,1,1,1,1,1,1,1,1,1,1,1,1,1,1,1,1,1,1,1,1,1,1,1,1,1,1,1,1,1,1,1,1,1,1,1,1,1,1,1,1,1,1,1,1,1,1,1,1,1,1,1,1,1,1,1,1,1,1,1,1,1,1,1,1,1,1,1,1,1,1,1,1,1,1,1,1,1,1,1,1,1,1,1,1,1,1,1,1,1,1,1,1,1,1,1,1,1,1,1,1,1,1,1,1,1,1,1,1,1,1,1,1,1,1,1,1,1,1,1,1,1,1,1,1,1,1,1,1,1,1,1,1,1,1,1,1,1,1,1,1,1,1,1,1,1,1,1,1,1,1,1,1,1,1,1,1,1,1,1,1,1,1,1,1,1,1,1,1,1,1,1,1,1,1,1,1,1,1,1,1,1,1,1,1,1,1,1,1,1,1,1,1,1,1,1,1,1,1,1,1,1,1,1,1,1,1,1,1,1,1,1,1,1,1,1,1,1,1,1,1,1,1,1,1,1,1,1,1,1,1,1,1,1,1,1,1,1,1,1,1,1,1,1,1,1,1,1,1,1,1,1,1,1,1,1,1,1,1,1,1,1,1,1,1,1,1,1,1,1,1,1,1,1,1,1,1,1,1,1,1,1,1,1,1,1,1,1,1,1,1,1,1,1,1,1,1,1,1,1,1,1,1,1,1,1,1,1,1,1,1,1,1,1,1,1,1,1,1,1,1,1,1,1,1,1,1,1,1,1,1,1,1,1,1,1,1,1,1,1,1,1,1,1,1,1,1,1,1,1,1,1,1,1,1,1,1,1,1,1,1,1,1,1,1,1,1,1,1,1,1,1,1,1,1,1,1,1,1,1,1,1,1,1,1,1,1,1,1,1,1,1,1,1,1,1,1,1,1,1,1,1,1,1,1,1,1,1,1,1,1,1,1,1,1,1,1,1,1,1,1,1,1,1,1,1,1,1,1,1,1,1,1,1,1,1,1,1,1,1,1,1,1,1,1,1,1,1,1,1,1,1,1,1,1,1,1,1,1,1,1,1,1,1,1,1,1,1,1,1,1,1,1,1,1,1,1,1,1,1,1,1,1,1,1,1,1,1,1,1,1,1,1,1,1,1,1,1,1,1,1,1,1,1,1,1,1,1,1,1,1,1,1,1,1,1,1,1,1,1,1,1,1,1,1,1,1,1,1,1,1,1,1,1,1,1,1,1,1,1,1,1,1,1,1,1,1,1,1,1,1,1,1,1,1,1,1,1,1,1,1,1,1,1,1,1,1,1,1,1,1,1,1,1,1,1,1,1,1,1,1,1,1,1,1,1,1,1,1,1,1,1,1,1,1,1,1,1,1,1,1,1,1,1,1,1,1,1,1,1,1,1,1,1,1,1,1,1,1,1,1,1,1,1,1,1,1,1,1,1,1,1,1,1,1,1,1,1,1,1,1,1,1,1,1,1,1,1,1,1,1,1,1,1,1,1,1,1,1,1,1,1,1,1,1,1,1,1,1,1,1,1,1,1,1,1,1,1,1,1,1,1,1,1,1,1,1,1,1,1,1,1,1,1,1,1,1,1,1,1,1,1,1,1,1,1,1,1,1,1,1,1,1,1,1,1,1,1,1,1,1,1,1,1,1,1,1,1,1,1,1,1,1,1,1,1,1,1,1,1,1,1,1,1,1,1,1,1,1,1,1,1,1,1,1,1,1,1,1,1,1,1,1,1,1,1,1,1,1,1,1,1,1,1,1,1,1,1,1,1,1,1,1,1,1,1,1,1,1,1,1,1,1,1,1,1,1,1,1,1,1,1,1,1,1,1,1,1,1,1,1,1,1,1,1,1,1,1,1,1,1,1,1,1,1,1,1,1,1,1,1,1,1,1,1,1,1,1,1,1,1,1,1,1,1,1,1,1,1,1,1,1,1,1,1,1,1,1,1,1,1,1,1,1,1,1,1,1,1,1,1,1,1,1,1,1,1,1,1,1,1,1,1,1,1,1,1,1,1,1,1,1,1,1,1,1,1,1,1,1,1,1,1,1,1,1,1,1,1,1,1,1,1,1,1,1,1,1,1,1,1,1,1,1,1,1,1,1,1,1,1,1,1,1,1,1,1,1,1,1,1,1,1,1,1,1,1,1,1,1,1,1,1,1,1,1,1,1,1,1,1,1,1,1,1,1,1,1,1,1,1,1,1,1,1,1,1,1,1,1,1,1,1,1,1,1,1,1,1,1,1,1,1,1,1,1,1,1,1,1,1,1,1,1,1,1,1,1,1,1,1,1,1,1,1,1,1,1,1,1,1,1,1,1,1,1,1,1,1,1,1,1,1,1,1,1,1,1,1,1,1,1,1,1,1,1,1,1,1,1,1,1,1,1,1,1,1,1,1,1,1,1,1,1,1,1,1,1,1,1,1,1,1,1,1,1,1,1,1,1,1,1,1,1,1,1,1,1,1,1,1,1,1,1,1,1,1,1,1,1,1,1,1,1,1,1,1,1,1,1,1,1,1,1,1,1,1,1,1,1,1,1,1,1,1,1,1,1,1,1,1,1,1,1,1,1,1,1,1,1,1,1,1,1,1,1,1,1,1,1,1,1,1,1,1,1,1,1,1,1,1,1,1,1,1,1,1,1,1,1,1,1,1,1,1,1,1,1,1,1,1,1,1,1,1,1,1,1,1,1,1,1,1,1,1,1,1,1,1,1,1,1,1,1,1,1,1,1,1,1,1,1,1,1,1,1,1,1,1,1,1,1,1,1,1,1,1,1,1,1,1,1,1,1,1,1,1,1,1,1,1,1,1,1,1,1,1,1,1,1,1,1,1,1,1,1,1,1,1,1,1,1,1,1,1,1,1,1,1,1,1,1,1,1,1,1,1,1,1,1,1,1,1,1,1,1,1,1,1,1,1,1,1,1,1,1,1,1,1,1,1,1,1,1,1,1,1,1,1,1,1,1,1,1,1,1,1,1,1,1,1,1,1,1,1,1,1,1,1,1,1,1,1,1,1,1,1,1,1,1,1,1,1,1,1,1,1,1,1,1,1,1],\"yaxis\":\"y\",\"type\":\"bar\"}],                        {\"template\":{\"data\":{\"histogram2dcontour\":[{\"type\":\"histogram2dcontour\",\"colorbar\":{\"outlinewidth\":0,\"ticks\":\"\"},\"colorscale\":[[0.0,\"#0d0887\"],[0.1111111111111111,\"#46039f\"],[0.2222222222222222,\"#7201a8\"],[0.3333333333333333,\"#9c179e\"],[0.4444444444444444,\"#bd3786\"],[0.5555555555555556,\"#d8576b\"],[0.6666666666666666,\"#ed7953\"],[0.7777777777777778,\"#fb9f3a\"],[0.8888888888888888,\"#fdca26\"],[1.0,\"#f0f921\"]]}],\"choropleth\":[{\"type\":\"choropleth\",\"colorbar\":{\"outlinewidth\":0,\"ticks\":\"\"}}],\"histogram2d\":[{\"type\":\"histogram2d\",\"colorbar\":{\"outlinewidth\":0,\"ticks\":\"\"},\"colorscale\":[[0.0,\"#0d0887\"],[0.1111111111111111,\"#46039f\"],[0.2222222222222222,\"#7201a8\"],[0.3333333333333333,\"#9c179e\"],[0.4444444444444444,\"#bd3786\"],[0.5555555555555556,\"#d8576b\"],[0.6666666666666666,\"#ed7953\"],[0.7777777777777778,\"#fb9f3a\"],[0.8888888888888888,\"#fdca26\"],[1.0,\"#f0f921\"]]}],\"heatmap\":[{\"type\":\"heatmap\",\"colorbar\":{\"outlinewidth\":0,\"ticks\":\"\"},\"colorscale\":[[0.0,\"#0d0887\"],[0.1111111111111111,\"#46039f\"],[0.2222222222222222,\"#7201a8\"],[0.3333333333333333,\"#9c179e\"],[0.4444444444444444,\"#bd3786\"],[0.5555555555555556,\"#d8576b\"],[0.6666666666666666,\"#ed7953\"],[0.7777777777777778,\"#fb9f3a\"],[0.8888888888888888,\"#fdca26\"],[1.0,\"#f0f921\"]]}],\"heatmapgl\":[{\"type\":\"heatmapgl\",\"colorbar\":{\"outlinewidth\":0,\"ticks\":\"\"},\"colorscale\":[[0.0,\"#0d0887\"],[0.1111111111111111,\"#46039f\"],[0.2222222222222222,\"#7201a8\"],[0.3333333333333333,\"#9c179e\"],[0.4444444444444444,\"#bd3786\"],[0.5555555555555556,\"#d8576b\"],[0.6666666666666666,\"#ed7953\"],[0.7777777777777778,\"#fb9f3a\"],[0.8888888888888888,\"#fdca26\"],[1.0,\"#f0f921\"]]}],\"contourcarpet\":[{\"type\":\"contourcarpet\",\"colorbar\":{\"outlinewidth\":0,\"ticks\":\"\"}}],\"contour\":[{\"type\":\"contour\",\"colorbar\":{\"outlinewidth\":0,\"ticks\":\"\"},\"colorscale\":[[0.0,\"#0d0887\"],[0.1111111111111111,\"#46039f\"],[0.2222222222222222,\"#7201a8\"],[0.3333333333333333,\"#9c179e\"],[0.4444444444444444,\"#bd3786\"],[0.5555555555555556,\"#d8576b\"],[0.6666666666666666,\"#ed7953\"],[0.7777777777777778,\"#fb9f3a\"],[0.8888888888888888,\"#fdca26\"],[1.0,\"#f0f921\"]]}],\"surface\":[{\"type\":\"surface\",\"colorbar\":{\"outlinewidth\":0,\"ticks\":\"\"},\"colorscale\":[[0.0,\"#0d0887\"],[0.1111111111111111,\"#46039f\"],[0.2222222222222222,\"#7201a8\"],[0.3333333333333333,\"#9c179e\"],[0.4444444444444444,\"#bd3786\"],[0.5555555555555556,\"#d8576b\"],[0.6666666666666666,\"#ed7953\"],[0.7777777777777778,\"#fb9f3a\"],[0.8888888888888888,\"#fdca26\"],[1.0,\"#f0f921\"]]}],\"mesh3d\":[{\"type\":\"mesh3d\",\"colorbar\":{\"outlinewidth\":0,\"ticks\":\"\"}}],\"scatter\":[{\"fillpattern\":{\"fillmode\":\"overlay\",\"size\":10,\"solidity\":0.2},\"type\":\"scatter\"}],\"parcoords\":[{\"type\":\"parcoords\",\"line\":{\"colorbar\":{\"outlinewidth\":0,\"ticks\":\"\"}}}],\"scatterpolargl\":[{\"type\":\"scatterpolargl\",\"marker\":{\"colorbar\":{\"outlinewidth\":0,\"ticks\":\"\"}}}],\"bar\":[{\"error_x\":{\"color\":\"#2a3f5f\"},\"error_y\":{\"color\":\"#2a3f5f\"},\"marker\":{\"line\":{\"color\":\"#E5ECF6\",\"width\":0.5},\"pattern\":{\"fillmode\":\"overlay\",\"size\":10,\"solidity\":0.2}},\"type\":\"bar\"}],\"scattergeo\":[{\"type\":\"scattergeo\",\"marker\":{\"colorbar\":{\"outlinewidth\":0,\"ticks\":\"\"}}}],\"scatterpolar\":[{\"type\":\"scatterpolar\",\"marker\":{\"colorbar\":{\"outlinewidth\":0,\"ticks\":\"\"}}}],\"histogram\":[{\"marker\":{\"pattern\":{\"fillmode\":\"overlay\",\"size\":10,\"solidity\":0.2}},\"type\":\"histogram\"}],\"scattergl\":[{\"type\":\"scattergl\",\"marker\":{\"colorbar\":{\"outlinewidth\":0,\"ticks\":\"\"}}}],\"scatter3d\":[{\"type\":\"scatter3d\",\"line\":{\"colorbar\":{\"outlinewidth\":0,\"ticks\":\"\"}},\"marker\":{\"colorbar\":{\"outlinewidth\":0,\"ticks\":\"\"}}}],\"scattermapbox\":[{\"type\":\"scattermapbox\",\"marker\":{\"colorbar\":{\"outlinewidth\":0,\"ticks\":\"\"}}}],\"scatterternary\":[{\"type\":\"scatterternary\",\"marker\":{\"colorbar\":{\"outlinewidth\":0,\"ticks\":\"\"}}}],\"scattercarpet\":[{\"type\":\"scattercarpet\",\"marker\":{\"colorbar\":{\"outlinewidth\":0,\"ticks\":\"\"}}}],\"carpet\":[{\"aaxis\":{\"endlinecolor\":\"#2a3f5f\",\"gridcolor\":\"white\",\"linecolor\":\"white\",\"minorgridcolor\":\"white\",\"startlinecolor\":\"#2a3f5f\"},\"baxis\":{\"endlinecolor\":\"#2a3f5f\",\"gridcolor\":\"white\",\"linecolor\":\"white\",\"minorgridcolor\":\"white\",\"startlinecolor\":\"#2a3f5f\"},\"type\":\"carpet\"}],\"table\":[{\"cells\":{\"fill\":{\"color\":\"#EBF0F8\"},\"line\":{\"color\":\"white\"}},\"header\":{\"fill\":{\"color\":\"#C8D4E3\"},\"line\":{\"color\":\"white\"}},\"type\":\"table\"}],\"barpolar\":[{\"marker\":{\"line\":{\"color\":\"#E5ECF6\",\"width\":0.5},\"pattern\":{\"fillmode\":\"overlay\",\"size\":10,\"solidity\":0.2}},\"type\":\"barpolar\"}],\"pie\":[{\"automargin\":true,\"type\":\"pie\"}]},\"layout\":{\"autotypenumbers\":\"strict\",\"colorway\":[\"#636efa\",\"#EF553B\",\"#00cc96\",\"#ab63fa\",\"#FFA15A\",\"#19d3f3\",\"#FF6692\",\"#B6E880\",\"#FF97FF\",\"#FECB52\"],\"font\":{\"color\":\"#2a3f5f\"},\"hovermode\":\"closest\",\"hoverlabel\":{\"align\":\"left\"},\"paper_bgcolor\":\"white\",\"plot_bgcolor\":\"#E5ECF6\",\"polar\":{\"bgcolor\":\"#E5ECF6\",\"angularaxis\":{\"gridcolor\":\"white\",\"linecolor\":\"white\",\"ticks\":\"\"},\"radialaxis\":{\"gridcolor\":\"white\",\"linecolor\":\"white\",\"ticks\":\"\"}},\"ternary\":{\"bgcolor\":\"#E5ECF6\",\"aaxis\":{\"gridcolor\":\"white\",\"linecolor\":\"white\",\"ticks\":\"\"},\"baxis\":{\"gridcolor\":\"white\",\"linecolor\":\"white\",\"ticks\":\"\"},\"caxis\":{\"gridcolor\":\"white\",\"linecolor\":\"white\",\"ticks\":\"\"}},\"coloraxis\":{\"colorbar\":{\"outlinewidth\":0,\"ticks\":\"\"}},\"colorscale\":{\"sequential\":[[0.0,\"#0d0887\"],[0.1111111111111111,\"#46039f\"],[0.2222222222222222,\"#7201a8\"],[0.3333333333333333,\"#9c179e\"],[0.4444444444444444,\"#bd3786\"],[0.5555555555555556,\"#d8576b\"],[0.6666666666666666,\"#ed7953\"],[0.7777777777777778,\"#fb9f3a\"],[0.8888888888888888,\"#fdca26\"],[1.0,\"#f0f921\"]],\"sequentialminus\":[[0.0,\"#0d0887\"],[0.1111111111111111,\"#46039f\"],[0.2222222222222222,\"#7201a8\"],[0.3333333333333333,\"#9c179e\"],[0.4444444444444444,\"#bd3786\"],[0.5555555555555556,\"#d8576b\"],[0.6666666666666666,\"#ed7953\"],[0.7777777777777778,\"#fb9f3a\"],[0.8888888888888888,\"#fdca26\"],[1.0,\"#f0f921\"]],\"diverging\":[[0,\"#8e0152\"],[0.1,\"#c51b7d\"],[0.2,\"#de77ae\"],[0.3,\"#f1b6da\"],[0.4,\"#fde0ef\"],[0.5,\"#f7f7f7\"],[0.6,\"#e6f5d0\"],[0.7,\"#b8e186\"],[0.8,\"#7fbc41\"],[0.9,\"#4d9221\"],[1,\"#276419\"]]},\"xaxis\":{\"gridcolor\":\"white\",\"linecolor\":\"white\",\"ticks\":\"\",\"title\":{\"standoff\":15},\"zerolinecolor\":\"white\",\"automargin\":true,\"zerolinewidth\":2},\"yaxis\":{\"gridcolor\":\"white\",\"linecolor\":\"white\",\"ticks\":\"\",\"title\":{\"standoff\":15},\"zerolinecolor\":\"white\",\"automargin\":true,\"zerolinewidth\":2},\"scene\":{\"xaxis\":{\"backgroundcolor\":\"#E5ECF6\",\"gridcolor\":\"white\",\"linecolor\":\"white\",\"showbackground\":true,\"ticks\":\"\",\"zerolinecolor\":\"white\",\"gridwidth\":2},\"yaxis\":{\"backgroundcolor\":\"#E5ECF6\",\"gridcolor\":\"white\",\"linecolor\":\"white\",\"showbackground\":true,\"ticks\":\"\",\"zerolinecolor\":\"white\",\"gridwidth\":2},\"zaxis\":{\"backgroundcolor\":\"#E5ECF6\",\"gridcolor\":\"white\",\"linecolor\":\"white\",\"showbackground\":true,\"ticks\":\"\",\"zerolinecolor\":\"white\",\"gridwidth\":2}},\"shapedefaults\":{\"line\":{\"color\":\"#2a3f5f\"}},\"annotationdefaults\":{\"arrowcolor\":\"#2a3f5f\",\"arrowhead\":0,\"arrowwidth\":1},\"geo\":{\"bgcolor\":\"white\",\"landcolor\":\"#E5ECF6\",\"subunitcolor\":\"white\",\"showland\":true,\"showlakes\":true,\"lakecolor\":\"white\"},\"title\":{\"x\":0.05},\"mapbox\":{\"style\":\"light\"}}},\"xaxis\":{\"anchor\":\"y\",\"domain\":[0.0,1.0],\"title\":{\"text\":\"category\"}},\"yaxis\":{\"anchor\":\"x\",\"domain\":[0.0,1.0],\"title\":{\"text\":\"count\"}},\"legend\":{\"title\":{\"text\":\"selfMade\"},\"tracegroupgap\":0},\"title\":{\"text\":\"Category and inherited wealth relation - OLD\"},\"barmode\":\"relative\",\"height\":800},                        {\"responsive\": true}                    ).then(function(){\n",
              "                            \n",
              "var gd = document.getElementById('96292209-2164-4d71-a6fd-05303a0a4229');\n",
              "var x = new MutationObserver(function (mutations, observer) {{\n",
              "        var display = window.getComputedStyle(gd).display;\n",
              "        if (!display || display === 'none') {{\n",
              "            console.log([gd, 'removed!']);\n",
              "            Plotly.purge(gd);\n",
              "            observer.disconnect();\n",
              "        }}\n",
              "}});\n",
              "\n",
              "// Listen for the removal of the full notebook cells\n",
              "var notebookContainer = gd.closest('#notebook-container');\n",
              "if (notebookContainer) {{\n",
              "    x.observe(notebookContainer, {childList: true});\n",
              "}}\n",
              "\n",
              "// Listen for the clearing of the current output cell\n",
              "var outputEl = gd.closest('.output');\n",
              "if (outputEl) {{\n",
              "    x.observe(outputEl, {childList: true});\n",
              "}}\n",
              "\n",
              "                        })                };                            </script>        </div>\n",
              "</body>\n",
              "</html>"
            ]
          },
          "metadata": {}
        }
      ]
    },
    {
      "cell_type": "markdown",
      "source": [
        "> > 3 sectors in the 'young' datasets have over 50% of the values, meanwhile, the 'old' ones has more distribution.  \n",
        "\n",
        "\n",
        "\n"
      ],
      "metadata": {
        "id": "yZVe0_L44Rlz"
      }
    },
    {
      "cell_type": "markdown",
      "source": [
        "### 3.3 3rd analysis:\n",
        "> Countries with tax rate below 40% usually don't have a proportion bigger than 20 millions (population by country / quantity of young billionaires )"
      ],
      "metadata": {
        "id": "_r4L3TTa5Gd9"
      }
    },
    {
      "cell_type": "code",
      "source": [
        "fig = px.scatter_3d(young_dataset, x = 'proportion', y = 'life_expectancy_country', z = 'cpi_country', color = 'total_tax_rate_country')\n",
        "fig.show()"
      ],
      "metadata": {
        "colab": {
          "base_uri": "https://localhost:8080/",
          "height": 542
        },
        "id": "NvbAZcqgMPCs",
        "outputId": "a91be8f9-05c0-44ac-cc15-d50f644a4a62"
      },
      "execution_count": 32,
      "outputs": [
        {
          "output_type": "display_data",
          "data": {
            "text/html": [
              "<html>\n",
              "<head><meta charset=\"utf-8\" /></head>\n",
              "<body>\n",
              "    <div>            <script src=\"https://cdnjs.cloudflare.com/ajax/libs/mathjax/2.7.5/MathJax.js?config=TeX-AMS-MML_SVG\"></script><script type=\"text/javascript\">if (window.MathJax && window.MathJax.Hub && window.MathJax.Hub.Config) {window.MathJax.Hub.Config({SVG: {font: \"STIX-Web\"}});}</script>                <script type=\"text/javascript\">window.PlotlyConfig = {MathJaxConfig: 'local'};</script>\n",
              "        <script charset=\"utf-8\" src=\"https://cdn.plot.ly/plotly-2.35.2.min.js\"></script>                <div id=\"1e60923b-a4ee-42da-85d5-a22ae424b38d\" class=\"plotly-graph-div\" style=\"height:525px; width:100%;\"></div>            <script type=\"text/javascript\">                                    window.PLOTLYENV=window.PLOTLYENV || {};                                    if (document.getElementById(\"1e60923b-a4ee-42da-85d5-a22ae424b38d\")) {                    Plotly.newPlot(                        \"1e60923b-a4ee-42da-85d5-a22ae424b38d\",                        [{\"hovertemplate\":\"proportion=%{x}\\u003cbr\\u003elife_expectancy_country=%{y}\\u003cbr\\u003ecpi_country=%{z}\\u003cbr\\u003etotal_tax_rate_country=%{marker.color}\\u003cextra\\u003e\\u003c\\u002fextra\\u003e\",\"legendgroup\":\"\",\"marker\":{\"color\":[36.6,36.6,36.6,59.2,51.4,59.2,36.6,36.6,36.6,59.2,15.9,36.6,59.2,15.9,47.4,21.0,47.4,59.2,36.6,46.1,46.2,59.2,36.6,36.6,59.2,36.6,51.4,60.7,36.6,23.8,15.9,30.6,30.6,36.6,23.8,23.8,23.8,28.8,48.8,51.4,51.9,36.6,36.6,36.6,36.6,30.6,59.2,33.2,30.6,46.2,36.6,59.2,40.8,59.2,36.6,21.0,48.8,65.1,36.6,36.6,36.6,59.2,36.6,36.6,36.6,24.5,48.8,48.8,59.2,59.2,28.4,28.8,36.6,47.4,47.4,36.6,59.1,59.1,59.1,36.6,49.7,36.6,30.6,36.6,48.8,36.6,46.2,36.6,49.7,28.4,21.0,null,42.3,33.2,46.2,46.2,36.6,36.6,36.6,49.7,36.6,59.2,49.7,null,null,36.6,36.2,65.1,48.8,28.8,59.2,null,59.2,36.6,59.2,59.2,36.6,47.0,59.2,48.8,36.6,36.6,36.6,49.1,36.6,59.2,33.2,null,59.2,36.6,36.6,59.2,36.6,36.6,24.5,15.9,49.7,30.6,59.2,36.6,22.4,46.2,22.4,49.1,59.2,36.6,49.7,36.6,59.2,36.6,59.2,30.6,59.2,30.6,null,59.2,59.2,36.6,47.4,47.4,null,36.6,null,59.2,59.2,28.8,30.6,47.4,59.1,36.6,22.4,33.2,36.6,49.1,59.2,41.2,36.6,36.6,36.6,59.2,33.2,59.1,59.2,null,null,null,null,36.6,36.6,46.7,59.2,59.2,36.6,51.4,59.2,59.2,28.8,28.8,38.7,59.2,36.6,59.2,36.6,59.2,59.2,59.2,59.2,36.2,36.2,15.9,65.1,43.8,36.6,59.2,36.6,55.1,49.1,21.0,36.6,36.6,59.2,36.6,59.2,59.2,59.2,21.0,36.6,60.7,59.2,36.6,28.8,59.2,29.5,49.1,59.2,36.6,46.2,36.6,49.1,59.2,65.1,59.2,49.7,36.6,36.6,59.2,24.5,59.1,36.6,30.6,59.2,59.2,59.2,46.2,null,47.4,48.8,59.2,59.2,45.2,36.6,36.6,48.8,48.8,48.8,30.6,25.3,30.6,36.6,null,36.6,33.2,59.2,36.6,36.6,49.1,36.6,48.8,48.8,49.7,36.6,36.6,59.2,36.6,59.2,36.6,36.6,59.1,59.2,59.2,46.2,30.6,49.7,59.2,59.2,46.7,36.6,36.6,36.6,36.6,59.2,21.0,59.2,49.1,36.6,59.2,59.2,59.2,59.2,30.6,48.8,48.8,48.8,48.8,59.2,36.6,59.2,59.2,59.1,36.6,33.2,59.2,36.6,null],\"coloraxis\":\"coloraxis\",\"symbol\":\"circle\"},\"mode\":\"markers\",\"name\":\"\",\"scene\":\"scene\",\"showlegend\":false,\"x\":[3491909.8191489363,3491909.8191489363,3491909.8191489363,18152142.85714286,2219266.75,18152142.85714286,3491909.8191489363,3491909.8191489363,3491909.8191489363,18152142.85714286,1954105.8,3491909.8191489363,18152142.85714286,1954105.8,3220825.625,950594.8333333334,3220825.625,18152142.85714286,3491909.8191489363,10669709.0,16041503.888888888,18152142.85714286,3491909.8191489363,3491909.8191489363,18152142.85714286,3491909.8191489363,2219266.75,33529943.5,3491909.8191489363,1454638.25,1954105.8,4773886.071428572,4773886.071428572,3491909.8191489363,1454638.25,1454638.25,1454638.25,1224976.0,4890164.647058823,2219266.75,10716322.0,3491909.8191489363,3491909.8191489363,3491909.8191489363,3491909.8191489363,4773886.071428572,18152142.85714286,7387014.0,4773886.071428572,16041503.888888888,3491909.8191489363,18152142.85714286,37970874.0,18152142.85714286,3491909.8191489363,950594.8333333334,4890164.647058823,53139854.25,3491909.8191489363,3491909.8191489363,3491909.8191489363,18152142.85714286,3491909.8191489363,3491909.8191489363,3491909.8191489363,12330660.333333334,4890164.647058823,4890164.647058823,18152142.85714286,18152142.85714286,9256965.0,1224976.0,3491909.8191489363,3220825.625,3220825.625,3491909.8191489363,7537174.5,7537174.5,7537174.5,3491909.8191489363,151824194.8888889,3491909.8191489363,4773886.071428572,3491909.8191489363,4890164.647058823,3491909.8191489363,16041503.888888888,3491909.8191489363,151824194.8888889,9256965.0,950594.8333333334,null,83429615.0,7387014.0,16041503.888888888,16041503.888888888,3491909.8191489363,3491909.8191489363,3491909.8191489363,151824194.8888889,3491909.8191489363,18152142.85714286,151824194.8888889,null,null,3491909.8191489363,1782632.0,53139854.25,4890164.647058823,1224976.0,18152142.85714286,null,18152142.85714286,3491909.8191489363,18152142.85714286,18152142.85714286,3491909.8191489363,47076781.0,18152142.85714286,4890164.647058823,3491909.8191489363,3491909.8191489363,3491909.8191489363,1285681.625,3491909.8191489363,18152142.85714286,7387014.0,null,18152142.85714286,3491909.8191489363,3491909.8191489363,18152142.85714286,3491909.8191489363,3491909.8191489363,12330660.333333334,1954105.8,151824194.8888889,4773886.071428572,18152142.85714286,3491909.8191489363,399525.0,16041503.888888888,399525.0,1285681.625,18152142.85714286,3491909.8191489363,151824194.8888889,3491909.8191489363,18152142.85714286,3491909.8191489363,18152142.85714286,4773886.071428572,18152142.85714286,4773886.071428572,null,18152142.85714286,18152142.85714286,3491909.8191489363,3220825.625,3220825.625,null,3491909.8191489363,null,18152142.85714286,18152142.85714286,1224976.0,4773886.071428572,3220825.625,7537174.5,3491909.8191489363,399525.0,7387014.0,3491909.8191489363,1285681.625,18152142.85714286,17332850.0,3491909.8191489363,3491909.8191489363,3491909.8191489363,18152142.85714286,7387014.0,7537174.5,18152142.85714286,null,null,null,null,3491909.8191489363,3491909.8191489363,63113284.0,18152142.85714286,18152142.85714286,3491909.8191489363,2219266.75,18152142.85714286,18152142.85714286,1224976.0,1224976.0,32447385.0,18152142.85714286,3491909.8191489363,18152142.85714286,3491909.8191489363,18152142.85714286,18152142.85714286,18152142.85714286,18152142.85714286,1782632.0,1782632.0,1954105.8,53139854.25,58005463.0,3491909.8191489363,18152142.85714286,3491909.8191489363,126014024.0,1285681.625,950594.8333333334,3491909.8191489363,3491909.8191489363,18152142.85714286,3491909.8191489363,18152142.85714286,18152142.85714286,18152142.85714286,950594.8333333334,3491909.8191489363,33529943.5,18152142.85714286,3491909.8191489363,1224976.0,18152142.85714286,69625582.0,1285681.625,18152142.85714286,3491909.8191489363,16041503.888888888,3491909.8191489363,1285681.625,18152142.85714286,53139854.25,18152142.85714286,151824194.8888889,3491909.8191489363,3491909.8191489363,18152142.85714286,12330660.333333334,7537174.5,5520314.0,4773886.071428572,18152142.85714286,18152142.85714286,18152142.85714286,16041503.888888888,null,3220825.625,4890164.647058823,18152142.85714286,18152142.85714286,44385155.0,3491909.8191489363,3491909.8191489363,4890164.647058823,4890164.647058823,4890164.647058823,4773886.071428572,9053300.0,4773886.071428572,3491909.8191489363,null,3491909.8191489363,7387014.0,18152142.85714286,3491909.8191489363,3491909.8191489363,1285681.625,3491909.8191489363,4890164.647058823,4890164.647058823,151824194.8888889,3491909.8191489363,3491909.8191489363,18152142.85714286,3491909.8191489363,18152142.85714286,3491909.8191489363,3491909.8191489363,7537174.5,18152142.85714286,18152142.85714286,16041503.888888888,4773886.071428572,151824194.8888889,18152142.85714286,18152142.85714286,63113284.0,3491909.8191489363,3491909.8191489363,3491909.8191489363,3491909.8191489363,18152142.85714286,950594.8333333334,18152142.85714286,1285681.625,3491909.8191489363,18152142.85714286,18152142.85714286,18152142.85714286,18152142.85714286,4773886.071428572,4890164.647058823,4890164.647058823,4890164.647058823,4890164.647058823,18152142.85714286,3491909.8191489363,18152142.85714286,18152142.85714286,7537174.5,3491909.8191489363,7387014.0,18152142.85714286,3491909.8191489363,null],\"y\":[78.5,78.5,78.5,77.0,81.6,77.0,78.5,78.5,78.5,77.0,77.8,78.5,77.0,77.8,82.7,83.1,82.7,77.0,78.5,79.0,72.7,77.0,78.5,78.5,77.0,78.5,81.6,82.5,78.5,81.0,77.8,81.3,81.3,78.5,81.0,81.0,81.0,83.6,80.9,81.6,81.3,78.5,78.5,78.5,78.5,81.3,77.0,82.6,81.3,72.7,78.5,77.0,77.6,77.0,78.5,83.1,80.9,75.7,78.5,78.5,78.5,77.0,78.5,78.5,78.5,81.9,80.9,80.9,77.0,77.0,73.2,83.6,78.5,82.7,82.7,78.5,82.9,82.9,82.9,78.5,69.4,78.5,81.3,78.5,80.9,78.5,72.7,78.5,69.4,73.2,83.1,null,77.4,82.6,72.7,72.7,78.5,78.5,78.5,69.4,78.5,77.0,69.4,null,null,78.5,82.8,75.7,80.9,83.6,77.0,null,77.0,78.5,77.0,77.0,78.5,83.3,77.0,80.9,78.5,78.5,78.5,82.5,78.5,77.0,82.6,null,77.0,78.5,78.5,77.0,78.5,78.5,81.9,77.8,69.4,81.3,77.0,78.5,80.8,72.7,80.8,82.5,77.0,78.5,69.4,78.5,77.0,78.5,77.0,81.3,77.0,81.3,null,77.0,77.0,78.5,82.7,82.7,null,78.5,null,77.0,77.0,83.6,81.3,82.7,82.9,78.5,80.8,82.6,78.5,82.5,77.0,81.8,78.5,78.5,78.5,77.0,82.6,82.9,77.0,null,null,null,null,78.5,78.5,84.2,77.0,77.0,78.5,81.6,77.0,77.0,83.6,83.6,76.0,77.0,78.5,77.0,78.5,77.0,77.0,77.0,77.0,82.8,82.8,77.8,75.7,65.0,78.5,77.0,78.5,75.0,82.5,83.1,78.5,78.5,77.0,78.5,77.0,77.0,77.0,83.1,78.5,82.5,77.0,78.5,83.6,77.0,76.9,82.5,77.0,78.5,72.7,78.5,82.5,77.0,75.7,77.0,69.4,78.5,78.5,77.0,81.9,82.9,81.7,81.3,77.0,77.0,77.0,72.7,null,82.7,80.9,77.0,77.0,71.6,78.5,78.5,80.9,80.9,80.9,81.3,82.8,81.3,78.5,null,78.5,82.6,77.0,78.5,78.5,82.5,78.5,80.9,80.9,69.4,78.5,78.5,77.0,78.5,77.0,78.5,78.5,82.9,77.0,77.0,72.7,81.3,69.4,77.0,77.0,84.2,78.5,78.5,78.5,78.5,77.0,83.1,77.0,82.5,78.5,77.0,77.0,77.0,77.0,81.3,80.9,80.9,80.9,80.9,77.0,78.5,77.0,77.0,82.9,78.5,82.6,77.0,78.5,null],\"z\":[117.24,117.24,117.24,125.08,118.06,125.08,117.24,117.24,117.24,125.08,114.52,117.24,125.08,114.52,119.8,114.41,119.8,125.08,117.24,116.48,180.75,125.08,117.24,117.24,125.08,117.24,118.06,110.05,117.24,110.35,114.52,119.62,119.62,117.24,110.35,110.35,110.35,99.55,112.85,118.06,101.87,117.24,117.24,117.24,117.24,119.62,125.08,115.16,119.62,180.75,117.24,125.08,114.11,125.08,117.24,114.41,112.85,167.4,117.24,117.24,117.24,125.08,117.24,117.24,117.24,116.76,112.85,112.85,125.08,125.08,182.75,99.55,117.24,119.8,119.8,117.24,110.62,110.62,110.62,117.24,180.44,117.24,119.62,117.24,112.85,117.24,180.75,117.24,180.44,182.75,114.41,null,234.44,115.16,180.75,180.75,117.24,117.24,117.24,180.44,117.24,125.08,180.44,null,null,117.24,120.27,167.4,112.85,99.55,125.08,null,125.08,117.24,125.08,125.08,117.24,110.96,125.08,112.85,117.24,117.24,117.24,110.51,117.24,125.08,115.16,null,125.08,117.24,117.24,125.08,117.24,117.24,116.76,114.52,180.44,119.62,125.08,117.24,102.51,180.75,102.51,110.51,125.08,117.24,180.44,117.24,125.08,117.24,125.08,119.62,125.08,119.62,null,125.08,125.08,117.24,119.8,119.8,null,117.24,null,125.08,125.08,99.55,119.62,119.8,110.62,117.24,102.51,115.16,117.24,110.51,125.08,115.91,117.24,117.24,117.24,125.08,115.16,110.62,125.08,null,null,null,null,117.24,117.24,105.48,125.08,125.08,117.24,118.06,125.08,125.08,99.55,99.55,121.46,125.08,117.24,125.08,117.24,125.08,125.08,125.08,125.08,120.27,120.27,114.52,167.4,187.43,117.24,125.08,117.24,141.54,110.51,114.41,117.24,117.24,125.08,117.24,125.08,125.08,125.08,114.41,117.24,110.05,125.08,117.24,99.55,125.08,113.27,110.51,125.08,117.24,180.75,117.24,110.51,125.08,167.4,125.08,180.44,117.24,117.24,125.08,116.76,110.62,112.33,119.62,125.08,125.08,125.08,180.75,null,119.8,112.85,125.08,125.08,281.66,117.24,117.24,112.85,112.85,112.85,119.62,108.15,119.62,117.24,null,117.24,115.16,125.08,117.24,117.24,110.51,117.24,112.85,112.85,180.44,117.24,117.24,125.08,117.24,125.08,117.24,117.24,110.62,125.08,125.08,180.75,119.62,180.44,125.08,125.08,105.48,117.24,117.24,117.24,117.24,125.08,114.41,125.08,110.51,117.24,125.08,125.08,125.08,125.08,119.62,112.85,112.85,112.85,112.85,125.08,117.24,125.08,125.08,110.62,117.24,115.16,125.08,117.24,null],\"type\":\"scatter3d\"}],                        {\"template\":{\"data\":{\"histogram2dcontour\":[{\"type\":\"histogram2dcontour\",\"colorbar\":{\"outlinewidth\":0,\"ticks\":\"\"},\"colorscale\":[[0.0,\"#0d0887\"],[0.1111111111111111,\"#46039f\"],[0.2222222222222222,\"#7201a8\"],[0.3333333333333333,\"#9c179e\"],[0.4444444444444444,\"#bd3786\"],[0.5555555555555556,\"#d8576b\"],[0.6666666666666666,\"#ed7953\"],[0.7777777777777778,\"#fb9f3a\"],[0.8888888888888888,\"#fdca26\"],[1.0,\"#f0f921\"]]}],\"choropleth\":[{\"type\":\"choropleth\",\"colorbar\":{\"outlinewidth\":0,\"ticks\":\"\"}}],\"histogram2d\":[{\"type\":\"histogram2d\",\"colorbar\":{\"outlinewidth\":0,\"ticks\":\"\"},\"colorscale\":[[0.0,\"#0d0887\"],[0.1111111111111111,\"#46039f\"],[0.2222222222222222,\"#7201a8\"],[0.3333333333333333,\"#9c179e\"],[0.4444444444444444,\"#bd3786\"],[0.5555555555555556,\"#d8576b\"],[0.6666666666666666,\"#ed7953\"],[0.7777777777777778,\"#fb9f3a\"],[0.8888888888888888,\"#fdca26\"],[1.0,\"#f0f921\"]]}],\"heatmap\":[{\"type\":\"heatmap\",\"colorbar\":{\"outlinewidth\":0,\"ticks\":\"\"},\"colorscale\":[[0.0,\"#0d0887\"],[0.1111111111111111,\"#46039f\"],[0.2222222222222222,\"#7201a8\"],[0.3333333333333333,\"#9c179e\"],[0.4444444444444444,\"#bd3786\"],[0.5555555555555556,\"#d8576b\"],[0.6666666666666666,\"#ed7953\"],[0.7777777777777778,\"#fb9f3a\"],[0.8888888888888888,\"#fdca26\"],[1.0,\"#f0f921\"]]}],\"heatmapgl\":[{\"type\":\"heatmapgl\",\"colorbar\":{\"outlinewidth\":0,\"ticks\":\"\"},\"colorscale\":[[0.0,\"#0d0887\"],[0.1111111111111111,\"#46039f\"],[0.2222222222222222,\"#7201a8\"],[0.3333333333333333,\"#9c179e\"],[0.4444444444444444,\"#bd3786\"],[0.5555555555555556,\"#d8576b\"],[0.6666666666666666,\"#ed7953\"],[0.7777777777777778,\"#fb9f3a\"],[0.8888888888888888,\"#fdca26\"],[1.0,\"#f0f921\"]]}],\"contourcarpet\":[{\"type\":\"contourcarpet\",\"colorbar\":{\"outlinewidth\":0,\"ticks\":\"\"}}],\"contour\":[{\"type\":\"contour\",\"colorbar\":{\"outlinewidth\":0,\"ticks\":\"\"},\"colorscale\":[[0.0,\"#0d0887\"],[0.1111111111111111,\"#46039f\"],[0.2222222222222222,\"#7201a8\"],[0.3333333333333333,\"#9c179e\"],[0.4444444444444444,\"#bd3786\"],[0.5555555555555556,\"#d8576b\"],[0.6666666666666666,\"#ed7953\"],[0.7777777777777778,\"#fb9f3a\"],[0.8888888888888888,\"#fdca26\"],[1.0,\"#f0f921\"]]}],\"surface\":[{\"type\":\"surface\",\"colorbar\":{\"outlinewidth\":0,\"ticks\":\"\"},\"colorscale\":[[0.0,\"#0d0887\"],[0.1111111111111111,\"#46039f\"],[0.2222222222222222,\"#7201a8\"],[0.3333333333333333,\"#9c179e\"],[0.4444444444444444,\"#bd3786\"],[0.5555555555555556,\"#d8576b\"],[0.6666666666666666,\"#ed7953\"],[0.7777777777777778,\"#fb9f3a\"],[0.8888888888888888,\"#fdca26\"],[1.0,\"#f0f921\"]]}],\"mesh3d\":[{\"type\":\"mesh3d\",\"colorbar\":{\"outlinewidth\":0,\"ticks\":\"\"}}],\"scatter\":[{\"fillpattern\":{\"fillmode\":\"overlay\",\"size\":10,\"solidity\":0.2},\"type\":\"scatter\"}],\"parcoords\":[{\"type\":\"parcoords\",\"line\":{\"colorbar\":{\"outlinewidth\":0,\"ticks\":\"\"}}}],\"scatterpolargl\":[{\"type\":\"scatterpolargl\",\"marker\":{\"colorbar\":{\"outlinewidth\":0,\"ticks\":\"\"}}}],\"bar\":[{\"error_x\":{\"color\":\"#2a3f5f\"},\"error_y\":{\"color\":\"#2a3f5f\"},\"marker\":{\"line\":{\"color\":\"#E5ECF6\",\"width\":0.5},\"pattern\":{\"fillmode\":\"overlay\",\"size\":10,\"solidity\":0.2}},\"type\":\"bar\"}],\"scattergeo\":[{\"type\":\"scattergeo\",\"marker\":{\"colorbar\":{\"outlinewidth\":0,\"ticks\":\"\"}}}],\"scatterpolar\":[{\"type\":\"scatterpolar\",\"marker\":{\"colorbar\":{\"outlinewidth\":0,\"ticks\":\"\"}}}],\"histogram\":[{\"marker\":{\"pattern\":{\"fillmode\":\"overlay\",\"size\":10,\"solidity\":0.2}},\"type\":\"histogram\"}],\"scattergl\":[{\"type\":\"scattergl\",\"marker\":{\"colorbar\":{\"outlinewidth\":0,\"ticks\":\"\"}}}],\"scatter3d\":[{\"type\":\"scatter3d\",\"line\":{\"colorbar\":{\"outlinewidth\":0,\"ticks\":\"\"}},\"marker\":{\"colorbar\":{\"outlinewidth\":0,\"ticks\":\"\"}}}],\"scattermapbox\":[{\"type\":\"scattermapbox\",\"marker\":{\"colorbar\":{\"outlinewidth\":0,\"ticks\":\"\"}}}],\"scatterternary\":[{\"type\":\"scatterternary\",\"marker\":{\"colorbar\":{\"outlinewidth\":0,\"ticks\":\"\"}}}],\"scattercarpet\":[{\"type\":\"scattercarpet\",\"marker\":{\"colorbar\":{\"outlinewidth\":0,\"ticks\":\"\"}}}],\"carpet\":[{\"aaxis\":{\"endlinecolor\":\"#2a3f5f\",\"gridcolor\":\"white\",\"linecolor\":\"white\",\"minorgridcolor\":\"white\",\"startlinecolor\":\"#2a3f5f\"},\"baxis\":{\"endlinecolor\":\"#2a3f5f\",\"gridcolor\":\"white\",\"linecolor\":\"white\",\"minorgridcolor\":\"white\",\"startlinecolor\":\"#2a3f5f\"},\"type\":\"carpet\"}],\"table\":[{\"cells\":{\"fill\":{\"color\":\"#EBF0F8\"},\"line\":{\"color\":\"white\"}},\"header\":{\"fill\":{\"color\":\"#C8D4E3\"},\"line\":{\"color\":\"white\"}},\"type\":\"table\"}],\"barpolar\":[{\"marker\":{\"line\":{\"color\":\"#E5ECF6\",\"width\":0.5},\"pattern\":{\"fillmode\":\"overlay\",\"size\":10,\"solidity\":0.2}},\"type\":\"barpolar\"}],\"pie\":[{\"automargin\":true,\"type\":\"pie\"}]},\"layout\":{\"autotypenumbers\":\"strict\",\"colorway\":[\"#636efa\",\"#EF553B\",\"#00cc96\",\"#ab63fa\",\"#FFA15A\",\"#19d3f3\",\"#FF6692\",\"#B6E880\",\"#FF97FF\",\"#FECB52\"],\"font\":{\"color\":\"#2a3f5f\"},\"hovermode\":\"closest\",\"hoverlabel\":{\"align\":\"left\"},\"paper_bgcolor\":\"white\",\"plot_bgcolor\":\"#E5ECF6\",\"polar\":{\"bgcolor\":\"#E5ECF6\",\"angularaxis\":{\"gridcolor\":\"white\",\"linecolor\":\"white\",\"ticks\":\"\"},\"radialaxis\":{\"gridcolor\":\"white\",\"linecolor\":\"white\",\"ticks\":\"\"}},\"ternary\":{\"bgcolor\":\"#E5ECF6\",\"aaxis\":{\"gridcolor\":\"white\",\"linecolor\":\"white\",\"ticks\":\"\"},\"baxis\":{\"gridcolor\":\"white\",\"linecolor\":\"white\",\"ticks\":\"\"},\"caxis\":{\"gridcolor\":\"white\",\"linecolor\":\"white\",\"ticks\":\"\"}},\"coloraxis\":{\"colorbar\":{\"outlinewidth\":0,\"ticks\":\"\"}},\"colorscale\":{\"sequential\":[[0.0,\"#0d0887\"],[0.1111111111111111,\"#46039f\"],[0.2222222222222222,\"#7201a8\"],[0.3333333333333333,\"#9c179e\"],[0.4444444444444444,\"#bd3786\"],[0.5555555555555556,\"#d8576b\"],[0.6666666666666666,\"#ed7953\"],[0.7777777777777778,\"#fb9f3a\"],[0.8888888888888888,\"#fdca26\"],[1.0,\"#f0f921\"]],\"sequentialminus\":[[0.0,\"#0d0887\"],[0.1111111111111111,\"#46039f\"],[0.2222222222222222,\"#7201a8\"],[0.3333333333333333,\"#9c179e\"],[0.4444444444444444,\"#bd3786\"],[0.5555555555555556,\"#d8576b\"],[0.6666666666666666,\"#ed7953\"],[0.7777777777777778,\"#fb9f3a\"],[0.8888888888888888,\"#fdca26\"],[1.0,\"#f0f921\"]],\"diverging\":[[0,\"#8e0152\"],[0.1,\"#c51b7d\"],[0.2,\"#de77ae\"],[0.3,\"#f1b6da\"],[0.4,\"#fde0ef\"],[0.5,\"#f7f7f7\"],[0.6,\"#e6f5d0\"],[0.7,\"#b8e186\"],[0.8,\"#7fbc41\"],[0.9,\"#4d9221\"],[1,\"#276419\"]]},\"xaxis\":{\"gridcolor\":\"white\",\"linecolor\":\"white\",\"ticks\":\"\",\"title\":{\"standoff\":15},\"zerolinecolor\":\"white\",\"automargin\":true,\"zerolinewidth\":2},\"yaxis\":{\"gridcolor\":\"white\",\"linecolor\":\"white\",\"ticks\":\"\",\"title\":{\"standoff\":15},\"zerolinecolor\":\"white\",\"automargin\":true,\"zerolinewidth\":2},\"scene\":{\"xaxis\":{\"backgroundcolor\":\"#E5ECF6\",\"gridcolor\":\"white\",\"linecolor\":\"white\",\"showbackground\":true,\"ticks\":\"\",\"zerolinecolor\":\"white\",\"gridwidth\":2},\"yaxis\":{\"backgroundcolor\":\"#E5ECF6\",\"gridcolor\":\"white\",\"linecolor\":\"white\",\"showbackground\":true,\"ticks\":\"\",\"zerolinecolor\":\"white\",\"gridwidth\":2},\"zaxis\":{\"backgroundcolor\":\"#E5ECF6\",\"gridcolor\":\"white\",\"linecolor\":\"white\",\"showbackground\":true,\"ticks\":\"\",\"zerolinecolor\":\"white\",\"gridwidth\":2}},\"shapedefaults\":{\"line\":{\"color\":\"#2a3f5f\"}},\"annotationdefaults\":{\"arrowcolor\":\"#2a3f5f\",\"arrowhead\":0,\"arrowwidth\":1},\"geo\":{\"bgcolor\":\"white\",\"landcolor\":\"#E5ECF6\",\"subunitcolor\":\"white\",\"showland\":true,\"showlakes\":true,\"lakecolor\":\"white\"},\"title\":{\"x\":0.05},\"mapbox\":{\"style\":\"light\"}}},\"scene\":{\"domain\":{\"x\":[0.0,1.0],\"y\":[0.0,1.0]},\"xaxis\":{\"title\":{\"text\":\"proportion\"}},\"yaxis\":{\"title\":{\"text\":\"life_expectancy_country\"}},\"zaxis\":{\"title\":{\"text\":\"cpi_country\"}}},\"coloraxis\":{\"colorbar\":{\"title\":{\"text\":\"total_tax_rate_country\"}},\"colorscale\":[[0.0,\"#0d0887\"],[0.1111111111111111,\"#46039f\"],[0.2222222222222222,\"#7201a8\"],[0.3333333333333333,\"#9c179e\"],[0.4444444444444444,\"#bd3786\"],[0.5555555555555556,\"#d8576b\"],[0.6666666666666666,\"#ed7953\"],[0.7777777777777778,\"#fb9f3a\"],[0.8888888888888888,\"#fdca26\"],[1.0,\"#f0f921\"]]},\"legend\":{\"tracegroupgap\":0},\"margin\":{\"t\":60}},                        {\"responsive\": true}                    ).then(function(){\n",
              "                            \n",
              "var gd = document.getElementById('1e60923b-a4ee-42da-85d5-a22ae424b38d');\n",
              "var x = new MutationObserver(function (mutations, observer) {{\n",
              "        var display = window.getComputedStyle(gd).display;\n",
              "        if (!display || display === 'none') {{\n",
              "            console.log([gd, 'removed!']);\n",
              "            Plotly.purge(gd);\n",
              "            observer.disconnect();\n",
              "        }}\n",
              "}});\n",
              "\n",
              "// Listen for the removal of the full notebook cells\n",
              "var notebookContainer = gd.closest('#notebook-container');\n",
              "if (notebookContainer) {{\n",
              "    x.observe(notebookContainer, {childList: true});\n",
              "}}\n",
              "\n",
              "// Listen for the clearing of the current output cell\n",
              "var outputEl = gd.closest('.output');\n",
              "if (outputEl) {{\n",
              "    x.observe(outputEl, {childList: true});\n",
              "}}\n",
              "\n",
              "                        })                };                            </script>        </div>\n",
              "</body>\n",
              "</html>"
            ]
          },
          "metadata": {}
        }
      ]
    },
    {
      "cell_type": "markdown",
      "source": [
        "## +Conclusions:"
      ],
      "metadata": {
        "id": "z5GkedN2iETz"
      }
    },
    {
      "cell_type": "markdown",
      "source": [
        "> With the technological boom in the early 2000's, a lot of young programmers revolutionizes the worldby creating tecnology companies. This fact can also show that, proportionally, over 80% of those prodigies are self-made."
      ],
      "metadata": {
        "id": "Y54gCzs8iMeu"
      }
    },
    {
      "cell_type": "markdown",
      "source": [
        "> Other industries like \"Diversified (portfolio)\", \"Real State\" and \"Engineering\", which can take a lot of time to take huge amount of profit (especially in today's age, because for a new entrepreneur it's harder than it was over 50 years ago and the prices of houses today is more expensive), a big portion of those young success already had a wealthy family."
      ],
      "metadata": {
        "id": "51ykpADtjiyl"
      }
    },
    {
      "cell_type": "markdown",
      "source": [
        "> Other variables and insights are very balanced for both datasets, with minimal differences in correlations, proportions and total samples."
      ],
      "metadata": {
        "id": "gANhheemmAn4"
      }
    }
  ]
}